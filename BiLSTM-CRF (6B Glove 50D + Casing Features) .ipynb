{
  "nbformat": 4,
  "nbformat_minor": 0,
  "metadata": {
    "colab": {
      "name": "Bi-LSTM-CRF (6B Glove 50D  + Features)",
      "provenance": [],
      "collapsed_sections": [],
      "include_colab_link": true
    },
    "kernelspec": {
      "name": "python3",
      "display_name": "Python 3"
    },
    "accelerator": "GPU"
  },
  "cells": [
    {
      "cell_type": "markdown",
      "metadata": {
        "id": "view-in-github",
        "colab_type": "text"
      },
      "source": [
        "<a href=\"https://colab.research.google.com/github/deanhoperobertson/Named-Enitty-Recognition/blob/master/BiLSTM-CRF%20(6B%20Glove%2050D%20%2B%20Casing%20Features)%20.ipynb\" target=\"_parent\"><img src=\"https://colab.research.google.com/assets/colab-badge.svg\" alt=\"Open In Colab\"/></a>"
      ]
    },
    {
      "cell_type": "code",
      "metadata": {
        "id": "gYs0s57M3jAf",
        "colab_type": "code",
        "outputId": "e6348f1d-c0e3-4576-be2f-f246e5f94d10",
        "colab": {
          "base_uri": "https://localhost:8080/",
          "height": 547
        }
      },
      "source": [
        "!sudo pip install git+https://www.github.com/keras-team/keras-contrib.git\n",
        "!pip install sklearn_crfsuite\n",
        "!pip install keras==2.2.4"
      ],
      "execution_count": 40,
      "outputs": [
        {
          "output_type": "stream",
          "text": [
            "Collecting git+https://www.github.com/keras-team/keras-contrib.git\n",
            "  Cloning https://www.github.com/keras-team/keras-contrib.git to /tmp/pip-req-build-q11l04mi\n",
            "  Running command git clone -q https://www.github.com/keras-team/keras-contrib.git /tmp/pip-req-build-q11l04mi\n",
            "Requirement already satisfied (use --upgrade to upgrade): keras-contrib==2.0.8 from git+https://www.github.com/keras-team/keras-contrib.git in /usr/local/lib/python3.6/dist-packages\n",
            "Requirement already satisfied: keras in /usr/local/lib/python3.6/dist-packages (from keras-contrib==2.0.8) (2.2.4)\n",
            "Requirement already satisfied: numpy>=1.9.1 in /usr/local/lib/python3.6/dist-packages (from keras->keras-contrib==2.0.8) (1.17.5)\n",
            "Requirement already satisfied: scipy>=0.14 in /usr/local/lib/python3.6/dist-packages (from keras->keras-contrib==2.0.8) (1.4.1)\n",
            "Requirement already satisfied: h5py in /usr/local/lib/python3.6/dist-packages (from keras->keras-contrib==2.0.8) (2.8.0)\n",
            "Requirement already satisfied: keras-applications>=1.0.6 in /usr/local/lib/python3.6/dist-packages (from keras->keras-contrib==2.0.8) (1.0.8)\n",
            "Requirement already satisfied: six>=1.9.0 in /usr/local/lib/python3.6/dist-packages (from keras->keras-contrib==2.0.8) (1.12.0)\n",
            "Requirement already satisfied: pyyaml in /usr/local/lib/python3.6/dist-packages (from keras->keras-contrib==2.0.8) (3.13)\n",
            "Requirement already satisfied: keras-preprocessing>=1.0.5 in /usr/local/lib/python3.6/dist-packages (from keras->keras-contrib==2.0.8) (1.1.0)\n",
            "Building wheels for collected packages: keras-contrib\n",
            "  Building wheel for keras-contrib (setup.py) ... \u001b[?25l\u001b[?25hdone\n",
            "  Created wheel for keras-contrib: filename=keras_contrib-2.0.8-cp36-none-any.whl size=101064 sha256=b65b69b7608b4337d70904462c3c9df88988ec4804e989df2d51004b283410b1\n",
            "  Stored in directory: /tmp/pip-ephem-wheel-cache-ki897akq/wheels/11/27/c8/4ed56de7b55f4f61244e2dc6ef3cdbaff2692527a2ce6502ba\n",
            "Successfully built keras-contrib\n",
            "Requirement already satisfied: sklearn_crfsuite in /usr/local/lib/python3.6/dist-packages (0.3.6)\n",
            "Requirement already satisfied: six in /usr/local/lib/python3.6/dist-packages (from sklearn_crfsuite) (1.12.0)\n",
            "Requirement already satisfied: python-crfsuite>=0.8.3 in /usr/local/lib/python3.6/dist-packages (from sklearn_crfsuite) (0.9.6)\n",
            "Requirement already satisfied: tqdm>=2.0 in /usr/local/lib/python3.6/dist-packages (from sklearn_crfsuite) (4.28.1)\n",
            "Requirement already satisfied: tabulate in /usr/local/lib/python3.6/dist-packages (from sklearn_crfsuite) (0.8.6)\n",
            "Requirement already satisfied: keras==2.2.4 in /usr/local/lib/python3.6/dist-packages (2.2.4)\n",
            "Requirement already satisfied: keras-preprocessing>=1.0.5 in /usr/local/lib/python3.6/dist-packages (from keras==2.2.4) (1.1.0)\n",
            "Requirement already satisfied: h5py in /usr/local/lib/python3.6/dist-packages (from keras==2.2.4) (2.8.0)\n",
            "Requirement already satisfied: six>=1.9.0 in /usr/local/lib/python3.6/dist-packages (from keras==2.2.4) (1.12.0)\n",
            "Requirement already satisfied: scipy>=0.14 in /usr/local/lib/python3.6/dist-packages (from keras==2.2.4) (1.4.1)\n",
            "Requirement already satisfied: pyyaml in /usr/local/lib/python3.6/dist-packages (from keras==2.2.4) (3.13)\n",
            "Requirement already satisfied: numpy>=1.9.1 in /usr/local/lib/python3.6/dist-packages (from keras==2.2.4) (1.17.5)\n",
            "Requirement already satisfied: keras-applications>=1.0.6 in /usr/local/lib/python3.6/dist-packages (from keras==2.2.4) (1.0.8)\n"
          ],
          "name": "stdout"
        }
      ]
    },
    {
      "cell_type": "code",
      "metadata": {
        "id": "gvLtrysY3xZn",
        "colab_type": "code",
        "colab": {}
      },
      "source": [
        "import pandas as pd\n",
        "import re\n",
        "import numpy as np\n",
        "import urllib.request\n",
        "from sklearn.model_selection import train_test_split\n",
        "\n",
        "#keras and tensorflow packages\n",
        "from keras.layers.merge import add\n",
        "from keras.preprocessing.sequence import pad_sequences\n",
        "from keras.preprocessing import text, sequence\n",
        "from keras.utils import to_categorical\n",
        "from keras.models import Model, Input\n",
        "from keras.layers import LSTM, Embedding, Dense, TimeDistributed, Dropout, Bidirectional,concatenate\n",
        "from keras_contrib.layers import CRF\n",
        "from keras_contrib.losses import crf_loss\n",
        "from keras_contrib.metrics import crf_viterbi_accuracy\n",
        "from keras_contrib.metrics import crf_accuracy\n",
        "\n",
        "\n",
        "#evaluation\n",
        "from sklearn_crfsuite.metrics import flat_classification_report,flat_f1_score,flat_precision_score"
      ],
      "execution_count": 0,
      "outputs": []
    },
    {
      "cell_type": "code",
      "metadata": {
        "id": "HQ5UL1PL39-g",
        "colab_type": "code",
        "colab": {}
      },
      "source": [
        "#import data from my github repo\n",
        "train_url = \"https://raw.githubusercontent.com/deanhoperobertson/Named-Enitty-Recognition/master/Data/train.txt\"\n",
        "test_url = \"https://raw.githubusercontent.com/deanhoperobertson/Named-Enitty-Recognition/master/Data/test.txt\"\n",
        "#valid_url = \"https://raw.githubusercontent.com/deanhoperobertson/Named-Enitty-Recognition/master/Data/valid.txt\"\n",
        "train = urllib.request.urlopen(train_url).read()\n",
        "test = urllib.request.urlopen(test_url).read()\n",
        "train = train.decode('utf-8')\n",
        "test = test.decode('utf-8')\n",
        "#valid = valid.decode('utf-8')\n",
        "\n",
        "def readstring(filename, meth):\n",
        "    f = filename.split('\\n')\n",
        "    sentences = []\n",
        "    sentence = []\n",
        "    for line in f:\n",
        "        if len(line) == 0 or line.startswith('-DOCSTART') or line[0] == \"\\n\":\n",
        "            if len(sentence) > 0:\n",
        "                sentences.append(sentence)\n",
        "                sentence = []\n",
        "            continue\n",
        "        splits = line.split(' ')\n",
        "        if meth.lower()==\"numbers1\":\n",
        "            sentence.append([hasNumbers1(splits[0]), splits[-1].strip()])\n",
        "        elif meth.lower()==\"numbers2\":\n",
        "            sentence.append([hasNumbers2(splits[0]), splits[-1].strip()])\n",
        "        else:\n",
        "            sentence.append([splits[0], splits[-1].strip()])\n",
        "    if len(sentence) > 0:\n",
        "        sentences.append(sentence)\n",
        "        sentence = []\n",
        "    return sentences\n",
        "\n",
        "def hasNumbers1(inputString):\n",
        "    if re.search(r'\\d', inputString):\n",
        "        return \"__\"\n",
        "    else:return(inputString)\n",
        "\n",
        "def hasNumbers2(text):\n",
        "  if text.isdigit():\n",
        "      return \"1\"\n",
        "  elif re.search(r'\\d',text) and re.search(r'\\,|\\.',text):\n",
        "      return \"1\" \n",
        "  else:\n",
        "      if re.search(r'\\d', text):\n",
        "          return(re.sub('\\d','D', text))\n",
        "      else:\n",
        "          return text\n",
        "\n",
        "#preproces the txt file\n",
        "train_data = readstring(train,\"Numbers1\")\n",
        "test_data = readstring(test,\"Numbers1\")\n",
        "\n",
        "#create corpus\n",
        "corpus = train_data.copy()\n",
        "corpus.extend(test_data)"
      ],
      "execution_count": 0,
      "outputs": []
    },
    {
      "cell_type": "code",
      "metadata": {
        "id": "DQSami9V4FbD",
        "colab_type": "code",
        "colab": {}
      },
      "source": [
        "def reformat_data(data,meth):\n",
        "  if meth.lower() == \"data\":\n",
        "    i=0\n",
        "  else: i=1\n",
        "  train = []\n",
        "  output= []\n",
        "  for sentence in data:\n",
        "    words=[]\n",
        "    for x in sentence:\n",
        "      words.append(x[i])\n",
        "    train.append(words)\n",
        "\n",
        "  for i in train:\n",
        "    string = ' '.join(i)\n",
        "    output.append(string)\n",
        "  return output\n",
        "\n",
        "def get_max_length(corpus):\n",
        "  length = []\n",
        "  for sentence in corpus:\n",
        "    length.append(len(sentence))\n",
        "  return int(max(length))\n",
        "\n",
        "def number_of_tags(corpus):\n",
        "  tags=[]\n",
        "  for sentence in corpus:\n",
        "    for tag in sentence:\n",
        "      tags.append(tag[1])\n",
        "  return int(len(list(set(tags))))\n",
        "\n",
        "\n",
        "MAX_LEN = get_max_length(corpus)\n",
        "N_tags = number_of_tags(corpus)\n",
        "\n",
        "train = reformat_data(train_data,\"data\")\n",
        "test = reformat_data(test_data,\"data\")\n"
      ],
      "execution_count": 0,
      "outputs": []
    },
    {
      "cell_type": "code",
      "metadata": {
        "id": "kOyKFaZ64Piy",
        "colab_type": "code",
        "colab": {}
      },
      "source": [
        "# create a tokenizer\n",
        "token_word = text.Tokenizer(char_level=False, lower=True, filters=\"}\", oov_token='UNK')\n",
        "token_word.fit_on_texts(train)\n",
        "\n",
        "# convert text to sequence of tokens and pad them to ensure equal length vectors \n",
        "X_train = sequence.pad_sequences(token_word.texts_to_sequences(train), maxlen=MAX_LEN,padding=\"post\")\n",
        "X_test = sequence.pad_sequences(token_word.texts_to_sequences(test), maxlen=MAX_LEN,padding=\"post\")"
      ],
      "execution_count": 0,
      "outputs": []
    },
    {
      "cell_type": "code",
      "metadata": {
        "id": "791RIPxLFdE4",
        "colab_type": "code",
        "colab": {}
      },
      "source": [
        "train = reformat_data(train_data,\"tags\")\n",
        "test = reformat_data(test_data,\"tags\")\n",
        "\n",
        "# create a tokenizer\n",
        "token_tag = text.Tokenizer(char_level=False, lower=False, filters=\"}\")\n",
        "token_tag.fit_on_texts(train)\n",
        "\n",
        "# convert text to sequence of tokens and pad them to ensure equal length vectors \n",
        "Y = sequence.pad_sequences(token_tag.texts_to_sequences(train), maxlen=MAX_LEN,padding=\"post\")\n",
        "# One-Hot encode categorical labels\n",
        "Y_train = [to_categorical(i, num_classes=N_tags+1) for i in Y]\n",
        "\n",
        "Y = sequence.pad_sequences(token_tag.texts_to_sequences(test), maxlen=MAX_LEN,padding=\"post\")\n",
        "# One-Hot encode categorical labels\n",
        "Y_test = [to_categorical(i, num_classes=N_tags+1) for i in Y]\n",
        "\n",
        "#add padding \n",
        "token_tag.index_word[0]=\"PAD\"\n",
        "sub_label = list(token_tag.index_word.values())\n",
        "sub_label.remove('O')\n",
        "sub_label.remove('PAD')"
      ],
      "execution_count": 0,
      "outputs": []
    },
    {
      "cell_type": "code",
      "metadata": {
        "id": "ADOS66iMHYkr",
        "colab_type": "code",
        "outputId": "985fca94-48fc-4126-e37b-b7fa9b2f74ef",
        "colab": {
          "base_uri": "https://localhost:8080/",
          "height": 34
        }
      },
      "source": [
        "from google.colab import drive\n",
        "drive.mount('/content/drive')"
      ],
      "execution_count": 46,
      "outputs": [
        {
          "output_type": "stream",
          "text": [
            "Drive already mounted at /content/drive; to attempt to forcibly remount, call drive.mount(\"/content/drive\", force_remount=True).\n"
          ],
          "name": "stdout"
        }
      ]
    },
    {
      "cell_type": "code",
      "metadata": {
        "id": "fDX21YJbJy6N",
        "colab_type": "code",
        "outputId": "57a91448-f6a0-4980-e905-8dd6d9f5a78f",
        "colab": {
          "base_uri": "https://localhost:8080/",
          "height": 34
        }
      },
      "source": [
        "root_path = \"/content/drive/My Drive/glove.6B.50d.txt\"\n",
        "#root_path = \"/content/drive/My Drive/glove.6B.100d.txt\"\n",
        "#root_path = \"/content/drive/My Drive/glove.6B.200d.txt\"\n",
        "#root_path = \"/content/drive/My Drive/glove.6B.300d.txt\"\n",
        "#root_path = \"/content/drive/My Drive/glove.42B.300d.txt\"\n",
        "#root_path = \"/content/drive/My Drive/wiki-news-300d-1M.vec\"\n",
        "\n",
        "embeddings_index={}\n",
        "f = open(root_path, encoding = \"utf-8\")\n",
        "for line in f:\n",
        "    values = line.split()\n",
        "    word = values[0]\n",
        "    coefs = np.asarray(values[1:], dtype='float32')\n",
        "    embeddings_index[word] = coefs\n",
        "f.close()\n",
        "\n",
        "print('Found %s word vectors.' % len(embeddings_index))"
      ],
      "execution_count": 47,
      "outputs": [
        {
          "output_type": "stream",
          "text": [
            "Found 400000 word vectors.\n"
          ],
          "name": "stdout"
        }
      ]
    },
    {
      "cell_type": "code",
      "metadata": {
        "id": "4OM5O7xy-h3x",
        "colab_type": "code",
        "colab": {}
      },
      "source": [
        "#create emedding matrix\n",
        "EMBEDDING=int(root_path.split(\".\")[-2][:-1])\n",
        "word_index = token_word.word_index\n",
        "embedding_matrix = np.zeros((len(token_word.word_index) + 1, EMBEDDING))\n",
        "for word, i in word_index.items():\n",
        "    embedding_vector = embeddings_index.get(word)\n",
        "    if embedding_vector is not None:\n",
        "      # words not found in embedding index will be all-zeros.\n",
        "      embedding_matrix[i] = embedding_vector"
      ],
      "execution_count": 0,
      "outputs": []
    },
    {
      "cell_type": "code",
      "metadata": {
        "id": "iBHwzSe4s8cj",
        "colab_type": "code",
        "outputId": "f0741e68-17ea-4fb9-def3-5bd66f1a27f0",
        "colab": {
          "base_uri": "https://localhost:8080/",
          "height": 34
        }
      },
      "source": [
        "checks=[]\n",
        "words=[]\n",
        "for i in range(0,len(token_word.word_index)+1):\n",
        "  if embedding_matrix[i][0] == 0.0:\n",
        "    checks.append(1)\n",
        "    words.append(list(token_word.word_index.items())[i-1][0])\n",
        "  else:\n",
        "    continue\n",
        "\n",
        "print(\"Missing words from Embeddings: %d (%.2f%%)\" %(len(checks),(len(checks)/len(token_word.word_index)*100)))"
      ],
      "execution_count": 49,
      "outputs": [
        {
          "output_type": "stream",
          "text": [
            "Missing words from Embeddings: 1218 (7.10%)\n"
          ],
          "name": "stdout"
        }
      ]
    },
    {
      "cell_type": "markdown",
      "metadata": {
        "id": "k0G18EdzTSqI",
        "colab_type": "text"
      },
      "source": [
        "## Create Casing Embedding"
      ]
    },
    {
      "cell_type": "code",
      "metadata": {
        "id": "8b0O3b-HTRfa",
        "colab_type": "code",
        "colab": {}
      },
      "source": [
        "def getCasing(word, caseLookup):   \n",
        "    casing = 'other'\n",
        "    \n",
        "    numDigits = 0\n",
        "    for char in word:\n",
        "        if char.isdigit():\n",
        "            numDigits += 1\n",
        "            \n",
        "    digitFraction = numDigits / float(len(word))\n",
        "    \n",
        "    if word.isdigit(): #Is a digit\n",
        "        casing = 'numeric'\n",
        "    elif digitFraction > 0.5:\n",
        "        casing = 'mainly_numeric'\n",
        "    elif word.islower(): #All lower case\n",
        "        casing = 'allLower'\n",
        "    elif word.isupper(): #All upper case\n",
        "        casing = 'allUpper'\n",
        "    elif word[0].isupper(): #is a title, initial char upper, then all lower\n",
        "        casing = 'initialUpper'\n",
        "    elif numDigits > 0:\n",
        "        casing = 'contains_digit'  \n",
        "    return caseLookup[casing]\n",
        "\n",
        "case2Idx = {'numeric': 7, 'allLower':1, 'allUpper':2, 'initialUpper':3, 'other':4, \n",
        "            'mainly_numeric':5, 'contains_digit': 6, 'PADDING_TOKEN':0}\n",
        "\n",
        "caseEmbeddings = np.identity(len(case2Idx), dtype='float32')\n",
        "\n",
        "\n",
        "X_cas = []\n",
        "for sentence in train_data:\n",
        "    sent_seq = []\n",
        "    for i in range(MAX_LEN):\n",
        "        word_seq = []\n",
        "        try:\n",
        "          word_seq.append(getCasing(sentence[i][0],case2Idx))\n",
        "        except:\n",
        "          word_seq.append(case2Idx.get('PADDING_TOKEN'))\n",
        "        sent_seq.append(word_seq)\n",
        "    X_cas.append(np.array(sent_seq))"
      ],
      "execution_count": 0,
      "outputs": []
    },
    {
      "cell_type": "markdown",
      "metadata": {
        "id": "nLUxQqI8Md4N",
        "colab_type": "text"
      },
      "source": [
        "## Create Model"
      ]
    },
    {
      "cell_type": "code",
      "metadata": {
        "id": "mJXcEXJYMg4_",
        "colab_type": "code",
        "colab": {}
      },
      "source": [
        "# Model definition\n",
        "\n",
        "words_in = Input(shape=(MAX_LEN,), name=\"Input_Words\")\n",
        "casing_in = Input(shape=(MAX_LEN,1), name=\"Input_Casings\")\n",
        "\n",
        "word_emb = Embedding(input_dim=len(token_word.word_index) + 1,output_dim=EMBEDDING,\n",
        "                     weights=[embedding_matrix],input_length=MAX_LEN,\n",
        "                     trainable=False,mask_zero=True)(words_in)\n",
        "\n",
        "# casing_emb = TimeDistributed(Embedding(input_dim=caseEmbeddings.shape[0],output_dim=caseEmbeddings.shape[1],\n",
        "#                        weights=[caseEmbeddings], trainable=False, mask_zero=True))(casing_in)\n",
        "\n",
        "casing_emb = Embedding(input_dim=caseEmbeddings.shape[0],output_dim=caseEmbeddings.shape[1],\n",
        "                       weights=[caseEmbeddings], trainable=False, mask_zero=True)(casing_in)\n",
        "\n",
        "# character LSTM to get word encodings by characters\n",
        "cas_enc = TimeDistributed(LSTM(units=20, return_sequences=False, #20\n",
        "                                recurrent_dropout=0.5))(casing_emb) #0.3/0.5\n",
        "\n",
        "model_2 = concatenate([word_emb,cas_enc])\n",
        "model_2 = Bidirectional(LSTM(units=150, return_sequences=True,\n",
        "                           recurrent_dropout=0.1, dropout=0.3))(model_2) \n",
        "\n",
        "model_2 = TimeDistributed(Dense(50, activation=\"relu\"))(model_2)\n",
        "crf = CRF(N_tags+1)  # CRF layer\n",
        "out = crf(model_2)  # output\n",
        "model_2 = Model([words_in, casing_in], out)"
      ],
      "execution_count": 0,
      "outputs": []
    },
    {
      "cell_type": "code",
      "metadata": {
        "id": "dA9_8iSPMiyn",
        "colab_type": "code",
        "outputId": "9ef4a8be-3a3f-48af-dc10-3dcb5731ef2c",
        "colab": {
          "base_uri": "https://localhost:8080/",
          "height": 459
        }
      },
      "source": [
        "from keras import optimizers\n",
        "adam=optimizers.Adam(clipvalue=0.5)\n",
        "\n",
        "model_2.compile(optimizer=adam, loss=crf_loss,metrics=[crf_viterbi_accuracy])\n",
        "model_2.summary()"
      ],
      "execution_count": 52,
      "outputs": [
        {
          "output_type": "stream",
          "text": [
            "__________________________________________________________________________________________________\n",
            "Layer (type)                    Output Shape         Param #     Connected to                     \n",
            "==================================================================================================\n",
            "Input_Casings (InputLayer)      (None, 124, 1)       0                                            \n",
            "__________________________________________________________________________________________________\n",
            "Input_Words (InputLayer)        (None, 124)          0                                            \n",
            "__________________________________________________________________________________________________\n",
            "embedding_18 (Embedding)        (None, 124, 1, 8)    64          Input_Casings[0][0]              \n",
            "__________________________________________________________________________________________________\n",
            "embedding_17 (Embedding)        (None, 124, 50)      858250      Input_Words[0][0]                \n",
            "__________________________________________________________________________________________________\n",
            "time_distributed_14 (TimeDistri (None, 124, 20)      2320        embedding_18[0][0]               \n",
            "__________________________________________________________________________________________________\n",
            "concatenate_9 (Concatenate)     (None, 124, 70)      0           embedding_17[0][0]               \n",
            "                                                                 time_distributed_14[0][0]        \n",
            "__________________________________________________________________________________________________\n",
            "bidirectional_6 (Bidirectional) (None, 124, 300)     265200      concatenate_9[0][0]              \n",
            "__________________________________________________________________________________________________\n",
            "time_distributed_15 (TimeDistri (None, 124, 50)      15050       bidirectional_6[0][0]            \n",
            "__________________________________________________________________________________________________\n",
            "crf_6 (CRF)                     (None, 124, 9)       558         time_distributed_15[0][0]        \n",
            "==================================================================================================\n",
            "Total params: 1,141,442\n",
            "Trainable params: 283,128\n",
            "Non-trainable params: 858,314\n",
            "__________________________________________________________________________________________________\n"
          ],
          "name": "stdout"
        }
      ]
    },
    {
      "cell_type": "code",
      "metadata": {
        "id": "J3q4LFVGQTJB",
        "colab_type": "code",
        "colab": {}
      },
      "source": [
        "from keras.callbacks import EarlyStopping\n",
        "from keras.callbacks import Callback\n",
        "\n",
        "class F1Metrics(Callback):\n",
        "\n",
        "    def __init__(self, id2label,sub_label,pad_value=0,validation_data=None):\n",
        "        super(F1Metrics, self).__init__()\n",
        "        self.id2label = id2label\n",
        "        self.sublabel = sub_label\n",
        "        self.validation_data = validation_data\n",
        "        self.is_fit = validation_data is None\n",
        "\n",
        "    def convert_idx_to_name(self, y):\n",
        "        y = [[self.id2label[i] for i in row] for row in y]\n",
        "        return y\n",
        "\n",
        "    def predict(self, X, y):\n",
        "        y_pred = self.model.predict_on_batch(X)\n",
        "        y_true = np.argmax(y, -1)\n",
        "        y_pred = np.argmax(y_pred, -1)\n",
        "        y_true = self.convert_idx_to_name(y_true)\n",
        "        y_pred = self.convert_idx_to_name(y_pred)\n",
        "        return y_true, y_pred\n",
        "\n",
        "    def score(self, y_true, y_pred):\n",
        "        score = flat_f1_score(y_true, y_pred,average='micro',labels=sub_label)\n",
        "        print(len(y_pred))\n",
        "        print(' - f1: %.2f' %(score))\n",
        "        return score\n",
        "\n",
        "    def on_epoch_end(self, epoch, logs={}):\n",
        "        if self.is_fit:\n",
        "            self.on_epoch_end_fit(epoch, logs)\n",
        "        else:\n",
        "            self.on_epoch_end_fit_generator(epoch, logs)\n",
        "\n",
        "    def on_epoch_end_fit(self, epoch, logs={}):\n",
        "        X = self.validation_data[0]\n",
        "        y = self.validation_data[1]\n",
        "        y_true, y_pred = self.predict(X, y)\n",
        "        score_val = self.score(y_true, y_pred)\n",
        "        logs['f1_val'] = score_val\n",
        "\n",
        "\n",
        "    def on_epoch_end_fit_generator(self, epoch, logs={}):\n",
        "        y_true = []\n",
        "        y_pred = []\n",
        "        for X, y in self.validation_data:\n",
        "            y_true_batch, y_pred_batch = self.predict(X, y)\n",
        "            y_true.extend(y_true_batch)\n",
        "            y_pred.extend(y_pred_batch)\n",
        "        score = self.score(y_true, y_pred)\n",
        "        logs['f1'] = score\n",
        "\n",
        "f1score = F1Metrics(token_tag.index_word, sub_label)"
      ],
      "execution_count": 0,
      "outputs": []
    },
    {
      "cell_type": "code",
      "metadata": {
        "id": "VjSNmgV3OyH6",
        "colab_type": "code",
        "outputId": "49453fce-d0f2-4130-fa70-3cc93ec8b6e5",
        "colab": {
          "base_uri": "https://localhost:8080/",
          "height": 768
        }
      },
      "source": [
        "%%time\n",
        "from keras.callbacks import EarlyStopping\n",
        "from keras.callbacks import Callback\n",
        "BATCH_SIZE = 200\n",
        "EPOCHS=20\n",
        "\n",
        "early_stopping = EarlyStopping(monitor='val_loss', patience=2)\n",
        "\n",
        "history = model_2.fit([X_train, np.array(X_cas).reshape((len(X_cas), MAX_LEN,1))],\n",
        "                      np.array(Y_train),\n",
        "                      batch_size=BATCH_SIZE, \n",
        "                      epochs=EPOCHS, \n",
        "                      validation_split=0.2, \n",
        "                       #validation_data = (X_valid,np.array(Y_valid)),\n",
        "                      verbose=1,callbacks=[early_stopping])"
      ],
      "execution_count": 55,
      "outputs": [
        {
          "output_type": "stream",
          "text": [
            "Train on 11232 samples, validate on 2809 samples\n",
            "Epoch 1/20\n",
            "11232/11232 [==============================] - 61s 5ms/step - loss: 40.5793 - crf_viterbi_accuracy: 0.8578 - val_loss: 35.3896 - val_crf_viterbi_accuracy: 0.9027\n",
            "Epoch 2/20\n",
            "11232/11232 [==============================] - 60s 5ms/step - loss: 40.2090 - crf_viterbi_accuracy: 0.9238 - val_loss: 35.2464 - val_crf_viterbi_accuracy: 0.9458\n",
            "Epoch 3/20\n",
            "11232/11232 [==============================] - 60s 5ms/step - loss: 40.1209 - crf_viterbi_accuracy: 0.9518 - val_loss: 35.2047 - val_crf_viterbi_accuracy: 0.9606\n",
            "Epoch 4/20\n",
            "11232/11232 [==============================] - 61s 5ms/step - loss: 40.0929 - crf_viterbi_accuracy: 0.9601 - val_loss: 35.1878 - val_crf_viterbi_accuracy: 0.9648\n",
            "Epoch 5/20\n",
            "11232/11232 [==============================] - 60s 5ms/step - loss: 40.0766 - crf_viterbi_accuracy: 0.9636 - val_loss: 35.1790 - val_crf_viterbi_accuracy: 0.9663\n",
            "Epoch 6/20\n",
            "11232/11232 [==============================] - 61s 5ms/step - loss: 40.0650 - crf_viterbi_accuracy: 0.9662 - val_loss: 35.1669 - val_crf_viterbi_accuracy: 0.9690\n",
            "Epoch 7/20\n",
            "11232/11232 [==============================] - 60s 5ms/step - loss: 40.0551 - crf_viterbi_accuracy: 0.9691 - val_loss: 35.1591 - val_crf_viterbi_accuracy: 0.9711\n",
            "Epoch 8/20\n",
            "11232/11232 [==============================] - 61s 5ms/step - loss: 40.0457 - crf_viterbi_accuracy: 0.9710 - val_loss: 35.1511 - val_crf_viterbi_accuracy: 0.9727\n",
            "Epoch 9/20\n",
            "11232/11232 [==============================] - 61s 5ms/step - loss: 40.0389 - crf_viterbi_accuracy: 0.9727 - val_loss: 35.1474 - val_crf_viterbi_accuracy: 0.9737\n",
            "Epoch 10/20\n",
            "11232/11232 [==============================] - 61s 5ms/step - loss: 40.0326 - crf_viterbi_accuracy: 0.9749 - val_loss: 35.1451 - val_crf_viterbi_accuracy: 0.9735\n",
            "Epoch 11/20\n",
            "11232/11232 [==============================] - 60s 5ms/step - loss: 40.0268 - crf_viterbi_accuracy: 0.9755 - val_loss: 35.1402 - val_crf_viterbi_accuracy: 0.9747\n",
            "Epoch 12/20\n",
            "11232/11232 [==============================] - 61s 5ms/step - loss: 40.0219 - crf_viterbi_accuracy: 0.9767 - val_loss: 35.1374 - val_crf_viterbi_accuracy: 0.9762\n",
            "Epoch 13/20\n",
            "11232/11232 [==============================] - 60s 5ms/step - loss: 40.0178 - crf_viterbi_accuracy: 0.9774 - val_loss: 35.1357 - val_crf_viterbi_accuracy: 0.9765\n",
            "Epoch 14/20\n",
            "11232/11232 [==============================] - 60s 5ms/step - loss: 40.0141 - crf_viterbi_accuracy: 0.9788 - val_loss: 35.1309 - val_crf_viterbi_accuracy: 0.9778\n",
            "Epoch 15/20\n",
            "11232/11232 [==============================] - 60s 5ms/step - loss: 40.0090 - crf_viterbi_accuracy: 0.9802 - val_loss: 35.1300 - val_crf_viterbi_accuracy: 0.9775\n",
            "Epoch 16/20\n",
            "11232/11232 [==============================] - 61s 5ms/step - loss: 40.0077 - crf_viterbi_accuracy: 0.9800 - val_loss: 35.1276 - val_crf_viterbi_accuracy: 0.9782\n",
            "Epoch 17/20\n",
            "11232/11232 [==============================] - 60s 5ms/step - loss: 40.0034 - crf_viterbi_accuracy: 0.9821 - val_loss: 35.1279 - val_crf_viterbi_accuracy: 0.9790\n",
            "Epoch 18/20\n",
            "11232/11232 [==============================] - 60s 5ms/step - loss: 40.0004 - crf_viterbi_accuracy: 0.9822 - val_loss: 35.1255 - val_crf_viterbi_accuracy: 0.9791\n",
            "Epoch 19/20\n",
            "11232/11232 [==============================] - 60s 5ms/step - loss: 39.9982 - crf_viterbi_accuracy: 0.9832 - val_loss: 35.1230 - val_crf_viterbi_accuracy: 0.9793\n",
            "Epoch 20/20\n",
            "11232/11232 [==============================] - 60s 5ms/step - loss: 39.9968 - crf_viterbi_accuracy: 0.9832 - val_loss: 35.1226 - val_crf_viterbi_accuracy: 0.9799\n",
            "CPU times: user 30min 59s, sys: 3min 21s, total: 34min 21s\n",
            "Wall time: 20min 8s\n"
          ],
          "name": "stdout"
        }
      ]
    },
    {
      "cell_type": "markdown",
      "metadata": {
        "id": "sOZlNNM-YcZv",
        "colab_type": "text"
      },
      "source": [
        "## Predict On Training Set"
      ]
    },
    {
      "cell_type": "code",
      "metadata": {
        "id": "PEw08HSrSHG2",
        "colab_type": "code",
        "outputId": "7ce5889d-5ac1-4ed5-99ec-7b54cdcfcfba",
        "colab": {
          "base_uri": "https://localhost:8080/",
          "height": 68
        }
      },
      "source": [
        "%%time\n",
        "pred = model_2.predict([X_train, np.array(X_cas).reshape((len(X_cas), MAX_LEN,1))], verbose=1)"
      ],
      "execution_count": 56,
      "outputs": [
        {
          "output_type": "stream",
          "text": [
            "14041/14041 [==============================] - 161s 11ms/step\n",
            "CPU times: user 4min 4s, sys: 38.7 s, total: 4min 43s\n",
            "Wall time: 2min 41s\n"
          ],
          "name": "stdout"
        }
      ]
    },
    {
      "cell_type": "code",
      "metadata": {
        "id": "gOlSUB8BShcQ",
        "colab_type": "code",
        "outputId": "d528359c-269d-43dd-ab4d-a01f3c820a52",
        "colab": {
          "base_uri": "https://localhost:8080/",
          "height": 326
        }
      },
      "source": [
        "# TRain Eval\n",
        "preds = np.argmax(pred, axis=-1)\n",
        "y_tr_true = np.argmax(Y_train, -1)\n",
        "\n",
        "# Convert the index to tag\n",
        "pred_tag = [[token_tag.index_word[i] for i in row] for row in preds]\n",
        "y_tr_true_tag = [[token_tag.index_word[i] for i in row] for row in y_tr_true]\n",
        "\n",
        "report = flat_classification_report(y_pred=pred_tag, y_true=y_tr_true_tag,labels=sub_label)\n",
        "print(report)\n",
        "#F1 Score\n",
        "score=flat_f1_score(y_pred=pred_tag, y_true=y_tr_true_tag,average='micro',labels=sub_label)\n",
        "print(score)  "
      ],
      "execution_count": 57,
      "outputs": [
        {
          "output_type": "stream",
          "text": [
            "/usr/local/lib/python3.6/dist-packages/sklearn/metrics/_classification.py:1272: UndefinedMetricWarning: Precision and F-score are ill-defined and being set to 0.0 in labels with no predicted samples. Use `zero_division` parameter to control this behavior.\n",
            "  _warn_prf(average, modifier, msg_start, len(result))\n"
          ],
          "name": "stderr"
        },
        {
          "output_type": "stream",
          "text": [
            "              precision    recall  f1-score   support\n",
            "\n",
            "       I-PER       0.98      0.97      0.98     11128\n",
            "       I-ORG       0.92      0.91      0.91     10001\n",
            "       I-LOC       0.94      0.95      0.94      8286\n",
            "      I-MISC       0.89      0.87      0.88      4556\n",
            "      B-MISC       0.00      0.00      0.00        37\n",
            "       B-ORG       1.00      1.00      1.00        24\n",
            "       B-LOC       0.00      0.00      0.00        11\n",
            "\n",
            "   micro avg       0.94      0.93      0.94     34043\n",
            "   macro avg       0.68      0.67      0.67     34043\n",
            "weighted avg       0.94      0.93      0.94     34043\n",
            "\n",
            "0.9361582755056843\n"
          ],
          "name": "stdout"
        }
      ]
    },
    {
      "cell_type": "markdown",
      "metadata": {
        "id": "l-xpkf6Dg7Zg",
        "colab_type": "text"
      },
      "source": [
        "## Predict On Test Set"
      ]
    },
    {
      "cell_type": "code",
      "metadata": {
        "id": "oJsXpwO2flwh",
        "colab_type": "code",
        "outputId": "6bb7857f-f600-4607-aa3c-a8c724b25f09",
        "colab": {
          "base_uri": "https://localhost:8080/",
          "height": 68
        }
      },
      "source": [
        "%%time\n",
        "X_cas_t = []\n",
        "for sentence in test_data:\n",
        "    sent_seq = []\n",
        "    for i in range(MAX_LEN):\n",
        "        word_seq = []\n",
        "        try:\n",
        "          word_seq.append(getCasing(sentence[i][0],case2Idx))\n",
        "        except:\n",
        "          word_seq.append(case2Idx.get('PADDING_TOKEN'))\n",
        "        sent_seq.append(word_seq)\n",
        "    X_cas_t.append(np.array(sent_seq))\n",
        "\n",
        "pred = model_2.predict([X_test, np.array(X_cas_t).reshape((len(X_cas_t), MAX_LEN,1))], verbose=1)"
      ],
      "execution_count": 58,
      "outputs": [
        {
          "output_type": "stream",
          "text": [
            "3453/3453 [==============================] - 39s 11ms/step\n",
            "CPU times: user 1min, sys: 9.33 s, total: 1min 9s\n",
            "Wall time: 39.9 s\n"
          ],
          "name": "stdout"
        }
      ]
    },
    {
      "cell_type": "code",
      "metadata": {
        "id": "BJ8TiP-dhc35",
        "colab_type": "code",
        "outputId": "a9080fdb-1a41-488b-cc4e-452870a8b335",
        "colab": {
          "base_uri": "https://localhost:8080/",
          "height": 326
        }
      },
      "source": [
        "# Test Eval\n",
        "#pred_cat = model.predict(X_tr)\n",
        "preds = np.argmax(pred, axis=-1)\n",
        "y_tr_true = np.argmax(Y_test, -1)\n",
        "\n",
        "# Convert the index to tag\n",
        "pred_tag = [[token_tag.index_word[i] for i in row] for row in preds]\n",
        "y_tr_true_tag = [[token_tag.index_word[i] for i in row] for row in y_tr_true]\n",
        "                 \n",
        "                 \n",
        "report = flat_classification_report(y_pred=pred_tag, y_true=y_tr_true_tag, labels=sub_label)\n",
        "print(report)\n",
        "\n",
        "score=flat_f1_score(y_pred=pred_tag, y_true=y_tr_true_tag,average='micro', labels=sub_label)\n",
        "print(score)    "
      ],
      "execution_count": 59,
      "outputs": [
        {
          "output_type": "stream",
          "text": [
            "/usr/local/lib/python3.6/dist-packages/sklearn/metrics/_classification.py:1272: UndefinedMetricWarning: Precision and F-score are ill-defined and being set to 0.0 in labels with no predicted samples. Use `zero_division` parameter to control this behavior.\n",
            "  _warn_prf(average, modifier, msg_start, len(result))\n"
          ],
          "name": "stderr"
        },
        {
          "output_type": "stream",
          "text": [
            "              precision    recall  f1-score   support\n",
            "\n",
            "       I-PER       0.96      0.91      0.94      2773\n",
            "       I-ORG       0.81      0.83      0.82      2491\n",
            "       I-LOC       0.87      0.89      0.88      1919\n",
            "      I-MISC       0.68      0.77      0.72       909\n",
            "      B-MISC       0.00      0.00      0.00         9\n",
            "       B-ORG       0.00      0.00      0.00         5\n",
            "       B-LOC       0.00      0.00      0.00         6\n",
            "\n",
            "   micro avg       0.86      0.86      0.86      8112\n",
            "   macro avg       0.47      0.49      0.48      8112\n",
            "weighted avg       0.86      0.86      0.86      8112\n",
            "\n",
            "0.8599864839958223\n"
          ],
          "name": "stdout"
        }
      ]
    },
    {
      "cell_type": "markdown",
      "metadata": {
        "id": "H9VIWcmdQTOR",
        "colab_type": "text"
      },
      "source": [
        "## Underfitting"
      ]
    },
    {
      "cell_type": "code",
      "metadata": {
        "id": "dR4-YXy6O7C7",
        "colab_type": "code",
        "outputId": "72db2cb1-ae89-416a-c124-6170bc4b944f",
        "colab": {
          "base_uri": "https://localhost:8080/",
          "height": 573
        }
      },
      "source": [
        "%matplotlib inline\n",
        "import matplotlib.pyplot as plt\n",
        "# summarize history for accuracy\n",
        "plt.subplot(1,1,1)\n",
        "plt.plot(history.history['crf_viterbi_accuracy'])\n",
        "plt.plot(history.history['val_crf_viterbi_accuracy'])\n",
        "plt.title('model accuracy')\n",
        "plt.ylabel('accuracy')\n",
        "plt.xlabel('epoch')\n",
        "plt.legend(['train', 'test'])\n",
        "plt.show()\n",
        "\n",
        "# summarize history for loss\n",
        "plt.plot(history.history['loss'])\n",
        "plt.plot(history.history['val_loss'])\n",
        "plt.title('model loss')\n",
        "plt.ylabel('loss')\n",
        "plt.xlabel('epoch')\n",
        "plt.legend(['train', 'test'], loc='center right')\n",
        "plt.show()"
      ],
      "execution_count": 60,
      "outputs": [
        {
          "output_type": "display_data",
          "data": {
            "image/png": "[encoded data removed]",
            "text/plain": [
              "<Figure size 432x288 with 1 Axes>"
            ]
          },
          "metadata": {
            "tags": []
          }
        },
        {
          "output_type": "display_data",
          "data": {
            "image/png": "[encoded data removed]",
            "text/plain": [
              "<Figure size 432x288 with 1 Axes>"
            ]
          },
          "metadata": {
            "tags": []
          }
        }
      ]
    },
    {
      "cell_type": "code",
      "metadata": {
        "id": "RE_zs6M7PhYJ",
        "colab_type": "code",
        "colab": {}
      },
      "source": [
        ""
      ],
      "execution_count": 0,
      "outputs": []
    }
  ]
}