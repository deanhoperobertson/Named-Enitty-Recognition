{
 "cells": [
  {
   "cell_type": "markdown",
   "metadata": {},
   "source": [
    "## Conditional Random Field Model (Zero Window)"
   ]
  },
  {
   "cell_type": "code",
   "execution_count": 134,
   "metadata": {},
   "outputs": [],
   "source": [
    "import pandas as pd\n",
    "import numpy as np\n",
    "from sklearn.model_selection import train_test_split\n",
    "import re\n",
    "from collections import OrderedDict\n",
    "\n",
    "#Custom models\n",
    "from prepro import readfile, get_sentence, is_number, extract_words,get_label,partial_tags\n",
    "\n",
    "#Model\n",
    "from sklearn_crfsuite import CRF\n",
    "\n",
    "#Evalulation\n",
    "from sklearn.model_selection import cross_val_predict\n",
    "from sklearn_crfsuite.metrics import flat_classification_report\n",
    "from sklearn_crfsuite.metrics import flat_f1_score"
   ]
  },
  {
   "cell_type": "code",
   "execution_count": 135,
   "metadata": {},
   "outputs": [],
   "source": [
    "#import data from my github repo\n",
    "test = readfile(\"test.txt\")\n",
    "train =readfile(\"train.txt\")\n"
   ]
  },
  {
   "cell_type": "markdown",
   "metadata": {},
   "source": [
    "## Orthographic Feature Engineering"
   ]
  },
  {
   "cell_type": "code",
   "execution_count": 136,
   "metadata": {},
   "outputs": [],
   "source": [
    "#Engineered Features:\n",
    "def mix(word):\n",
    "    if word.isalnum():\n",
    "        if re.search(\"^(?=.*[a-zA-Z])(?=.*[0-9])\",word): return True\n",
    "        else: return False\n",
    "    else:\n",
    "        return False\n",
    "\n",
    "def non_intial(word):\n",
    "    '''\n",
    "    The Function the boolean if a non-initial captital letter is present\n",
    "    '''\n",
    "    return not word[1:].islower()\n",
    "\n",
    "def contain_punct(word):\n",
    "    '''\n",
    "    The Function returns the boolean if punctuations is present in token\n",
    "    '''\n",
    "    if re.match(r'^\\w+$',word):return False\n",
    "    else: return True\n",
    "    \n",
    "def apostrophe(word):\n",
    "    '''\n",
    "    The Function returns boolean if \"'s\" is present in token \n",
    "    '''\n",
    "    if word ==\"'s\":return True\n",
    "    else:return False\n",
    "    \n",
    "def word_pattern(word):\n",
    "    '''\n",
    "    The Function returns word patter feature\n",
    "    Upper Case = \"A\"\n",
    "    Lower Case = \"a\"\n",
    "    Digit = \"0\"\n",
    "    '''\n",
    "    token=\"\"\n",
    "    for i in word:\n",
    "        if i.isupper():\n",
    "            token +=\"A\"\n",
    "        elif i.islower():\n",
    "            token +=\"a\"\n",
    "        elif i.isdigit():\n",
    "            token +=\"0\"\n",
    "        else:\n",
    "            token +=str(i)\n",
    "    return token\n",
    "\n",
    "def pattern_sum(word):\n",
    "    '''\n",
    "    The Function returns the word patern without consectutive duplicates\n",
    "    '''\n",
    "    return ''.join(OrderedDict.fromkeys(word))\n",
    "    "
   ]
  },
  {
   "cell_type": "code",
   "execution_count": 137,
   "metadata": {},
   "outputs": [],
   "source": [
    "def word2features(sentence,i):\n",
    "    word = sentence[i]\n",
    "\n",
    "    features = {\n",
    "        'bias': 1.0,\n",
    "        'word.lower()': word.lower(),\n",
    "        \n",
    "        'Prefix_2': word[:2], # prefix\n",
    "        'Prefix_3': word[:3], # prefix\n",
    "        \n",
    "        'word.istitle()': word.istitle(), #starts with caps\n",
    "        'word.isupper()': word.isupper(), #all caps\n",
    "        'word.islower()': word.islower(), #all lower case\n",
    "        'word.isdigit()': word.isdigit(), #all digits\n",
    "        'word.isalpha()': word.isalpha(), #all letters\n",
    "        \n",
    "        'word.punct()': contain_punct(word),#contains punctuation\n",
    "        'word.apost()': apostrophe(word), #is an apostrophe\n",
    "        'word.non_intial': non_intial(word), #non-initial capitals\n",
    "        'word.mix': mix(word), #mixture of letters and digits\n",
    "        'word.pattern()': word_pattern(word), #word pattern\n",
    "        'word.pattern_sum()': pattern_sum(word_pattern(word)), #word pattern summary\n",
    "        \n",
    "        'Suffix_2': word[-2:], # suffix\n",
    "        'Suffix_3': word[-3:], # suffix\n",
    "        \n",
    "    }\n",
    "    if i == 0:\n",
    "        features['START'] = True\n",
    "        \n",
    "    if i == len(sentence)-1:\n",
    "        features['END'] = True\n",
    "    \n",
    "    return features\n",
    "\n",
    "def sent2features(sent):\n",
    "    return [word2features(sent, i) for i in range(len(sent))]\n",
    "\n",
    "def get_all_sentences(dataset):\n",
    "    sentences=[]\n",
    "    for i in range(len(dataset)):\n",
    "        sentences.append(get_sentence(dataset,i+1))\n",
    "    return sentences\n",
    "\n",
    "def get_all_labels(dataset):\n",
    "    labels=[]\n",
    "    for i in range(len(dataset)):\n",
    "        #labels.append(partial_tags(get_label(dataset,i+1)))\n",
    "        labels.append(get_label(dataset,i+1))\n",
    "    return labels"
   ]
  },
  {
   "cell_type": "code",
   "execution_count": 138,
   "metadata": {},
   "outputs": [
    {
     "name": "stdout",
     "output_type": "stream",
     "text": [
      "['EU', 'rejects', 'German', 'call', 'to', 'boycott', 'British', 'lamb', '.']\n",
      "['I-ORG', 'O', 'I-MISC', 'O', 'O', 'O', 'I-MISC', 'O', 'O']\n"
     ]
    }
   ],
   "source": [
    "#get the first sentence\n",
    "sent = get_sentence(train,1)\n",
    "label = get_label(train,1)\n",
    "\n",
    "#print out first sentence\n",
    "print(sent)\n",
    "print(label)"
   ]
  },
  {
   "cell_type": "code",
   "execution_count": 139,
   "metadata": {},
   "outputs": [],
   "source": [
    "#Applt feature engineering\n",
    "train_sents = get_all_sentences(train)\n",
    "train_labels = get_all_labels(train)\n",
    "test_sents = get_all_sentences(test)\n",
    "test_labels = get_all_labels(test)\n",
    "\n",
    "X_train = [sent2features(s) for s in train_sents]\n",
    "y_train = train_labels\n",
    "X_test = [sent2features(s) for s in test_sents]\n",
    "y_test = test_labels\n",
    "\n",
    "\n",
    "sub_labels=list(set([item for sublist in train_labels for item in sublist]))\n",
    "sub_labels.remove(\"O\")"
   ]
  },
  {
   "cell_type": "markdown",
   "metadata": {},
   "source": [
    "\n",
    "## Condtional Random Field Model\n"
   ]
  },
  {
   "cell_type": "code",
   "execution_count": 140,
   "metadata": {},
   "outputs": [
    {
     "name": "stdout",
     "output_type": "stream",
     "text": [
      "              precision    recall  f1-score   support\n",
      "\n",
      "      B-MISC       1.00      0.22      0.36        37\n",
      "       B-LOC       1.00      0.82      0.90        11\n",
      "       I-PER       0.98      0.99      0.99     11128\n",
      "       B-ORG       1.00      1.00      1.00        24\n",
      "       I-ORG       0.95      0.93      0.94     10001\n",
      "      I-MISC       0.96      0.95      0.95      4556\n",
      "       I-LOC       0.95      0.96      0.96      8286\n",
      "\n",
      "   micro avg       0.96      0.96      0.96     34043\n",
      "   macro avg       0.98      0.84      0.87     34043\n",
      "weighted avg       0.96      0.96      0.96     34043\n",
      "\n",
      "F1=96.03\n",
      "CPU times: user 22.7 s, sys: 256 ms, total: 23 s\n",
      "Wall time: 22.1 s\n"
     ]
    }
   ],
   "source": [
    "%%time\n",
    "crf4 = CRF(algorithm='lbfgs',\n",
    "          c1=0.1,\n",
    "          c2=0.2,\n",
    "          max_iterations=50,\n",
    "          all_possible_transitions=False)\n",
    "\n",
    "#training model\n",
    "crf4.fit(X=X_train, y=y_train)\n",
    "\n",
    "#generate predictions\n",
    "pred = crf4.predict(X_train)\n",
    "\n",
    "#generate report on entire model\n",
    "report = flat_classification_report(y_pred=pred, y_true=y_train,labels=sub_labels)\n",
    "print(report)\n",
    "\n",
    "score=flat_f1_score(y_pred=pred, y_true=y_train,average='micro',labels=sub_labels)\n",
    "print(\"F1=%.2f\"%(score*100))"
   ]
  },
  {
   "cell_type": "markdown",
   "metadata": {},
   "source": [
    "# Predict on Test dataset"
   ]
  },
  {
   "cell_type": "code",
   "execution_count": 141,
   "metadata": {},
   "outputs": [
    {
     "name": "stdout",
     "output_type": "stream",
     "text": [
      "              precision    recall  f1-score   support\n",
      "\n",
      "      B-MISC       0.00      0.00      0.00         9\n",
      "       B-LOC       0.00      0.00      0.00         6\n",
      "       I-PER       0.85      0.81      0.83      2773\n",
      "       B-ORG       0.00      0.00      0.00         5\n",
      "       I-ORG       0.71      0.74      0.72      2491\n",
      "      I-MISC       0.74      0.76      0.75       909\n",
      "       I-LOC       0.79      0.83      0.81      1919\n",
      "\n",
      "   micro avg       0.78      0.79      0.78      8112\n",
      "   macro avg       0.44      0.45      0.45      8112\n",
      "weighted avg       0.78      0.79      0.78      8112\n",
      "\n",
      "F1=78.26\n"
     ]
    }
   ],
   "source": [
    "#prediction with best performaning model\n",
    "pred = crf4.predict(X_test)\n",
    "\n",
    "#generate report on entire model\n",
    "report = flat_classification_report(y_pred=pred, y_true=y_test,labels=sub_labels)\n",
    "print(report)\n",
    "\n",
    "score=flat_f1_score(y_pred=pred, y_true=y_test,average='micro',labels=sub_labels)\n",
    "print(\"F1=%.2f\"%(score*100))"
   ]
  }
 ],
 "metadata": {
  "kernelspec": {
   "display_name": "Python 3",
   "language": "python",
   "name": "python3"
  },
  "language_info": {
   "codemirror_mode": {
    "name": "ipython",
    "version": 3
   },
   "file_extension": ".py",
   "mimetype": "text/x-python",
   "name": "python",
   "nbconvert_exporter": "python",
   "pygments_lexer": "ipython3",
   "version": "3.7.1"
  }
 },
 "nbformat": 4,
 "nbformat_minor": 2
}
