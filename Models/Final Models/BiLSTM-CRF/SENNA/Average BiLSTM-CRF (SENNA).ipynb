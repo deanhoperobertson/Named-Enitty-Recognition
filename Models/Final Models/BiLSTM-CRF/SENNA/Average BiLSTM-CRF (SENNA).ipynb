{
  "nbformat": 4,
  "nbformat_minor": 0,
  "metadata": {
    "colab": {
      "name": "Average Bi-LSTM-CRF (SENNA 50D)",
      "provenance": [],
      "collapsed_sections": [],
      "include_colab_link": true
    },
    "kernelspec": {
      "name": "python3",
      "display_name": "Python 3"
    },
    "accelerator": "GPU"
  },
  "cells": [
    {
      "cell_type": "markdown",
      "metadata": {
        "id": "view-in-github",
        "colab_type": "text"
      },
      "source": [
        "<a href=\"https://colab.research.google.com/github/deanhoperobertson/Named-Enitty-Recognition/blob/master/Models/Final%20Models/BiLSTM-CRF/SENNA/Average%20BiLSTM-CRF%20(SENNA).ipynb\" target=\"_parent\"><img src=\"https://colab.research.google.com/assets/colab-badge.svg\" alt=\"Open In Colab\"/></a>"
      ]
    },
    {
      "cell_type": "code",
      "metadata": {
        "id": "dEI15-hK3sQ2",
        "colab": {
          "base_uri": "https://localhost:8080/",
          "height": 564
        },
        "outputId": "f3d5e2e2-c568-4919-85b1-86f825c01725"
      },
      "source": [
        "!sudo pip install git+https://www.github.com/keras-team/keras-contrib.git\n",
        "!pip install sklearn_crfsuite\n",
        "!pip install keras==2.2.4\n",
        "%tensorflow_version 1.x\n",
        "#!pip install tensorflow-gpu==1.15.0"
      ],
      "execution_count": null,
      "outputs": [
        {
          "output_type": "stream",
          "text": [
            "Collecting git+https://www.github.com/keras-team/keras-contrib.git\n",
            "  Cloning https://www.github.com/keras-team/keras-contrib.git to /tmp/pip-req-build-urst8dq3\n",
            "  Running command git clone -q https://www.github.com/keras-team/keras-contrib.git /tmp/pip-req-build-urst8dq3\n",
            "Requirement already satisfied (use --upgrade to upgrade): keras-contrib==2.0.8 from git+https://www.github.com/keras-team/keras-contrib.git in /usr/local/lib/python3.6/dist-packages\n",
            "Requirement already satisfied: keras in /usr/local/lib/python3.6/dist-packages (from keras-contrib==2.0.8) (2.2.4)\n",
            "Requirement already satisfied: h5py in /usr/local/lib/python3.6/dist-packages (from keras->keras-contrib==2.0.8) (2.10.0)\n",
            "Requirement already satisfied: keras-preprocessing>=1.0.5 in /usr/local/lib/python3.6/dist-packages (from keras->keras-contrib==2.0.8) (1.1.2)\n",
            "Requirement already satisfied: keras-applications>=1.0.6 in /usr/local/lib/python3.6/dist-packages (from keras->keras-contrib==2.0.8) (1.0.8)\n",
            "Requirement already satisfied: numpy>=1.9.1 in /usr/local/lib/python3.6/dist-packages (from keras->keras-contrib==2.0.8) (1.18.5)\n",
            "Requirement already satisfied: pyyaml in /usr/local/lib/python3.6/dist-packages (from keras->keras-contrib==2.0.8) (3.13)\n",
            "Requirement already satisfied: scipy>=0.14 in /usr/local/lib/python3.6/dist-packages (from keras->keras-contrib==2.0.8) (1.4.1)\n",
            "Requirement already satisfied: six>=1.9.0 in /usr/local/lib/python3.6/dist-packages (from keras->keras-contrib==2.0.8) (1.15.0)\n",
            "Building wheels for collected packages: keras-contrib\n",
            "  Building wheel for keras-contrib (setup.py) ... \u001b[?25l\u001b[?25hdone\n",
            "  Created wheel for keras-contrib: filename=keras_contrib-2.0.8-cp36-none-any.whl size=101064 sha256=45271faab11c76c6ed4864af205cad8f89f534d3f8d45684108af5b8f7dcf683\n",
            "  Stored in directory: /tmp/pip-ephem-wheel-cache-p0cf5ptw/wheels/11/27/c8/4ed56de7b55f4f61244e2dc6ef3cdbaff2692527a2ce6502ba\n",
            "Successfully built keras-contrib\n",
            "Requirement already satisfied: sklearn_crfsuite in /usr/local/lib/python3.6/dist-packages (0.3.6)\n",
            "Requirement already satisfied: python-crfsuite>=0.8.3 in /usr/local/lib/python3.6/dist-packages (from sklearn_crfsuite) (0.9.7)\n",
            "Requirement already satisfied: tqdm>=2.0 in /usr/local/lib/python3.6/dist-packages (from sklearn_crfsuite) (4.41.1)\n",
            "Requirement already satisfied: tabulate in /usr/local/lib/python3.6/dist-packages (from sklearn_crfsuite) (0.8.7)\n",
            "Requirement already satisfied: six in /usr/local/lib/python3.6/dist-packages (from sklearn_crfsuite) (1.15.0)\n",
            "Requirement already satisfied: keras==2.2.4 in /usr/local/lib/python3.6/dist-packages (2.2.4)\n",
            "Requirement already satisfied: scipy>=0.14 in /usr/local/lib/python3.6/dist-packages (from keras==2.2.4) (1.4.1)\n",
            "Requirement already satisfied: pyyaml in /usr/local/lib/python3.6/dist-packages (from keras==2.2.4) (3.13)\n",
            "Requirement already satisfied: h5py in /usr/local/lib/python3.6/dist-packages (from keras==2.2.4) (2.10.0)\n",
            "Requirement already satisfied: six>=1.9.0 in /usr/local/lib/python3.6/dist-packages (from keras==2.2.4) (1.15.0)\n",
            "Requirement already satisfied: numpy>=1.9.1 in /usr/local/lib/python3.6/dist-packages (from keras==2.2.4) (1.18.5)\n",
            "Requirement already satisfied: keras-preprocessing>=1.0.5 in /usr/local/lib/python3.6/dist-packages (from keras==2.2.4) (1.1.2)\n",
            "Requirement already satisfied: keras-applications>=1.0.6 in /usr/local/lib/python3.6/dist-packages (from keras==2.2.4) (1.0.8)\n",
            "TensorFlow 1.x selected.\n"
          ],
          "name": "stdout"
        }
      ]
    },
    {
      "cell_type": "code",
      "metadata": {
        "id": "gvLtrysY3xZn",
        "colab": {
          "base_uri": "https://localhost:8080/",
          "height": 51
        },
        "outputId": "425bf5fe-c0d1-428b-a30c-f720b40208c6"
      },
      "source": [
        "import pandas as pd\n",
        "import re\n",
        "import numpy as np\n",
        "import urllib.request\n",
        "\n",
        "#keras and tensorflow packages\n",
        "import tensorflow as tf\n",
        "from keras.layers.merge import add\n",
        "from keras.preprocessing.sequence import pad_sequences\n",
        "from keras.preprocessing import text, sequence\n",
        "from keras.utils import to_categorical\n",
        "from keras.models import Model, Input\n",
        "from keras.layers import LSTM, Embedding, Dense, TimeDistributed, Dropout, Bidirectional\n",
        "from keras_contrib.layers import CRF\n",
        "from keras_contrib.losses import crf_loss\n",
        "from keras_contrib.metrics import crf_viterbi_accuracy\n",
        "from keras_contrib.metrics import crf_accuracy\n",
        "\n",
        "#evaluation\n",
        "from sklearn_crfsuite.metrics import flat_classification_report,flat_f1_score,flat_precision_score, flat_recall_score\n",
        "from sklearn.metrics import confusion_matrix\n",
        "print(tf.__version__)"
      ],
      "execution_count": null,
      "outputs": [
        {
          "output_type": "stream",
          "text": [
            "Using TensorFlow backend.\n"
          ],
          "name": "stderr"
        },
        {
          "output_type": "stream",
          "text": [
            "1.15.2\n"
          ],
          "name": "stdout"
        }
      ]
    },
    {
      "cell_type": "code",
      "metadata": {
        "id": "FeDhXk5P_S_r",
        "colab": {
          "base_uri": "https://localhost:8080/",
          "height": 34
        },
        "outputId": "fb5aaba1-7a33-4739-e4b9-217960553040"
      },
      "source": [
        "#Ensure Reproducibility\n",
        "import numpy as np\n",
        "import random as rn\n",
        "import os\n",
        "\n",
        "random_seed=3\n",
        "\n",
        "# 1) set numpy random seed\n",
        "np.random.seed(random_seed)\n",
        "# 2) set build-in random seed\n",
        "rn.seed(random_seed)\n",
        "# 3) set PYTHONHASHSEED\n",
        "os.environ['PYTHONHASHSEED']=str(random_seed)\n",
        "# 4) set tensorflow random seed\n",
        "tf.random.set_random_seed(random_seed)\n",
        "\n",
        "# 5) Force TensorFlow to use single thread.\n",
        "session_conf = tf.ConfigProto(intra_op_parallelism_threads=1, inter_op_parallelism_threads=1)\n",
        "from keras import backend as K\n",
        "tf.set_random_seed(1)\n",
        "sess = tf.Session(graph=tf.get_default_graph(), config=session_conf)\n",
        "K.set_session(sess)\n",
        "\n",
        "print(\"Num GPUs Available: \", len(tf.config.experimental.list_physical_devices('GPU')))\n"
      ],
      "execution_count": null,
      "outputs": [
        {
          "output_type": "stream",
          "text": [
            "Num GPUs Available:  1\n"
          ],
          "name": "stdout"
        }
      ]
    },
    {
      "cell_type": "code",
      "metadata": {
        "id": "HQ5UL1PL39-g"
      },
      "source": [
        "#import data from my github repo\n",
        "train_url = \"https://raw.githubusercontent.com/deanhoperobertson/Named-Enitty-Recognition/master/Data/train.txt\"\n",
        "test_url = \"https://raw.githubusercontent.com/deanhoperobertson/Named-Enitty-Recognition/master/Data/test.txt\"\n",
        "train = urllib.request.urlopen(train_url).read()\n",
        "test = urllib.request.urlopen(test_url).read()\n",
        "train = train.decode('utf-8')\n",
        "test = test.decode('utf-8')\n",
        "\n",
        "def readstring(filename, meth):\n",
        "    f = filename.split('\\n')\n",
        "    sentences = []\n",
        "    sentence = []\n",
        "    for line in f:\n",
        "        if len(line) == 0 or line.startswith('-DOCSTART') or line[0] == \"\\n\":\n",
        "            if len(sentence) > 0:\n",
        "                sentences.append(sentence)\n",
        "                sentence = []\n",
        "            continue\n",
        "        splits = line.split(' ')\n",
        "        if meth.lower()==\"numbers1\":\n",
        "            sentence.append([hasNumbers1(splits[0]), splits[-1].strip()])\n",
        "        elif meth.lower()==\"numbers2\":\n",
        "            sentence.append([hasNumbers2(splits[0]), splits[-1].strip()])\n",
        "        else:\n",
        "            sentence.append([splits[0], splits[-1].strip()])\n",
        "    if len(sentence) > 0:\n",
        "        sentences.append(sentence)\n",
        "        sentence = []\n",
        "    return sentences\n",
        "\n",
        "def hasNumbers1(inputString):\n",
        "    if re.search(r'\\d', inputString):\n",
        "        return \"0\"\n",
        "    else:return(inputString)\n",
        "\n",
        "def hasNumbers2(text):\n",
        "  if text.isdigit():\n",
        "      return \"1\"\n",
        "  elif re.search(r'\\d',text) and re.search(r'\\,|\\.',text):\n",
        "      return \"1\" \n",
        "  else:\n",
        "      if re.search(r'\\d', text):\n",
        "          return(re.sub('\\d','D', text))\n",
        "      else:\n",
        "          return text\n",
        "\n",
        "#preproces the txt file\n",
        "train_data = readstring(train,\"Numbers1\")\n",
        "test_data = readstring(test,\"Numbers1\")\n",
        "\n",
        "#create corpus\n",
        "corpus = train_data.copy()\n",
        "corpus.extend(test_data)"
      ],
      "execution_count": null,
      "outputs": []
    },
    {
      "cell_type": "code",
      "metadata": {
        "id": "DQSami9V4FbD"
      },
      "source": [
        "def reformat_data(data,meth):\n",
        "  if meth.lower() == \"data\":\n",
        "    i=0\n",
        "  else: i=1\n",
        "  train = []\n",
        "  output= []\n",
        "  for sentence in data:\n",
        "    words=[]\n",
        "    for x in sentence:\n",
        "      words.append(x[i])\n",
        "    train.append(words)\n",
        "\n",
        "  for i in train:\n",
        "    string = ' '.join(i)\n",
        "    output.append(string)\n",
        "  return output\n",
        "\n",
        "def get_max_length(corpus):\n",
        "  length = []\n",
        "  for sentence in corpus:\n",
        "    length.append(len(sentence))\n",
        "  return int(max(length))\n",
        "\n",
        "def number_of_tags(corpus):\n",
        "  tags=[]\n",
        "  for sentence in corpus:\n",
        "    for tag in sentence:\n",
        "      tags.append(tag[1])\n",
        "  return int(len(list(set(tags))))\n",
        "\n",
        "\n",
        "MAX_LEN = get_max_length(corpus)\n",
        "N_tags = number_of_tags(corpus)\n",
        "\n",
        "train = reformat_data(train_data,\"data\")\n",
        "test = reformat_data(test_data,\"data\")\n"
      ],
      "execution_count": null,
      "outputs": []
    },
    {
      "cell_type": "code",
      "metadata": {
        "id": "kOyKFaZ64Piy"
      },
      "source": [
        "# create a tokenizer\n",
        "token_word = text.Tokenizer(char_level=False, lower=True, filters=\"}\", oov_token='UNK')\n",
        "token_word.fit_on_texts(train)\n",
        "\n",
        "# convert text to sequence of tokens and pad them to ensure equal length vectors \n",
        "X_train = sequence.pad_sequences(token_word.texts_to_sequences(train), maxlen=MAX_LEN,padding=\"post\")\n",
        "X_test = sequence.pad_sequences(token_word.texts_to_sequences(test), maxlen=MAX_LEN,padding=\"post\")"
      ],
      "execution_count": null,
      "outputs": []
    },
    {
      "cell_type": "code",
      "metadata": {
        "id": "791RIPxLFdE4"
      },
      "source": [
        "train = reformat_data(train_data,\"tags\")\n",
        "test = reformat_data(test_data,\"tags\")\n",
        "\n",
        "# create a tokenizer\n",
        "token_tag = text.Tokenizer(char_level=False, lower=False, filters=\"}\")\n",
        "token_tag.fit_on_texts(train)\n",
        "\n",
        "# convert text to sequence of tokens and pad them to ensure equal length vectors \n",
        "Y = sequence.pad_sequences(token_tag.texts_to_sequences(train), maxlen=MAX_LEN,padding=\"post\")\n",
        "# One-Hot encode categorical labels\n",
        "Y_train = [to_categorical(i, num_classes=N_tags+1) for i in Y]\n",
        "\n",
        "Y = sequence.pad_sequences(token_tag.texts_to_sequences(test), maxlen=MAX_LEN,padding=\"post\")\n",
        "# One-Hot encode categorical labels\n",
        "Y_test = [to_categorical(i, num_classes=N_tags+1) for i in Y]\n",
        "\n",
        "#add padding \n",
        "token_tag.index_word[0]=\"PAD\"\n",
        "sub_label = list(token_tag.index_word.values())\n",
        "sub_label.remove('O')\n",
        "sub_label.remove('PAD')"
      ],
      "execution_count": null,
      "outputs": []
    },
    {
      "cell_type": "code",
      "metadata": {
        "id": "ADOS66iMHYkr",
        "colab": {
          "base_uri": "https://localhost:8080/",
          "height": 34
        },
        "outputId": "bb222f04-ff14-475b-b8ba-4bc1a7ac4294"
      },
      "source": [
        "from google.colab import drive\n",
        "drive.mount('/content/drive')"
      ],
      "execution_count": null,
      "outputs": [
        {
          "output_type": "stream",
          "text": [
            "Drive already mounted at /content/drive; to attempt to forcibly remount, call drive.mount(\"/content/drive\", force_remount=True).\n"
          ],
          "name": "stdout"
        }
      ]
    },
    {
      "cell_type": "code",
      "metadata": {
        "id": "fDX21YJbJy6N",
        "colab": {
          "base_uri": "https://localhost:8080/",
          "height": 34
        },
        "outputId": "a769b378-0dbd-4f1a-bd41-576bc744b4f2"
      },
      "source": [
        "root_path = \"/content/drive/My Drive/SENNA.txt\"\n",
        "embeddings_index={}\n",
        "f = open(root_path, encoding = \"utf-8\")\n",
        "for line in f:\n",
        "    values = line.split()\n",
        "    word = values[0]\n",
        "    coefs = np.asarray(values[1:], dtype='float32')\n",
        "    embeddings_index[word] = coefs\n",
        "f.close()\n",
        "\n",
        "print('Found %s word vectors.' % len(embeddings_index))"
      ],
      "execution_count": null,
      "outputs": [
        {
          "output_type": "stream",
          "text": [
            "Found 130000 word vectors.\n"
          ],
          "name": "stdout"
        }
      ]
    },
    {
      "cell_type": "code",
      "metadata": {
        "id": "-QCSd3QKJ-Cq"
      },
      "source": [
        "#create emedding matrix\n",
        "EMBEDDING=50\n",
        "word_index = token_word.word_index\n",
        "embedding_matrix = np.zeros((len(token_word.word_index) + 1, EMBEDDING))\n",
        "for word, i in word_index.items():\n",
        "    embedding_vector = embeddings_index.get(word)\n",
        "    if embedding_vector is not None:\n",
        "      # words not found in embedding index will be all-zeros.\n",
        "      embedding_matrix[i] = embedding_vector"
      ],
      "execution_count": null,
      "outputs": []
    },
    {
      "cell_type": "code",
      "metadata": {
        "id": "iBHwzSe4s8cj",
        "colab": {
          "base_uri": "https://localhost:8080/",
          "height": 34
        },
        "outputId": "a19fae71-06f1-43a9-ac37-91f961b76ec3"
      },
      "source": [
        "checks=[]\n",
        "words=[]\n",
        "for i in range(0,len(token_word.word_index)+1):\n",
        "  if embedding_matrix[i][0] == 0.0:\n",
        "    checks.append(1)\n",
        "    words.append(list(token_word.word_index.items())[i-1][0])\n",
        "  else:\n",
        "    continue\n",
        "\n",
        "print(\"Missing words from Embeddings: %d (%.2f%%)\" %(len(checks),(len(checks)/len(token_word.word_index)*100)))"
      ],
      "execution_count": null,
      "outputs": [
        {
          "output_type": "stream",
          "text": [
            "Missing words from Embeddings: 1553 (9.05%)\n"
          ],
          "name": "stdout"
        }
      ]
    },
    {
      "cell_type": "markdown",
      "metadata": {
        "id": "nLUxQqI8Md4N"
      },
      "source": [
        "## Create Model"
      ]
    },
    {
      "cell_type": "code",
      "metadata": {
        "id": "mJXcEXJYMg4_",
        "colab": {
          "base_uri": "https://localhost:8080/",
          "height": 1000
        },
        "outputId": "d0b6c99f-7646-4475-9083-6494cee45c18"
      },
      "source": [
        "%%time\n",
        "from keras import optimizers\n",
        "from keras.callbacks import EarlyStopping\n",
        "early_stopping = EarlyStopping(monitor='val_loss', patience=2)\n",
        "\n",
        "# Paramters\n",
        "EPOCHS=20\n",
        "BATCH_SIZE = 64\n",
        "LSTM_CELLS = 100\n",
        "DROPOUT = 0.25\n",
        "HIDDEN = 50\n",
        "CLIP = 2.0\n",
        "\n",
        "#optimizer\n",
        "OPT=optimizers.Adam(clipvalue=CLIP)\n",
        "\n",
        "#number of runs\n",
        "runs = 3\n",
        "results = []\n",
        "\n",
        "#Build Model\n",
        "def create_model():\n",
        "  input =  Input(shape=(MAX_LEN,))\n",
        "\n",
        "  model_2 = Embedding(len(token_word.word_index) + 1,output_dim=EMBEDDING,\n",
        "                    weights=[embedding_matrix],input_length=MAX_LEN,\n",
        "                    trainable=False,mask_zero=True)(input)\n",
        "\n",
        "  model_2 = Bidirectional(LSTM(units=LSTM_CELLS, return_sequences=True,\n",
        "                            recurrent_dropout=DROPOUT, dropout=DROPOUT))(model_2)\n",
        "\n",
        "  model_2 = TimeDistributed(Dense(HIDDEN, activation=\"relu\"))(model_2)\n",
        "  crf = CRF(N_tags+1)  # CRF layer\n",
        "  out = crf(model_2)  # output\n",
        "  model_2 = Model(input, out)\n",
        "  model_2.compile(optimizer=OPT, loss=crf_loss,metrics=[crf_viterbi_accuracy])\n",
        "  return model_2\n",
        "\n",
        "for i in range(1,runs+1):\n",
        "  print(\"Run:\",(i))\n",
        "  model = create_model()\n",
        "  history = model.fit(X_train, np.array(Y_train), batch_size=BATCH_SIZE, epochs=EPOCHS, validation_split=0.2, verbose=1,callbacks=[early_stopping])\n",
        "  \n",
        "  print(\"Predicting\")\n",
        "  pred = model.predict(X_test, verbose=1)\n",
        "\n",
        "  preds = np.argmax(pred, axis=-1)\n",
        "  y_tr_true = np.argmax(Y_test, -1)\n",
        "  # Convert the index to tag\n",
        "  pred_tag = [[token_tag.index_word[i] for i in row] for row in preds]\n",
        "  y_tr_true_tag = [[token_tag.index_word[i] for i in row] for row in y_tr_true]\n",
        "\n",
        "  #basic metrics\n",
        "  f1_score=flat_f1_score(y_pred=pred_tag, y_true=y_tr_true_tag,average='micro', labels=sub_label)\n",
        "  recall_score = flat_recall_score(y_pred=pred_tag, y_true=y_tr_true_tag,average='micro', labels=sub_label)\n",
        "  pre_score = flat_precision_score(y_pred=pred_tag, y_true=y_tr_true_tag,average='micro', labels=sub_label)\n",
        "\n",
        "  #create report\n",
        "  report = flat_classification_report(y_pred=pred_tag, y_true=y_tr_true_tag, labels=sub_label, output_dict=True)\n",
        "  df = pd.DataFrame(report).transpose()\n",
        "\n",
        "  #create confusion matrix\n",
        "  flat_preds = [item for sublist in pred_tag for item in sublist]\n",
        "  flat_true = [item for sublist in y_tr_true_tag for item in sublist]\n",
        "  sub_label.append(\"O\")\n",
        "  matrix=confusion_matrix(flat_preds,flat_true, labels=sub_label)\n",
        "  cm = pd.DataFrame(matrix, columns = sub_label, index=sub_label)\n",
        "  sub_label.remove(\"O\")\n",
        "\n",
        "\n",
        "\n",
        "  results.append({\"Precision\":pre_score,\n",
        "                  \"Recall\": recall_score,\n",
        "                  \"F1 Score\": f1_score,\n",
        "                  \"report\": df,\n",
        "                  \"matrix\": cm,\n",
        "                  \"Run\": i})"
      ],
      "execution_count": null,
      "outputs": [
        {
          "output_type": "stream",
          "text": [
            "Run: 1\n",
            "WARNING:tensorflow:From /usr/local/lib/python3.6/dist-packages/keras/backend/tensorflow_backend.py:517: The name tf.placeholder is deprecated. Please use tf.compat.v1.placeholder instead.\n",
            "\n",
            "WARNING:tensorflow:From /usr/local/lib/python3.6/dist-packages/keras/backend/tensorflow_backend.py:4138: The name tf.random_uniform is deprecated. Please use tf.random.uniform instead.\n",
            "\n",
            "WARNING:tensorflow:From /usr/local/lib/python3.6/dist-packages/keras/backend/tensorflow_backend.py:174: The name tf.get_default_session is deprecated. Please use tf.compat.v1.get_default_session instead.\n",
            "\n",
            "WARNING:tensorflow:From /usr/local/lib/python3.6/dist-packages/keras/backend/tensorflow_backend.py:190: The name tf.global_variables is deprecated. Please use tf.compat.v1.global_variables instead.\n",
            "\n",
            "WARNING:tensorflow:From /usr/local/lib/python3.6/dist-packages/keras/backend/tensorflow_backend.py:199: The name tf.is_variable_initialized is deprecated. Please use tf.compat.v1.is_variable_initialized instead.\n",
            "\n",
            "WARNING:tensorflow:From /usr/local/lib/python3.6/dist-packages/keras/backend/tensorflow_backend.py:206: The name tf.variables_initializer is deprecated. Please use tf.compat.v1.variables_initializer instead.\n",
            "\n",
            "WARNING:tensorflow:From /usr/local/lib/python3.6/dist-packages/keras/backend/tensorflow_backend.py:133: The name tf.placeholder_with_default is deprecated. Please use tf.compat.v1.placeholder_with_default instead.\n",
            "\n",
            "WARNING:tensorflow:From /usr/local/lib/python3.6/dist-packages/keras/backend/tensorflow_backend.py:3445: calling dropout (from tensorflow.python.ops.nn_ops) with keep_prob is deprecated and will be removed in a future version.\n",
            "Instructions for updating:\n",
            "Please use `rate` instead of `keep_prob`. Rate should be set to `rate = 1 - keep_prob`.\n",
            "WARNING:tensorflow:From /usr/local/lib/python3.6/dist-packages/keras/backend/tensorflow_backend.py:2974: where (from tensorflow.python.ops.array_ops) is deprecated and will be removed in a future version.\n",
            "Instructions for updating:\n",
            "Use tf.where in 2.0, which has the same broadcast rule as np.where\n",
            "WARNING:tensorflow:From /usr/local/lib/python3.6/dist-packages/keras/optimizers.py:790: The name tf.train.Optimizer is deprecated. Please use tf.compat.v1.train.Optimizer instead.\n",
            "\n",
            "WARNING:tensorflow:From /usr/local/lib/python3.6/dist-packages/keras/backend/tensorflow_backend.py:986: The name tf.assign_add is deprecated. Please use tf.compat.v1.assign_add instead.\n",
            "\n",
            "WARNING:tensorflow:From /usr/local/lib/python3.6/dist-packages/keras/backend/tensorflow_backend.py:973: The name tf.assign is deprecated. Please use tf.compat.v1.assign instead.\n",
            "\n",
            "Train on 11232 samples, validate on 2809 samples\n",
            "Epoch 1/20\n",
            "11232/11232 [==============================] - 180s 16ms/step - loss: 40.4006 - crf_viterbi_accuracy: 0.8817 - val_loss: 35.2603 - val_crf_viterbi_accuracy: 0.9383\n",
            "Epoch 2/20\n",
            "11232/11232 [==============================] - 180s 16ms/step - loss: 40.1227 - crf_viterbi_accuracy: 0.9436 - val_loss: 35.2170 - val_crf_viterbi_accuracy: 0.9472\n",
            "Epoch 3/20\n",
            "11232/11232 [==============================] - 180s 16ms/step - loss: 40.0866 - crf_viterbi_accuracy: 0.9513 - val_loss: 35.1974 - val_crf_viterbi_accuracy: 0.9508\n",
            "Epoch 4/20\n",
            "11232/11232 [==============================] - 180s 16ms/step - loss: 40.0653 - crf_viterbi_accuracy: 0.9573 - val_loss: 35.1838 - val_crf_viterbi_accuracy: 0.9553\n",
            "Epoch 5/20\n",
            "11232/11232 [==============================] - 178s 16ms/step - loss: 40.0500 - crf_viterbi_accuracy: 0.9612 - val_loss: 35.1762 - val_crf_viterbi_accuracy: 0.9580\n",
            "Epoch 6/20\n",
            "11232/11232 [==============================] - 181s 16ms/step - loss: 40.0384 - crf_viterbi_accuracy: 0.9645 - val_loss: 35.1673 - val_crf_viterbi_accuracy: 0.9614\n",
            "Epoch 7/20\n",
            "11232/11232 [==============================] - 182s 16ms/step - loss: 40.0306 - crf_viterbi_accuracy: 0.9663 - val_loss: 35.1615 - val_crf_viterbi_accuracy: 0.9615\n",
            "Epoch 8/20\n",
            "11232/11232 [==============================] - 181s 16ms/step - loss: 40.0229 - crf_viterbi_accuracy: 0.9691 - val_loss: 35.1571 - val_crf_viterbi_accuracy: 0.9639\n",
            "Epoch 9/20\n",
            "11232/11232 [==============================] - 182s 16ms/step - loss: 40.0169 - crf_viterbi_accuracy: 0.9708 - val_loss: 35.1567 - val_crf_viterbi_accuracy: 0.9631\n",
            "Epoch 10/20\n",
            "11232/11232 [==============================] - 182s 16ms/step - loss: 40.0117 - crf_viterbi_accuracy: 0.9721 - val_loss: 35.1532 - val_crf_viterbi_accuracy: 0.9638\n",
            "Epoch 11/20\n",
            "11232/11232 [==============================] - 182s 16ms/step - loss: 40.0077 - crf_viterbi_accuracy: 0.9739 - val_loss: 35.1488 - val_crf_viterbi_accuracy: 0.9660\n",
            "Epoch 12/20\n",
            "11232/11232 [==============================] - 182s 16ms/step - loss: 40.0046 - crf_viterbi_accuracy: 0.9744 - val_loss: 35.1501 - val_crf_viterbi_accuracy: 0.9659\n",
            "Epoch 13/20\n",
            "11232/11232 [==============================] - 182s 16ms/step - loss: 40.0017 - crf_viterbi_accuracy: 0.9750 - val_loss: 35.1488 - val_crf_viterbi_accuracy: 0.9667\n",
            "Predicting\n",
            "3453/3453 [==============================] - 38s 11ms/step\n"
          ],
          "name": "stdout"
        },
        {
          "output_type": "stream",
          "text": [
            "/usr/local/lib/python3.6/dist-packages/sklearn/metrics/_classification.py:1272: UndefinedMetricWarning: Precision and F-score are ill-defined and being set to 0.0 in labels with no predicted samples. Use `zero_division` parameter to control this behavior.\n",
            "  _warn_prf(average, modifier, msg_start, len(result))\n"
          ],
          "name": "stderr"
        },
        {
          "output_type": "stream",
          "text": [
            "Run: 2\n",
            "Train on 11232 samples, validate on 2809 samples\n",
            "Epoch 1/20\n",
            "11232/11232 [==============================] - 186s 17ms/step - loss: 40.2010 - crf_viterbi_accuracy: 0.9220 - val_loss: 35.2094 - val_crf_viterbi_accuracy: 0.9469\n",
            "Epoch 2/20\n",
            "11232/11232 [==============================] - 183s 16ms/step - loss: 40.0665 - crf_viterbi_accuracy: 0.9566 - val_loss: 35.1813 - val_crf_viterbi_accuracy: 0.9551\n",
            "Epoch 3/20\n",
            "11232/11232 [==============================] - 183s 16ms/step - loss: 40.0418 - crf_viterbi_accuracy: 0.9632 - val_loss: 35.1679 - val_crf_viterbi_accuracy: 0.9601\n",
            "Epoch 4/20\n",
            "11232/11232 [==============================] - 182s 16ms/step - loss: 40.0281 - crf_viterbi_accuracy: 0.9674 - val_loss: 35.1621 - val_crf_viterbi_accuracy: 0.9618\n",
            "Epoch 5/20\n",
            "11232/11232 [==============================] - 182s 16ms/step - loss: 40.0208 - crf_viterbi_accuracy: 0.9695 - val_loss: 35.1543 - val_crf_viterbi_accuracy: 0.9639\n",
            "Epoch 6/20\n",
            "11232/11232 [==============================] - 181s 16ms/step - loss: 40.0127 - crf_viterbi_accuracy: 0.9717 - val_loss: 35.1552 - val_crf_viterbi_accuracy: 0.9635\n",
            "Epoch 7/20\n",
            "11232/11232 [==============================] - 181s 16ms/step - loss: 40.0076 - crf_viterbi_accuracy: 0.9732 - val_loss: 35.1511 - val_crf_viterbi_accuracy: 0.9655\n",
            "Epoch 8/20\n",
            "11232/11232 [==============================] - 183s 16ms/step - loss: 40.0025 - crf_viterbi_accuracy: 0.9751 - val_loss: 35.1527 - val_crf_viterbi_accuracy: 0.9664\n",
            "Epoch 9/20\n",
            "11232/11232 [==============================] - 182s 16ms/step - loss: 39.9987 - crf_viterbi_accuracy: 0.9760 - val_loss: 35.1474 - val_crf_viterbi_accuracy: 0.9677\n",
            "Epoch 10/20\n",
            "11232/11232 [==============================] - 183s 16ms/step - loss: 39.9955 - crf_viterbi_accuracy: 0.9775 - val_loss: 35.1463 - val_crf_viterbi_accuracy: 0.9683\n",
            "Epoch 11/20\n",
            "11232/11232 [==============================] - 183s 16ms/step - loss: 39.9927 - crf_viterbi_accuracy: 0.9779 - val_loss: 35.1457 - val_crf_viterbi_accuracy: 0.9683\n",
            "Epoch 12/20\n",
            "11232/11232 [==============================] - 184s 16ms/step - loss: 39.9901 - crf_viterbi_accuracy: 0.9792 - val_loss: 35.1454 - val_crf_viterbi_accuracy: 0.9694\n",
            "Epoch 13/20\n",
            "11232/11232 [==============================] - 183s 16ms/step - loss: 39.9874 - crf_viterbi_accuracy: 0.9803 - val_loss: 35.1477 - val_crf_viterbi_accuracy: 0.9698\n",
            "Epoch 14/20\n",
            "11232/11232 [==============================] - 181s 16ms/step - loss: 39.9856 - crf_viterbi_accuracy: 0.9809 - val_loss: 35.1476 - val_crf_viterbi_accuracy: 0.9700\n",
            "Predicting\n",
            "3453/3453 [==============================] - 38s 11ms/step\n"
          ],
          "name": "stdout"
        },
        {
          "output_type": "stream",
          "text": [
            "/usr/local/lib/python3.6/dist-packages/sklearn/metrics/_classification.py:1272: UndefinedMetricWarning: Precision and F-score are ill-defined and being set to 0.0 in labels with no predicted samples. Use `zero_division` parameter to control this behavior.\n",
            "  _warn_prf(average, modifier, msg_start, len(result))\n"
          ],
          "name": "stderr"
        },
        {
          "output_type": "stream",
          "text": [
            "Run: 3\n",
            "Train on 11232 samples, validate on 2809 samples\n",
            "Epoch 1/20\n",
            "11232/11232 [==============================] - 185s 16ms/step - loss: 40.2032 - crf_viterbi_accuracy: 0.9226 - val_loss: 35.2016 - val_crf_viterbi_accuracy: 0.9514\n",
            "Epoch 2/20\n",
            "11232/11232 [==============================] - 183s 16ms/step - loss: 40.0627 - crf_viterbi_accuracy: 0.9577 - val_loss: 35.1782 - val_crf_viterbi_accuracy: 0.9569\n",
            "Epoch 3/20\n",
            "11232/11232 [==============================] - 184s 16ms/step - loss: 40.0378 - crf_viterbi_accuracy: 0.9644 - val_loss: 35.1650 - val_crf_viterbi_accuracy: 0.9613\n",
            "Epoch 4/20\n",
            "11232/11232 [==============================] - 183s 16ms/step - loss: 40.0261 - crf_viterbi_accuracy: 0.9671 - val_loss: 35.1598 - val_crf_viterbi_accuracy: 0.9634\n",
            "Epoch 5/20\n",
            "11232/11232 [==============================] - 185s 16ms/step - loss: 40.0171 - crf_viterbi_accuracy: 0.9704 - val_loss: 35.1543 - val_crf_viterbi_accuracy: 0.9648\n",
            "Epoch 6/20\n",
            "11232/11232 [==============================] - 184s 16ms/step - loss: 40.0102 - crf_viterbi_accuracy: 0.9724 - val_loss: 35.1543 - val_crf_viterbi_accuracy: 0.9655\n",
            "Epoch 7/20\n",
            "11232/11232 [==============================] - 184s 16ms/step - loss: 40.0043 - crf_viterbi_accuracy: 0.9740 - val_loss: 35.1513 - val_crf_viterbi_accuracy: 0.9673\n",
            "Epoch 8/20\n",
            "11232/11232 [==============================] - 184s 16ms/step - loss: 40.0015 - crf_viterbi_accuracy: 0.9752 - val_loss: 35.1507 - val_crf_viterbi_accuracy: 0.9679\n",
            "Epoch 9/20\n",
            "11232/11232 [==============================] - 184s 16ms/step - loss: 39.9977 - crf_viterbi_accuracy: 0.9767 - val_loss: 35.1481 - val_crf_viterbi_accuracy: 0.9691\n",
            "Epoch 10/20\n",
            "11232/11232 [==============================] - 185s 16ms/step - loss: 39.9943 - crf_viterbi_accuracy: 0.9778 - val_loss: 35.1474 - val_crf_viterbi_accuracy: 0.9681\n",
            "Epoch 11/20\n",
            "11232/11232 [==============================] - 185s 16ms/step - loss: 39.9914 - crf_viterbi_accuracy: 0.9783 - val_loss: 35.1457 - val_crf_viterbi_accuracy: 0.9681\n",
            "Epoch 12/20\n",
            "11232/11232 [==============================] - 185s 16ms/step - loss: 39.9889 - crf_viterbi_accuracy: 0.9793 - val_loss: 35.1471 - val_crf_viterbi_accuracy: 0.9693\n",
            "Epoch 13/20\n",
            "11232/11232 [==============================] - 183s 16ms/step - loss: 39.9885 - crf_viterbi_accuracy: 0.9798 - val_loss: 35.1451 - val_crf_viterbi_accuracy: 0.9687\n",
            "Epoch 14/20\n",
            "11232/11232 [==============================] - 184s 16ms/step - loss: 39.9859 - crf_viterbi_accuracy: 0.9807 - val_loss: 35.1462 - val_crf_viterbi_accuracy: 0.9699\n",
            "Epoch 15/20\n",
            "11232/11232 [==============================] - 183s 16ms/step - loss: 39.9836 - crf_viterbi_accuracy: 0.9816 - val_loss: 35.1479 - val_crf_viterbi_accuracy: 0.9689\n",
            "Predicting\n",
            "3453/3453 [==============================] - 39s 11ms/step\n"
          ],
          "name": "stdout"
        },
        {
          "output_type": "stream",
          "text": [
            "/usr/local/lib/python3.6/dist-packages/sklearn/metrics/_classification.py:1272: UndefinedMetricWarning: Precision and F-score are ill-defined and being set to 0.0 in labels with no predicted samples. Use `zero_division` parameter to control this behavior.\n",
            "  _warn_prf(average, modifier, msg_start, len(result))\n"
          ],
          "name": "stderr"
        },
        {
          "output_type": "stream",
          "text": [
            "CPU times: user 2h 52min 13s, sys: 13min 51s, total: 3h 6min 5s\n",
            "Wall time: 2h 10min 29s\n"
          ],
          "name": "stdout"
        }
      ]
    },
    {
      "cell_type": "code",
      "metadata": {
        "id": "dsStO2u9eoPO",
        "colab": {
          "base_uri": "https://localhost:8080/",
          "height": 17
        },
        "outputId": "48d17156-91fd-4e25-891f-754c38ded460"
      },
      "source": [
        "from google.colab import files\n",
        "#df_results = pd.DataFrame(results)\n",
        "\n",
        "count = 1\n",
        "for i in results:\n",
        "  report = i[\"report\"]\n",
        "  matrix = i[\"matrix\"]\n",
        "\n",
        "  report.to_csv('Senna_report_'+str(count)+'.csv')\n",
        "  files.download('Senna_report_'+str(count)+'.csv')\n",
        "\n",
        "  matrix.to_csv('Senna_matrix_'+str(count)+'.csv')\n",
        "  files.download('Senna_matrix_'+str(count)+'.csv')\n",
        "  count +=1"
      ],
      "execution_count": null,
      "outputs": [
        {
          "output_type": "display_data",
          "data": {
            "application/javascript": [
              "\n",
              "    async function download(id, filename, size) {\n",
              "      if (!google.colab.kernel.accessAllowed) {\n",
              "        return;\n",
              "      }\n",
              "      const div = document.createElement('div');\n",
              "      const label = document.createElement('label');\n",
              "      label.textContent = `Downloading \"${filename}\": `;\n",
              "      div.appendChild(label);\n",
              "      const progress = document.createElement('progress');\n",
              "      progress.max = size;\n",
              "      div.appendChild(progress);\n",
              "      document.body.appendChild(div);\n",
              "\n",
              "      const buffers = [];\n",
              "      let downloaded = 0;\n",
              "\n",
              "      const channel = await google.colab.kernel.comms.open(id);\n",
              "      // Send a message to notify the kernel that we're ready.\n",
              "      channel.send({})\n",
              "\n",
              "      for await (const message of channel.messages) {\n",
              "        // Send a message to notify the kernel that we're ready.\n",
              "        channel.send({})\n",
              "        if (message.buffers) {\n",
              "          for (const buffer of message.buffers) {\n",
              "            buffers.push(buffer);\n",
              "            downloaded += buffer.byteLength;\n",
              "            progress.value = downloaded;\n",
              "          }\n",
              "        }\n",
              "      }\n",
              "      const blob = new Blob(buffers, {type: 'application/binary'});\n",
              "      const a = document.createElement('a');\n",
              "      a.href = window.URL.createObjectURL(blob);\n",
              "      a.download = filename;\n",
              "      div.appendChild(a);\n",
              "      a.click();\n",
              "      div.remove();\n",
              "    }\n",
              "  "
            ],
            "text/plain": [
              "<IPython.core.display.Javascript object>"
            ]
          },
          "metadata": {
            "tags": []
          }
        },
        {
          "output_type": "display_data",
          "data": {
            "application/javascript": [
              "download(\"download_914b0723-4c28-42e1-b7f4-293626e3d6ac\", \"Senna_report_1.csv\", 608)"
            ],
            "text/plain": [
              "<IPython.core.display.Javascript object>"
            ]
          },
          "metadata": {
            "tags": []
          }
        },
        {
          "output_type": "display_data",
          "data": {
            "application/javascript": [
              "\n",
              "    async function download(id, filename, size) {\n",
              "      if (!google.colab.kernel.accessAllowed) {\n",
              "        return;\n",
              "      }\n",
              "      const div = document.createElement('div');\n",
              "      const label = document.createElement('label');\n",
              "      label.textContent = `Downloading \"${filename}\": `;\n",
              "      div.appendChild(label);\n",
              "      const progress = document.createElement('progress');\n",
              "      progress.max = size;\n",
              "      div.appendChild(progress);\n",
              "      document.body.appendChild(div);\n",
              "\n",
              "      const buffers = [];\n",
              "      let downloaded = 0;\n",
              "\n",
              "      const channel = await google.colab.kernel.comms.open(id);\n",
              "      // Send a message to notify the kernel that we're ready.\n",
              "      channel.send({})\n",
              "\n",
              "      for await (const message of channel.messages) {\n",
              "        // Send a message to notify the kernel that we're ready.\n",
              "        channel.send({})\n",
              "        if (message.buffers) {\n",
              "          for (const buffer of message.buffers) {\n",
              "            buffers.push(buffer);\n",
              "            downloaded += buffer.byteLength;\n",
              "            progress.value = downloaded;\n",
              "          }\n",
              "        }\n",
              "      }\n",
              "      const blob = new Blob(buffers, {type: 'application/binary'});\n",
              "      const a = document.createElement('a');\n",
              "      a.href = window.URL.createObjectURL(blob);\n",
              "      a.download = filename;\n",
              "      div.appendChild(a);\n",
              "      a.click();\n",
              "      div.remove();\n",
              "    }\n",
              "  "
            ],
            "text/plain": [
              "<IPython.core.display.Javascript object>"
            ]
          },
          "metadata": {
            "tags": []
          }
        },
        {
          "output_type": "display_data",
          "data": {
            "application/javascript": [
              "download(\"download_e0502736-b8de-4ed8-b5dd-613812fb88b6\", \"Senna_matrix_1.csv\", 264)"
            ],
            "text/plain": [
              "<IPython.core.display.Javascript object>"
            ]
          },
          "metadata": {
            "tags": []
          }
        },
        {
          "output_type": "display_data",
          "data": {
            "application/javascript": [
              "\n",
              "    async function download(id, filename, size) {\n",
              "      if (!google.colab.kernel.accessAllowed) {\n",
              "        return;\n",
              "      }\n",
              "      const div = document.createElement('div');\n",
              "      const label = document.createElement('label');\n",
              "      label.textContent = `Downloading \"${filename}\": `;\n",
              "      div.appendChild(label);\n",
              "      const progress = document.createElement('progress');\n",
              "      progress.max = size;\n",
              "      div.appendChild(progress);\n",
              "      document.body.appendChild(div);\n",
              "\n",
              "      const buffers = [];\n",
              "      let downloaded = 0;\n",
              "\n",
              "      const channel = await google.colab.kernel.comms.open(id);\n",
              "      // Send a message to notify the kernel that we're ready.\n",
              "      channel.send({})\n",
              "\n",
              "      for await (const message of channel.messages) {\n",
              "        // Send a message to notify the kernel that we're ready.\n",
              "        channel.send({})\n",
              "        if (message.buffers) {\n",
              "          for (const buffer of message.buffers) {\n",
              "            buffers.push(buffer);\n",
              "            downloaded += buffer.byteLength;\n",
              "            progress.value = downloaded;\n",
              "          }\n",
              "        }\n",
              "      }\n",
              "      const blob = new Blob(buffers, {type: 'application/binary'});\n",
              "      const a = document.createElement('a');\n",
              "      a.href = window.URL.createObjectURL(blob);\n",
              "      a.download = filename;\n",
              "      div.appendChild(a);\n",
              "      a.click();\n",
              "      div.remove();\n",
              "    }\n",
              "  "
            ],
            "text/plain": [
              "<IPython.core.display.Javascript object>"
            ]
          },
          "metadata": {
            "tags": []
          }
        },
        {
          "output_type": "display_data",
          "data": {
            "application/javascript": [
              "download(\"download_cc72619e-94a1-48ec-b3c8-dcf7d12d2d5d\", \"Senna_report_2.csv\", 608)"
            ],
            "text/plain": [
              "<IPython.core.display.Javascript object>"
            ]
          },
          "metadata": {
            "tags": []
          }
        },
        {
          "output_type": "display_data",
          "data": {
            "application/javascript": [
              "\n",
              "    async function download(id, filename, size) {\n",
              "      if (!google.colab.kernel.accessAllowed) {\n",
              "        return;\n",
              "      }\n",
              "      const div = document.createElement('div');\n",
              "      const label = document.createElement('label');\n",
              "      label.textContent = `Downloading \"${filename}\": `;\n",
              "      div.appendChild(label);\n",
              "      const progress = document.createElement('progress');\n",
              "      progress.max = size;\n",
              "      div.appendChild(progress);\n",
              "      document.body.appendChild(div);\n",
              "\n",
              "      const buffers = [];\n",
              "      let downloaded = 0;\n",
              "\n",
              "      const channel = await google.colab.kernel.comms.open(id);\n",
              "      // Send a message to notify the kernel that we're ready.\n",
              "      channel.send({})\n",
              "\n",
              "      for await (const message of channel.messages) {\n",
              "        // Send a message to notify the kernel that we're ready.\n",
              "        channel.send({})\n",
              "        if (message.buffers) {\n",
              "          for (const buffer of message.buffers) {\n",
              "            buffers.push(buffer);\n",
              "            downloaded += buffer.byteLength;\n",
              "            progress.value = downloaded;\n",
              "          }\n",
              "        }\n",
              "      }\n",
              "      const blob = new Blob(buffers, {type: 'application/binary'});\n",
              "      const a = document.createElement('a');\n",
              "      a.href = window.URL.createObjectURL(blob);\n",
              "      a.download = filename;\n",
              "      div.appendChild(a);\n",
              "      a.click();\n",
              "      div.remove();\n",
              "    }\n",
              "  "
            ],
            "text/plain": [
              "<IPython.core.display.Javascript object>"
            ]
          },
          "metadata": {
            "tags": []
          }
        },
        {
          "output_type": "display_data",
          "data": {
            "application/javascript": [
              "download(\"download_4177f4c4-a35f-4d36-bd4e-4c1b6bbb3554\", \"Senna_matrix_2.csv\", 265)"
            ],
            "text/plain": [
              "<IPython.core.display.Javascript object>"
            ]
          },
          "metadata": {
            "tags": []
          }
        },
        {
          "output_type": "display_data",
          "data": {
            "application/javascript": [
              "\n",
              "    async function download(id, filename, size) {\n",
              "      if (!google.colab.kernel.accessAllowed) {\n",
              "        return;\n",
              "      }\n",
              "      const div = document.createElement('div');\n",
              "      const label = document.createElement('label');\n",
              "      label.textContent = `Downloading \"${filename}\": `;\n",
              "      div.appendChild(label);\n",
              "      const progress = document.createElement('progress');\n",
              "      progress.max = size;\n",
              "      div.appendChild(progress);\n",
              "      document.body.appendChild(div);\n",
              "\n",
              "      const buffers = [];\n",
              "      let downloaded = 0;\n",
              "\n",
              "      const channel = await google.colab.kernel.comms.open(id);\n",
              "      // Send a message to notify the kernel that we're ready.\n",
              "      channel.send({})\n",
              "\n",
              "      for await (const message of channel.messages) {\n",
              "        // Send a message to notify the kernel that we're ready.\n",
              "        channel.send({})\n",
              "        if (message.buffers) {\n",
              "          for (const buffer of message.buffers) {\n",
              "            buffers.push(buffer);\n",
              "            downloaded += buffer.byteLength;\n",
              "            progress.value = downloaded;\n",
              "          }\n",
              "        }\n",
              "      }\n",
              "      const blob = new Blob(buffers, {type: 'application/binary'});\n",
              "      const a = document.createElement('a');\n",
              "      a.href = window.URL.createObjectURL(blob);\n",
              "      a.download = filename;\n",
              "      div.appendChild(a);\n",
              "      a.click();\n",
              "      div.remove();\n",
              "    }\n",
              "  "
            ],
            "text/plain": [
              "<IPython.core.display.Javascript object>"
            ]
          },
          "metadata": {
            "tags": []
          }
        },
        {
          "output_type": "display_data",
          "data": {
            "application/javascript": [
              "download(\"download_f2a6d32c-9787-435b-8b5e-2fd423b9a365\", \"Senna_report_3.csv\", 606)"
            ],
            "text/plain": [
              "<IPython.core.display.Javascript object>"
            ]
          },
          "metadata": {
            "tags": []
          }
        },
        {
          "output_type": "display_data",
          "data": {
            "application/javascript": [
              "\n",
              "    async function download(id, filename, size) {\n",
              "      if (!google.colab.kernel.accessAllowed) {\n",
              "        return;\n",
              "      }\n",
              "      const div = document.createElement('div');\n",
              "      const label = document.createElement('label');\n",
              "      label.textContent = `Downloading \"${filename}\": `;\n",
              "      div.appendChild(label);\n",
              "      const progress = document.createElement('progress');\n",
              "      progress.max = size;\n",
              "      div.appendChild(progress);\n",
              "      document.body.appendChild(div);\n",
              "\n",
              "      const buffers = [];\n",
              "      let downloaded = 0;\n",
              "\n",
              "      const channel = await google.colab.kernel.comms.open(id);\n",
              "      // Send a message to notify the kernel that we're ready.\n",
              "      channel.send({})\n",
              "\n",
              "      for await (const message of channel.messages) {\n",
              "        // Send a message to notify the kernel that we're ready.\n",
              "        channel.send({})\n",
              "        if (message.buffers) {\n",
              "          for (const buffer of message.buffers) {\n",
              "            buffers.push(buffer);\n",
              "            downloaded += buffer.byteLength;\n",
              "            progress.value = downloaded;\n",
              "          }\n",
              "        }\n",
              "      }\n",
              "      const blob = new Blob(buffers, {type: 'application/binary'});\n",
              "      const a = document.createElement('a');\n",
              "      a.href = window.URL.createObjectURL(blob);\n",
              "      a.download = filename;\n",
              "      div.appendChild(a);\n",
              "      a.click();\n",
              "      div.remove();\n",
              "    }\n",
              "  "
            ],
            "text/plain": [
              "<IPython.core.display.Javascript object>"
            ]
          },
          "metadata": {
            "tags": []
          }
        },
        {
          "output_type": "display_data",
          "data": {
            "application/javascript": [
              "download(\"download_ebdb1ca6-56fb-4ac0-bc95-e6505ffe6921\", \"Senna_matrix_3.csv\", 263)"
            ],
            "text/plain": [
              "<IPython.core.display.Javascript object>"
            ]
          },
          "metadata": {
            "tags": []
          }
        }
      ]
    },
    {
      "cell_type": "code",
      "metadata": {
        "id": "PWkP_xRkGZh4",
        "colab": {
          "base_uri": "https://localhost:8080/",
          "height": 17
        },
        "outputId": "120f5c47-61b7-4f4c-f15e-468a2e261559"
      },
      "source": [
        "df_results = pd.DataFrame(results)\n",
        "df_results.drop(['report',\"matrix\"], axis=1, inplace=True)\n",
        "\n",
        "df_results.to_csv('Average_BiLSTM_Senna.csv')\n",
        "files.download('Average_BiLSTM_Senna.csv')"
      ],
      "execution_count": null,
      "outputs": [
        {
          "output_type": "display_data",
          "data": {
            "application/javascript": [
              "\n",
              "    async function download(id, filename, size) {\n",
              "      if (!google.colab.kernel.accessAllowed) {\n",
              "        return;\n",
              "      }\n",
              "      const div = document.createElement('div');\n",
              "      const label = document.createElement('label');\n",
              "      label.textContent = `Downloading \"${filename}\": `;\n",
              "      div.appendChild(label);\n",
              "      const progress = document.createElement('progress');\n",
              "      progress.max = size;\n",
              "      div.appendChild(progress);\n",
              "      document.body.appendChild(div);\n",
              "\n",
              "      const buffers = [];\n",
              "      let downloaded = 0;\n",
              "\n",
              "      const channel = await google.colab.kernel.comms.open(id);\n",
              "      // Send a message to notify the kernel that we're ready.\n",
              "      channel.send({})\n",
              "\n",
              "      for await (const message of channel.messages) {\n",
              "        // Send a message to notify the kernel that we're ready.\n",
              "        channel.send({})\n",
              "        if (message.buffers) {\n",
              "          for (const buffer of message.buffers) {\n",
              "            buffers.push(buffer);\n",
              "            downloaded += buffer.byteLength;\n",
              "            progress.value = downloaded;\n",
              "          }\n",
              "        }\n",
              "      }\n",
              "      const blob = new Blob(buffers, {type: 'application/binary'});\n",
              "      const a = document.createElement('a');\n",
              "      a.href = window.URL.createObjectURL(blob);\n",
              "      a.download = filename;\n",
              "      div.appendChild(a);\n",
              "      a.click();\n",
              "      div.remove();\n",
              "    }\n",
              "  "
            ],
            "text/plain": [
              "<IPython.core.display.Javascript object>"
            ]
          },
          "metadata": {
            "tags": []
          }
        },
        {
          "output_type": "display_data",
          "data": {
            "application/javascript": [
              "download(\"download_1317be37-f52f-4bc3-adfc-bd21d0847df8\", \"Average_BiLSTM_Senna.csv\", 211)"
            ],
            "text/plain": [
              "<IPython.core.display.Javascript object>"
            ]
          },
          "metadata": {
            "tags": []
          }
        }
      ]
    },
    {
      "cell_type": "code",
      "metadata": {
        "id": "jQaKn5Gv-h-S",
        "colab": {
          "base_uri": "https://localhost:8080/",
          "height": 102
        },
        "outputId": "28dabe27-cdc2-42d8-acba-5ad573edd3a8"
      },
      "source": [
        "#mean Results\n",
        "df_results.mean()"
      ],
      "execution_count": null,
      "outputs": [
        {
          "output_type": "execute_result",
          "data": {
            "text/plain": [
              "Precision    0.836140\n",
              "Recall       0.820348\n",
              "F1 Score     0.828124\n",
              "Run          2.000000\n",
              "dtype: float64"
            ]
          },
          "metadata": {
            "tags": []
          },
          "execution_count": 15
        }
      ]
    },
    {
      "cell_type": "code",
      "metadata": {
        "id": "Vt36Q4onOsFD"
      },
      "source": [
        "df1 = results[0][\"report\"]\n",
        "for i in range(1,3):\n",
        "  df1 = df1 + results[i][\"report\"]\n",
        "\n",
        "avg_report = df1/3"
      ],
      "execution_count": null,
      "outputs": []
    },
    {
      "cell_type": "code",
      "metadata": {
        "id": "c2JRqua9ZHcw",
        "colab": {
          "base_uri": "https://localhost:8080/",
          "height": 359
        },
        "outputId": "c87c794b-ead9-41fa-93f0-14c5373ba317"
      },
      "source": [
        "avg_report.sort_values(by=['support'], ascending=False)"
      ],
      "execution_count": null,
      "outputs": [
        {
          "output_type": "execute_result",
          "data": {
            "text/html": [
              "<div>\n",
              "<style scoped>\n",
              "    .dataframe tbody tr th:only-of-type {\n",
              "        vertical-align: middle;\n",
              "    }\n",
              "\n",
              "    .dataframe tbody tr th {\n",
              "        vertical-align: top;\n",
              "    }\n",
              "\n",
              "    .dataframe thead th {\n",
              "        text-align: right;\n",
              "    }\n",
              "</style>\n",
              "<table border=\"1\" class=\"dataframe\">\n",
              "  <thead>\n",
              "    <tr style=\"text-align: right;\">\n",
              "      <th></th>\n",
              "      <th>precision</th>\n",
              "      <th>recall</th>\n",
              "      <th>f1-score</th>\n",
              "      <th>support</th>\n",
              "    </tr>\n",
              "  </thead>\n",
              "  <tbody>\n",
              "    <tr>\n",
              "      <th>micro avg</th>\n",
              "      <td>0.836140</td>\n",
              "      <td>0.820348</td>\n",
              "      <td>0.828124</td>\n",
              "      <td>8112.0</td>\n",
              "    </tr>\n",
              "    <tr>\n",
              "      <th>macro avg</th>\n",
              "      <td>0.464590</td>\n",
              "      <td>0.456540</td>\n",
              "      <td>0.459963</td>\n",
              "      <td>8112.0</td>\n",
              "    </tr>\n",
              "    <tr>\n",
              "      <th>weighted avg</th>\n",
              "      <td>0.832936</td>\n",
              "      <td>0.820348</td>\n",
              "      <td>0.825358</td>\n",
              "      <td>8112.0</td>\n",
              "    </tr>\n",
              "    <tr>\n",
              "      <th>I-PER</th>\n",
              "      <td>0.877462</td>\n",
              "      <td>0.941099</td>\n",
              "      <td>0.908016</td>\n",
              "      <td>2773.0</td>\n",
              "    </tr>\n",
              "    <tr>\n",
              "      <th>I-ORG</th>\n",
              "      <td>0.806118</td>\n",
              "      <td>0.725411</td>\n",
              "      <td>0.763526</td>\n",
              "      <td>2491.0</td>\n",
              "    </tr>\n",
              "    <tr>\n",
              "      <th>I-LOC</th>\n",
              "      <td>0.880907</td>\n",
              "      <td>0.839500</td>\n",
              "      <td>0.859525</td>\n",
              "      <td>1919.0</td>\n",
              "    </tr>\n",
              "    <tr>\n",
              "      <th>I-MISC</th>\n",
              "      <td>0.687645</td>\n",
              "      <td>0.689769</td>\n",
              "      <td>0.688676</td>\n",
              "      <td>909.0</td>\n",
              "    </tr>\n",
              "    <tr>\n",
              "      <th>B-MISC</th>\n",
              "      <td>0.000000</td>\n",
              "      <td>0.000000</td>\n",
              "      <td>0.000000</td>\n",
              "      <td>9.0</td>\n",
              "    </tr>\n",
              "    <tr>\n",
              "      <th>B-LOC</th>\n",
              "      <td>0.000000</td>\n",
              "      <td>0.000000</td>\n",
              "      <td>0.000000</td>\n",
              "      <td>6.0</td>\n",
              "    </tr>\n",
              "    <tr>\n",
              "      <th>B-ORG</th>\n",
              "      <td>0.000000</td>\n",
              "      <td>0.000000</td>\n",
              "      <td>0.000000</td>\n",
              "      <td>5.0</td>\n",
              "    </tr>\n",
              "  </tbody>\n",
              "</table>\n",
              "</div>"
            ],
            "text/plain": [
              "              precision    recall  f1-score  support\n",
              "micro avg      0.836140  0.820348  0.828124   8112.0\n",
              "macro avg      0.464590  0.456540  0.459963   8112.0\n",
              "weighted avg   0.832936  0.820348  0.825358   8112.0\n",
              "I-PER          0.877462  0.941099  0.908016   2773.0\n",
              "I-ORG          0.806118  0.725411  0.763526   2491.0\n",
              "I-LOC          0.880907  0.839500  0.859525   1919.0\n",
              "I-MISC         0.687645  0.689769  0.688676    909.0\n",
              "B-MISC         0.000000  0.000000  0.000000      9.0\n",
              "B-LOC          0.000000  0.000000  0.000000      6.0\n",
              "B-ORG          0.000000  0.000000  0.000000      5.0"
            ]
          },
          "metadata": {
            "tags": []
          },
          "execution_count": 17
        }
      ]
    }
  ]
}