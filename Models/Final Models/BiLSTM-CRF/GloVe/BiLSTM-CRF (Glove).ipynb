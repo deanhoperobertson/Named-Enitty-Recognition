{
  "nbformat": 4,
  "nbformat_minor": 0,
  "metadata": {
    "colab": {
      "name": "Bi-LSTM-CRF (6B Glove 50D)",
      "provenance": [],
      "collapsed_sections": [],
      "machine_shape": "hm",
      "include_colab_link": true
    },
    "kernelspec": {
      "name": "python3",
      "display_name": "Python 3"
    },
    "accelerator": "GPU"
  },
  "cells": [
    {
      "cell_type": "markdown",
      "metadata": {
        "id": "view-in-github",
        "colab_type": "text"
      },
      "source": [
        "<a href=\"https://colab.research.google.com/github/deanhoperobertson/Named-Enitty-Recognition/blob/master/Models/Final%20Models/BiLSTM-CRF/GloVe/BiLSTM-CRF%20(Glove).ipynb\" target=\"_parent\"><img src=\"https://colab.research.google.com/assets/colab-badge.svg\" alt=\"Open In Colab\"/></a>"
      ]
    },
    {
      "cell_type": "code",
      "metadata": {
        "id": "dEI15-hK3sQ2",
        "colab": {
          "base_uri": "https://localhost:8080/",
          "height": 544
        },
        "outputId": "6a48d4f2-82e8-4f20-fbae-088d9dcfa42a"
      },
      "source": [
        "!sudo pip install git+https://www.github.com/keras-team/keras-contrib.git\n",
        "!pip install sklearn_crfsuite\n",
        "!pip install keras==2.2.4\n",
        "%tensorflow_version 1.x\n",
        "#!pip install tensorflow-gpu==1.15.0"
      ],
      "execution_count": null,
      "outputs": [
        {
          "output_type": "stream",
          "text": [
            "Collecting git+https://www.github.com/keras-team/keras-contrib.git\n",
            "  Cloning https://www.github.com/keras-team/keras-contrib.git to /tmp/pip-req-build-4oxyemca\n",
            "  Running command git clone -q https://www.github.com/keras-team/keras-contrib.git /tmp/pip-req-build-4oxyemca\n",
            "Requirement already satisfied (use --upgrade to upgrade): keras-contrib==2.0.8 from git+https://www.github.com/keras-team/keras-contrib.git in /usr/local/lib/python3.6/dist-packages\n",
            "Requirement already satisfied: keras in /usr/local/lib/python3.6/dist-packages (from keras-contrib==2.0.8) (2.2.4)\n",
            "Requirement already satisfied: pyyaml in /usr/local/lib/python3.6/dist-packages (from keras->keras-contrib==2.0.8) (3.13)\n",
            "Requirement already satisfied: keras-applications>=1.0.6 in /usr/local/lib/python3.6/dist-packages (from keras->keras-contrib==2.0.8) (1.0.8)\n",
            "Requirement already satisfied: keras-preprocessing>=1.0.5 in /usr/local/lib/python3.6/dist-packages (from keras->keras-contrib==2.0.8) (1.1.2)\n",
            "Requirement already satisfied: scipy>=0.14 in /usr/local/lib/python3.6/dist-packages (from keras->keras-contrib==2.0.8) (1.4.1)\n",
            "Requirement already satisfied: six>=1.9.0 in /usr/local/lib/python3.6/dist-packages (from keras->keras-contrib==2.0.8) (1.15.0)\n",
            "Requirement already satisfied: h5py in /usr/local/lib/python3.6/dist-packages (from keras->keras-contrib==2.0.8) (2.10.0)\n",
            "Requirement already satisfied: numpy>=1.9.1 in /usr/local/lib/python3.6/dist-packages (from keras->keras-contrib==2.0.8) (1.18.5)\n",
            "Building wheels for collected packages: keras-contrib\n",
            "  Building wheel for keras-contrib (setup.py) ... \u001b[?25l\u001b[?25hdone\n",
            "  Created wheel for keras-contrib: filename=keras_contrib-2.0.8-cp36-none-any.whl size=101064 sha256=048d08fc815cd318c450b998246792ab411e68f3d585b349476e0ead20d36ed6\n",
            "  Stored in directory: /tmp/pip-ephem-wheel-cache-hyshfg0m/wheels/11/27/c8/4ed56de7b55f4f61244e2dc6ef3cdbaff2692527a2ce6502ba\n",
            "Successfully built keras-contrib\n",
            "Requirement already satisfied: sklearn_crfsuite in /usr/local/lib/python3.6/dist-packages (0.3.6)\n",
            "Requirement already satisfied: tabulate in /usr/local/lib/python3.6/dist-packages (from sklearn_crfsuite) (0.8.7)\n",
            "Requirement already satisfied: six in /usr/local/lib/python3.6/dist-packages (from sklearn_crfsuite) (1.15.0)\n",
            "Requirement already satisfied: python-crfsuite>=0.8.3 in /usr/local/lib/python3.6/dist-packages (from sklearn_crfsuite) (0.9.7)\n",
            "Requirement already satisfied: tqdm>=2.0 in /usr/local/lib/python3.6/dist-packages (from sklearn_crfsuite) (4.41.1)\n",
            "Requirement already satisfied: keras==2.2.4 in /usr/local/lib/python3.6/dist-packages (2.2.4)\n",
            "Requirement already satisfied: h5py in /usr/local/lib/python3.6/dist-packages (from keras==2.2.4) (2.10.0)\n",
            "Requirement already satisfied: numpy>=1.9.1 in /usr/local/lib/python3.6/dist-packages (from keras==2.2.4) (1.18.5)\n",
            "Requirement already satisfied: scipy>=0.14 in /usr/local/lib/python3.6/dist-packages (from keras==2.2.4) (1.4.1)\n",
            "Requirement already satisfied: keras-applications>=1.0.6 in /usr/local/lib/python3.6/dist-packages (from keras==2.2.4) (1.0.8)\n",
            "Requirement already satisfied: six>=1.9.0 in /usr/local/lib/python3.6/dist-packages (from keras==2.2.4) (1.15.0)\n",
            "Requirement already satisfied: keras-preprocessing>=1.0.5 in /usr/local/lib/python3.6/dist-packages (from keras==2.2.4) (1.1.2)\n",
            "Requirement already satisfied: pyyaml in /usr/local/lib/python3.6/dist-packages (from keras==2.2.4) (3.13)\n",
            "TensorFlow 1.x selected.\n"
          ],
          "name": "stdout"
        }
      ]
    },
    {
      "cell_type": "code",
      "metadata": {
        "id": "gvLtrysY3xZn",
        "colab": {
          "base_uri": "https://localhost:8080/",
          "height": 51
        },
        "outputId": "350997dd-0869-447a-db4e-cf00facdbafc"
      },
      "source": [
        "import pandas as pd\n",
        "import re\n",
        "import urllib.request\n",
        "from sklearn.model_selection import train_test_split\n",
        "\n",
        "#keras and tensorflow packages\n",
        "import tensorflow as tf\n",
        "from keras.layers.merge import add\n",
        "from keras.preprocessing.sequence import pad_sequences\n",
        "from keras.preprocessing import text, sequence\n",
        "from keras.utils import to_categorical\n",
        "from keras.models import Model, Input\n",
        "from keras.layers import LSTM, Embedding, Dense, TimeDistributed, Dropout, Bidirectional\n",
        "from keras_contrib.layers import CRF\n",
        "from keras_contrib.losses import crf_loss\n",
        "from keras_contrib.metrics import crf_viterbi_accuracy\n",
        "from keras_contrib.metrics import crf_accuracy\n",
        "\n",
        "#evaluation\n",
        "from sklearn_crfsuite.metrics import flat_classification_report, flat_f1_score, flat_precision_score, flat_recall_score\n",
        "print(tf.__version__)"
      ],
      "execution_count": null,
      "outputs": [
        {
          "output_type": "stream",
          "text": [
            "1.15.2\n"
          ],
          "name": "stdout"
        },
        {
          "output_type": "stream",
          "text": [
            "Using TensorFlow backend.\n"
          ],
          "name": "stderr"
        }
      ]
    },
    {
      "cell_type": "code",
      "metadata": {
        "id": "SVQIOuXU5Sks",
        "colab": {
          "base_uri": "https://localhost:8080/",
          "height": 34
        },
        "outputId": "5dbabd57-3312-4f3b-fd71-8143f5ed9d57"
      },
      "source": [
        "#Ensure Reproducibility\n",
        "import numpy as np\n",
        "import random as rn\n",
        "import os\n",
        "\n",
        "random_seed=3\n",
        "\n",
        "# 1) set numpy random seed\n",
        "np.random.seed(random_seed)\n",
        "# 2) set build-in random seed\n",
        "rn.seed(random_seed)\n",
        "# 3) set PYTHONHASHSEED\n",
        "os.environ['PYTHONHASHSEED']=str(random_seed)\n",
        "# 4) set tensorflow random seed\n",
        "tf.random.set_random_seed(random_seed)\n",
        "\n",
        "# 5) Force TensorFlow to use single thread.\n",
        "session_conf = tf.ConfigProto(intra_op_parallelism_threads=1, inter_op_parallelism_threads=1)\n",
        "from keras import backend as K\n",
        "tf.set_random_seed(1)\n",
        "sess = tf.Session(graph=tf.get_default_graph(), config=session_conf)\n",
        "K.set_session(sess)\n",
        "\n",
        "print(\"Num GPUs Available: \", len(tf.config.experimental.list_physical_devices('GPU')))"
      ],
      "execution_count": null,
      "outputs": [
        {
          "output_type": "stream",
          "text": [
            "Num GPUs Available:  1\n"
          ],
          "name": "stdout"
        }
      ]
    },
    {
      "cell_type": "code",
      "metadata": {
        "id": "HQ5UL1PL39-g"
      },
      "source": [
        "#import data from my github repo\n",
        "train_url = \"https://raw.githubusercontent.com/deanhoperobertson/Named-Enitty-Recognition/master/Data/train.txt\"\n",
        "test_url = \"https://raw.githubusercontent.com/deanhoperobertson/Named-Enitty-Recognition/master/Data/test.txt\"\n",
        "train = urllib.request.urlopen(train_url).read()\n",
        "test = urllib.request.urlopen(test_url).read()\n",
        "train = train.decode('utf-8')\n",
        "test = test.decode('utf-8')\n",
        "\n",
        "def readstring(filename, meth):\n",
        "    f = filename.split('\\n')\n",
        "    sentences = []\n",
        "    sentence = []\n",
        "    for line in f:\n",
        "        if len(line) == 0 or line.startswith('-DOCSTART') or line[0] == \"\\n\":\n",
        "            if len(sentence) > 0:\n",
        "                sentences.append(sentence)\n",
        "                sentence = []\n",
        "            continue\n",
        "        splits = line.split(' ')\n",
        "        if meth.lower()==\"numbers1\":\n",
        "            sentence.append([hasNumbers1(splits[0]), splits[-1].strip()])\n",
        "        elif meth.lower()==\"numbers2\":\n",
        "            sentence.append([hasNumbers2(splits[0]), splits[-1].strip()])\n",
        "        else:\n",
        "            sentence.append([splits[0], splits[-1].strip()])\n",
        "    if len(sentence) > 0:\n",
        "        sentences.append(sentence)\n",
        "        sentence = []\n",
        "    return sentences\n",
        "\n",
        "def hasNumbers1(inputString):\n",
        "    if re.search(r'\\d', inputString):\n",
        "        return \"0\"\n",
        "    else:return(inputString)\n",
        "\n",
        "def hasNumbers2(text):\n",
        "  if text.isdigit():\n",
        "      return \"1\"\n",
        "  elif re.search(r'\\d',text) and re.search(r'\\,|\\.',text):\n",
        "      return \"1\" \n",
        "  else:\n",
        "      if re.search(r'\\d', text):\n",
        "          return(re.sub('\\d','D', text))\n",
        "      else:\n",
        "          return text\n",
        "\n",
        "#preproces the txt file\n",
        "train_data = readstring(train,\"Numbers1\")\n",
        "test_data = readstring(test,\"Numbers1\")\n",
        "\n",
        "#create corpus\n",
        "corpus = train_data.copy()\n",
        "corpus.extend(test_data)"
      ],
      "execution_count": null,
      "outputs": []
    },
    {
      "cell_type": "code",
      "metadata": {
        "id": "DQSami9V4FbD"
      },
      "source": [
        "def reformat_data(data,meth):\n",
        "  if meth.lower() == \"data\":\n",
        "    i=0\n",
        "  else: i=1\n",
        "  train = []\n",
        "  output= []\n",
        "  for sentence in data:\n",
        "    words=[]\n",
        "    for x in sentence:\n",
        "      words.append(x[i])\n",
        "    train.append(words)\n",
        "\n",
        "  for i in train:\n",
        "    string = ' '.join(i)\n",
        "    output.append(string)\n",
        "  return output\n",
        "\n",
        "def get_max_length(corpus):\n",
        "  length = []\n",
        "  for sentence in corpus:\n",
        "    length.append(len(sentence))\n",
        "  return int(max(length))\n",
        "\n",
        "def number_of_tags(corpus):\n",
        "  tags=[]\n",
        "  for sentence in corpus:\n",
        "    for tag in sentence:\n",
        "      tags.append(tag[1])\n",
        "  return int(len(list(set(tags))))\n",
        "\n",
        "\n",
        "MAX_LEN = get_max_length(corpus)\n",
        "N_tags = number_of_tags(corpus)\n",
        "\n",
        "train = reformat_data(train_data,\"data\")\n",
        "test = reformat_data(test_data,\"data\")\n"
      ],
      "execution_count": null,
      "outputs": []
    },
    {
      "cell_type": "code",
      "metadata": {
        "id": "kOyKFaZ64Piy"
      },
      "source": [
        "# create a tokenizer\n",
        "token_word = text.Tokenizer(char_level=False, lower=True, filters=\"}\", oov_token='UNK')\n",
        "token_word.fit_on_texts(train)\n",
        "\n",
        "# convert text to sequence of tokens and pad them to ensure equal length vectors \n",
        "X_train = sequence.pad_sequences(token_word.texts_to_sequences(train), maxlen=MAX_LEN,padding=\"post\")\n",
        "X_test = sequence.pad_sequences(token_word.texts_to_sequences(test), maxlen=MAX_LEN,padding=\"post\")"
      ],
      "execution_count": null,
      "outputs": []
    },
    {
      "cell_type": "code",
      "metadata": {
        "id": "791RIPxLFdE4"
      },
      "source": [
        "train = reformat_data(train_data,\"tags\")\n",
        "test = reformat_data(test_data,\"tags\")\n",
        "\n",
        "# create a tokenizer\n",
        "token_tag = text.Tokenizer(char_level=False, lower=False, filters=\"}\")\n",
        "token_tag.fit_on_texts(train)\n",
        "\n",
        "# convert text to sequence of tokens and pad them to ensure equal length vectors \n",
        "Y = sequence.pad_sequences(token_tag.texts_to_sequences(train), maxlen=MAX_LEN,padding=\"post\")\n",
        "# One-Hot encode categorical labels\n",
        "Y_train = [to_categorical(i, num_classes=N_tags+1) for i in Y]\n",
        "\n",
        "Y = sequence.pad_sequences(token_tag.texts_to_sequences(test), maxlen=MAX_LEN,padding=\"post\")\n",
        "# One-Hot encode categorical labels\n",
        "Y_test = [to_categorical(i, num_classes=N_tags+1) for i in Y]\n",
        "\n",
        "#add padding \n",
        "token_tag.index_word[0]=\"PAD\"\n",
        "sub_label = list(token_tag.index_word.values())\n",
        "sub_label.remove('O')\n",
        "sub_label.remove('PAD')"
      ],
      "execution_count": null,
      "outputs": []
    },
    {
      "cell_type": "code",
      "metadata": {
        "id": "ADOS66iMHYkr",
        "colab": {
          "base_uri": "https://localhost:8080/",
          "height": 34
        },
        "outputId": "2753c0a6-a613-4baa-d492-4fb3562ad034"
      },
      "source": [
        "from google.colab import drive\n",
        "drive.mount('/content/drive')"
      ],
      "execution_count": null,
      "outputs": [
        {
          "output_type": "stream",
          "text": [
            "Drive already mounted at /content/drive; to attempt to forcibly remount, call drive.mount(\"/content/drive\", force_remount=True).\n"
          ],
          "name": "stdout"
        }
      ]
    },
    {
      "cell_type": "code",
      "metadata": {
        "id": "fDX21YJbJy6N",
        "colab": {
          "base_uri": "https://localhost:8080/",
          "height": 34
        },
        "outputId": "323725af-f072-4077-884c-7f73823fc9c7"
      },
      "source": [
        "root_path = \"/content/drive/My Drive/glove.6B.50d.txt\"\n",
        "\n",
        "embeddings_index={}\n",
        "f = open(root_path, encoding = \"utf-8\")\n",
        "for line in f:\n",
        "    values = line.split()\n",
        "    word = values[0]\n",
        "    coefs = np.asarray(values[1:], dtype='float32')\n",
        "    embeddings_index[word] = coefs\n",
        "f.close()\n",
        "\n",
        "print('Found %s word vectors.' % len(embeddings_index))"
      ],
      "execution_count": null,
      "outputs": [
        {
          "output_type": "stream",
          "text": [
            "Found 400000 word vectors.\n"
          ],
          "name": "stdout"
        }
      ]
    },
    {
      "cell_type": "code",
      "metadata": {
        "id": "-QCSd3QKJ-Cq"
      },
      "source": [
        "#create emedding matrix\n",
        "EMBEDDING=int(root_path.split(\".\")[-2][:-1])\n",
        "word_index = token_word.word_index\n",
        "embedding_matrix = np.zeros((len(token_word.word_index) + 1, EMBEDDING))\n",
        "for word, i in word_index.items():\n",
        "    embedding_vector = embeddings_index.get(word)\n",
        "    if embedding_vector is not None:\n",
        "      # words not found in embedding index will be all-zeros.\n",
        "      embedding_matrix[i] = embedding_vector"
      ],
      "execution_count": null,
      "outputs": []
    },
    {
      "cell_type": "code",
      "metadata": {
        "id": "iBHwzSe4s8cj",
        "colab": {
          "base_uri": "https://localhost:8080/",
          "height": 34
        },
        "outputId": "99df894a-6148-4a55-a592-46929f8c4c4d"
      },
      "source": [
        "checks=[]\n",
        "words=[]\n",
        "for i in range(0,len(token_word.word_index)+1):\n",
        "  if embedding_matrix[i][0] == 0.0:\n",
        "    checks.append(1)\n",
        "    words.append(list(token_word.word_index.items())[i-1][0])\n",
        "  else:\n",
        "    continue\n",
        "\n",
        "print(\"Missing words from Embeddings: %d (%.2f%%)\" %(len(checks),(len(checks)/len(token_word.word_index)*100)))"
      ],
      "execution_count": null,
      "outputs": [
        {
          "output_type": "stream",
          "text": [
            "Missing words from Embeddings: 1218 (7.10%)\n"
          ],
          "name": "stdout"
        }
      ]
    },
    {
      "cell_type": "markdown",
      "metadata": {
        "id": "nLUxQqI8Md4N"
      },
      "source": [
        "## Create Model"
      ]
    },
    {
      "cell_type": "code",
      "metadata": {
        "id": "mJXcEXJYMg4_",
        "colab": {
          "base_uri": "https://localhost:8080/",
          "height": 357
        },
        "outputId": "9c2d0c37-03a5-4031-ac2e-f8d603f97a40"
      },
      "source": [
        "from keras import optimizers\n",
        "# Paramters\n",
        "EPOCHS = 20\n",
        "BATCH_SIZE = 32\n",
        "LSTM_CELLS = 300\n",
        "DROPOUT = 0.25\n",
        "HIDDEN = 50\n",
        "CLIP = 1.0\n",
        "\n",
        "#optimizer\n",
        "opt=optimizers.Nadam(clipvalue=CLIP)\n",
        "\n",
        "#define model\n",
        "input =  Input(shape=(MAX_LEN,))\n",
        "\n",
        "model_2 = Embedding(len(token_word.word_index) + 1,output_dim=EMBEDDING,\n",
        "                  weights=[embedding_matrix],input_length=MAX_LEN,\n",
        "                  trainable=False,mask_zero=True)(input)\n",
        "\n",
        "model_2 = Bidirectional(LSTM(units=LSTM_CELLS, return_sequences=True,\n",
        "                           recurrent_dropout=DROPOUT, dropout=DROPOUT))(model_2)\n",
        "\n",
        "model_2 = TimeDistributed(Dense(HIDDEN, activation=\"relu\"))(model_2)\n",
        "crf = CRF(N_tags+1)  # CRF layer\n",
        "out = crf(model_2)  # output\n",
        "model_2 = Model(input, out)"
      ],
      "execution_count": null,
      "outputs": [
        {
          "output_type": "stream",
          "text": [
            "WARNING:tensorflow:From /usr/local/lib/python3.6/dist-packages/keras/backend/tensorflow_backend.py:517: The name tf.placeholder is deprecated. Please use tf.compat.v1.placeholder instead.\n",
            "\n",
            "WARNING:tensorflow:From /usr/local/lib/python3.6/dist-packages/keras/backend/tensorflow_backend.py:4138: The name tf.random_uniform is deprecated. Please use tf.random.uniform instead.\n",
            "\n",
            "WARNING:tensorflow:From /usr/local/lib/python3.6/dist-packages/keras/backend/tensorflow_backend.py:174: The name tf.get_default_session is deprecated. Please use tf.compat.v1.get_default_session instead.\n",
            "\n",
            "WARNING:tensorflow:From /usr/local/lib/python3.6/dist-packages/keras/backend/tensorflow_backend.py:190: The name tf.global_variables is deprecated. Please use tf.compat.v1.global_variables instead.\n",
            "\n",
            "WARNING:tensorflow:From /usr/local/lib/python3.6/dist-packages/keras/backend/tensorflow_backend.py:199: The name tf.is_variable_initialized is deprecated. Please use tf.compat.v1.is_variable_initialized instead.\n",
            "\n",
            "WARNING:tensorflow:From /usr/local/lib/python3.6/dist-packages/keras/backend/tensorflow_backend.py:206: The name tf.variables_initializer is deprecated. Please use tf.compat.v1.variables_initializer instead.\n",
            "\n",
            "WARNING:tensorflow:From /usr/local/lib/python3.6/dist-packages/keras/backend/tensorflow_backend.py:133: The name tf.placeholder_with_default is deprecated. Please use tf.compat.v1.placeholder_with_default instead.\n",
            "\n",
            "WARNING:tensorflow:From /usr/local/lib/python3.6/dist-packages/keras/backend/tensorflow_backend.py:3445: calling dropout (from tensorflow.python.ops.nn_ops) with keep_prob is deprecated and will be removed in a future version.\n",
            "Instructions for updating:\n",
            "Please use `rate` instead of `keep_prob`. Rate should be set to `rate = 1 - keep_prob`.\n",
            "WARNING:tensorflow:From /usr/local/lib/python3.6/dist-packages/keras/backend/tensorflow_backend.py:2974: where (from tensorflow.python.ops.array_ops) is deprecated and will be removed in a future version.\n",
            "Instructions for updating:\n",
            "Use tf.where in 2.0, which has the same broadcast rule as np.where\n"
          ],
          "name": "stdout"
        }
      ]
    },
    {
      "cell_type": "code",
      "metadata": {
        "id": "dA9_8iSPMiyn",
        "colab": {
          "base_uri": "https://localhost:8080/",
          "height": 340
        },
        "outputId": "311ab4de-44c6-43f0-d57f-56d4fd8f8637"
      },
      "source": [
        "#summary\n",
        "model_2.compile(optimizer=opt, loss=crf_loss, metrics=[crf_viterbi_accuracy])\n",
        "model_2.summary()"
      ],
      "execution_count": null,
      "outputs": [
        {
          "output_type": "stream",
          "text": [
            "WARNING:tensorflow:From /usr/local/lib/python3.6/dist-packages/keras/optimizers.py:790: The name tf.train.Optimizer is deprecated. Please use tf.compat.v1.train.Optimizer instead.\n",
            "\n",
            "_________________________________________________________________\n",
            "Layer (type)                 Output Shape              Param #   \n",
            "=================================================================\n",
            "input_1 (InputLayer)         (None, 124)               0         \n",
            "_________________________________________________________________\n",
            "embedding_1 (Embedding)      (None, 124, 50)           858250    \n",
            "_________________________________________________________________\n",
            "bidirectional_1 (Bidirection (None, 124, 600)          842400    \n",
            "_________________________________________________________________\n",
            "time_distributed_1 (TimeDist (None, 124, 50)           30050     \n",
            "_________________________________________________________________\n",
            "crf_1 (CRF)                  (None, 124, 9)            558       \n",
            "=================================================================\n",
            "Total params: 1,731,258\n",
            "Trainable params: 873,008\n",
            "Non-trainable params: 858,250\n",
            "_________________________________________________________________\n"
          ],
          "name": "stdout"
        }
      ]
    },
    {
      "cell_type": "code",
      "metadata": {
        "id": "VjSNmgV3OyH6",
        "colab": {
          "base_uri": "https://localhost:8080/",
          "height": 408
        },
        "outputId": "c6ff99e9-b7d8-40d9-f8ec-bba974f477e9"
      },
      "source": [
        "%%time\n",
        "from keras.callbacks import EarlyStopping\n",
        "early_stopping = EarlyStopping(monitor='val_loss', patience=2)\n",
        "history = model_2.fit(X_train, np.array(Y_train), batch_size=BATCH_SIZE, epochs=EPOCHS, validation_split=0.2, verbose=1,callbacks=[early_stopping])"
      ],
      "execution_count": null,
      "outputs": [
        {
          "output_type": "stream",
          "text": [
            "WARNING:tensorflow:From /usr/local/lib/python3.6/dist-packages/keras/backend/tensorflow_backend.py:986: The name tf.assign_add is deprecated. Please use tf.compat.v1.assign_add instead.\n",
            "\n",
            "WARNING:tensorflow:From /usr/local/lib/python3.6/dist-packages/keras/backend/tensorflow_backend.py:973: The name tf.assign is deprecated. Please use tf.compat.v1.assign instead.\n",
            "\n",
            "Train on 11232 samples, validate on 2809 samples\n",
            "Epoch 1/20\n",
            "11232/11232 [==============================] - 208s 19ms/step - loss: 40.2117 - crf_viterbi_accuracy: 0.9200 - val_loss: 35.2088 - val_crf_viterbi_accuracy: 0.9464\n",
            "Epoch 2/20\n",
            "11232/11232 [==============================] - 206s 18ms/step - loss: 40.0727 - crf_viterbi_accuracy: 0.9544 - val_loss: 35.1795 - val_crf_viterbi_accuracy: 0.9544\n",
            "Epoch 3/20\n",
            "11232/11232 [==============================] - 206s 18ms/step - loss: 40.0400 - crf_viterbi_accuracy: 0.9635 - val_loss: 35.1603 - val_crf_viterbi_accuracy: 0.9603\n",
            "Epoch 4/20\n",
            "11232/11232 [==============================] - 205s 18ms/step - loss: 40.0218 - crf_viterbi_accuracy: 0.9683 - val_loss: 35.1587 - val_crf_viterbi_accuracy: 0.9601\n",
            "Epoch 5/20\n",
            "11232/11232 [==============================] - 206s 18ms/step - loss: 40.0106 - crf_viterbi_accuracy: 0.9722 - val_loss: 35.1530 - val_crf_viterbi_accuracy: 0.9629\n",
            "Epoch 6/20\n",
            "11232/11232 [==============================] - 205s 18ms/step - loss: 39.9996 - crf_viterbi_accuracy: 0.9748 - val_loss: 35.1484 - val_crf_viterbi_accuracy: 0.9666\n",
            "Epoch 7/20\n",
            "11232/11232 [==============================] - 204s 18ms/step - loss: 39.9951 - crf_viterbi_accuracy: 0.9770 - val_loss: 35.1525 - val_crf_viterbi_accuracy: 0.9665\n",
            "Epoch 8/20\n",
            "11232/11232 [==============================] - 204s 18ms/step - loss: 39.9883 - crf_viterbi_accuracy: 0.9796 - val_loss: 35.1559 - val_crf_viterbi_accuracy: 0.9673\n",
            "CPU times: user 39min 42s, sys: 2min 51s, total: 42min 34s\n",
            "Wall time: 27min 25s\n"
          ],
          "name": "stdout"
        }
      ]
    },
    {
      "cell_type": "markdown",
      "metadata": {
        "id": "sOZlNNM-YcZv"
      },
      "source": [
        "## Predict On Training Set"
      ]
    },
    {
      "cell_type": "code",
      "metadata": {
        "id": "PEw08HSrSHG2",
        "colab": {
          "base_uri": "https://localhost:8080/",
          "height": 119
        },
        "outputId": "30dcacc4-bd10-4005-b760-10bede5958f1"
      },
      "source": [
        "%%time\n",
        "pred = model_2.predict(X_train, verbose=1)"
      ],
      "execution_count": null,
      "outputs": [
        {
          "output_type": "stream",
          "text": [
            "14041/14041 [==============================] - 79s 6ms/step\n",
            "CPU times: user 2min 7s, sys: 11.6 s, total: 2min 19s\n",
            "Wall time: 1min 19s\n",
            "14041/14041 [==============================] - 79s 6ms/step\n",
            "CPU times: user 2min 7s, sys: 11.9 s, total: 2min 18s\n",
            "Wall time: 1min 19s\n"
          ],
          "name": "stdout"
        }
      ]
    },
    {
      "cell_type": "code",
      "metadata": {
        "id": "gOlSUB8BShcQ",
        "colab": {
          "base_uri": "https://localhost:8080/",
          "height": 527
        },
        "outputId": "33f13a89-ba3a-4126-d6fd-66388b2a304e"
      },
      "source": [
        "# TRain Eval\n",
        "preds = np.argmax(pred, axis=-1)\n",
        "y_tr_true = np.argmax(Y_train, -1)\n",
        "\n",
        "# Convert the index to tag\n",
        "pred_tag = [[token_tag.index_word[i] for i in row] for row in preds]\n",
        "y_tr_true_tag = [[token_tag.index_word[i] for i in row] for row in y_tr_true]\n",
        "                 \n",
        "                 \n",
        "report = flat_classification_report(y_pred=pred_tag, y_true=y_tr_true_tag,labels=sub_label)\n",
        "print(report)\n",
        "#F1 Score\n",
        "score=flat_f1_score(y_pred=pred_tag, y_true=y_tr_true_tag,average='micro',labels=sub_label)\n",
        "print(round(score,3))  "
      ],
      "execution_count": null,
      "outputs": [
        {
          "output_type": "stream",
          "text": [
            "              precision    recall  f1-score   support\n",
            "\n",
            "       I-PER       0.97      0.98      0.98     11128\n",
            "       I-ORG       0.91      0.89      0.90     10001\n",
            "       I-LOC       0.97      0.93      0.95      8286\n",
            "      I-MISC       0.92      0.85      0.88      4556\n",
            "      B-MISC       1.00      0.14      0.24        37\n",
            "       B-ORG       1.00      1.00      1.00        24\n",
            "       B-LOC       1.00      0.82      0.90        11\n",
            "\n",
            "   micro avg       0.94      0.92      0.93     34043\n",
            "   macro avg       0.97      0.80      0.83     34043\n",
            "weighted avg       0.94      0.92      0.93     34043\n",
            "\n",
            "0.934\n",
            "              precision    recall  f1-score   support\n",
            "\n",
            "       I-PER       0.97      0.98      0.98     11128\n",
            "       I-ORG       0.91      0.89      0.90     10001\n",
            "       I-LOC       0.97      0.93      0.95      8286\n",
            "      I-MISC       0.92      0.85      0.88      4556\n",
            "      B-MISC       1.00      0.14      0.24        37\n",
            "       B-ORG       1.00      1.00      1.00        24\n",
            "       B-LOC       1.00      0.82      0.90        11\n",
            "\n",
            "   micro avg       0.94      0.92      0.93     34043\n",
            "   macro avg       0.97      0.80      0.83     34043\n",
            "weighted avg       0.94      0.92      0.93     34043\n",
            "\n",
            "0.934\n"
          ],
          "name": "stdout"
        }
      ]
    },
    {
      "cell_type": "markdown",
      "metadata": {
        "id": "l-xpkf6Dg7Zg"
      },
      "source": [
        "## Predict On Test Set"
      ]
    },
    {
      "cell_type": "code",
      "metadata": {
        "id": "oJsXpwO2flwh",
        "colab": {
          "base_uri": "https://localhost:8080/",
          "height": 119
        },
        "outputId": "af9b9296-fa7b-4416-9141-8f79eacb0b1a"
      },
      "source": [
        "%%time\n",
        "pred = model_2.predict(X_test, verbose=1)"
      ],
      "execution_count": null,
      "outputs": [
        {
          "output_type": "stream",
          "text": [
            "3453/3453 [==============================] - 19s 6ms/step\n",
            "CPU times: user 31.6 s, sys: 2.91 s, total: 34.5 s\n",
            "Wall time: 19.5 s\n",
            "3453/3453 [==============================] - 19s 6ms/step\n",
            "CPU times: user 31.2 s, sys: 2.99 s, total: 34.2 s\n",
            "Wall time: 19.5 s\n"
          ],
          "name": "stdout"
        }
      ]
    },
    {
      "cell_type": "code",
      "metadata": {
        "id": "BJ8TiP-dhc35",
        "colab": {
          "base_uri": "https://localhost:8080/",
          "height": 360
        },
        "outputId": "cc7e9cbf-652c-404b-b1a0-897bdafe925e"
      },
      "source": [
        "# Test Eval\n",
        "#pred_cat = model.predict(X_tr)\n",
        "preds = np.argmax(pred, axis=-1)\n",
        "y_tr_true = np.argmax(Y_test, -1)\n",
        "\n",
        "# Convert the index to tag\n",
        "pred_tag = [[token_tag.index_word[i] for i in row] for row in preds]\n",
        "y_tr_true_tag = [[token_tag.index_word[i] for i in row] for row in y_tr_true]\n",
        "                 \n",
        "                 \n",
        "report = flat_classification_report(y_pred=pred_tag, y_true=y_tr_true_tag, labels=sub_label)\n",
        "print(report)\n",
        "\n",
        "f1_score=flat_f1_score(y_pred=pred_tag, y_true=y_tr_true_tag,average='micro', labels=sub_label)\n",
        "recall_score = flat_recall_score(y_pred=pred_tag, y_true=y_tr_true_tag,average='micro', labels=sub_label)\n",
        "pre_score = flat_precision_score(y_pred=pred_tag, y_true=y_tr_true_tag,average='micro', labels=sub_label)\n",
        "\n",
        "print(\"Precision score: %.2f\" %round(pre_score*100,3))\n",
        "print(\"Recall score: %.2f\" %round(recall_score*100,3))\n",
        "print(\"F1 score: %.2f\" %round(f1_score*100,3))"
      ],
      "execution_count": null,
      "outputs": [
        {
          "output_type": "stream",
          "text": [
            "/usr/local/lib/python3.6/dist-packages/sklearn/metrics/_classification.py:1272: UndefinedMetricWarning: Precision and F-score are ill-defined and being set to 0.0 in labels with no predicted samples. Use `zero_division` parameter to control this behavior.\n",
            "  _warn_prf(average, modifier, msg_start, len(result))\n"
          ],
          "name": "stderr"
        },
        {
          "output_type": "stream",
          "text": [
            "              precision    recall  f1-score   support\n",
            "\n",
            "       I-PER       0.90      0.92      0.91      2773\n",
            "       I-ORG       0.74      0.76      0.75      2491\n",
            "       I-LOC       0.90      0.82      0.86      1919\n",
            "      I-MISC       0.72      0.69      0.71       909\n",
            "      B-MISC       0.00      0.00      0.00         9\n",
            "       B-ORG       0.00      0.00      0.00         5\n",
            "       B-LOC       0.00      0.00      0.00         6\n",
            "\n",
            "   micro avg       0.83      0.82      0.83      8112\n",
            "   macro avg       0.47      0.46      0.46      8112\n",
            "weighted avg       0.83      0.82      0.82      8112\n",
            "\n",
            "Precision score: 83.12\n",
            "Recall score: 81.90\n",
            "F1 score: 82.51\n"
          ],
          "name": "stdout"
        }
      ]
    },
    {
      "cell_type": "code",
      "metadata": {
        "id": "hdJe236dAJFE",
        "colab": {
          "base_uri": "https://localhost:8080/",
          "height": 297
        },
        "outputId": "ae9fcea9-a5b5-481a-a11f-fa5baf89b3fa"
      },
      "source": [
        "from sklearn.metrics import confusion_matrix\n",
        "flat_preds = [item for sublist in pred_tag for item in sublist]\n",
        "flat_true = [item for sublist in y_tr_true_tag for item in sublist]\n",
        "\n",
        "sub_label.append(\"O\")\n",
        "matrix=confusion_matrix(flat_preds,flat_true, labels=sub_label)\n",
        "pd.DataFrame(matrix, columns = sub_label, index=sub_label)"
      ],
      "execution_count": null,
      "outputs": [
        {
          "output_type": "execute_result",
          "data": {
            "text/html": [
              "<div>\n",
              "<style scoped>\n",
              "    .dataframe tbody tr th:only-of-type {\n",
              "        vertical-align: middle;\n",
              "    }\n",
              "\n",
              "    .dataframe tbody tr th {\n",
              "        vertical-align: top;\n",
              "    }\n",
              "\n",
              "    .dataframe thead th {\n",
              "        text-align: right;\n",
              "    }\n",
              "</style>\n",
              "<table border=\"1\" class=\"dataframe\">\n",
              "  <thead>\n",
              "    <tr style=\"text-align: right;\">\n",
              "      <th></th>\n",
              "      <th>I-PER</th>\n",
              "      <th>I-ORG</th>\n",
              "      <th>I-LOC</th>\n",
              "      <th>I-MISC</th>\n",
              "      <th>B-MISC</th>\n",
              "      <th>B-ORG</th>\n",
              "      <th>B-LOC</th>\n",
              "      <th>O</th>\n",
              "    </tr>\n",
              "  </thead>\n",
              "  <tbody>\n",
              "    <tr>\n",
              "      <th>I-PER</th>\n",
              "      <td>2543</td>\n",
              "      <td>74</td>\n",
              "      <td>26</td>\n",
              "      <td>15</td>\n",
              "      <td>0</td>\n",
              "      <td>0</td>\n",
              "      <td>0</td>\n",
              "      <td>168</td>\n",
              "    </tr>\n",
              "    <tr>\n",
              "      <th>I-ORG</th>\n",
              "      <td>80</td>\n",
              "      <td>1892</td>\n",
              "      <td>148</td>\n",
              "      <td>72</td>\n",
              "      <td>1</td>\n",
              "      <td>5</td>\n",
              "      <td>3</td>\n",
              "      <td>340</td>\n",
              "    </tr>\n",
              "    <tr>\n",
              "      <th>I-LOC</th>\n",
              "      <td>17</td>\n",
              "      <td>91</td>\n",
              "      <td>1583</td>\n",
              "      <td>13</td>\n",
              "      <td>1</td>\n",
              "      <td>0</td>\n",
              "      <td>1</td>\n",
              "      <td>56</td>\n",
              "    </tr>\n",
              "    <tr>\n",
              "      <th>I-MISC</th>\n",
              "      <td>0</td>\n",
              "      <td>41</td>\n",
              "      <td>39</td>\n",
              "      <td>626</td>\n",
              "      <td>4</td>\n",
              "      <td>0</td>\n",
              "      <td>0</td>\n",
              "      <td>154</td>\n",
              "    </tr>\n",
              "    <tr>\n",
              "      <th>B-MISC</th>\n",
              "      <td>0</td>\n",
              "      <td>0</td>\n",
              "      <td>0</td>\n",
              "      <td>0</td>\n",
              "      <td>0</td>\n",
              "      <td>0</td>\n",
              "      <td>0</td>\n",
              "      <td>0</td>\n",
              "    </tr>\n",
              "    <tr>\n",
              "      <th>B-ORG</th>\n",
              "      <td>0</td>\n",
              "      <td>0</td>\n",
              "      <td>0</td>\n",
              "      <td>0</td>\n",
              "      <td>0</td>\n",
              "      <td>0</td>\n",
              "      <td>0</td>\n",
              "      <td>0</td>\n",
              "    </tr>\n",
              "    <tr>\n",
              "      <th>B-LOC</th>\n",
              "      <td>0</td>\n",
              "      <td>0</td>\n",
              "      <td>0</td>\n",
              "      <td>0</td>\n",
              "      <td>0</td>\n",
              "      <td>0</td>\n",
              "      <td>0</td>\n",
              "      <td>0</td>\n",
              "    </tr>\n",
              "    <tr>\n",
              "      <th>O</th>\n",
              "      <td>133</td>\n",
              "      <td>393</td>\n",
              "      <td>123</td>\n",
              "      <td>183</td>\n",
              "      <td>3</td>\n",
              "      <td>0</td>\n",
              "      <td>2</td>\n",
              "      <td>37605</td>\n",
              "    </tr>\n",
              "  </tbody>\n",
              "</table>\n",
              "</div>"
            ],
            "text/plain": [
              "        I-PER  I-ORG  I-LOC  I-MISC  B-MISC  B-ORG  B-LOC      O\n",
              "I-PER    2543     74     26      15       0      0      0    168\n",
              "I-ORG      80   1892    148      72       1      5      3    340\n",
              "I-LOC      17     91   1583      13       1      0      1     56\n",
              "I-MISC      0     41     39     626       4      0      0    154\n",
              "B-MISC      0      0      0       0       0      0      0      0\n",
              "B-ORG       0      0      0       0       0      0      0      0\n",
              "B-LOC       0      0      0       0       0      0      0      0\n",
              "O         133    393    123     183       3      0      2  37605"
            ]
          },
          "metadata": {
            "tags": []
          },
          "execution_count": 66
        }
      ]
    },
    {
      "cell_type": "code",
      "metadata": {
        "id": "w73n8U1_CwXe"
      },
      "source": [
        ""
      ],
      "execution_count": null,
      "outputs": []
    }
  ]
}