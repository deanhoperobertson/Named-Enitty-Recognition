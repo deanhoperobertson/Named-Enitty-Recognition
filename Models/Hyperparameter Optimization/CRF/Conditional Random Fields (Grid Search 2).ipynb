{
  "nbformat": 4,
  "nbformat_minor": 0,
  "metadata": {
    "colab": {
      "name": "Conditional Random Fields (Grid Search 2)",
      "provenance": [],
      "collapsed_sections": [],
      "machine_shape": "hm",
      "include_colab_link": true
    },
    "kernelspec": {
      "name": "python3",
      "display_name": "Python 3"
    }
  },
  "cells": [
    {
      "cell_type": "markdown",
      "metadata": {
        "id": "view-in-github",
        "colab_type": "text"
      },
      "source": [
        "<a href=\"https://colab.research.google.com/github/deanhoperobertson/Named-Enitty-Recognition/blob/master/Models/Hyperparameter%20Optimization/CRF/Conditional%20Random%20Fields%20(Grid%20Search%202).ipynb\" target=\"_parent\"><img src=\"https://colab.research.google.com/assets/colab-badge.svg\" alt=\"Open In Colab\"/></a>"
      ]
    },
    {
      "cell_type": "code",
      "metadata": {
        "id": "jaLZPShU4C5X",
        "colab": {
          "base_uri": "https://localhost:8080/",
          "height": 102
        },
        "outputId": "e1050d82-5ece-4edf-fe2a-3ad5d037046e"
      },
      "source": [
        "!pip install sklearn_crfsuite\n"
      ],
      "execution_count": null,
      "outputs": [
        {
          "output_type": "stream",
          "text": [
            "Requirement already satisfied: sklearn_crfsuite in /usr/local/lib/python3.6/dist-packages (0.3.6)\n",
            "Requirement already satisfied: python-crfsuite>=0.8.3 in /usr/local/lib/python3.6/dist-packages (from sklearn_crfsuite) (0.9.7)\n",
            "Requirement already satisfied: six in /usr/local/lib/python3.6/dist-packages (from sklearn_crfsuite) (1.15.0)\n",
            "Requirement already satisfied: tabulate in /usr/local/lib/python3.6/dist-packages (from sklearn_crfsuite) (0.8.7)\n",
            "Requirement already satisfied: tqdm>=2.0 in /usr/local/lib/python3.6/dist-packages (from sklearn_crfsuite) (4.41.1)\n"
          ],
          "name": "stdout"
        }
      ]
    },
    {
      "cell_type": "code",
      "metadata": {
        "id": "qDtief2UV8sX"
      },
      "source": [
        "import pandas as pd\n",
        "import numpy as np\n",
        "import urllib.request\n",
        "import re\n",
        "from collections import OrderedDict\n",
        "\n",
        "#grid search\n",
        "import scipy.stats\n",
        "from sklearn.metrics import make_scorer\n",
        "from sklearn.model_selection import GridSearchCV\n",
        "\n",
        "#Model\n",
        "from sklearn_crfsuite import CRF\n",
        "\n",
        "#Evalulation\n",
        "from sklearn.model_selection import cross_val_predict\n",
        "from sklearn_crfsuite.metrics import flat_classification_report\n",
        "from sklearn_crfsuite.metrics import flat_f1_score"
      ],
      "execution_count": null,
      "outputs": []
    },
    {
      "cell_type": "code",
      "metadata": {
        "id": "NVFCjmqKW77F"
      },
      "source": [
        "def readstring(filename, meth):\n",
        "    f = filename.split('\\n')\n",
        "    sentences = []\n",
        "    sentence = []\n",
        "    for line in f:\n",
        "        if len(line) == 0 or line.startswith('-DOCSTART') or line[0] == \"\\n\":\n",
        "            if len(sentence) > 0:\n",
        "                sentences.append(sentence)\n",
        "                sentence = []\n",
        "            continue\n",
        "        splits = line.split(' ')\n",
        "        if meth.lower()==\"numbers\":\n",
        "            sentence.append([hasNumbers(splits[0]), splits[-1].strip()])\n",
        "        else:\n",
        "            sentence.append([splits[0], splits[-1].strip()])\n",
        "    if len(sentence) > 0:\n",
        "        sentences.append(sentence)\n",
        "        sentence = []\n",
        "    return sentences"
      ],
      "execution_count": null,
      "outputs": []
    },
    {
      "cell_type": "code",
      "metadata": {
        "id": "bxKta7pHV-Xz"
      },
      "source": [
        "#import data from my github repo\n",
        "train_url = \"https://raw.githubusercontent.com/deanhoperobertson/Named-Enitty-Recognition/master/Data/train.txt\"\n",
        "test_url = \"https://raw.githubusercontent.com/deanhoperobertson/Named-Enitty-Recognition/master/Data/test.txt\"\n",
        "train = urllib.request.urlopen(train_url).read()\n",
        "test = urllib.request.urlopen(test_url).read()\n",
        "train = train.decode('utf-8')\n",
        "test = test.decode('utf-8')\n",
        "\n",
        "#preproces the txt file\n",
        "train = readstring(train,\"NONE\")\n",
        "test = readstring(test, \"NONE\")\n"
      ],
      "execution_count": null,
      "outputs": []
    },
    {
      "cell_type": "markdown",
      "metadata": {
        "id": "j1xaQzBBWRp3"
      },
      "source": [
        "## Orthographic Feature Engineering"
      ]
    },
    {
      "cell_type": "code",
      "metadata": {
        "id": "47lFFjoVWEtb"
      },
      "source": [
        "#Engineered Features:\n",
        "def mix(word):\n",
        "    if word.isalnum():\n",
        "        if re.search(\"^(?=.*[a-zA-Z])(?=.*[0-9])\",word): return True\n",
        "        else: return False\n",
        "    else:\n",
        "        return False\n",
        "\n",
        "def non_intial(word):\n",
        "    '''\n",
        "    The Function the boolean if a non-initial captital letter is present\n",
        "    '''\n",
        "    return not word[1:].islower()\n",
        "\n",
        "def contain_punct(word):\n",
        "    '''\n",
        "    The Function returns the boolean if punctuations is present in token\n",
        "    '''\n",
        "    if re.match(r'^\\w+$',word):return False\n",
        "    else: return True\n",
        "    \n",
        "def apostrophe(word):\n",
        "    '''\n",
        "    The Function returns boolean if \"'s\" is present in token \n",
        "    '''\n",
        "    if word ==\"'s\":return True\n",
        "    else:return False\n",
        "    \n",
        "def word_pattern(word):\n",
        "    '''\n",
        "    The Function returns word patter feature\n",
        "    Upper Case = \"A\"\n",
        "    Lower Case = \"a\"\n",
        "    Digit = \"0\"\n",
        "    '''\n",
        "    token=\"\"\n",
        "    for i in word:\n",
        "        if i.isupper():\n",
        "            token +=\"A\"\n",
        "        elif i.islower():\n",
        "            token +=\"a\"\n",
        "        elif i.isdigit():\n",
        "            token +=\"0\"\n",
        "        else:\n",
        "            token +=str(i)\n",
        "    return token\n",
        "\n",
        "def pattern_sum(word):\n",
        "    '''\n",
        "    The Function returns the word patern without consectutive duplicates\n",
        "    '''\n",
        "    return ''.join(OrderedDict.fromkeys(word))"
      ],
      "execution_count": null,
      "outputs": []
    },
    {
      "cell_type": "code",
      "metadata": {
        "id": "bF_ZZSmnWvR4"
      },
      "source": [
        "def word2features(sentence,i):\n",
        "    word = sentence[i]\n",
        "\n",
        "    features = {\n",
        "        'bias': 1.0,\n",
        "        'word.lower()': word.lower(),\n",
        "        \n",
        "        'Prefix_2': word[:2], # prefix\n",
        "        'Prefix_3': word[:3], # prefix\n",
        "        \n",
        "        'word.istitle()': word.istitle(), #starts with caps\n",
        "        'word.isupper()': word.isupper(), #all caps\n",
        "        'word.islower()': word.islower(), #all lower case\n",
        "        'word.isdigit()': word.isdigit(), #all digits\n",
        "        'word.isalpha()': word.isalpha(), #all letters\n",
        "        \n",
        "        'word.punct()': contain_punct(word),#contains punctuation\n",
        "        'word.apost()': apostrophe(word), #is an apostrophe\n",
        "        'word.non_intial': non_intial(word), #non-initial capitals\n",
        "        'word.mix': mix(word), #mixture of letters and digits\n",
        "        'word.pattern()': word_pattern(word), #word pattern\n",
        "        'word.pattern_sum()': pattern_sum(word_pattern(word)), #word pattern summary\n",
        "        \n",
        "        'Suffix_2': word[-2:], # suffix\n",
        "        'Suffix_3': word[-3:], # suffix\n",
        "    }\n",
        "    if  i == 1 :\n",
        "        '''\n",
        "        Get the token before in the sentence\n",
        "        '''\n",
        "        word = sentence[i-1]\n",
        "        features.update({\n",
        "            \n",
        "          '-1word.lower()': word.lower(),\n",
        "          '-1Prefix_2': word[:2],\n",
        "          '-1Prefix_3': word[:3], \n",
        "          '-1word.istitle()': word.istitle(), \n",
        "          '-1word.isupper()': word.isupper(), \n",
        "          '-1word.islower()': word.islower(),\n",
        "          '-1word.isdigit()': word.isdigit(), \n",
        "          '-1word.isalpha()': word.isalpha(), \n",
        "          '-1word.punct()': contain_punct(word),\n",
        "          '-1word.apost()': apostrophe(word),\n",
        "          '-1word.non_intial': non_intial(word),\n",
        "          '-1word.mix': mix(word),\n",
        "          '-1word.pattern()': word_pattern(word),\n",
        "          '-1word.pattern_sum()': pattern_sum(word_pattern(word)), \n",
        "          '-1Suffix_2': word[-2:], \n",
        "          '-1Suffix_3': word[-3:], \n",
        "        })\n",
        "        \n",
        "    elif i>1 :\n",
        "        word1 = sentence[i-1]\n",
        "        word2 = sentence[i-2]\n",
        "        \n",
        "        features.update({\n",
        "          '-1word.lower()': word1.lower(),\n",
        "          '-1Prefix_2':word1[:2],\n",
        "          '-1Prefix_3':word1[:3], \n",
        "          '-1word.istitle()': word1.istitle(), \n",
        "          '-1word.isupper()': word1.isupper(), \n",
        "          '-1word.islower()': word1.islower(),\n",
        "          '-1word.isdigit()': word1.isdigit(), \n",
        "          '-1word.isalpha()': word1.isalpha(), \n",
        "          '-1word.punct()': contain_punct(word1),\n",
        "          '-1word.apost()': apostrophe(word1),\n",
        "          '-1word.non_intial': non_intial(word1),\n",
        "          '-1word.mix': mix(word1),\n",
        "          '-1word.pattern()': word_pattern(word1),\n",
        "          '-1word.pattern_sum()': pattern_sum(word_pattern(word1)), \n",
        "          '-1Suffix_2':word1[-2:], \n",
        "          '-1Suffix_3':word1[-3:], \n",
        "            \n",
        "            \n",
        "          '-2word.lower()': word2.lower(),\n",
        "          '-2Prefix_2':word2[:2],\n",
        "          '-2Prefix_3':word2[:3], \n",
        "          '-2word.istitle()': word2.istitle(), \n",
        "          '-2word.isupper()': word2.isupper(), \n",
        "          '-2word.islower()': word2.islower(),\n",
        "          '-2word.isdigit()': word2.isdigit(), \n",
        "          '-2word.isalpha()': word2.isalpha(), \n",
        "          '-2word.punct()': contain_punct(word2),\n",
        "          '-2word.apost()': apostrophe(word2),\n",
        "          '-2word.non_intial': non_intial(word2),\n",
        "          '-2word.mix': mix(word2),\n",
        "          '-2word.pattern()': word_pattern(word2),\n",
        "          '-2word.pattern_sum()': pattern_sum(word_pattern(word2)), \n",
        "          '-2Suffix_2':word2[-2:], \n",
        "          '-2Suffix_3':word2[-3:], \n",
        "        })\n",
        "        \n",
        "    else:\n",
        "        features['Start'] = True\n",
        "        \n",
        "    if i == len(sentence)-2:\n",
        "        '''\n",
        "        Get the token after in the sentence\n",
        "        '''\n",
        "        word1 = sentence[i+1]\n",
        "        features.update({\n",
        "          '+1word.lower()': word1.lower(),\n",
        "          '+1Prefix_2':word1[:2],\n",
        "          '+1Prefix_3':word1[:3], \n",
        "          '+1word.istitle()': word1.istitle(), \n",
        "          '+1word.isupper()': word1.isupper(), \n",
        "          '+1word.islower()': word1.islower(),\n",
        "          '+1word.isdigit()': word1.isdigit(), \n",
        "          '+1word.isalpha()': word1.isalpha(), \n",
        "          '+1word.punct()': contain_punct(word1),\n",
        "          '+1word.apost()': apostrophe(word1),\n",
        "          '+1word.non_intial': non_intial(word1),\n",
        "          '+1word.mix': mix(word1),\n",
        "          '+1word.pattern()': word_pattern(word1),\n",
        "          '+1word.pattern_sum()': pattern_sum(word_pattern(word1)), \n",
        "          '+1Suffix_2':word1[-2:], \n",
        "          '+1Suffix_3':word1[-3:], \n",
        "        })\n",
        "        \n",
        "    elif i < len(sentence)-2:\n",
        "        \n",
        "        word1 = sentence[i+1]\n",
        "        word2 = sentence[i+2]\n",
        "        \n",
        "        features.update({\n",
        "          '+1word.lower()': word1.lower(),\n",
        "          '+1Prefix_2':word1[:2],\n",
        "          '+1Prefix_3':word1[:3], \n",
        "          '+1word.istitle()': word1.istitle(), \n",
        "          '+1word.isupper()': word1.isupper(), \n",
        "          '+1word.islower()': word1.islower(),\n",
        "          '+1word.isdigit()': word1.isdigit(), \n",
        "          '+1word.isalpha()': word1.isalpha(), \n",
        "          '+1word.punct()': contain_punct(word1),\n",
        "          '+1word.apost()': apostrophe(word1),\n",
        "          '+1word.non_intial': non_intial(word1),\n",
        "          '+1word.mix': mix(word1),\n",
        "          '+1word.pattern()': word_pattern(word1),\n",
        "          '+1word.pattern_sum()': pattern_sum(word_pattern(word1)), \n",
        "          '+1Suffix_2':word1[-2:], \n",
        "          '+1Suffix_3':word1[-3:], \n",
        "            \n",
        "          '+2word.lower()': word2.lower(),\n",
        "          '+2Prefix_2':word2[:2],\n",
        "          '+2Prefix_3':word2[:3], \n",
        "          '+2word.istitle()': word2.istitle(), \n",
        "          '+2word.isupper()': word2.isupper(), \n",
        "          '+2word.islower()': word2.islower(),\n",
        "          '+2word.isdigit()': word2.isdigit(), \n",
        "          '+2word.isalpha()': word2.isalpha(), \n",
        "          '+2word.punct()': contain_punct(word2),\n",
        "          '+2word.apost()': apostrophe(word2),\n",
        "          '+2word.non_intial': non_intial(word2),\n",
        "          '+2word.mix': mix(word2),\n",
        "          '+2word.pattern()': word_pattern(word2),\n",
        "          '+2word.pattern_sum()': pattern_sum(word_pattern(word2)), \n",
        "          '+2Suffix_2':word2[-2:], \n",
        "          '+2Suffix_3':word2[-3:], \n",
        "        })\n",
        "        \n",
        "    else:\n",
        "        features['End'] = True\n",
        "    \n",
        "    return features\n",
        "\n",
        "def get_sentence(dataset,sentence_number):\n",
        "    sentence = []\n",
        "    for i in dataset[sentence_number-1]:\n",
        "        sentence.append(i[0])\n",
        "    return(sentence)\n",
        "\n",
        "\n",
        "def get_label(dataset,sentence_number):\n",
        "    sentence = []\n",
        "    for i in dataset[sentence_number-1]:\n",
        "        sentence.append(i[1])\n",
        "    return(sentence)\n",
        "\n",
        "def sent2features(sent):\n",
        "    return [word2features(sent, i) for i in range(len(sent))]\n",
        "\n",
        "def get_all_sentences(dataset):\n",
        "    sentences=[]\n",
        "    for i in range(len(dataset)):\n",
        "        sentences.append(get_sentence(dataset,i+1))\n",
        "    return sentences\n",
        "\n",
        "def get_all_labels(dataset):\n",
        "    labels=[]\n",
        "    for i in range(len(dataset)):\n",
        "        #labels.append(partial_tags(get_label(dataset,i+1)))\n",
        "        labels.append(get_label(dataset,i+1))\n",
        "    return labels"
      ],
      "execution_count": null,
      "outputs": []
    },
    {
      "cell_type": "code",
      "metadata": {
        "id": "E84PN1BAW3ro"
      },
      "source": [
        "#Apply feature engineering\n",
        "train_sents = get_all_sentences(train)\n",
        "train_labels = get_all_labels(train)\n",
        "test_sents = get_all_sentences(test)\n",
        "test_labels = get_all_labels(test)\n",
        "\n",
        "X_train = [sent2features(s) for s in train_sents]\n",
        "y_train = train_labels\n",
        "X_test = [sent2features(s) for s in test_sents]\n",
        "y_test = test_labels\n",
        "\n",
        "\n",
        "sub_labels=list(set([item for sublist in train_labels for item in sublist]))\n",
        "sub_labels.remove(\"O\")"
      ],
      "execution_count": null,
      "outputs": []
    },
    {
      "cell_type": "markdown",
      "metadata": {
        "id": "YXQz3yAcXCa0"
      },
      "source": [
        "## Grid Search\n",
        "\n",
        "### Algorithms"
      ]
    },
    {
      "cell_type": "code",
      "metadata": {
        "id": "aotmfsQFtALp"
      },
      "source": [
        "crf = CRF(\n",
        "    algorithm='lbfgs',\n",
        "    max_iterations=10,\n",
        "    all_possible_transitions=False\n",
        ")\n",
        "\n",
        "c1_c2= tuple(round(i,2) for i in list(np.linspace(0,1,11)))\n",
        "\n",
        "\n",
        "parameters = {'c1':c1_c2,\n",
        "             'c2': c1_c2}\n",
        "\n",
        "f1_scorer = make_scorer(flat_f1_score,\n",
        "                        average='micro',\n",
        "                        labels=sub_labels)\n",
        "\n",
        "grid = GridSearchCV(crf, \n",
        "                    parameters,\n",
        "                    n_jobs=-1,\n",
        "                    scoring =f1_scorer,\n",
        "                    verbose=2,\n",
        "                    return_train_score=True,\n",
        "                    cv=3)"
      ],
      "execution_count": null,
      "outputs": []
    },
    {
      "cell_type": "code",
      "metadata": {
        "id": "qpikYqa-wecF",
        "colab": {
          "base_uri": "https://localhost:8080/",
          "height": 170
        },
        "outputId": "61287eeb-91f2-475d-fd77-ced8cb05762c"
      },
      "source": [
        "%%time\n",
        "grid_results=grid.fit(X_train, y_train)"
      ],
      "execution_count": null,
      "outputs": [
        {
          "output_type": "stream",
          "text": [
            "Fitting 3 folds for each of 121 candidates, totalling 363 fits\n"
          ],
          "name": "stdout"
        },
        {
          "output_type": "stream",
          "text": [
            "/usr/local/lib/python3.6/dist-packages/sklearn/base.py:197: FutureWarning: From version 0.24, get_params will raise an AttributeError if a parameter cannot be retrieved as an instance attribute. Previously it would return None.\n",
            "  FutureWarning)\n",
            "[Parallel(n_jobs=-1)]: Using backend LokyBackend with 4 concurrent workers.\n",
            "[Parallel(n_jobs=-1)]: Done  33 tasks      | elapsed: 33.6min\n",
            "[Parallel(n_jobs=-1)]: Done 154 tasks      | elapsed: 154.2min\n",
            "[Parallel(n_jobs=-1)]: Done 363 out of 363 | elapsed: 362.0min finished\n"
          ],
          "name": "stderr"
        },
        {
          "output_type": "stream",
          "text": [
            "CPU times: user 5h 59min 49s, sys: 1min 46s, total: 6h 1min 35s\n",
            "Wall time: 6h 2min 22s\n"
          ],
          "name": "stdout"
        }
      ]
    },
    {
      "cell_type": "code",
      "metadata": {
        "id": "aqnhlZQ_xBtF",
        "colab": {
          "base_uri": "https://localhost:8080/",
          "height": 1000
        },
        "outputId": "6bdd0963-3b0f-4ede-8fa4-b3c8d19d9c27"
      },
      "source": [
        "print('best params:', grid_results.best_params_)\n",
        "print('best CV score:',grid_results.best_score_)\n",
        "\n",
        "means = grid_results.cv_results_['mean_test_score']\n",
        "stds = grid_results.cv_results_['std_test_score']\n",
        "params = grid_results.cv_results_['params']\n",
        "\n",
        "for mean, stdev, param in zip(means, stds, params):\n",
        "    print(\"%f (%f) with: %r\" % (mean, stdev, param))"
      ],
      "execution_count": null,
      "outputs": [
        {
          "output_type": "stream",
          "text": [
            "best params: {'c1': 0.4, 'c2': 0.7}\n",
            "best CV score: 0.6127874896000458\n",
            "0.602200 (0.026586) with: {'c1': 0.0, 'c2': 0.0}\n",
            "0.602200 (0.026586) with: {'c1': 0.0, 'c2': 0.1}\n",
            "0.602100 (0.026478) with: {'c1': 0.0, 'c2': 0.2}\n",
            "0.602168 (0.026552) with: {'c1': 0.0, 'c2': 0.3}\n",
            "0.602177 (0.026541) with: {'c1': 0.0, 'c2': 0.4}\n",
            "0.602247 (0.026464) with: {'c1': 0.0, 'c2': 0.5}\n",
            "0.602177 (0.026541) with: {'c1': 0.0, 'c2': 0.6}\n",
            "0.602206 (0.026564) with: {'c1': 0.0, 'c2': 0.7}\n",
            "0.602084 (0.026433) with: {'c1': 0.0, 'c2': 0.8}\n",
            "0.602054 (0.026364) with: {'c1': 0.0, 'c2': 0.9}\n",
            "0.602114 (0.026428) with: {'c1': 0.0, 'c2': 1.0}\n",
            "0.612494 (0.028941) with: {'c1': 0.1, 'c2': 0.0}\n",
            "0.612511 (0.028926) with: {'c1': 0.1, 'c2': 0.1}\n",
            "0.612496 (0.028890) with: {'c1': 0.1, 'c2': 0.2}\n",
            "0.612473 (0.028867) with: {'c1': 0.1, 'c2': 0.3}\n",
            "0.612471 (0.028865) with: {'c1': 0.1, 'c2': 0.4}\n",
            "0.612472 (0.028736) with: {'c1': 0.1, 'c2': 0.5}\n",
            "0.612508 (0.028761) with: {'c1': 0.1, 'c2': 0.6}\n",
            "0.612608 (0.028745) with: {'c1': 0.1, 'c2': 0.7}\n",
            "0.612627 (0.028743) with: {'c1': 0.1, 'c2': 0.8}\n",
            "0.612724 (0.028684) with: {'c1': 0.1, 'c2': 0.9}\n",
            "0.612670 (0.028634) with: {'c1': 0.1, 'c2': 1.0}\n",
            "0.612291 (0.028627) with: {'c1': 0.2, 'c2': 0.0}\n",
            "0.612291 (0.028627) with: {'c1': 0.2, 'c2': 0.1}\n",
            "0.612493 (0.028743) with: {'c1': 0.2, 'c2': 0.2}\n",
            "0.612542 (0.028756) with: {'c1': 0.2, 'c2': 0.3}\n",
            "0.612532 (0.028753) with: {'c1': 0.2, 'c2': 0.4}\n",
            "0.612524 (0.028635) with: {'c1': 0.2, 'c2': 0.5}\n",
            "0.612598 (0.028702) with: {'c1': 0.2, 'c2': 0.6}\n",
            "0.612632 (0.028718) with: {'c1': 0.2, 'c2': 0.7}\n",
            "0.612685 (0.028664) with: {'c1': 0.2, 'c2': 0.8}\n",
            "0.612595 (0.028568) with: {'c1': 0.2, 'c2': 0.9}\n",
            "0.612556 (0.028598) with: {'c1': 0.2, 'c2': 1.0}\n",
            "0.612357 (0.028930) with: {'c1': 0.3, 'c2': 0.0}\n",
            "0.612337 (0.028920) with: {'c1': 0.3, 'c2': 0.1}\n",
            "0.612232 (0.028908) with: {'c1': 0.3, 'c2': 0.2}\n",
            "0.612158 (0.029035) with: {'c1': 0.3, 'c2': 0.3}\n",
            "0.612227 (0.028972) with: {'c1': 0.3, 'c2': 0.4}\n",
            "0.612347 (0.029018) with: {'c1': 0.3, 'c2': 0.5}\n",
            "0.612336 (0.028923) with: {'c1': 0.3, 'c2': 0.6}\n",
            "0.612355 (0.028941) with: {'c1': 0.3, 'c2': 0.7}\n",
            "0.612297 (0.028879) with: {'c1': 0.3, 'c2': 0.8}\n",
            "0.612317 (0.028897) with: {'c1': 0.3, 'c2': 0.9}\n",
            "0.612327 (0.028920) with: {'c1': 0.3, 'c2': 1.0}\n",
            "0.612504 (0.028672) with: {'c1': 0.4, 'c2': 0.0}\n",
            "0.612453 (0.028776) with: {'c1': 0.4, 'c2': 0.1}\n",
            "0.612464 (0.028786) with: {'c1': 0.4, 'c2': 0.2}\n",
            "0.612535 (0.028838) with: {'c1': 0.4, 'c2': 0.3}\n",
            "0.612701 (0.028823) with: {'c1': 0.4, 'c2': 0.4}\n",
            "0.612784 (0.028899) with: {'c1': 0.4, 'c2': 0.5}\n",
            "0.612750 (0.028868) with: {'c1': 0.4, 'c2': 0.6}\n",
            "0.612787 (0.028917) with: {'c1': 0.4, 'c2': 0.7}\n",
            "0.612691 (0.029024) with: {'c1': 0.4, 'c2': 0.8}\n",
            "0.612658 (0.029001) with: {'c1': 0.4, 'c2': 0.9}\n",
            "0.612657 (0.029006) with: {'c1': 0.4, 'c2': 1.0}\n",
            "0.612524 (0.028803) with: {'c1': 0.5, 'c2': 0.0}\n",
            "0.612589 (0.028863) with: {'c1': 0.5, 'c2': 0.1}\n",
            "0.612567 (0.028843) with: {'c1': 0.5, 'c2': 0.2}\n",
            "0.612575 (0.028747) with: {'c1': 0.5, 'c2': 0.3}\n",
            "0.612575 (0.028747) with: {'c1': 0.5, 'c2': 0.4}\n",
            "0.612575 (0.028747) with: {'c1': 0.5, 'c2': 0.5}\n",
            "0.612575 (0.028747) with: {'c1': 0.5, 'c2': 0.6}\n",
            "0.612540 (0.028701) with: {'c1': 0.5, 'c2': 0.7}\n",
            "0.612499 (0.028720) with: {'c1': 0.5, 'c2': 0.8}\n",
            "0.612481 (0.028748) with: {'c1': 0.5, 'c2': 0.9}\n",
            "0.612391 (0.028739) with: {'c1': 0.5, 'c2': 1.0}\n",
            "0.612346 (0.028640) with: {'c1': 0.6, 'c2': 0.0}\n",
            "0.612260 (0.028570) with: {'c1': 0.6, 'c2': 0.1}\n",
            "0.612333 (0.028637) with: {'c1': 0.6, 'c2': 0.2}\n",
            "0.612333 (0.028637) with: {'c1': 0.6, 'c2': 0.3}\n",
            "0.612189 (0.028540) with: {'c1': 0.6, 'c2': 0.4}\n",
            "0.612218 (0.028553) with: {'c1': 0.6, 'c2': 0.5}\n",
            "0.612085 (0.028636) with: {'c1': 0.6, 'c2': 0.6}\n",
            "0.612096 (0.028645) with: {'c1': 0.6, 'c2': 0.7}\n",
            "0.612113 (0.028601) with: {'c1': 0.6, 'c2': 0.8}\n",
            "0.612127 (0.028633) with: {'c1': 0.6, 'c2': 0.9}\n",
            "0.612127 (0.028633) with: {'c1': 0.6, 'c2': 1.0}\n",
            "0.611807 (0.028761) with: {'c1': 0.7, 'c2': 0.0}\n",
            "0.611807 (0.028761) with: {'c1': 0.7, 'c2': 0.1}\n",
            "0.611907 (0.028732) with: {'c1': 0.7, 'c2': 0.2}\n",
            "0.611919 (0.028551) with: {'c1': 0.7, 'c2': 0.3}\n",
            "0.611856 (0.028586) with: {'c1': 0.7, 'c2': 0.4}\n",
            "0.611749 (0.028475) with: {'c1': 0.7, 'c2': 0.5}\n",
            "0.611766 (0.028468) with: {'c1': 0.7, 'c2': 0.6}\n",
            "0.611700 (0.028439) with: {'c1': 0.7, 'c2': 0.7}\n",
            "0.611700 (0.028439) with: {'c1': 0.7, 'c2': 0.8}\n",
            "0.611739 (0.028409) with: {'c1': 0.7, 'c2': 0.9}\n",
            "0.611760 (0.028429) with: {'c1': 0.7, 'c2': 1.0}\n",
            "0.611749 (0.028350) with: {'c1': 0.8, 'c2': 0.0}\n",
            "0.611793 (0.028288) with: {'c1': 0.8, 'c2': 0.1}\n",
            "0.611793 (0.028288) with: {'c1': 0.8, 'c2': 0.2}\n",
            "0.611718 (0.028284) with: {'c1': 0.8, 'c2': 0.3}\n",
            "0.611708 (0.028280) with: {'c1': 0.8, 'c2': 0.4}\n",
            "0.611751 (0.028245) with: {'c1': 0.8, 'c2': 0.5}\n",
            "0.611779 (0.028206) with: {'c1': 0.8, 'c2': 0.6}\n",
            "0.611738 (0.028171) with: {'c1': 0.8, 'c2': 0.7}\n",
            "0.611715 (0.028150) with: {'c1': 0.8, 'c2': 0.8}\n",
            "0.611690 (0.028089) with: {'c1': 0.8, 'c2': 0.9}\n",
            "0.611774 (0.028216) with: {'c1': 0.8, 'c2': 1.0}\n",
            "0.611516 (0.028285) with: {'c1': 0.9, 'c2': 0.0}\n",
            "0.611456 (0.028259) with: {'c1': 0.9, 'c2': 0.1}\n",
            "0.611400 (0.028337) with: {'c1': 0.9, 'c2': 0.2}\n",
            "0.611386 (0.028305) with: {'c1': 0.9, 'c2': 0.3}\n",
            "0.611396 (0.028315) with: {'c1': 0.9, 'c2': 0.4}\n",
            "0.611530 (0.028426) with: {'c1': 0.9, 'c2': 0.5}\n",
            "0.611530 (0.028426) with: {'c1': 0.9, 'c2': 0.6}\n",
            "0.611594 (0.028337) with: {'c1': 0.9, 'c2': 0.7}\n",
            "0.611572 (0.028316) with: {'c1': 0.9, 'c2': 0.8}\n",
            "0.611516 (0.028394) with: {'c1': 0.9, 'c2': 0.9}\n",
            "0.611506 (0.028390) with: {'c1': 0.9, 'c2': 1.0}\n",
            "0.611415 (0.028522) with: {'c1': 1.0, 'c2': 0.0}\n",
            "0.611502 (0.028425) with: {'c1': 1.0, 'c2': 0.1}\n",
            "0.611502 (0.028425) with: {'c1': 1.0, 'c2': 0.2}\n",
            "0.611565 (0.028484) with: {'c1': 1.0, 'c2': 0.3}\n",
            "0.611535 (0.028471) with: {'c1': 1.0, 'c2': 0.4}\n",
            "0.611574 (0.028362) with: {'c1': 1.0, 'c2': 0.5}\n",
            "0.611584 (0.028366) with: {'c1': 1.0, 'c2': 0.6}\n",
            "0.611569 (0.028334) with: {'c1': 1.0, 'c2': 0.7}\n",
            "0.611626 (0.028256) with: {'c1': 1.0, 'c2': 0.8}\n",
            "0.611643 (0.028249) with: {'c1': 1.0, 'c2': 0.9}\n",
            "0.611662 (0.028257) with: {'c1': 1.0, 'c2': 1.0}\n"
          ],
          "name": "stdout"
        }
      ]
    },
    {
      "cell_type": "code",
      "metadata": {
        "id": "Mk_jG6Q_K3CC"
      },
      "source": [
        "Results=pd.DataFrame(grid_results.cv_results_)\n",
        "Results=Results.sort_values(by=[\"mean_test_score\"])"
      ],
      "execution_count": null,
      "outputs": []
    },
    {
      "cell_type": "code",
      "metadata": {
        "id": "gxpAkHS7K3y9",
        "colab": {
          "base_uri": "https://localhost:8080/",
          "height": 751
        },
        "outputId": "ad9bbd2d-1302-45f1-81bb-d0e7c26291e5"
      },
      "source": [
        "%matplotlib inline\n",
        "import matplotlib.pyplot as plt\n",
        "import matplotlib as mpl\n",
        "import matplotlib.colors as colors\n",
        "plt.style.use('ggplot')\n",
        "\n",
        "fig = plt.figure()\n",
        "fig.set_size_inches(12, 12)\n",
        "ax = plt.gca()\n",
        "ax.set_xlabel('C1')\n",
        "ax.set_ylabel('C2')\n",
        "\n",
        "_x = list(Results[\"param_c1\"])\n",
        "_y = list(Results[\"param_c2\"])\n",
        "_f1 = list(Results[\"mean_test_score\"])\n",
        "\n",
        "ax.set_title(\"Hyperparameter Grid Search Results\")\n",
        "\n",
        "#norm_1 = colors.LogNorm(vmin=min(_f1),vmax=max(_f1))\n",
        "\n",
        "ax.scatter(_x, _y, c=_f1, s=100, alpha=1, edgecolors=[0,0,0], norm=colors.PowerNorm(gamma=1.5)) #LogNorm\n",
        "c1 = grid_results.best_params_[\"c1\"]\n",
        "c2 = grid_results.best_params_[\"c2\"]\n",
        "ax.scatter(c1,c2,color=\"red\", s=100)"
      ],
      "execution_count": null,
      "outputs": [
        {
          "output_type": "execute_result",
          "data": {
            "text/plain": [
              "<matplotlib.collections.PathCollection at 0x7fbf10df0e48>"
            ]
          },
          "metadata": {
            "tags": []
          },
          "execution_count": 46
        },
        {
          "output_type": "display_data",
          "data": {
            "image/png": "[encoded data removed]",
            "text/plain": [
              "<Figure size 864x864 with 1 Axes>"
            ]
          },
          "metadata": {
            "tags": []
          }
        }
      ]
    },
    {
      "cell_type": "code",
      "metadata": {
        "id": "B3wVTAQcLkun",
        "colab": {
          "base_uri": "https://localhost:8080/",
          "height": 17
        },
        "outputId": "88153fad-f6dc-469f-b36c-3f34c9bfbc49"
      },
      "source": [
        "from google.colab import files\n",
        "Results.to_csv('Grid_2.csv')\n",
        "files.download('Grid_2.csv')"
      ],
      "execution_count": null,
      "outputs": [
        {
          "output_type": "display_data",
          "data": {
            "application/javascript": [
              "\n",
              "    async function download(id, filename, size) {\n",
              "      if (!google.colab.kernel.accessAllowed) {\n",
              "        return;\n",
              "      }\n",
              "      const div = document.createElement('div');\n",
              "      const label = document.createElement('label');\n",
              "      label.textContent = `Downloading \"${filename}\": `;\n",
              "      div.appendChild(label);\n",
              "      const progress = document.createElement('progress');\n",
              "      progress.max = size;\n",
              "      div.appendChild(progress);\n",
              "      document.body.appendChild(div);\n",
              "\n",
              "      const buffers = [];\n",
              "      let downloaded = 0;\n",
              "\n",
              "      const channel = await google.colab.kernel.comms.open(id);\n",
              "      // Send a message to notify the kernel that we're ready.\n",
              "      channel.send({})\n",
              "\n",
              "      for await (const message of channel.messages) {\n",
              "        // Send a message to notify the kernel that we're ready.\n",
              "        channel.send({})\n",
              "        if (message.buffers) {\n",
              "          for (const buffer of message.buffers) {\n",
              "            buffers.push(buffer);\n",
              "            downloaded += buffer.byteLength;\n",
              "            progress.value = downloaded;\n",
              "          }\n",
              "        }\n",
              "      }\n",
              "      const blob = new Blob(buffers, {type: 'application/binary'});\n",
              "      const a = document.createElement('a');\n",
              "      a.href = window.URL.createObjectURL(blob);\n",
              "      a.download = filename;\n",
              "      div.appendChild(a);\n",
              "      a.click();\n",
              "      div.remove();\n",
              "    }\n",
              "  "
            ],
            "text/plain": [
              "<IPython.core.display.Javascript object>"
            ]
          },
          "metadata": {
            "tags": []
          }
        },
        {
          "output_type": "display_data",
          "data": {
            "application/javascript": [
              "download(\"download_84e0813b-08fe-4499-9820-b4eac1596330\", \"Grid_2.csv\", 37373)"
            ],
            "text/plain": [
              "<IPython.core.display.Javascript object>"
            ]
          },
          "metadata": {
            "tags": []
          }
        }
      ]
    },
    {
      "cell_type": "code",
      "metadata": {
        "id": "ueZf9ilULuLw",
        "colab": {
          "base_uri": "https://localhost:8080/",
          "height": 17
        },
        "outputId": "e9eeaed1-bb2f-4485-e131-f5d550e69730"
      },
      "source": [
        "fig.savefig('Grid_2.png')\n",
        "files.download(\"Grid_2.png\") "
      ],
      "execution_count": null,
      "outputs": [
        {
          "output_type": "display_data",
          "data": {
            "application/javascript": [
              "\n",
              "    async function download(id, filename, size) {\n",
              "      if (!google.colab.kernel.accessAllowed) {\n",
              "        return;\n",
              "      }\n",
              "      const div = document.createElement('div');\n",
              "      const label = document.createElement('label');\n",
              "      label.textContent = `Downloading \"${filename}\": `;\n",
              "      div.appendChild(label);\n",
              "      const progress = document.createElement('progress');\n",
              "      progress.max = size;\n",
              "      div.appendChild(progress);\n",
              "      document.body.appendChild(div);\n",
              "\n",
              "      const buffers = [];\n",
              "      let downloaded = 0;\n",
              "\n",
              "      const channel = await google.colab.kernel.comms.open(id);\n",
              "      // Send a message to notify the kernel that we're ready.\n",
              "      channel.send({})\n",
              "\n",
              "      for await (const message of channel.messages) {\n",
              "        // Send a message to notify the kernel that we're ready.\n",
              "        channel.send({})\n",
              "        if (message.buffers) {\n",
              "          for (const buffer of message.buffers) {\n",
              "            buffers.push(buffer);\n",
              "            downloaded += buffer.byteLength;\n",
              "            progress.value = downloaded;\n",
              "          }\n",
              "        }\n",
              "      }\n",
              "      const blob = new Blob(buffers, {type: 'application/binary'});\n",
              "      const a = document.createElement('a');\n",
              "      a.href = window.URL.createObjectURL(blob);\n",
              "      a.download = filename;\n",
              "      div.appendChild(a);\n",
              "      a.click();\n",
              "      div.remove();\n",
              "    }\n",
              "  "
            ],
            "text/plain": [
              "<IPython.core.display.Javascript object>"
            ]
          },
          "metadata": {
            "tags": []
          }
        },
        {
          "output_type": "display_data",
          "data": {
            "application/javascript": [
              "download(\"download_ea800d4f-99bf-4492-9bae-cbff8db8ede6\", \"Grid_2.png\", 50190)"
            ],
            "text/plain": [
              "<IPython.core.display.Javascript object>"
            ]
          },
          "metadata": {
            "tags": []
          }
        }
      ]
    }
  ]
}