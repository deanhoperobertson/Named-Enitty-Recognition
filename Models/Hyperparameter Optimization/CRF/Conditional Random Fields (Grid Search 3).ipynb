{
  "nbformat": 4,
  "nbformat_minor": 0,
  "metadata": {
    "colab": {
      "name": "Conditional Random Fields (Grid Search 3)",
      "provenance": [],
      "collapsed_sections": [],
      "machine_shape": "hm",
      "include_colab_link": true
    },
    "kernelspec": {
      "name": "python3",
      "display_name": "Python 3"
    }
  },
  "cells": [
    {
      "cell_type": "markdown",
      "metadata": {
        "id": "view-in-github",
        "colab_type": "text"
      },
      "source": [
        "<a href=\"https://colab.research.google.com/github/deanhoperobertson/Named-Enitty-Recognition/blob/master/Models/Hyperparameter%20Optimization/CRF/Conditional%20Random%20Fields%20(Grid%20Search%203).ipynb\" target=\"_parent\"><img src=\"https://colab.research.google.com/assets/colab-badge.svg\" alt=\"Open In Colab\"/></a>"
      ]
    },
    {
      "cell_type": "code",
      "metadata": {
        "id": "g6OTvloa4CVO",
        "colab": {
          "resources": {
            "http://localhost:8080/nbextensions/google.colab/files.js": {
              "data": "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",
              "ok": true,
              "headers": [
                [
                  "content-type",
                  "application/javascript"
                ]
              ],
              "status": 200,
              "status_text": ""
            }
          },
          "base_uri": "https://localhost:8080/",
          "height": 74
        },
        "outputId": "f344ae44-9d01-46e3-de0a-e29d3c8bcfbe"
      },
      "source": [
        "from google.colab import files\n",
        "uploaded = files.upload()"
      ],
      "execution_count": null,
      "outputs": [
        {
          "output_type": "display_data",
          "data": {
            "text/html": [
              "\n",
              "     <input type=\"file\" id=\"files-7399df48-ac0a-498b-8a1a-ffcfea151484\" name=\"files[]\" multiple disabled />\n",
              "     <output id=\"result-7399df48-ac0a-498b-8a1a-ffcfea151484\">\n",
              "      Upload widget is only available when the cell has been executed in the\n",
              "      current browser session. Please rerun this cell to enable.\n",
              "      </output>\n",
              "      <script src=\"/nbextensions/google.colab/files.js\"></script> "
            ],
            "text/plain": [
              "<IPython.core.display.HTML object>"
            ]
          },
          "metadata": {
            "tags": []
          }
        },
        {
          "output_type": "stream",
          "text": [
            "Saving prepro.py to prepro.py\n"
          ],
          "name": "stdout"
        }
      ]
    },
    {
      "cell_type": "code",
      "metadata": {
        "id": "jaLZPShU4C5X",
        "colab": {
          "base_uri": "https://localhost:8080/",
          "height": 207
        },
        "outputId": "53719ac8-900d-4ab0-ce83-d5ae30418f0f"
      },
      "source": [
        "!pip install sklearn_crfsuite"
      ],
      "execution_count": null,
      "outputs": [
        {
          "output_type": "stream",
          "text": [
            "Collecting sklearn_crfsuite\n",
            "  Downloading https://files.pythonhosted.org/packages/25/74/5b7befa513482e6dee1f3dd68171a6c9dfc14c0eaa00f885ffeba54fe9b0/sklearn_crfsuite-0.3.6-py2.py3-none-any.whl\n",
            "Requirement already satisfied: tabulate in /usr/local/lib/python3.6/dist-packages (from sklearn_crfsuite) (0.8.7)\n",
            "Requirement already satisfied: six in /usr/local/lib/python3.6/dist-packages (from sklearn_crfsuite) (1.12.0)\n",
            "Collecting python-crfsuite>=0.8.3\n",
            "\u001b[?25l  Downloading https://files.pythonhosted.org/packages/95/99/869dde6dbf3e0d07a013c8eebfb0a3d30776334e0097f8432b631a9a3a19/python_crfsuite-0.9.7-cp36-cp36m-manylinux1_x86_64.whl (743kB)\n",
            "\u001b[K     |████████████████████████████████| 747kB 4.0MB/s \n",
            "\u001b[?25hRequirement already satisfied: tqdm>=2.0 in /usr/local/lib/python3.6/dist-packages (from sklearn_crfsuite) (4.41.1)\n",
            "Installing collected packages: python-crfsuite, sklearn-crfsuite\n",
            "Successfully installed python-crfsuite-0.9.7 sklearn-crfsuite-0.3.6\n"
          ],
          "name": "stdout"
        }
      ]
    },
    {
      "cell_type": "code",
      "metadata": {
        "id": "qDtief2UV8sX"
      },
      "source": [
        "import pandas as pd\n",
        "import numpy as np\n",
        "import urllib.request\n",
        "import re\n",
        "from collections import OrderedDict\n",
        "\n",
        "#grid search\n",
        "import scipy.stats\n",
        "from sklearn.metrics import make_scorer\n",
        "from sklearn.model_selection import GridSearchCV\n",
        "\n",
        "#Custom models\n",
        "from prepro import *\n",
        "\n",
        "#Model\n",
        "from sklearn_crfsuite import CRF\n",
        "\n",
        "#Evalulation\n",
        "from sklearn_crfsuite.metrics import flat_f1_score"
      ],
      "execution_count": null,
      "outputs": []
    },
    {
      "cell_type": "code",
      "metadata": {
        "id": "bxKta7pHV-Xz"
      },
      "source": [
        "#import data from my github repo\n",
        "train_url = \"https://raw.githubusercontent.com/deanhoperobertson/Named-Enitty-Recognition/master/Data/train.txt\"\n",
        "test_url = \"https://raw.githubusercontent.com/deanhoperobertson/Named-Enitty-Recognition/master/Data/test.txt\"\n",
        "train = urllib.request.urlopen(train_url).read()\n",
        "test = urllib.request.urlopen(test_url).read()\n",
        "train = train.decode('utf-8')\n",
        "test = test.decode('utf-8')\n",
        "\n",
        "#preproces the txt file\n",
        "train = readstring(train,\"NONE\")\n",
        "test = readstring(test, \"NONE\")"
      ],
      "execution_count": null,
      "outputs": []
    },
    {
      "cell_type": "markdown",
      "metadata": {
        "id": "j1xaQzBBWRp3"
      },
      "source": [
        "## Orthographic Feature Engineering"
      ]
    },
    {
      "cell_type": "code",
      "metadata": {
        "id": "47lFFjoVWEtb"
      },
      "source": [
        "#Engineered Features:\n",
        "def mix(word):\n",
        "    if word.isalnum():\n",
        "        if re.search(\"^(?=.*[a-zA-Z])(?=.*[0-9])\",word): return True\n",
        "        else: return False\n",
        "    else:\n",
        "        return False\n",
        "\n",
        "def non_intial(word):\n",
        "    '''\n",
        "    The Function the boolean if a non-initial captital letter is present\n",
        "    '''\n",
        "    return not word[1:].islower()\n",
        "\n",
        "def contain_punct(word):\n",
        "    '''\n",
        "    The Function returns the boolean if punctuations is present in token\n",
        "    '''\n",
        "    if re.match(r'^\\w+$',word):return False\n",
        "    else: return True\n",
        "    \n",
        "def apostrophe(word):\n",
        "    '''\n",
        "    The Function returns boolean if \"'s\" is present in token \n",
        "    '''\n",
        "    if word ==\"'s\":return True\n",
        "    else:return False\n",
        "    \n",
        "def word_pattern(word):\n",
        "    '''\n",
        "    The Function returns word patter feature\n",
        "    Upper Case = \"A\"\n",
        "    Lower Case = \"a\"\n",
        "    Digit = \"0\"\n",
        "    '''\n",
        "    token=\"\"\n",
        "    for i in word:\n",
        "        if i.isupper():\n",
        "            token +=\"A\"\n",
        "        elif i.islower():\n",
        "            token +=\"a\"\n",
        "        elif i.isdigit():\n",
        "            token +=\"0\"\n",
        "        else:\n",
        "            token +=str(i)\n",
        "    return token\n",
        "\n",
        "def pattern_sum(word):\n",
        "    '''\n",
        "    The Function returns the word patern without consectutive duplicates\n",
        "    '''\n",
        "    return ''.join(OrderedDict.fromkeys(word))"
      ],
      "execution_count": null,
      "outputs": []
    },
    {
      "cell_type": "code",
      "metadata": {
        "id": "bF_ZZSmnWvR4"
      },
      "source": [
        "def word2features(sentence,i):\n",
        "    word = sentence[i]\n",
        "\n",
        "    features = {\n",
        "        'bias': 1.0,\n",
        "        'word.lower()': word.lower(),\n",
        "        \n",
        "        'Prefix_2': word[:2], # prefix\n",
        "        'Prefix_3': word[:3], # prefix\n",
        "        \n",
        "        'word.istitle()': word.istitle(), #starts with caps\n",
        "        'word.isupper()': word.isupper(), #all caps\n",
        "        'word.islower()': word.islower(), #all lower case\n",
        "        'word.isdigit()': word.isdigit(), #all digits\n",
        "        'word.isalpha()': word.isalpha(), #all letters\n",
        "        \n",
        "        'word.punct()': contain_punct(word),#contains punctuation\n",
        "        'word.apost()': apostrophe(word), #is an apostrophe\n",
        "        'word.non_intial': non_intial(word), #non-initial capitals\n",
        "        'word.mix': mix(word), #mixture of letters and digits\n",
        "        'word.pattern()': word_pattern(word), #word pattern\n",
        "        'word.pattern_sum()': pattern_sum(word_pattern(word)), #word pattern summary\n",
        "        \n",
        "        'Suffix_2': word[-2:], # suffix\n",
        "        'Suffix_3': word[-3:], # suffix\n",
        "    }\n",
        "    if  i == 1 :\n",
        "        '''\n",
        "        Get the token before in the sentence\n",
        "        '''\n",
        "        word1 = sentence[i-1]\n",
        "        features.update({\n",
        "          '-1word.lower()':word1.lower(),\n",
        "          '-1Prefix_2': word1[:2],\n",
        "          '-1Prefix_3': word1[:3], \n",
        "          '-1word.istitle()':word1.istitle(), \n",
        "          '-1word.isupper()':word1.isupper(), \n",
        "          '-1word.islower()':word1.islower(),\n",
        "          '-1word.isdigit()':word1.isdigit(), \n",
        "          '-1word.isalpha()':word1.isalpha(), \n",
        "          '-1word.punct()': contain_punct(word1),\n",
        "          '-1word.apost()': apostrophe(word1),\n",
        "          '-1word.non_intial': non_intial(word1),\n",
        "          '-1word.mix': mix(word1),\n",
        "          '-1word.pattern()': word_pattern(word1),\n",
        "          '-1word.pattern_sum()': pattern_sum(word_pattern(word1)), \n",
        "          '-1Suffix_2': word1[-2:], \n",
        "          '-1Suffix_3': word1[-3:], \n",
        "        })\n",
        "        \n",
        "    elif i==2:\n",
        "        word1 = sentence[i-1]\n",
        "        word2 = sentence[i-2]\n",
        "        \n",
        "        features.update({\n",
        "          '-1word.lower()': word1.lower(),\n",
        "          '-1Prefix_2':word1[:2],\n",
        "          '-1Prefix_3':word1[:3], \n",
        "          '-1word.istitle()': word1.istitle(), \n",
        "          '-1word.isupper()': word1.isupper(), \n",
        "          '-1word.islower()': word1.islower(),\n",
        "          '-1word.isdigit()': word1.isdigit(), \n",
        "          '-1word.isalpha()': word1.isalpha(), \n",
        "          '-1word.punct()': contain_punct(word1),\n",
        "          '-1word.apost()': apostrophe(word1),\n",
        "          '-1word.non_intial': non_intial(word1),\n",
        "          '-1word.mix': mix(word1),\n",
        "          '-1word.pattern()': word_pattern(word1),\n",
        "          '-1word.pattern_sum()': pattern_sum(word_pattern(word1)), \n",
        "          '-1Suffix_2':word1[-2:], \n",
        "          '-1Suffix_3':word1[-3:], \n",
        "            \n",
        "            \n",
        "          '-2word.lower()': word2.lower(),\n",
        "          '-2Prefix_2':word2[:2],\n",
        "          '-2Prefix_3':word2[:3], \n",
        "          '-2word.istitle()': word2.istitle(), \n",
        "          '-2word.isupper()': word2.isupper(), \n",
        "          '-2word.islower()': word2.islower(),\n",
        "          '-2word.isdigit()': word2.isdigit(), \n",
        "          '-2word.isalpha()': word2.isalpha(), \n",
        "          '-2word.punct()': contain_punct(word2),\n",
        "          '-2word.apost()': apostrophe(word2),\n",
        "          '-2word.non_intial': non_intial(word2),\n",
        "          '-2word.mix': mix(word2),\n",
        "          '-2word.pattern()': word_pattern(word2),\n",
        "          '-2word.pattern_sum()': pattern_sum(word_pattern(word2)), \n",
        "          '-2Suffix_2':word2[-2:], \n",
        "          '-2Suffix_3':word2[-3:], \n",
        "        })\n",
        "        \n",
        "    elif i>2:\n",
        "        word1 = sentence[i-1]\n",
        "        word2 = sentence[i-2]\n",
        "        word3 = sentence[i-3]\n",
        "        \n",
        "        features.update({\n",
        "          '-1word.lower()': word1.lower(),\n",
        "          '-1Prefix_2':word1[:2],\n",
        "          '-1Prefix_3':word1[:3], \n",
        "          '-1word.istitle()': word1.istitle(), \n",
        "          '-1word.isupper()': word1.isupper(), \n",
        "          '-1word.islower()': word1.islower(),\n",
        "          '-1word.isdigit()': word1.isdigit(), \n",
        "          '-1word.isalpha()': word1.isalpha(), \n",
        "          '-1word.punct()': contain_punct(word1),\n",
        "          '-1word.apost()': apostrophe(word1),\n",
        "          '-1word.non_intial': non_intial(word1),\n",
        "          '-1word.mix': mix(word1),\n",
        "          '-1word.pattern()': word_pattern(word1),\n",
        "          '-1word.pattern_sum()': pattern_sum(word_pattern(word1)), \n",
        "          '-1Suffix_2':word1[-2:], \n",
        "          '-1Suffix_3':word1[-3:], \n",
        "            \n",
        "            \n",
        "          '-2word.lower()': word2.lower(),\n",
        "          '-2Prefix_2':word2[:2],\n",
        "          '-2Prefix_3':word2[:3], \n",
        "          '-2word.istitle()': word2.istitle(), \n",
        "          '-2word.isupper()': word2.isupper(), \n",
        "          '-2word.islower()': word2.islower(),\n",
        "          '-2word.isdigit()': word2.isdigit(), \n",
        "          '-2word.isalpha()': word2.isalpha(), \n",
        "          '-2word.punct()': contain_punct(word2),\n",
        "          '-2word.apost()': apostrophe(word2),\n",
        "          '-2word.non_intial': non_intial(word2),\n",
        "          '-2word.mix': mix(word2),\n",
        "          '-2word.pattern()': word_pattern(word2),\n",
        "          '-2word.pattern_sum()': pattern_sum(word_pattern(word2)), \n",
        "          '-2Suffix_2':word2[-2:], \n",
        "          '-2Suffix_3':word2[-3:], \n",
        "            \n",
        "          '-3word.lower()': word3.lower(),\n",
        "          '-3Prefix_2':word3[:2],\n",
        "          '-3Prefix_3':word3[:3], \n",
        "          '-3word.istitle()': word3.istitle(), \n",
        "          '-3word.isupper()': word3.isupper(), \n",
        "          '-3word.islower()': word3.islower(),\n",
        "          '-3word.isdigit()': word3.isdigit(), \n",
        "          '-3word.isalpha()': word3.isalpha(), \n",
        "          '-3word.punct()': contain_punct(word3),\n",
        "          '-3word.apost()': apostrophe(word3),\n",
        "          '-3word.non_intial': non_intial(word3),\n",
        "          '-3word.mix': mix(word3),\n",
        "          '-3word.pattern()': word_pattern(word3),\n",
        "          '-3word.pattern_sum()': pattern_sum(word_pattern(word3)), \n",
        "          '-3Suffix_2':word3[-2:], \n",
        "          '-3Suffix_3':word3[-3:], \n",
        "        })\n",
        "        \n",
        "    else:\n",
        "        features['Start'] = True\n",
        "        \n",
        "    if i == len(sentence)-2:\n",
        "        '''\n",
        "        Get the token after in the sentence\n",
        "        '''\n",
        "        word1 = sentence[i+1]\n",
        "        features.update({\n",
        "          '+1word.lower()': word1.lower(),\n",
        "          '+1Prefix_2':word1[:2],\n",
        "          '+1Prefix_3':word1[:3], \n",
        "          '+1word.istitle()': word1.istitle(), \n",
        "          '+1word.isupper()': word1.isupper(), \n",
        "          '+1word.islower()': word1.islower(),\n",
        "          '+1word.isdigit()': word1.isdigit(), \n",
        "          '+1word.isalpha()': word1.isalpha(), \n",
        "          '+1word.punct()': contain_punct(word1),\n",
        "          '+1word.apost()': apostrophe(word1),\n",
        "          '+1word.non_intial': non_intial(word1),\n",
        "          '+1word.mix': mix(word1),\n",
        "          '+1word.pattern()': word_pattern(word1),\n",
        "          '+1word.pattern_sum()': pattern_sum(word_pattern(word1)), \n",
        "          '+1Suffix_2':word1[-2:], \n",
        "          '+1Suffix_3':word1[-3:], \n",
        "        })\n",
        "        \n",
        "    elif i == len(sentence)-3:\n",
        "        word1 = sentence[i+1]\n",
        "        word2 = sentence[i+2]\n",
        "        \n",
        "        features.update({\n",
        "          '+1word.lower()': word1.lower(),\n",
        "          '+1Prefix_2':word1[:2],\n",
        "          '+1Prefix_3':word1[:3], \n",
        "          '+1word.istitle()': word1.istitle(), \n",
        "          '+1word.isupper()': word1.isupper(), \n",
        "          '+1word.islower()': word1.islower(),\n",
        "          '+1word.isdigit()': word1.isdigit(), \n",
        "          '+1word.isalpha()': word1.isalpha(), \n",
        "          '+1word.punct()': contain_punct(word1),\n",
        "          '+1word.apost()': apostrophe(word1),\n",
        "          '+1word.non_intial': non_intial(word1),\n",
        "          '+1word.mix': mix(word1),\n",
        "          '+1word.pattern()': word_pattern(word1),\n",
        "          '+1word.pattern_sum()': pattern_sum(word_pattern(word1)), \n",
        "          '+1Suffix_2':word1[-2:], \n",
        "          '+1Suffix_3':word1[-3:], \n",
        "            \n",
        "          '+2word.lower()': word2.lower(),\n",
        "          '+2Prefix_2':word2[:2],\n",
        "          '+2Prefix_3':word2[:3], \n",
        "          '+2word.istitle()': word2.istitle(), \n",
        "          '+2word.isupper()': word2.isupper(), \n",
        "          '+2word.islower()': word2.islower(),\n",
        "          '+2word.isdigit()': word2.isdigit(), \n",
        "          '+2word.isalpha()': word2.isalpha(), \n",
        "          '+2word.punct()': contain_punct(word2),\n",
        "          '+2word.apost()': apostrophe(word2),\n",
        "          '+2word.non_intial': non_intial(word2),\n",
        "          '+2word.mix': mix(word2),\n",
        "          '+2word.pattern()': word_pattern(word2),\n",
        "          '+2word.pattern_sum()': pattern_sum(word_pattern(word2)), \n",
        "          '+2Suffix_2':word2[-2:], \n",
        "          '+2Suffix_3':word2[-3:], \n",
        "        })\n",
        "        \n",
        "    elif i < len(sentence)-3:\n",
        "        word1 = sentence[i+1]\n",
        "        word2 = sentence[i+2]\n",
        "        word3 = sentence[i+3]\n",
        "        \n",
        "        features.update({\n",
        "          '+1word.lower()': word1.lower(),\n",
        "          '+1Prefix_2':word1[:2],\n",
        "          '+1Prefix_3':word1[:3], \n",
        "          '+1word.istitle()': word1.istitle(), \n",
        "          '+1word.isupper()': word1.isupper(), \n",
        "          '+1word.islower()': word1.islower(),\n",
        "          '+1word.isdigit()': word1.isdigit(), \n",
        "          '+1word.isalpha()': word1.isalpha(), \n",
        "          '+1word.punct()': contain_punct(word1),\n",
        "          '+1word.apost()': apostrophe(word1),\n",
        "          '+1word.non_intial': non_intial(word1),\n",
        "          '+1word.mix': mix(word1),\n",
        "          '+1word.pattern()': word_pattern(word1),\n",
        "          '+1word.pattern_sum()': pattern_sum(word_pattern(word1)), \n",
        "          '+1Suffix_2':word1[-2:], \n",
        "          '+1Suffix_3':word1[-3:], \n",
        "            \n",
        "          '+2word.lower()': word2.lower(),\n",
        "          '+2Prefix_2':word2[:2],\n",
        "          '+2Prefix_3':word2[:3], \n",
        "          '+2word.istitle()': word2.istitle(), \n",
        "          '+2word.isupper()': word2.isupper(), \n",
        "          '+2word.islower()': word2.islower(),\n",
        "          '+2word.isdigit()': word2.isdigit(), \n",
        "          '+2word.isalpha()': word2.isalpha(), \n",
        "          '+2word.punct()': contain_punct(word2),\n",
        "          '+2word.apost()': apostrophe(word2),\n",
        "          '+2word.non_intial': non_intial(word2),\n",
        "          '+2word.mix': mix(word2),\n",
        "          '+2word.pattern()': word_pattern(word2),\n",
        "          '+2word.pattern_sum()': pattern_sum(word_pattern(word2)), \n",
        "          '+2Suffix_2':word2[-2:], \n",
        "          '+2Suffix_3':word2[-3:], \n",
        "            \n",
        "          '+3word.lower()': word3.lower(),\n",
        "          '+3Prefix_2':word3[:2],\n",
        "          '+3Prefix_3':word3[:3], \n",
        "          '+3word.istitle()': word3.istitle(), \n",
        "          '+3word.isupper()': word3.isupper(), \n",
        "          '+3word.islower()': word3.islower(),\n",
        "          '+3word.isdigit()': word3.isdigit(), \n",
        "          '+3word.isalpha()': word3.isalpha(), \n",
        "          '+3word.punct()': contain_punct(word3),\n",
        "          '+3word.apost()': apostrophe(word3),\n",
        "          '+3word.non_intial': non_intial(word3),\n",
        "          '+3word.mix': mix(word3),\n",
        "          '+3word.pattern()': word_pattern(word3),\n",
        "          '+3word.pattern_sum()': pattern_sum(word_pattern(word3)), \n",
        "          '+3Suffix_2':word3[-2:], \n",
        "          '+3Suffix_3':word3[-3:], \n",
        "        })\n",
        "        \n",
        "        \n",
        "    else:\n",
        "        features['End'] = True\n",
        "    \n",
        "    return features\n",
        "\n",
        "def sent2features(sent):\n",
        "    return [word2features(sent, i) for i in range(len(sent))]\n",
        "\n",
        "def get_all_sentences(dataset):\n",
        "    sentences=[]\n",
        "    for i in range(len(dataset)):\n",
        "        sentences.append(get_sentence(dataset,i+1))\n",
        "    return sentences\n",
        "\n",
        "def get_all_labels(dataset):\n",
        "    labels=[]\n",
        "    for i in range(len(dataset)):\n",
        "        #labels.append(partial_tags(get_label(dataset,i+1)))\n",
        "        labels.append(get_label(dataset,i+1))\n",
        "    return labels"
      ],
      "execution_count": null,
      "outputs": []
    },
    {
      "cell_type": "code",
      "metadata": {
        "id": "E84PN1BAW3ro",
        "colab": {
          "base_uri": "https://localhost:8080/",
          "height": 231
        },
        "outputId": "451f5dca-7867-454a-96eb-817e815e23a7"
      },
      "source": [
        "#Apply feature engineering\n",
        "train_sents = get_all_sentences(train)\n",
        "train_labels = get_all_labels(train)\n",
        "test_sents = get_all_sentences(test)\n",
        "test_labels = get_all_labels(test)\n",
        "\n",
        "X_train = [sent2features(s) for s in train_sents]\n",
        "y_train = train_labels\n",
        "X_test = [sent2features(s) for s in test_sents]\n",
        "y_test = test_labels\n",
        "\n",
        "\n",
        "sub_labels=list(set([item for sublist in train_labels for item in sublist]))\n",
        "sub_labels.remove(\"O\")"
      ],
      "execution_count": null,
      "outputs": [
        {
          "output_type": "error",
          "ename": "NameError",
          "evalue": "ignored",
          "traceback": [
            "\u001b[0;31m---------------------------------------------------------------------------\u001b[0m",
            "\u001b[0;31mNameError\u001b[0m                                 Traceback (most recent call last)",
            "\u001b[0;32m<ipython-input-2-332e3324c77e>\u001b[0m in \u001b[0;36m<module>\u001b[0;34m()\u001b[0m\n\u001b[1;32m      1\u001b[0m \u001b[0;31m#Apply feature engineering\u001b[0m\u001b[0;34m\u001b[0m\u001b[0;34m\u001b[0m\u001b[0;34m\u001b[0m\u001b[0m\n\u001b[0;32m----> 2\u001b[0;31m \u001b[0mtrain_sents\u001b[0m \u001b[0;34m=\u001b[0m \u001b[0mget_all_sentences\u001b[0m\u001b[0;34m(\u001b[0m\u001b[0mtrain\u001b[0m\u001b[0;34m)\u001b[0m\u001b[0;34m\u001b[0m\u001b[0;34m\u001b[0m\u001b[0m\n\u001b[0m\u001b[1;32m      3\u001b[0m \u001b[0mtrain_labels\u001b[0m \u001b[0;34m=\u001b[0m \u001b[0mget_all_labels\u001b[0m\u001b[0;34m(\u001b[0m\u001b[0mtrain\u001b[0m\u001b[0;34m)\u001b[0m\u001b[0;34m\u001b[0m\u001b[0;34m\u001b[0m\u001b[0m\n\u001b[1;32m      4\u001b[0m \u001b[0mtest_sents\u001b[0m \u001b[0;34m=\u001b[0m \u001b[0mget_all_sentences\u001b[0m\u001b[0;34m(\u001b[0m\u001b[0mtest\u001b[0m\u001b[0;34m)\u001b[0m\u001b[0;34m\u001b[0m\u001b[0;34m\u001b[0m\u001b[0m\n\u001b[1;32m      5\u001b[0m \u001b[0mtest_labels\u001b[0m \u001b[0;34m=\u001b[0m \u001b[0mget_all_labels\u001b[0m\u001b[0;34m(\u001b[0m\u001b[0mtest\u001b[0m\u001b[0;34m)\u001b[0m\u001b[0;34m\u001b[0m\u001b[0;34m\u001b[0m\u001b[0m\n",
            "\u001b[0;31mNameError\u001b[0m: name 'train' is not defined"
          ]
        }
      ]
    },
    {
      "cell_type": "markdown",
      "metadata": {
        "id": "YXQz3yAcXCa0"
      },
      "source": [
        "## Grid Search\n",
        "\n"
      ]
    },
    {
      "cell_type": "code",
      "metadata": {
        "id": "oKL-2EAUr4w9"
      },
      "source": [
        "crf = CRF(\n",
        "    algorithm='lbfgs',\n",
        "    max_iterations=10,\n",
        "    all_possible_transitions=False\n",
        ")\n",
        "\n",
        "c1_c2= tuple(round(i,2) for i in list(np.linspace(0,1,11)))\n",
        "\n",
        "\n",
        "parameters = {'c1':c1_c2,\n",
        "             'c2': c1_c2}\n",
        "\n",
        "f1_scorer = make_scorer(flat_f1_score,\n",
        "                        average='micro',\n",
        "                        labels=sub_labels)\n",
        "\n",
        "grid = GridSearchCV(crf, \n",
        "                    parameters,\n",
        "                    n_jobs=-1,\n",
        "                    scoring =f1_scorer,\n",
        "                    verbose=2,\n",
        "                    return_train_score=True,\n",
        "                    cv=3)"
      ],
      "execution_count": null,
      "outputs": []
    },
    {
      "cell_type": "code",
      "metadata": {
        "id": "qpikYqa-wecF",
        "colab": {
          "base_uri": "https://localhost:8080/",
          "height": 224
        },
        "outputId": "47cefc0c-9939-4c01-bae2-4e7fc7848c2d"
      },
      "source": [
        "%%time\n",
        "grid_results=grid.fit(X_train, y_train)"
      ],
      "execution_count": null,
      "outputs": [
        {
          "output_type": "stream",
          "text": [
            "/usr/local/lib/python3.6/dist-packages/sklearn/base.py:197: FutureWarning: From version 0.24, get_params will raise an AttributeError if a parameter cannot be retrieved as an instance attribute. Previously it would return None.\n",
            "  FutureWarning)\n"
          ],
          "name": "stderr"
        },
        {
          "output_type": "stream",
          "text": [
            "Fitting 3 folds for each of 121 candidates, totalling 363 fits\n"
          ],
          "name": "stdout"
        },
        {
          "output_type": "stream",
          "text": [
            "[Parallel(n_jobs=-1)]: Using backend LokyBackend with 4 concurrent workers.\n",
            "/usr/local/lib/python3.6/dist-packages/joblib/externals/loky/process_executor.py:706: UserWarning: A worker stopped while some jobs were given to the executor. This can be caused by a too short worker timeout or by a memory leak.\n",
            "  \"timeout or by a memory leak.\", UserWarning\n",
            "[Parallel(n_jobs=-1)]: Done  33 tasks      | elapsed: 42.1min\n",
            "[Parallel(n_jobs=-1)]: Done 154 tasks      | elapsed: 193.7min\n",
            "[Parallel(n_jobs=-1)]: Done 363 out of 363 | elapsed: 459.5min finished\n"
          ],
          "name": "stderr"
        },
        {
          "output_type": "stream",
          "text": [
            "CPU times: user 7h 32min 29s, sys: 6min 11s, total: 7h 38min 41s\n",
            "Wall time: 7h 40min 7s\n"
          ],
          "name": "stdout"
        }
      ]
    },
    {
      "cell_type": "code",
      "metadata": {
        "id": "aqnhlZQ_xBtF",
        "colab": {
          "base_uri": "https://localhost:8080/",
          "height": 1000
        },
        "outputId": "ad8c67e0-fdb0-4871-ea17-9ede8eb289f4"
      },
      "source": [
        "print('best params:', grid_results.best_params_)\n",
        "print('best CV score:',grid_results.best_score_)\n",
        "\n",
        "means = grid_results.cv_results_['mean_test_score']\n",
        "stds = grid_results.cv_results_['std_test_score']\n",
        "params = grid_results.cv_results_['params']\n",
        "\n",
        "for mean, stdev, param in zip(means, stds, params):\n",
        "    print(\"%f (%f) with: %r\" % (mean, stdev, param))"
      ],
      "execution_count": null,
      "outputs": [
        {
          "output_type": "stream",
          "text": [
            "best params: {'c1': 0.1, 'c2': 0.5}\n",
            "best CV score: 0.6272810587730392\n",
            "0.610406 (0.028726) with: {'c1': 0.0, 'c2': 0.0}\n",
            "0.610402 (0.028705) with: {'c1': 0.0, 'c2': 0.1}\n",
            "0.610398 (0.028685) with: {'c1': 0.0, 'c2': 0.2}\n",
            "0.610416 (0.028680) with: {'c1': 0.0, 'c2': 0.3}\n",
            "0.610416 (0.028680) with: {'c1': 0.0, 'c2': 0.4}\n",
            "0.610366 (0.028751) with: {'c1': 0.0, 'c2': 0.5}\n",
            "0.610352 (0.028767) with: {'c1': 0.0, 'c2': 0.6}\n",
            "0.610339 (0.028758) with: {'c1': 0.0, 'c2': 0.7}\n",
            "0.610329 (0.028795) with: {'c1': 0.0, 'c2': 0.8}\n",
            "0.610349 (0.028853) with: {'c1': 0.0, 'c2': 0.9}\n",
            "0.610329 (0.028839) with: {'c1': 0.0, 'c2': 1.0}\n",
            "0.627019 (0.022027) with: {'c1': 0.1, 'c2': 0.0}\n",
            "0.627019 (0.022027) with: {'c1': 0.1, 'c2': 0.1}\n",
            "0.627019 (0.022027) with: {'c1': 0.1, 'c2': 0.2}\n",
            "0.627138 (0.022095) with: {'c1': 0.1, 'c2': 0.3}\n",
            "0.627169 (0.022000) with: {'c1': 0.1, 'c2': 0.4}\n",
            "0.627281 (0.022063) with: {'c1': 0.1, 'c2': 0.5}\n",
            "0.627281 (0.022063) with: {'c1': 0.1, 'c2': 0.6}\n",
            "0.627177 (0.022035) with: {'c1': 0.1, 'c2': 0.7}\n",
            "0.627198 (0.022049) with: {'c1': 0.1, 'c2': 0.8}\n",
            "0.626968 (0.021890) with: {'c1': 0.1, 'c2': 0.9}\n",
            "0.626923 (0.021868) with: {'c1': 0.1, 'c2': 1.0}\n",
            "0.626525 (0.022019) with: {'c1': 0.2, 'c2': 0.0}\n",
            "0.626662 (0.021825) with: {'c1': 0.2, 'c2': 0.1}\n",
            "0.626491 (0.021985) with: {'c1': 0.2, 'c2': 0.2}\n",
            "0.626644 (0.021767) with: {'c1': 0.2, 'c2': 0.3}\n",
            "0.626771 (0.021585) with: {'c1': 0.2, 'c2': 0.4}\n",
            "0.626692 (0.021569) with: {'c1': 0.2, 'c2': 0.5}\n",
            "0.626677 (0.021503) with: {'c1': 0.2, 'c2': 0.6}\n",
            "0.626739 (0.021545) with: {'c1': 0.2, 'c2': 0.7}\n",
            "0.626675 (0.021500) with: {'c1': 0.2, 'c2': 0.8}\n",
            "0.626734 (0.021416) with: {'c1': 0.2, 'c2': 0.9}\n",
            "0.626734 (0.021460) with: {'c1': 0.2, 'c2': 1.0}\n",
            "0.626243 (0.022220) with: {'c1': 0.3, 'c2': 0.0}\n",
            "0.626018 (0.022364) with: {'c1': 0.3, 'c2': 0.1}\n",
            "0.626018 (0.022364) with: {'c1': 0.3, 'c2': 0.2}\n",
            "0.626407 (0.021835) with: {'c1': 0.3, 'c2': 0.3}\n",
            "0.626407 (0.021835) with: {'c1': 0.3, 'c2': 0.4}\n",
            "0.626549 (0.021673) with: {'c1': 0.3, 'c2': 0.5}\n",
            "0.626497 (0.021636) with: {'c1': 0.3, 'c2': 0.6}\n",
            "0.626381 (0.021599) with: {'c1': 0.3, 'c2': 0.7}\n",
            "0.626390 (0.021586) with: {'c1': 0.3, 'c2': 0.8}\n",
            "0.626379 (0.021622) with: {'c1': 0.3, 'c2': 0.9}\n",
            "0.626363 (0.021573) with: {'c1': 0.3, 'c2': 1.0}\n",
            "0.626592 (0.021671) with: {'c1': 0.4, 'c2': 0.0}\n",
            "0.626556 (0.021771) with: {'c1': 0.4, 'c2': 0.1}\n",
            "0.626503 (0.021715) with: {'c1': 0.4, 'c2': 0.2}\n",
            "0.626385 (0.021883) with: {'c1': 0.4, 'c2': 0.3}\n",
            "0.626138 (0.021819) with: {'c1': 0.4, 'c2': 0.4}\n",
            "0.626096 (0.021834) with: {'c1': 0.4, 'c2': 0.5}\n",
            "0.626160 (0.021862) with: {'c1': 0.4, 'c2': 0.6}\n",
            "0.626237 (0.021754) with: {'c1': 0.4, 'c2': 0.7}\n",
            "0.626247 (0.021760) with: {'c1': 0.4, 'c2': 0.8}\n",
            "0.626290 (0.021913) with: {'c1': 0.4, 'c2': 0.9}\n",
            "0.626220 (0.021989) with: {'c1': 0.4, 'c2': 1.0}\n",
            "0.626020 (0.022051) with: {'c1': 0.5, 'c2': 0.0}\n",
            "0.625911 (0.022162) with: {'c1': 0.5, 'c2': 0.1}\n",
            "0.625955 (0.022212) with: {'c1': 0.5, 'c2': 0.2}\n",
            "0.626044 (0.022131) with: {'c1': 0.5, 'c2': 0.3}\n",
            "0.625992 (0.022095) with: {'c1': 0.5, 'c2': 0.4}\n",
            "0.626032 (0.022104) with: {'c1': 0.5, 'c2': 0.5}\n",
            "0.625950 (0.022171) with: {'c1': 0.5, 'c2': 0.6}\n",
            "0.625889 (0.022181) with: {'c1': 0.5, 'c2': 0.7}\n",
            "0.625895 (0.022129) with: {'c1': 0.5, 'c2': 0.8}\n",
            "0.625897 (0.022131) with: {'c1': 0.5, 'c2': 0.9}\n",
            "0.625756 (0.022080) with: {'c1': 0.5, 'c2': 1.0}\n",
            "0.625729 (0.022124) with: {'c1': 0.6, 'c2': 0.0}\n",
            "0.625584 (0.022329) with: {'c1': 0.6, 'c2': 0.1}\n",
            "0.625672 (0.022204) with: {'c1': 0.6, 'c2': 0.2}\n",
            "0.625672 (0.022204) with: {'c1': 0.6, 'c2': 0.3}\n",
            "0.625649 (0.022195) with: {'c1': 0.6, 'c2': 0.4}\n",
            "0.625688 (0.022203) with: {'c1': 0.6, 'c2': 0.5}\n",
            "0.625638 (0.022293) with: {'c1': 0.6, 'c2': 0.6}\n",
            "0.625647 (0.022281) with: {'c1': 0.6, 'c2': 0.7}\n",
            "0.625629 (0.022306) with: {'c1': 0.6, 'c2': 0.8}\n",
            "0.625747 (0.022367) with: {'c1': 0.6, 'c2': 0.9}\n",
            "0.625791 (0.022400) with: {'c1': 0.6, 'c2': 1.0}\n",
            "0.625176 (0.022473) with: {'c1': 0.7, 'c2': 0.0}\n",
            "0.625288 (0.022557) with: {'c1': 0.7, 'c2': 0.1}\n",
            "0.625248 (0.022550) with: {'c1': 0.7, 'c2': 0.2}\n",
            "0.625225 (0.022516) with: {'c1': 0.7, 'c2': 0.3}\n",
            "0.626183 (0.023293) with: {'c1': 0.7, 'c2': 0.4}\n",
            "0.626162 (0.023281) with: {'c1': 0.7, 'c2': 0.5}\n",
            "0.626132 (0.023323) with: {'c1': 0.7, 'c2': 0.6}\n",
            "0.626122 (0.023361) with: {'c1': 0.7, 'c2': 0.7}\n",
            "0.626101 (0.023349) with: {'c1': 0.7, 'c2': 0.8}\n",
            "0.626155 (0.023385) with: {'c1': 0.7, 'c2': 0.9}\n",
            "0.626134 (0.023414) with: {'c1': 0.7, 'c2': 1.0}\n",
            "0.626323 (0.023135) with: {'c1': 0.8, 'c2': 0.0}\n",
            "0.626271 (0.023105) with: {'c1': 0.8, 'c2': 0.1}\n",
            "0.626324 (0.023153) with: {'c1': 0.8, 'c2': 0.2}\n",
            "0.626303 (0.023141) with: {'c1': 0.8, 'c2': 0.3}\n",
            "0.626326 (0.023160) with: {'c1': 0.8, 'c2': 0.4}\n",
            "0.626321 (0.023157) with: {'c1': 0.8, 'c2': 0.5}\n",
            "0.626286 (0.023103) with: {'c1': 0.8, 'c2': 0.6}\n",
            "0.626274 (0.023120) with: {'c1': 0.8, 'c2': 0.7}\n",
            "0.626222 (0.023172) with: {'c1': 0.8, 'c2': 0.8}\n",
            "0.626201 (0.023201) with: {'c1': 0.8, 'c2': 0.9}\n",
            "0.626201 (0.023201) with: {'c1': 0.8, 'c2': 1.0}\n",
            "0.627097 (0.024064) with: {'c1': 0.9, 'c2': 0.0}\n",
            "0.625928 (0.023399) with: {'c1': 0.9, 'c2': 0.1}\n",
            "0.625948 (0.023494) with: {'c1': 0.9, 'c2': 0.2}\n",
            "0.625885 (0.023499) with: {'c1': 0.9, 'c2': 0.3}\n",
            "0.625802 (0.023489) with: {'c1': 0.9, 'c2': 0.4}\n",
            "0.625802 (0.023489) with: {'c1': 0.9, 'c2': 0.5}\n",
            "0.625843 (0.023513) with: {'c1': 0.9, 'c2': 0.6}\n",
            "0.625866 (0.023532) with: {'c1': 0.9, 'c2': 0.7}\n",
            "0.625804 (0.023620) with: {'c1': 0.9, 'c2': 0.8}\n",
            "0.625751 (0.023630) with: {'c1': 0.9, 'c2': 0.9}\n",
            "0.625764 (0.023632) with: {'c1': 0.9, 'c2': 1.0}\n",
            "0.626558 (0.023884) with: {'c1': 1.0, 'c2': 0.0}\n",
            "0.626470 (0.023818) with: {'c1': 1.0, 'c2': 0.1}\n",
            "0.626466 (0.023823) with: {'c1': 1.0, 'c2': 0.2}\n",
            "0.625456 (0.023195) with: {'c1': 1.0, 'c2': 0.3}\n",
            "0.625397 (0.023237) with: {'c1': 1.0, 'c2': 0.4}\n",
            "0.625451 (0.023279) with: {'c1': 1.0, 'c2': 0.5}\n",
            "0.625451 (0.023279) with: {'c1': 1.0, 'c2': 0.6}\n",
            "0.625439 (0.023254) with: {'c1': 1.0, 'c2': 0.7}\n",
            "0.625398 (0.023231) with: {'c1': 1.0, 'c2': 0.8}\n",
            "0.625429 (0.023254) with: {'c1': 1.0, 'c2': 0.9}\n",
            "0.625413 (0.023260) with: {'c1': 1.0, 'c2': 1.0}\n"
          ],
          "name": "stdout"
        }
      ]
    },
    {
      "cell_type": "code",
      "metadata": {
        "id": "e6Y9aBY6m3y7"
      },
      "source": [
        "Results=pd.DataFrame(grid_results.cv_results_)\n",
        "Results=Results.sort_values(by=[\"mean_test_score\"])"
      ],
      "execution_count": null,
      "outputs": []
    },
    {
      "cell_type": "code",
      "metadata": {
        "id": "vYUXYJSQ4ad6",
        "colab": {
          "base_uri": "https://localhost:8080/",
          "height": 734
        },
        "outputId": "8cf19ded-5eac-48cd-a70f-a6545e23c330"
      },
      "source": [
        "%matplotlib inline\n",
        "import matplotlib.pyplot as plt\n",
        "import matplotlib as mpl\n",
        "import matplotlib.colors as colors\n",
        "plt.style.use('ggplot')\n",
        "\n",
        "fig = plt.figure()\n",
        "fig.set_size_inches(12, 12)\n",
        "ax = plt.gca()\n",
        "ax.set_xlabel('C1')\n",
        "ax.set_ylabel('C2')\n",
        "\n",
        "_x = list(Results[\"param_c1\"])\n",
        "_y = list(Results[\"param_c2\"])\n",
        "_f1 = list(Results[\"mean_test_score\"])\n",
        "\n",
        "ax.set_title(\"Hyperparameter Grid Search Results\")\n",
        "\n",
        "#norm_1 = colors.LogNorm(vmin=min(_f1),vmax=max(_f1))\n",
        "\n",
        "ax.scatter(_x, _y, c=_f1, s=100, alpha=1, edgecolors=[0,0,0], norm=colors.LogNorm()) #PowerNorm\n",
        "c1 = grid_results.best_params_[\"c1\"]\n",
        "c2 = grid_results.best_params_[\"c2\"]\n",
        "#ax.scatter(c1,c2,color=\"red\", s=100)"
      ],
      "execution_count": null,
      "outputs": [
        {
          "output_type": "display_data",
          "data": {
            "image/png": "[encoded data removed]",
            "text/plain": [
              "<Figure size 864x864 with 1 Axes>"
            ]
          },
          "metadata": {
            "tags": []
          }
        }
      ]
    },
    {
      "cell_type": "code",
      "metadata": {
        "id": "Mk_jG6Q_K3CC"
      },
      "source": [
        "from google.colab import files\n",
        "Results.to_csv('Grid_3.csv')\n",
        "files.download('Grid_3.csv')"
      ],
      "execution_count": null,
      "outputs": []
    },
    {
      "cell_type": "code",
      "metadata": {
        "id": "gxpAkHS7K3y9"
      },
      "source": [
        "fig.savefig('Grid_3.png')\n",
        "files.download('Grid_3.png') "
      ],
      "execution_count": null,
      "outputs": []
    }
  ]
}