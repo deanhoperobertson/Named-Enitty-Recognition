{
  "nbformat": 4,
  "nbformat_minor": 0,
  "metadata": {
    "colab": {
      "name": "Conditional Random Fields (Grid Search 1)",
      "provenance": [],
      "collapsed_sections": [],
      "machine_shape": "hm",
      "include_colab_link": true
    },
    "kernelspec": {
      "name": "python3",
      "display_name": "Python 3"
    }
  },
  "cells": [
    {
      "cell_type": "markdown",
      "metadata": {
        "id": "view-in-github",
        "colab_type": "text"
      },
      "source": [
        "<a href=\"https://colab.research.google.com/github/deanhoperobertson/Named-Enitty-Recognition/blob/master/Models/Hyperparameter%20Optimization/CRF/Conditional%20Random%20Fields%20(Grid%20Search%201).ipynb\" target=\"_parent\"><img src=\"https://colab.research.google.com/assets/colab-badge.svg\" alt=\"Open In Colab\"/></a>"
      ]
    },
    {
      "cell_type": "code",
      "metadata": {
        "id": "g6OTvloa4CVO",
        "colab": {
          "resources": {
            "http://localhost:8080/nbextensions/google.colab/files.js": {
              "data": "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",
              "ok": true,
              "headers": [
                [
                  "content-type",
                  "application/javascript"
                ]
              ],
              "status": 200,
              "status_text": ""
            }
          },
          "base_uri": "https://localhost:8080/",
          "height": 74
        },
        "outputId": "c0c60e19-f28a-4936-e60b-b551e9cfecce"
      },
      "source": [
        "from google.colab import files\n",
        "uploaded = files.upload()"
      ],
      "execution_count": null,
      "outputs": [
        {
          "output_type": "display_data",
          "data": {
            "text/html": [
              "\n",
              "     <input type=\"file\" id=\"files-9ec03eba-5aea-4c0b-97a2-af466bd40c5e\" name=\"files[]\" multiple disabled />\n",
              "     <output id=\"result-9ec03eba-5aea-4c0b-97a2-af466bd40c5e\">\n",
              "      Upload widget is only available when the cell has been executed in the\n",
              "      current browser session. Please rerun this cell to enable.\n",
              "      </output>\n",
              "      <script src=\"/nbextensions/google.colab/files.js\"></script> "
            ],
            "text/plain": [
              "<IPython.core.display.HTML object>"
            ]
          },
          "metadata": {
            "tags": []
          }
        },
        {
          "output_type": "stream",
          "text": [
            "Saving prepro.py to prepro (1).py\n"
          ],
          "name": "stdout"
        }
      ]
    },
    {
      "cell_type": "code",
      "metadata": {
        "id": "jaLZPShU4C5X",
        "colab": {
          "base_uri": "https://localhost:8080/",
          "height": 102
        },
        "outputId": "6b38d209-a249-4e3b-8208-ceb7f3cb2fe9"
      },
      "source": [
        "!pip install sklearn_crfsuite"
      ],
      "execution_count": null,
      "outputs": [
        {
          "output_type": "stream",
          "text": [
            "Requirement already satisfied: sklearn_crfsuite in /usr/local/lib/python3.6/dist-packages (0.3.6)\n",
            "Requirement already satisfied: python-crfsuite>=0.8.3 in /usr/local/lib/python3.6/dist-packages (from sklearn_crfsuite) (0.9.7)\n",
            "Requirement already satisfied: six in /usr/local/lib/python3.6/dist-packages (from sklearn_crfsuite) (1.12.0)\n",
            "Requirement already satisfied: tqdm>=2.0 in /usr/local/lib/python3.6/dist-packages (from sklearn_crfsuite) (4.38.0)\n",
            "Requirement already satisfied: tabulate in /usr/local/lib/python3.6/dist-packages (from sklearn_crfsuite) (0.8.7)\n"
          ],
          "name": "stdout"
        }
      ]
    },
    {
      "cell_type": "code",
      "metadata": {
        "id": "qDtief2UV8sX"
      },
      "source": [
        "import pandas as pd\n",
        "import numpy as np\n",
        "import urllib.request\n",
        "import re\n",
        "from collections import OrderedDict\n",
        "\n",
        "#grid search\n",
        "import scipy.stats\n",
        "from sklearn.metrics import make_scorer\n",
        "from sklearn.model_selection import RandomizedSearchCV\n",
        "\n",
        "#Custom models\n",
        "from prepro import *\n",
        "\n",
        "#Model\n",
        "from sklearn_crfsuite import CRF\n",
        "\n",
        "#Evalulation\n",
        "from sklearn.model_selection import cross_val_predict\n",
        "from sklearn_crfsuite.metrics import flat_classification_report\n",
        "from sklearn_crfsuite.metrics import flat_f1_score"
      ],
      "execution_count": null,
      "outputs": []
    },
    {
      "cell_type": "code",
      "metadata": {
        "id": "bxKta7pHV-Xz"
      },
      "source": [
        "#import data from my github repo\n",
        "train_url = \"https://raw.githubusercontent.com/deanhoperobertson/Named-Enitty-Recognition/master/Data/train.txt\"\n",
        "test_url = \"https://raw.githubusercontent.com/deanhoperobertson/Named-Enitty-Recognition/master/Data/test.txt\"\n",
        "train = urllib.request.urlopen(train_url).read()\n",
        "test = urllib.request.urlopen(test_url).read()\n",
        "train = train.decode('utf-8')\n",
        "test = test.decode('utf-8')\n",
        "\n",
        "#preproces the txt file\n",
        "train = readstring(train,\"NONE\")\n",
        "test = readstring(test, \"NONE\")\n"
      ],
      "execution_count": null,
      "outputs": []
    },
    {
      "cell_type": "markdown",
      "metadata": {
        "id": "j1xaQzBBWRp3"
      },
      "source": [
        "## Orthographic Feature Engineering"
      ]
    },
    {
      "cell_type": "code",
      "metadata": {
        "id": "47lFFjoVWEtb"
      },
      "source": [
        "#Engineered Features:\n",
        "def mix(word):\n",
        "    if word.isalnum():\n",
        "        if re.search(\"^(?=.*[a-zA-Z])(?=.*[0-9])\",word): return True\n",
        "        else: return False\n",
        "    else:\n",
        "        return False\n",
        "\n",
        "def non_intial(word):\n",
        "    '''\n",
        "    The Function the boolean if a non-initial captital letter is present\n",
        "    '''\n",
        "    return not word[1:].islower()\n",
        "\n",
        "def contain_punct(word):\n",
        "    '''\n",
        "    The Function returns the boolean if punctuations is present in token\n",
        "    '''\n",
        "    if re.match(r'^\\w+$',word):return False\n",
        "    else: return True\n",
        "    \n",
        "def apostrophe(word):\n",
        "    '''\n",
        "    The Function returns boolean if \"'s\" is present in token \n",
        "    '''\n",
        "    if word ==\"'s\":return True\n",
        "    else:return False\n",
        "    \n",
        "def word_pattern(word):\n",
        "    '''\n",
        "    The Function returns word patter feature\n",
        "    Upper Case = \"A\"\n",
        "    Lower Case = \"a\"\n",
        "    Digit = \"0\"\n",
        "    '''\n",
        "    token=\"\"\n",
        "    for i in word:\n",
        "        if i.isupper():\n",
        "            token +=\"A\"\n",
        "        elif i.islower():\n",
        "            token +=\"a\"\n",
        "        elif i.isdigit():\n",
        "            token +=\"0\"\n",
        "        else:\n",
        "            token +=str(i)\n",
        "    return token\n",
        "\n",
        "def pattern_sum(word):\n",
        "    '''\n",
        "    The Function returns the word patern without consectutive duplicates\n",
        "    '''\n",
        "    return ''.join(OrderedDict.fromkeys(word))"
      ],
      "execution_count": null,
      "outputs": []
    },
    {
      "cell_type": "code",
      "metadata": {
        "id": "bF_ZZSmnWvR4"
      },
      "source": [
        "def word2features(sentence,i):\n",
        "    word = sentence[i]\n",
        "\n",
        "    features = {\n",
        "        'bias': 1.0,\n",
        "        'word.lower()': word.lower(),\n",
        "        \n",
        "        'Prefix_2': word[:2], # prefix\n",
        "        'Prefix_3': word[:3], # prefix\n",
        "        \n",
        "        'word.istitle()': word.istitle(), #starts with caps\n",
        "        'word.isupper()': word.isupper(), #all caps\n",
        "        'word.islower()': word.islower(), #all lower case\n",
        "        'word.isdigit()': word.isdigit(), #all digits\n",
        "        'word.isalpha()': word.isalpha(), #all letters\n",
        "        \n",
        "        'word.punct()': contain_punct(word),#contains punctuation\n",
        "        'word.apost()': apostrophe(word), #is an apostrophe\n",
        "        'word.non_intial': non_intial(word), #non-initial capitals\n",
        "        'word.mix': mix(word), #mixture of letters and digits\n",
        "        'word.pattern()': word_pattern(word), #word pattern\n",
        "        'word.pattern_sum()': pattern_sum(word_pattern(word)), #word pattern summary\n",
        "        \n",
        "        'Suffix_2': word[-2:], # suffix\n",
        "        'Suffix_3': word[-3:], # suffix\n",
        "        \n",
        "    }\n",
        "    if i > 0:\n",
        "        '''\n",
        "        Get the token before in the sentence\n",
        "        '''\n",
        "        word1 = sentence[i-1]\n",
        "        features.update({\n",
        "            \n",
        "          '-1word.lower()': word1.lower(),\n",
        "          '-1Prefix_2':word1[:2],\n",
        "          '-1Prefix_3':word1[:3], \n",
        "          '-1word.istitle()': word1.istitle(), \n",
        "          '-1word.isupper()': word1.isupper(), \n",
        "          '-1word.islower()': word1.islower(),\n",
        "          '-1word.isdigit()': word1.isdigit(), \n",
        "          '-1word.isalpha()': word1.isalpha(), \n",
        "          '-1word.punct()': contain_punct(word1),\n",
        "          '-1word.apost()': apostrophe(word1),\n",
        "          '-1word.non_intial': non_intial(word1),\n",
        "          '-1word.mix': mix(word1),\n",
        "          '-1word.pattern()': word_pattern(word1),\n",
        "          '-1word.pattern_sum()': pattern_sum(word_pattern(word1)), \n",
        "          '-1Suffix_2':word1[-2:], \n",
        "          '-1Suffix_3':word1[-3:], \n",
        "        })\n",
        "    else:\n",
        "        features['START'] = True\n",
        "        \n",
        "    if i < len(sentence)-1:\n",
        "        '''\n",
        "        Get the token after in the sentence\n",
        "        '''\n",
        "        word_1 = sentence[i+1]\n",
        "        features.update({\n",
        "          '+1word.lower()': word_1.lower(),\n",
        "          '+1Prefix_2':word_1[:2],\n",
        "          '+1Prefix_3':word_1[:3], \n",
        "          '+1word.istitle()': word_1.istitle(), \n",
        "          '+1word.isupper()': word_1.isupper(), \n",
        "          '+1word.islower()': word_1.islower(),\n",
        "          '+1word.isdigit()': word_1.isdigit(), \n",
        "          '+1word.isalpha()': word_1.isalpha(), \n",
        "          '+1word.punct()': contain_punct(word_1),\n",
        "          '+1word.apost()': apostrophe(word_1),\n",
        "          '+1word.non_intial': non_intial(word_1),\n",
        "          '+1word.mix': mix(word_1),\n",
        "          '+1word.pattern()': word_pattern(word_1),\n",
        "          '+1word.pattern_sum()': pattern_sum(word_pattern(word_1)), \n",
        "          '+1Suffix_2':word_1[-2:], \n",
        "          '+1Suffix_3':word_1[-3:], \n",
        "        })\n",
        "    else:\n",
        "        features['END'] = True\n",
        "    \n",
        "    return features\n",
        "\n",
        "def sent2features(sent):\n",
        "    return [word2features(sent, i) for i in range(len(sent))]\n",
        "\n",
        "def get_all_sentences(dataset):\n",
        "    sentences=[]\n",
        "    for i in range(len(dataset)):\n",
        "        sentences.append(get_sentence(dataset,i+1))\n",
        "    return sentences\n",
        "\n",
        "def get_all_labels(dataset):\n",
        "    labels=[]\n",
        "    for i in range(len(dataset)):\n",
        "        #labels.append(partial_tags(get_label(dataset,i+1)))\n",
        "        labels.append(get_label(dataset,i+1))\n",
        "    return labels"
      ],
      "execution_count": null,
      "outputs": []
    },
    {
      "cell_type": "code",
      "metadata": {
        "id": "E84PN1BAW3ro"
      },
      "source": [
        "#Apply feature engineering\n",
        "train_sents = get_all_sentences(train)\n",
        "train_labels = get_all_labels(train)\n",
        "test_sents = get_all_sentences(test)\n",
        "test_labels = get_all_labels(test)\n",
        "\n",
        "X_train = [sent2features(s) for s in train_sents]\n",
        "y_train = train_labels\n",
        "X_test = [sent2features(s) for s in test_sents]\n",
        "y_test = test_labels\n",
        "\n",
        "\n",
        "sub_labels=list(set([item for sublist in train_labels for item in sublist]))\n",
        "sub_labels.remove(\"O\")"
      ],
      "execution_count": null,
      "outputs": []
    },
    {
      "cell_type": "markdown",
      "metadata": {
        "id": "YXQz3yAcXCa0"
      },
      "source": [
        "## Grid Search\n",
        "\n",
        "### Algorithms"
      ]
    },
    {
      "cell_type": "code",
      "metadata": {
        "id": "oKL-2EAUr4w9"
      },
      "source": [
        "from sklearn.metrics import make_scorer\n",
        "from sklearn.model_selection import GridSearchCV\n",
        "\n",
        "crf_grid = CRF(algorithm='lbfgs',\n",
        "          max_iterations=10,\n",
        "          all_possible_transitions=False)\n",
        "\n",
        "c1_c2= tuple(round(i,2) for i in list(np.linspace(0,1,11)))\n",
        "\n",
        "\n",
        "parameters = {'c1':c1_c2,\n",
        "             'c2': c1_c2}\n",
        "            \n",
        "f1_scorer = make_scorer(flat_f1_score,\n",
        "                        average='micro',\n",
        "                        labels=sub_labels)\n",
        "\n",
        "grid = GridSearchCV(crf_grid, \n",
        "                    parameters,\n",
        "                    n_jobs=-1,\n",
        "                    scoring =f1_scorer,\n",
        "                    verbose=2,\n",
        "                    return_train_score=True,\n",
        "                    cv=3)"
      ],
      "execution_count": null,
      "outputs": []
    },
    {
      "cell_type": "code",
      "metadata": {
        "id": "qpikYqa-wecF",
        "colab": {
          "base_uri": "https://localhost:8080/",
          "height": 204
        },
        "outputId": "eb8ff283-cccd-4061-ec82-96a96900db9b"
      },
      "source": [
        "%%time\n",
        "grid_results=grid.fit(X_train, y_train)"
      ],
      "execution_count": null,
      "outputs": [
        {
          "output_type": "stream",
          "text": [
            "Fitting 3 folds for each of 121 candidates, totalling 363 fits\n"
          ],
          "name": "stdout"
        },
        {
          "output_type": "stream",
          "text": [
            "/usr/local/lib/python3.6/dist-packages/sklearn/base.py:197: FutureWarning: From version 0.24, get_params will raise an AttributeError if a parameter cannot be retrieved as an instance attribute. Previously it would return None.\n",
            "  FutureWarning)\n",
            "[Parallel(n_jobs=-1)]: Using backend LokyBackend with 4 concurrent workers.\n",
            "/usr/local/lib/python3.6/dist-packages/joblib/externals/loky/process_executor.py:706: UserWarning: A worker stopped while some jobs were given to the executor. This can be caused by a too short worker timeout or by a memory leak.\n",
            "  \"timeout or by a memory leak.\", UserWarning\n",
            "[Parallel(n_jobs=-1)]: Done  33 tasks      | elapsed: 19.1min\n",
            "[Parallel(n_jobs=-1)]: Done 154 tasks      | elapsed: 88.0min\n",
            "[Parallel(n_jobs=-1)]: Done 363 out of 363 | elapsed: 208.3min finished\n"
          ],
          "name": "stderr"
        },
        {
          "output_type": "stream",
          "text": [
            "CPU times: user 3h 26min 10s, sys: 1min 50s, total: 3h 28min 1s\n",
            "Wall time: 3h 28min 29s\n"
          ],
          "name": "stdout"
        }
      ]
    },
    {
      "cell_type": "code",
      "metadata": {
        "id": "aqnhlZQ_xBtF",
        "colab": {
          "base_uri": "https://localhost:8080/",
          "height": 1000
        },
        "outputId": "cbd6497a-7d77-42f3-c203-906fc25b50d4"
      },
      "source": [
        "print('best params:', grid_results.best_params_)\n",
        "print('best CV score:',grid_results.best_score_)\n",
        "\n",
        "means = grid_results.cv_results_['mean_test_score']\n",
        "stds = grid_results.cv_results_['std_test_score']\n",
        "params = grid_results.cv_results_['params']\n",
        "\n",
        "for mean, stdev, param in zip(means, stds, params):\n",
        "    print(\"%f (%f) with: %r\" % (mean, stdev, param))"
      ],
      "execution_count": null,
      "outputs": [
        {
          "output_type": "stream",
          "text": [
            "best params: {'c1': 0.1, 'c2': 0.3}\n",
            "best CV score: 0.6048146350955229\n",
            "0.585925 (0.020647) with: {'c1': 0.0, 'c2': 0.0}\n",
            "0.585963 (0.020546) with: {'c1': 0.0, 'c2': 0.1}\n",
            "0.586022 (0.020464) with: {'c1': 0.0, 'c2': 0.2}\n",
            "0.586039 (0.020588) with: {'c1': 0.0, 'c2': 0.3}\n",
            "0.586039 (0.020588) with: {'c1': 0.0, 'c2': 0.4}\n",
            "0.586077 (0.020612) with: {'c1': 0.0, 'c2': 0.5}\n",
            "0.586077 (0.020612) with: {'c1': 0.0, 'c2': 0.6}\n",
            "0.586048 (0.020585) with: {'c1': 0.0, 'c2': 0.7}\n",
            "0.586048 (0.020585) with: {'c1': 0.0, 'c2': 0.8}\n",
            "0.586096 (0.020557) with: {'c1': 0.0, 'c2': 0.9}\n",
            "0.586152 (0.020586) with: {'c1': 0.0, 'c2': 1.0}\n",
            "0.604733 (0.050517) with: {'c1': 0.1, 'c2': 0.0}\n",
            "0.604783 (0.050449) with: {'c1': 0.1, 'c2': 0.1}\n",
            "0.604793 (0.050455) with: {'c1': 0.1, 'c2': 0.2}\n",
            "0.604815 (0.050484) with: {'c1': 0.1, 'c2': 0.3}\n",
            "0.604797 (0.050442) with: {'c1': 0.1, 'c2': 0.4}\n",
            "0.603632 (0.049814) with: {'c1': 0.1, 'c2': 0.5}\n",
            "0.603553 (0.049901) with: {'c1': 0.1, 'c2': 0.6}\n",
            "0.603534 (0.049890) with: {'c1': 0.1, 'c2': 0.7}\n",
            "0.603626 (0.049760) with: {'c1': 0.1, 'c2': 0.8}\n",
            "0.603556 (0.049721) with: {'c1': 0.1, 'c2': 0.9}\n",
            "0.603617 (0.049636) with: {'c1': 0.1, 'c2': 1.0}\n",
            "0.603486 (0.050086) with: {'c1': 0.2, 'c2': 0.0}\n",
            "0.603486 (0.050086) with: {'c1': 0.2, 'c2': 0.1}\n",
            "0.603405 (0.050100) with: {'c1': 0.2, 'c2': 0.2}\n",
            "0.603299 (0.050049) with: {'c1': 0.2, 'c2': 0.3}\n",
            "0.603301 (0.050007) with: {'c1': 0.2, 'c2': 0.4}\n",
            "0.603227 (0.049853) with: {'c1': 0.2, 'c2': 0.5}\n",
            "0.603400 (0.049729) with: {'c1': 0.2, 'c2': 0.6}\n",
            "0.603386 (0.049748) with: {'c1': 0.2, 'c2': 0.7}\n",
            "0.603327 (0.049721) with: {'c1': 0.2, 'c2': 0.8}\n",
            "0.603180 (0.049594) with: {'c1': 0.2, 'c2': 0.9}\n",
            "0.603218 (0.049491) with: {'c1': 0.2, 'c2': 1.0}\n",
            "0.599132 (0.047734) with: {'c1': 0.3, 'c2': 0.0}\n",
            "0.599162 (0.047707) with: {'c1': 0.3, 'c2': 0.1}\n",
            "0.599160 (0.047757) with: {'c1': 0.3, 'c2': 0.2}\n",
            "0.599229 (0.047662) with: {'c1': 0.3, 'c2': 0.3}\n",
            "0.599213 (0.047735) with: {'c1': 0.3, 'c2': 0.4}\n",
            "0.599293 (0.047769) with: {'c1': 0.3, 'c2': 0.5}\n",
            "0.599293 (0.047769) with: {'c1': 0.3, 'c2': 0.6}\n",
            "0.599267 (0.047829) with: {'c1': 0.3, 'c2': 0.7}\n",
            "0.599190 (0.047785) with: {'c1': 0.3, 'c2': 0.8}\n",
            "0.599190 (0.047785) with: {'c1': 0.3, 'c2': 0.9}\n",
            "0.603029 (0.049573) with: {'c1': 0.3, 'c2': 1.0}\n",
            "0.599058 (0.047750) with: {'c1': 0.4, 'c2': 0.0}\n",
            "0.599058 (0.047750) with: {'c1': 0.4, 'c2': 0.1}\n",
            "0.599091 (0.047746) with: {'c1': 0.4, 'c2': 0.2}\n",
            "0.599091 (0.047746) with: {'c1': 0.4, 'c2': 0.3}\n",
            "0.599063 (0.047785) with: {'c1': 0.4, 'c2': 0.4}\n",
            "0.599063 (0.047785) with: {'c1': 0.4, 'c2': 0.5}\n",
            "0.599071 (0.047774) with: {'c1': 0.4, 'c2': 0.6}\n",
            "0.599097 (0.047785) with: {'c1': 0.4, 'c2': 0.7}\n",
            "0.598970 (0.047623) with: {'c1': 0.4, 'c2': 0.8}\n",
            "0.599030 (0.047539) with: {'c1': 0.4, 'c2': 0.9}\n",
            "0.599033 (0.047501) with: {'c1': 0.4, 'c2': 1.0}\n",
            "0.598782 (0.047771) with: {'c1': 0.5, 'c2': 0.0}\n",
            "0.598549 (0.047672) with: {'c1': 0.5, 'c2': 0.1}\n",
            "0.598575 (0.047683) with: {'c1': 0.5, 'c2': 0.2}\n",
            "0.598603 (0.047691) with: {'c1': 0.5, 'c2': 0.3}\n",
            "0.598600 (0.047678) with: {'c1': 0.5, 'c2': 0.4}\n",
            "0.598768 (0.047613) with: {'c1': 0.5, 'c2': 0.5}\n",
            "0.598819 (0.047531) with: {'c1': 0.5, 'c2': 0.6}\n",
            "0.598790 (0.047522) with: {'c1': 0.5, 'c2': 0.7}\n",
            "0.598851 (0.047439) with: {'c1': 0.5, 'c2': 0.8}\n",
            "0.598877 (0.047450) with: {'c1': 0.5, 'c2': 0.9}\n",
            "0.598971 (0.047489) with: {'c1': 0.5, 'c2': 1.0}\n",
            "0.598153 (0.047393) with: {'c1': 0.6, 'c2': 0.0}\n",
            "0.598157 (0.047434) with: {'c1': 0.6, 'c2': 0.1}\n",
            "0.598206 (0.047332) with: {'c1': 0.6, 'c2': 0.2}\n",
            "0.598186 (0.047261) with: {'c1': 0.6, 'c2': 0.3}\n",
            "0.598413 (0.047314) with: {'c1': 0.6, 'c2': 0.4}\n",
            "0.598413 (0.047314) with: {'c1': 0.6, 'c2': 0.5}\n",
            "0.598437 (0.047215) with: {'c1': 0.6, 'c2': 0.6}\n",
            "0.598441 (0.047233) with: {'c1': 0.6, 'c2': 0.7}\n",
            "0.598441 (0.047233) with: {'c1': 0.6, 'c2': 0.8}\n",
            "0.598449 (0.047222) with: {'c1': 0.6, 'c2': 0.9}\n",
            "0.598449 (0.047222) with: {'c1': 0.6, 'c2': 1.0}\n",
            "0.598064 (0.047484) with: {'c1': 0.7, 'c2': 0.0}\n",
            "0.598142 (0.047477) with: {'c1': 0.7, 'c2': 0.1}\n",
            "0.598255 (0.047322) with: {'c1': 0.7, 'c2': 0.2}\n",
            "0.598227 (0.047310) with: {'c1': 0.7, 'c2': 0.3}\n",
            "0.598215 (0.047228) with: {'c1': 0.7, 'c2': 0.4}\n",
            "0.598284 (0.047133) with: {'c1': 0.7, 'c2': 0.5}\n",
            "0.598262 (0.047113) with: {'c1': 0.7, 'c2': 0.6}\n",
            "0.598262 (0.047113) with: {'c1': 0.7, 'c2': 0.7}\n",
            "0.598323 (0.047030) with: {'c1': 0.7, 'c2': 0.8}\n",
            "0.598096 (0.046937) with: {'c1': 0.7, 'c2': 0.9}\n",
            "0.598078 (0.047083) with: {'c1': 0.7, 'c2': 1.0}\n",
            "0.598076 (0.047149) with: {'c1': 0.8, 'c2': 0.0}\n",
            "0.598145 (0.047069) with: {'c1': 0.8, 'c2': 0.1}\n",
            "0.598121 (0.046932) with: {'c1': 0.8, 'c2': 0.2}\n",
            "0.597980 (0.046874) with: {'c1': 0.8, 'c2': 0.3}\n",
            "0.597916 (0.046876) with: {'c1': 0.8, 'c2': 0.4}\n",
            "0.597843 (0.047122) with: {'c1': 0.8, 'c2': 0.5}\n",
            "0.597851 (0.047171) with: {'c1': 0.8, 'c2': 0.6}\n",
            "0.597859 (0.047159) with: {'c1': 0.8, 'c2': 0.7}\n",
            "0.597859 (0.047159) with: {'c1': 0.8, 'c2': 0.8}\n",
            "0.601656 (0.048991) with: {'c1': 0.8, 'c2': 0.9}\n",
            "0.601633 (0.048953) with: {'c1': 0.8, 'c2': 1.0}\n",
            "0.597044 (0.046626) with: {'c1': 0.9, 'c2': 0.0}\n",
            "0.597126 (0.046695) with: {'c1': 0.9, 'c2': 0.1}\n",
            "0.597103 (0.046726) with: {'c1': 0.9, 'c2': 0.2}\n",
            "0.600870 (0.048612) with: {'c1': 0.9, 'c2': 0.3}\n",
            "0.601539 (0.049069) with: {'c1': 0.9, 'c2': 0.4}\n",
            "0.601547 (0.049067) with: {'c1': 0.9, 'c2': 0.5}\n",
            "0.601534 (0.049054) with: {'c1': 0.9, 'c2': 0.6}\n",
            "0.601534 (0.049054) with: {'c1': 0.9, 'c2': 0.7}\n",
            "0.601534 (0.049054) with: {'c1': 0.9, 'c2': 0.8}\n",
            "0.601543 (0.049043) with: {'c1': 0.9, 'c2': 0.9}\n",
            "0.601395 (0.048801) with: {'c1': 0.9, 'c2': 1.0}\n",
            "0.597563 (0.052734) with: {'c1': 1.0, 'c2': 0.0}\n",
            "0.597563 (0.052734) with: {'c1': 1.0, 'c2': 0.1}\n",
            "0.597619 (0.052767) with: {'c1': 1.0, 'c2': 0.2}\n",
            "0.597647 (0.052784) with: {'c1': 1.0, 'c2': 0.3}\n",
            "0.597416 (0.052648) with: {'c1': 1.0, 'c2': 0.4}\n",
            "0.597613 (0.052389) with: {'c1': 1.0, 'c2': 0.5}\n",
            "0.597565 (0.052410) with: {'c1': 1.0, 'c2': 0.6}\n",
            "0.597534 (0.052384) with: {'c1': 1.0, 'c2': 0.7}\n",
            "0.597522 (0.052372) with: {'c1': 1.0, 'c2': 0.8}\n",
            "0.597607 (0.052158) with: {'c1': 1.0, 'c2': 0.9}\n",
            "0.597545 (0.052236) with: {'c1': 1.0, 'c2': 1.0}\n"
          ],
          "name": "stdout"
        }
      ]
    },
    {
      "cell_type": "code",
      "metadata": {
        "id": "Mk_jG6Q_K3CC"
      },
      "source": [
        "import pandas as pd\n",
        "Results=pd.DataFrame(grid_results.cv_results_)\n",
        "Results=Results.sort_values(by=[\"mean_test_score\"])"
      ],
      "execution_count": null,
      "outputs": []
    },
    {
      "cell_type": "code",
      "metadata": {
        "id": "L1RjFe3H7G90",
        "colab": {
          "base_uri": "https://localhost:8080/",
          "height": 734
        },
        "outputId": "a78e578d-3ba5-4680-dc7e-839c79a82474"
      },
      "source": [
        "%matplotlib inline\n",
        "import matplotlib.pyplot as plt\n",
        "import matplotlib as mpl\n",
        "import matplotlib.colors as colors\n",
        "plt.style.use('ggplot')\n",
        "\n",
        "fig = plt.figure()\n",
        "fig.set_size_inches(12, 12)\n",
        "ax = plt.gca()\n",
        "ax.set_xlabel('C1')\n",
        "ax.set_ylabel('C2')\n",
        "\n",
        "_x = list(Results[\"param_c1\"])\n",
        "_y = list(Results[\"param_c2\"])\n",
        "_f1 = list(Results[\"mean_test_score\"])\n",
        "\n",
        "ax.set_title(\"Hyperparameter Grid Search Results\")\n",
        "\n",
        "#norm_1 = colors.LogNorm(vmin=min(_f1),vmax=max(_f1))\n",
        "\n",
        "ax.scatter(_x, _y, c=_f1, s=100, alpha=1, edgecolors=[0,0,0], norm=colors.LogNorm())\n",
        "c1 = grid_results.best_params_[\"c1\"]\n",
        "c2 = grid_results.best_params_[\"c2\"]\n",
        "#ax.scatter(c1,c2,color=\"red\", s=100)"
      ],
      "execution_count": null,
      "outputs": [
        {
          "output_type": "display_data",
          "data": {
            "image/png": "[encoded data removed]",
            "text/plain": [
              "<Figure size 864x864 with 1 Axes>"
            ]
          },
          "metadata": {
            "tags": []
          }
        }
      ]
    },
    {
      "cell_type": "code",
      "metadata": {
        "id": "gxpAkHS7K3y9"
      },
      "source": [
        "from google.colab import files\n",
        "Results.to_csv('grid_1.csv')\n",
        "files.download('grid_1.csv')"
      ],
      "execution_count": null,
      "outputs": []
    },
    {
      "cell_type": "code",
      "metadata": {
        "id": "B3wVTAQcLkun"
      },
      "source": [
        "fig.savefig('grid_1.png')\n",
        "files.download(\"grid_1.png\") "
      ],
      "execution_count": null,
      "outputs": []
    }
  ]
}