{
  "nbformat": 4,
  "nbformat_minor": 0,
  "metadata": {
    "colab": {
      "name": "Conditional Random Fields (Grid Search 0)",
      "provenance": [],
      "collapsed_sections": [],
      "machine_shape": "hm",
      "include_colab_link": true
    },
    "kernelspec": {
      "name": "python3",
      "display_name": "Python 3"
    },
    "accelerator": "GPU"
  },
  "cells": [
    {
      "cell_type": "markdown",
      "metadata": {
        "id": "view-in-github",
        "colab_type": "text"
      },
      "source": [
        "<a href=\"https://colab.research.google.com/github/deanhoperobertson/Named-Enitty-Recognition/blob/master/Models/Hyperparameter%20Optimization/CRF/Conditional%20Random%20Fields%20(Grid%20Search%200).ipynb\" target=\"_parent\"><img src=\"https://colab.research.google.com/assets/colab-badge.svg\" alt=\"Open In Colab\"/></a>"
      ]
    },
    {
      "cell_type": "code",
      "metadata": {
        "id": "jaLZPShU4C5X",
        "colab": {
          "base_uri": "https://localhost:8080/",
          "height": 102
        },
        "outputId": "1bc43425-fafb-4de4-cb9e-a0d2828aa5a9"
      },
      "source": [
        "!pip install sklearn_crfsuite"
      ],
      "execution_count": null,
      "outputs": [
        {
          "output_type": "stream",
          "text": [
            "Requirement already satisfied: sklearn_crfsuite in /usr/local/lib/python3.6/dist-packages (0.3.6)\n",
            "Requirement already satisfied: python-crfsuite>=0.8.3 in /usr/local/lib/python3.6/dist-packages (from sklearn_crfsuite) (0.9.7)\n",
            "Requirement already satisfied: tabulate in /usr/local/lib/python3.6/dist-packages (from sklearn_crfsuite) (0.8.7)\n",
            "Requirement already satisfied: six in /usr/local/lib/python3.6/dist-packages (from sklearn_crfsuite) (1.15.0)\n",
            "Requirement already satisfied: tqdm>=2.0 in /usr/local/lib/python3.6/dist-packages (from sklearn_crfsuite) (4.41.1)\n"
          ],
          "name": "stdout"
        }
      ]
    },
    {
      "cell_type": "code",
      "metadata": {
        "id": "qDtief2UV8sX"
      },
      "source": [
        "import pandas as pd\n",
        "import numpy as np\n",
        "import urllib.request\n",
        "import re\n",
        "from collections import OrderedDict\n",
        "\n",
        "#grid search\n",
        "import scipy.stats\n",
        "from sklearn.metrics import make_scorer\n",
        "from sklearn.model_selection import RandomizedSearchCV\n",
        "\n",
        "#Model\n",
        "from sklearn_crfsuite import CRF\n",
        "\n",
        "#Evalulation\n",
        "from sklearn.model_selection import cross_val_predict\n",
        "from sklearn_crfsuite.metrics import flat_classification_report, flat_f1_score"
      ],
      "execution_count": null,
      "outputs": []
    },
    {
      "cell_type": "code",
      "metadata": {
        "id": "MlMPw0nTK3nR"
      },
      "source": [
        "def readstring(filename, meth):\n",
        "    f = filename.split('\\n')\n",
        "    sentences = []\n",
        "    sentence = []\n",
        "    for line in f:\n",
        "        if len(line) == 0 or line.startswith('-DOCSTART') or line[0] == \"\\n\":\n",
        "            if len(sentence) > 0:\n",
        "                sentences.append(sentence)\n",
        "                sentence = []\n",
        "            continue\n",
        "        splits = line.split(' ')\n",
        "        if meth.lower()==\"numbers\":\n",
        "            sentence.append([hasNumbers(splits[0]), splits[-1].strip()])\n",
        "        else:\n",
        "            sentence.append([splits[0], splits[-1].strip()])\n",
        "    if len(sentence) > 0:\n",
        "        sentences.append(sentence)\n",
        "        sentence = []\n",
        "    return sentences"
      ],
      "execution_count": null,
      "outputs": []
    },
    {
      "cell_type": "code",
      "metadata": {
        "id": "bxKta7pHV-Xz"
      },
      "source": [
        "#import data from my github repo\n",
        "train_url = \"https://raw.githubusercontent.com/deanhoperobertson/Named-Enitty-Recognition/master/Data/train.txt\"\n",
        "test_url = \"https://raw.githubusercontent.com/deanhoperobertson/Named-Enitty-Recognition/master/Data/test.txt\"\n",
        "train = urllib.request.urlopen(train_url).read()\n",
        "test = urllib.request.urlopen(test_url).read()\n",
        "train = train.decode('utf-8')\n",
        "test = test.decode('utf-8')\n",
        "\n",
        "#preproces the txt file\n",
        "train = readstring(train,\"NONE\")\n",
        "test = readstring(test, \"NONE\")\n"
      ],
      "execution_count": null,
      "outputs": []
    },
    {
      "cell_type": "markdown",
      "metadata": {
        "id": "j1xaQzBBWRp3"
      },
      "source": [
        "## Orthographic Feature Engineering"
      ]
    },
    {
      "cell_type": "code",
      "metadata": {
        "id": "47lFFjoVWEtb"
      },
      "source": [
        "#Engineered Features:\n",
        "def mix(word):\n",
        "    if word.isalnum():\n",
        "        if re.search(\"^(?=.*[a-zA-Z])(?=.*[0-9])\",word): return True\n",
        "        else: return False\n",
        "    else:\n",
        "        return False\n",
        "\n",
        "def non_intial(word):\n",
        "    '''\n",
        "    The Function the boolean if a non-initial captital letter is present\n",
        "    '''\n",
        "    return not word[1:].islower()\n",
        "\n",
        "def contain_punct(word):\n",
        "    '''\n",
        "    The Function returns the boolean if punctuations is present in token\n",
        "    '''\n",
        "    if re.match(r'^\\w+$',word):return False\n",
        "    else: return True\n",
        "    \n",
        "def apostrophe(word):\n",
        "    '''\n",
        "    The Function returns boolean if \"'s\" is present in token \n",
        "    '''\n",
        "    if word ==\"'s\":return True\n",
        "    else:return False\n",
        "    \n",
        "def word_pattern(word):\n",
        "    '''\n",
        "    The Function returns word patter feature\n",
        "    Upper Case = \"A\"\n",
        "    Lower Case = \"a\"\n",
        "    Digit = \"0\"\n",
        "    '''\n",
        "    token=\"\"\n",
        "    for i in word:\n",
        "        if i.isupper():\n",
        "            token +=\"A\"\n",
        "        elif i.islower():\n",
        "            token +=\"a\"\n",
        "        elif i.isdigit():\n",
        "            token +=\"0\"\n",
        "        else:\n",
        "            token +=str(i)\n",
        "    return token\n",
        "\n",
        "def pattern_sum(word):\n",
        "    '''\n",
        "    The Function returns the word patern without consectutive duplicates\n",
        "    '''\n",
        "    return ''.join(OrderedDict.fromkeys(word))"
      ],
      "execution_count": null,
      "outputs": []
    },
    {
      "cell_type": "code",
      "metadata": {
        "id": "bF_ZZSmnWvR4"
      },
      "source": [
        "def word2features(sentence,i):\n",
        "    word = sentence[i]\n",
        "\n",
        "    features = {\n",
        "        'bias': 1.0,\n",
        "        'word.lower()': word.lower(),\n",
        "        \n",
        "        'Prefix_2': word[:2], # prefix\n",
        "        'Prefix_3': word[:3], # prefix\n",
        "        \n",
        "        'word.istitle()': word.istitle(), #starts with caps\n",
        "        'word.isupper()': word.isupper(), #all caps\n",
        "        'word.islower()': word.islower(), #all lower case\n",
        "        'word.isdigit()': word.isdigit(), #all digits\n",
        "        'word.isalpha()': word.isalpha(), #all letters\n",
        "        \n",
        "        'word.punct()': contain_punct(word),#contains punctuation\n",
        "        'word.apost()': apostrophe(word), #is an apostrophe\n",
        "        'word.non_intial': non_intial(word), #non-initial capitals\n",
        "        'word.mix': mix(word), #mixture of letters and digits\n",
        "        'word.pattern()': word_pattern(word), #word pattern\n",
        "        'word.pattern_sum()': pattern_sum(word_pattern(word)), #word pattern summary\n",
        "        \n",
        "        'Suffix_2': word[-2:], # suffix\n",
        "        'Suffix_3': word[-3:], # suffix\n",
        "        \n",
        "    }\n",
        "    if i == 0:\n",
        "        features['START'] = True\n",
        "        \n",
        "    if i == len(sentence)-1:\n",
        "        features['END'] = True\n",
        "    \n",
        "    return features\n",
        "\n",
        "def get_sentence(dataset,sentence_number):\n",
        "    sentence = []\n",
        "    for i in dataset[sentence_number-1]:\n",
        "        sentence.append(i[0])\n",
        "    return(sentence)\n",
        "\n",
        "\n",
        "def get_label(dataset,sentence_number):\n",
        "    sentence = []\n",
        "    for i in dataset[sentence_number-1]:\n",
        "        sentence.append(i[1])\n",
        "    return(sentence)\n",
        "\n",
        "def sent2features(sent):\n",
        "    return [word2features(sent, i) for i in range(len(sent))]\n",
        "\n",
        "def get_all_sentences(dataset):\n",
        "    sentences=[]\n",
        "    for i in range(len(dataset)):\n",
        "        sentences.append(get_sentence(dataset,i+1))\n",
        "    return sentences\n",
        "\n",
        "def get_all_labels(dataset):\n",
        "    labels=[]\n",
        "    for i in range(len(dataset)):\n",
        "        #labels.append(partial_tags(get_label(dataset,i+1)))\n",
        "        labels.append(get_label(dataset,i+1))\n",
        "    return labels"
      ],
      "execution_count": null,
      "outputs": []
    },
    {
      "cell_type": "code",
      "metadata": {
        "id": "E84PN1BAW3ro"
      },
      "source": [
        "#Apply feature engineering\n",
        "train_sents = get_all_sentences(train)\n",
        "train_labels = get_all_labels(train)\n",
        "test_sents = get_all_sentences(test)\n",
        "test_labels = get_all_labels(test)\n",
        "\n",
        "X_train = [sent2features(s) for s in train_sents]\n",
        "y_train = train_labels\n",
        "X_test = [sent2features(s) for s in test_sents]\n",
        "y_test = test_labels\n",
        "\n",
        "\n",
        "sub_labels=list(set([item for sublist in train_labels for item in sublist]))\n",
        "sub_labels.remove(\"O\")"
      ],
      "execution_count": null,
      "outputs": []
    },
    {
      "cell_type": "markdown",
      "metadata": {
        "id": "YXQz3yAcXCa0"
      },
      "source": [
        "## Grid Search\n",
        "\n",
        "### Algorithms"
      ]
    },
    {
      "cell_type": "code",
      "metadata": {
        "id": "oKL-2EAUr4w9"
      },
      "source": [
        "from sklearn.model_selection import GridSearchCV\n",
        "\n",
        "crf = CRF(\n",
        "    algorithm='lbfgs',\n",
        "    max_iterations=10,\n",
        "    all_possible_transitions=False\n",
        ")\n",
        "\n",
        "c1_c2= tuple(round(i,2) for i in list(np.linspace(0,1,11)))\n",
        "\n",
        "\n",
        "parameters = {'c1':c1_c2,\n",
        "             'c2': c1_c2}\n",
        "\n",
        "f1_scorer = make_scorer(flat_f1_score,\n",
        "                        average='micro',\n",
        "                        labels=sub_labels)\n",
        "\n",
        "grid = GridSearchCV(crf, \n",
        "                    parameters,\n",
        "                    n_jobs=-1,\n",
        "                    scoring =f1_scorer,\n",
        "                    verbose=2,\n",
        "                    return_train_score=True,\n",
        "                    cv=3)"
      ],
      "execution_count": null,
      "outputs": []
    },
    {
      "cell_type": "code",
      "metadata": {
        "id": "qpikYqa-wecF",
        "colab": {
          "base_uri": "https://localhost:8080/",
          "height": 170
        },
        "outputId": "0ae97da2-d1f2-4978-fb21-5287bb4e1ea1"
      },
      "source": [
        "%%time\n",
        "grid_results=grid.fit(X_train, y_train)"
      ],
      "execution_count": null,
      "outputs": [
        {
          "output_type": "stream",
          "text": [
            "Fitting 3 folds for each of 121 candidates, totalling 363 fits\n"
          ],
          "name": "stdout"
        },
        {
          "output_type": "stream",
          "text": [
            "/usr/local/lib/python3.6/dist-packages/sklearn/base.py:197: FutureWarning: From version 0.24, get_params will raise an AttributeError if a parameter cannot be retrieved as an instance attribute. Previously it would return None.\n",
            "  FutureWarning)\n",
            "[Parallel(n_jobs=-1)]: Using backend LokyBackend with 4 concurrent workers.\n",
            "[Parallel(n_jobs=-1)]: Done  33 tasks      | elapsed:  6.7min\n",
            "[Parallel(n_jobs=-1)]: Done 154 tasks      | elapsed: 31.2min\n",
            "[Parallel(n_jobs=-1)]: Done 363 out of 363 | elapsed: 72.1min finished\n"
          ],
          "name": "stderr"
        },
        {
          "output_type": "stream",
          "text": [
            "CPU times: user 1h 11min 39s, sys: 23 s, total: 1h 12min 2s\n",
            "Wall time: 1h 12min 11s\n"
          ],
          "name": "stdout"
        }
      ]
    },
    {
      "cell_type": "code",
      "metadata": {
        "id": "aqnhlZQ_xBtF",
        "colab": {
          "base_uri": "https://localhost:8080/",
          "height": 1000
        },
        "outputId": "877baec5-e49d-43eb-fe8c-c2e2ca268adb"
      },
      "source": [
        "print('best params:', grid_results.best_params_)\n",
        "print('best CV score:',grid_results.best_score_)\n",
        "\n",
        "means = grid_results.cv_results_['mean_test_score']\n",
        "stds = grid_results.cv_results_['std_test_score']\n",
        "params = grid_results.cv_results_['params']\n",
        "\n",
        "for mean, stdev, param in zip(means, stds, params):\n",
        "    print(\"%f (%f) with: %r\" % (mean, stdev, param))"
      ],
      "execution_count": null,
      "outputs": [
        {
          "output_type": "stream",
          "text": [
            "best params: {'c1': 0.1, 'c2': 0.0}\n",
            "best CV score: 0.4472101251519434\n",
            "0.434720 (0.031664) with: {'c1': 0.0, 'c2': 0.0}\n",
            "0.434693 (0.031691) with: {'c1': 0.0, 'c2': 0.1}\n",
            "0.434650 (0.032095) with: {'c1': 0.0, 'c2': 0.2}\n",
            "0.434656 (0.032093) with: {'c1': 0.0, 'c2': 0.3}\n",
            "0.434650 (0.032099) with: {'c1': 0.0, 'c2': 0.4}\n",
            "0.434650 (0.032099) with: {'c1': 0.0, 'c2': 0.5}\n",
            "0.434691 (0.032156) with: {'c1': 0.0, 'c2': 0.6}\n",
            "0.434517 (0.032215) with: {'c1': 0.0, 'c2': 0.7}\n",
            "0.434429 (0.032246) with: {'c1': 0.0, 'c2': 0.8}\n",
            "0.434558 (0.032201) with: {'c1': 0.0, 'c2': 0.9}\n",
            "0.434558 (0.032201) with: {'c1': 0.0, 'c2': 1.0}\n",
            "0.447210 (0.030481) with: {'c1': 0.1, 'c2': 0.0}\n",
            "0.447176 (0.030381) with: {'c1': 0.1, 'c2': 0.1}\n",
            "0.447046 (0.030377) with: {'c1': 0.1, 'c2': 0.2}\n",
            "0.446988 (0.030300) with: {'c1': 0.1, 'c2': 0.3}\n",
            "0.446879 (0.030154) with: {'c1': 0.1, 'c2': 0.4}\n",
            "0.446786 (0.030116) with: {'c1': 0.1, 'c2': 0.5}\n",
            "0.446873 (0.030232) with: {'c1': 0.1, 'c2': 0.6}\n",
            "0.446414 (0.030371) with: {'c1': 0.1, 'c2': 0.7}\n",
            "0.446414 (0.030371) with: {'c1': 0.1, 'c2': 0.8}\n",
            "0.446356 (0.030293) with: {'c1': 0.1, 'c2': 0.9}\n",
            "0.446157 (0.030352) with: {'c1': 0.1, 'c2': 1.0}\n",
            "0.446965 (0.030270) with: {'c1': 0.2, 'c2': 0.0}\n",
            "0.446865 (0.030234) with: {'c1': 0.2, 'c2': 0.1}\n",
            "0.446607 (0.030304) with: {'c1': 0.2, 'c2': 0.2}\n",
            "0.446407 (0.030361) with: {'c1': 0.2, 'c2': 0.3}\n",
            "0.446407 (0.030361) with: {'c1': 0.2, 'c2': 0.4}\n",
            "0.446215 (0.030430) with: {'c1': 0.2, 'c2': 0.5}\n",
            "0.446227 (0.030418) with: {'c1': 0.2, 'c2': 0.6}\n",
            "0.446233 (0.030411) with: {'c1': 0.2, 'c2': 0.7}\n",
            "0.446200 (0.030422) with: {'c1': 0.2, 'c2': 0.8}\n",
            "0.446302 (0.030476) with: {'c1': 0.2, 'c2': 0.9}\n",
            "0.446280 (0.030447) with: {'c1': 0.2, 'c2': 1.0}\n",
            "0.446353 (0.030368) with: {'c1': 0.3, 'c2': 0.0}\n",
            "0.446189 (0.030392) with: {'c1': 0.3, 'c2': 0.1}\n",
            "0.446156 (0.030402) with: {'c1': 0.3, 'c2': 0.2}\n",
            "0.446196 (0.030401) with: {'c1': 0.3, 'c2': 0.3}\n",
            "0.446196 (0.030401) with: {'c1': 0.3, 'c2': 0.4}\n",
            "0.446268 (0.030487) with: {'c1': 0.3, 'c2': 0.5}\n",
            "0.446218 (0.030418) with: {'c1': 0.3, 'c2': 0.6}\n",
            "0.446218 (0.030418) with: {'c1': 0.3, 'c2': 0.7}\n",
            "0.446215 (0.030373) with: {'c1': 0.3, 'c2': 0.8}\n",
            "0.446841 (0.030051) with: {'c1': 0.3, 'c2': 0.9}\n",
            "0.446814 (0.029945) with: {'c1': 0.3, 'c2': 1.0}\n",
            "0.446035 (0.030240) with: {'c1': 0.4, 'c2': 0.0}\n",
            "0.446049 (0.030247) with: {'c1': 0.4, 'c2': 0.1}\n",
            "0.446121 (0.030344) with: {'c1': 0.4, 'c2': 0.2}\n",
            "0.446134 (0.030331) with: {'c1': 0.4, 'c2': 0.3}\n",
            "0.446146 (0.030318) with: {'c1': 0.4, 'c2': 0.4}\n",
            "0.446138 (0.030284) with: {'c1': 0.4, 'c2': 0.5}\n",
            "0.446217 (0.030251) with: {'c1': 0.4, 'c2': 0.6}\n",
            "0.446894 (0.030034) with: {'c1': 0.4, 'c2': 0.7}\n",
            "0.446939 (0.029953) with: {'c1': 0.4, 'c2': 0.8}\n",
            "0.446840 (0.030006) with: {'c1': 0.4, 'c2': 0.9}\n",
            "0.446748 (0.030030) with: {'c1': 0.4, 'c2': 1.0}\n",
            "0.446137 (0.030328) with: {'c1': 0.5, 'c2': 0.0}\n",
            "0.446144 (0.030326) with: {'c1': 0.5, 'c2': 0.1}\n",
            "0.446151 (0.030323) with: {'c1': 0.5, 'c2': 0.2}\n",
            "0.446063 (0.030314) with: {'c1': 0.5, 'c2': 0.3}\n",
            "0.446063 (0.030314) with: {'c1': 0.5, 'c2': 0.4}\n",
            "0.446182 (0.030316) with: {'c1': 0.5, 'c2': 0.5}\n",
            "0.446078 (0.030252) with: {'c1': 0.5, 'c2': 0.6}\n",
            "0.446144 (0.030232) with: {'c1': 0.5, 'c2': 0.7}\n",
            "0.446122 (0.030203) with: {'c1': 0.5, 'c2': 0.8}\n",
            "0.446056 (0.030222) with: {'c1': 0.5, 'c2': 0.9}\n",
            "0.446076 (0.030223) with: {'c1': 0.5, 'c2': 1.0}\n",
            "0.446016 (0.030363) with: {'c1': 0.6, 'c2': 0.0}\n",
            "0.446022 (0.030357) with: {'c1': 0.6, 'c2': 0.1}\n",
            "0.445951 (0.030346) with: {'c1': 0.6, 'c2': 0.2}\n",
            "0.446039 (0.030331) with: {'c1': 0.6, 'c2': 0.3}\n",
            "0.446017 (0.030265) with: {'c1': 0.6, 'c2': 0.4}\n",
            "0.445931 (0.030040) with: {'c1': 0.6, 'c2': 0.5}\n",
            "0.445909 (0.030011) with: {'c1': 0.6, 'c2': 0.6}\n",
            "0.445863 (0.030064) with: {'c1': 0.6, 'c2': 0.7}\n",
            "0.445769 (0.029937) with: {'c1': 0.6, 'c2': 0.8}\n",
            "0.445709 (0.029954) with: {'c1': 0.6, 'c2': 0.9}\n",
            "0.445717 (0.029952) with: {'c1': 0.6, 'c2': 1.0}\n",
            "0.445236 (0.029509) with: {'c1': 0.7, 'c2': 0.0}\n",
            "0.445383 (0.029439) with: {'c1': 0.7, 'c2': 0.1}\n",
            "0.445449 (0.029420) with: {'c1': 0.7, 'c2': 0.2}\n",
            "0.445456 (0.029418) with: {'c1': 0.7, 'c2': 0.3}\n",
            "0.445588 (0.029475) with: {'c1': 0.7, 'c2': 0.4}\n",
            "0.445558 (0.029490) with: {'c1': 0.7, 'c2': 0.5}\n",
            "0.445504 (0.029500) with: {'c1': 0.7, 'c2': 0.6}\n",
            "0.445482 (0.029471) with: {'c1': 0.7, 'c2': 0.7}\n",
            "0.445408 (0.029565) with: {'c1': 0.7, 'c2': 0.8}\n",
            "0.445026 (0.029053) with: {'c1': 0.7, 'c2': 0.9}\n",
            "0.445011 (0.029033) with: {'c1': 0.7, 'c2': 1.0}\n",
            "0.445302 (0.029363) with: {'c1': 0.8, 'c2': 0.0}\n",
            "0.445366 (0.029434) with: {'c1': 0.8, 'c2': 0.1}\n",
            "0.445403 (0.029462) with: {'c1': 0.8, 'c2': 0.2}\n",
            "0.445477 (0.029442) with: {'c1': 0.8, 'c2': 0.3}\n",
            "0.445343 (0.029478) with: {'c1': 0.8, 'c2': 0.4}\n",
            "0.445026 (0.029053) with: {'c1': 0.8, 'c2': 0.5}\n",
            "0.445004 (0.029024) with: {'c1': 0.8, 'c2': 0.6}\n",
            "0.445011 (0.029017) with: {'c1': 0.8, 'c2': 0.7}\n",
            "0.444966 (0.029088) with: {'c1': 0.8, 'c2': 0.8}\n",
            "0.444847 (0.029214) with: {'c1': 0.8, 'c2': 0.9}\n",
            "0.444795 (0.029286) with: {'c1': 0.8, 'c2': 1.0}\n",
            "0.445285 (0.029385) with: {'c1': 0.9, 'c2': 0.0}\n",
            "0.444871 (0.029046) with: {'c1': 0.9, 'c2': 0.1}\n",
            "0.444871 (0.029046) with: {'c1': 0.9, 'c2': 0.2}\n",
            "0.444900 (0.029119) with: {'c1': 0.9, 'c2': 0.3}\n",
            "0.444759 (0.029215) with: {'c1': 0.9, 'c2': 0.4}\n",
            "0.444774 (0.029222) with: {'c1': 0.9, 'c2': 0.5}\n",
            "0.444715 (0.029286) with: {'c1': 0.9, 'c2': 0.6}\n",
            "0.444729 (0.029293) with: {'c1': 0.9, 'c2': 0.7}\n",
            "0.444729 (0.029293) with: {'c1': 0.9, 'c2': 0.8}\n",
            "0.444699 (0.029342) with: {'c1': 0.9, 'c2': 0.9}\n",
            "0.444677 (0.029312) with: {'c1': 0.9, 'c2': 1.0}\n",
            "0.445053 (0.029499) with: {'c1': 1.0, 'c2': 0.0}\n",
            "0.444566 (0.029129) with: {'c1': 1.0, 'c2': 0.1}\n",
            "0.444588 (0.029170) with: {'c1': 1.0, 'c2': 0.2}\n",
            "0.444595 (0.029180) with: {'c1': 1.0, 'c2': 0.3}\n",
            "0.444580 (0.029247) with: {'c1': 1.0, 'c2': 0.4}\n",
            "0.444594 (0.029266) with: {'c1': 1.0, 'c2': 0.5}\n",
            "0.444601 (0.029275) with: {'c1': 1.0, 'c2': 0.6}\n",
            "0.444434 (0.029321) with: {'c1': 1.0, 'c2': 0.7}\n",
            "0.444412 (0.029291) with: {'c1': 1.0, 'c2': 0.8}\n",
            "0.444486 (0.029271) with: {'c1': 1.0, 'c2': 0.9}\n",
            "0.444464 (0.029241) with: {'c1': 1.0, 'c2': 1.0}\n"
          ],
          "name": "stdout"
        }
      ]
    },
    {
      "cell_type": "code",
      "metadata": {
        "id": "Mk_jG6Q_K3CC"
      },
      "source": [
        "import pandas as pd\n",
        "Results=pd.DataFrame(grid_results.cv_results_)\n",
        "Results = Results.sort_values(by=[\"mean_test_score\"])"
      ],
      "execution_count": null,
      "outputs": []
    },
    {
      "cell_type": "code",
      "metadata": {
        "id": "ueZf9ilULuLw"
      },
      "source": [
        "_x = list(Results[\"param_c1\"])\n",
        "_y = list(Results[\"param_c2\"])\n",
        "_f1 = list(Results[\"mean_test_score\"])"
      ],
      "execution_count": null,
      "outputs": []
    },
    {
      "cell_type": "code",
      "metadata": {
        "id": "MRrSSpDpMU5j",
        "colab": {
          "base_uri": "https://localhost:8080/",
          "height": 751
        },
        "outputId": "1ab9c929-8654-45f0-ff96-485cc268f3f6"
      },
      "source": [
        "%matplotlib inline\n",
        "import matplotlib.pyplot as plt\n",
        "import matplotlib as mpl\n",
        "import matplotlib.colors as colors\n",
        "plt.style.use('ggplot')\n",
        "\n",
        "fig = plt.figure()\n",
        "fig.set_size_inches(12, 12)\n",
        "ax = plt.gca()\n",
        "ax.set_xlabel('C1')\n",
        "ax.set_ylabel('C2')\n",
        "\n",
        "ax.set_title(\"Hyperparameter Grid Search Results\")\n",
        "\n",
        "ax.scatter(_x, _y, c=_f1, s=100, alpha=1, edgecolors=[0,0,0], norm=colors.LogNorm())\n",
        "c1 = grid_results.best_params_[\"c1\"]\n",
        "c2 = grid_results.best_params_[\"c2\"]\n",
        "ax.scatter(c1,c2,color=\"red\", s=100)"
      ],
      "execution_count": null,
      "outputs": [
        {
          "output_type": "execute_result",
          "data": {
            "text/plain": [
              "<matplotlib.collections.PathCollection at 0x7f7ba89a3f60>"
            ]
          },
          "metadata": {
            "tags": []
          },
          "execution_count": 39
        },
        {
          "output_type": "display_data",
          "data": {
            "image/png": "[encoded data removed]",
            "text/plain": [
              "<Figure size 864x864 with 1 Axes>"
            ]
          },
          "metadata": {
            "tags": []
          }
        }
      ]
    },
    {
      "cell_type": "markdown",
      "metadata": {
        "id": "rk6kXHuXUg2W"
      },
      "source": [
        "## Focused Grid Search"
      ]
    },
    {
      "cell_type": "code",
      "metadata": {
        "id": "Hsq7zOZPLQka",
        "colab": {
          "base_uri": "https://localhost:8080/",
          "height": 17
        },
        "outputId": "b7c0b244-66e4-47db-8772-9cab021ae317"
      },
      "source": [
        "from google.colab import files\n",
        "Results.to_csv('grid_0.csv')\n",
        "files.download('grid_0.csv') "
      ],
      "execution_count": null,
      "outputs": [
        {
          "output_type": "display_data",
          "data": {
            "application/javascript": [
              "\n",
              "    async function download(id, filename, size) {\n",
              "      if (!google.colab.kernel.accessAllowed) {\n",
              "        return;\n",
              "      }\n",
              "      const div = document.createElement('div');\n",
              "      const label = document.createElement('label');\n",
              "      label.textContent = `Downloading \"${filename}\": `;\n",
              "      div.appendChild(label);\n",
              "      const progress = document.createElement('progress');\n",
              "      progress.max = size;\n",
              "      div.appendChild(progress);\n",
              "      document.body.appendChild(div);\n",
              "\n",
              "      const buffers = [];\n",
              "      let downloaded = 0;\n",
              "\n",
              "      const channel = await google.colab.kernel.comms.open(id);\n",
              "      // Send a message to notify the kernel that we're ready.\n",
              "      channel.send({})\n",
              "\n",
              "      for await (const message of channel.messages) {\n",
              "        // Send a message to notify the kernel that we're ready.\n",
              "        channel.send({})\n",
              "        if (message.buffers) {\n",
              "          for (const buffer of message.buffers) {\n",
              "            buffers.push(buffer);\n",
              "            downloaded += buffer.byteLength;\n",
              "            progress.value = downloaded;\n",
              "          }\n",
              "        }\n",
              "      }\n",
              "      const blob = new Blob(buffers, {type: 'application/binary'});\n",
              "      const a = document.createElement('a');\n",
              "      a.href = window.URL.createObjectURL(blob);\n",
              "      a.download = filename;\n",
              "      div.appendChild(a);\n",
              "      a.click();\n",
              "      div.remove();\n",
              "    }\n",
              "  "
            ],
            "text/plain": [
              "<IPython.core.display.Javascript object>"
            ]
          },
          "metadata": {
            "tags": []
          }
        },
        {
          "output_type": "display_data",
          "data": {
            "application/javascript": [
              "download(\"download_66e742e0-7dfd-4146-949b-57f219b5fd58\", \"grid_0.csv\", 38134)"
            ],
            "text/plain": [
              "<IPython.core.display.Javascript object>"
            ]
          },
          "metadata": {
            "tags": []
          }
        }
      ]
    },
    {
      "cell_type": "code",
      "metadata": {
        "id": "UXy7Qv5hUpa6",
        "colab": {
          "base_uri": "https://localhost:8080/",
          "height": 17
        },
        "outputId": "b0ab0aa0-79f9-4e60-b7e4-cc48083170c5"
      },
      "source": [
        "fig.savefig('grid_0.png')\n",
        "files.download(\"grid_0.png\") "
      ],
      "execution_count": null,
      "outputs": [
        {
          "output_type": "display_data",
          "data": {
            "application/javascript": [
              "\n",
              "    async function download(id, filename, size) {\n",
              "      if (!google.colab.kernel.accessAllowed) {\n",
              "        return;\n",
              "      }\n",
              "      const div = document.createElement('div');\n",
              "      const label = document.createElement('label');\n",
              "      label.textContent = `Downloading \"${filename}\": `;\n",
              "      div.appendChild(label);\n",
              "      const progress = document.createElement('progress');\n",
              "      progress.max = size;\n",
              "      div.appendChild(progress);\n",
              "      document.body.appendChild(div);\n",
              "\n",
              "      const buffers = [];\n",
              "      let downloaded = 0;\n",
              "\n",
              "      const channel = await google.colab.kernel.comms.open(id);\n",
              "      // Send a message to notify the kernel that we're ready.\n",
              "      channel.send({})\n",
              "\n",
              "      for await (const message of channel.messages) {\n",
              "        // Send a message to notify the kernel that we're ready.\n",
              "        channel.send({})\n",
              "        if (message.buffers) {\n",
              "          for (const buffer of message.buffers) {\n",
              "            buffers.push(buffer);\n",
              "            downloaded += buffer.byteLength;\n",
              "            progress.value = downloaded;\n",
              "          }\n",
              "        }\n",
              "      }\n",
              "      const blob = new Blob(buffers, {type: 'application/binary'});\n",
              "      const a = document.createElement('a');\n",
              "      a.href = window.URL.createObjectURL(blob);\n",
              "      a.download = filename;\n",
              "      div.appendChild(a);\n",
              "      a.click();\n",
              "      div.remove();\n",
              "    }\n",
              "  "
            ],
            "text/plain": [
              "<IPython.core.display.Javascript object>"
            ]
          },
          "metadata": {
            "tags": []
          }
        },
        {
          "output_type": "display_data",
          "data": {
            "application/javascript": [
              "download(\"download_1276370b-2418-4f3f-89bd-71f50141d08f\", \"grid_0.png\", 50170)"
            ],
            "text/plain": [
              "<IPython.core.display.Javascript object>"
            ]
          },
          "metadata": {
            "tags": []
          }
        }
      ]
    }
  ]
}