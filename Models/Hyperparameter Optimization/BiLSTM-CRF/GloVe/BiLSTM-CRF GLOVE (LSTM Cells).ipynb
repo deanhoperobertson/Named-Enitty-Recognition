{
  "nbformat": 4,
  "nbformat_minor": 0,
  "metadata": {
    "colab": {
      "name": "GridSearch Bi-LSTM-CRF-GLOVE- (LSTM Cells)",
      "provenance": [],
      "collapsed_sections": [],
      "machine_shape": "hm",
      "include_colab_link": true
    },
    "kernelspec": {
      "name": "python3",
      "display_name": "Python 3"
    },
    "accelerator": "GPU"
  },
  "cells": [
    {
      "cell_type": "markdown",
      "metadata": {
        "id": "view-in-github",
        "colab_type": "text"
      },
      "source": [
        "<a href=\"https://colab.research.google.com/github/deanhoperobertson/Named-Enitty-Recognition/blob/master/Models/Hyperparameter%20Optimization/BiLSTM-CRF/GloVe/BiLSTM-CRF%20GLOVE%20(LSTM%20Cells).ipynb\" target=\"_parent\"><img src=\"https://colab.research.google.com/assets/colab-badge.svg\" alt=\"Open In Colab\"/></a>"
      ]
    },
    {
      "cell_type": "code",
      "metadata": {
        "id": "dEI15-hK3sQ2",
        "colab": {
          "base_uri": "https://localhost:8080/",
          "height": 527
        },
        "outputId": "d44ace8e-f143-4a20-b9d3-4280f0e61c37"
      },
      "source": [
        "!sudo pip install git+https://www.github.com/keras-team/keras-contrib.git\n",
        "!pip install sklearn_crfsuite\n",
        "!pip install keras==2.2.4\n",
        "%tensorflow_version 1.x\n",
        "#!pip install tensorflow-gpu==1.15.0"
      ],
      "execution_count": null,
      "outputs": [
        {
          "output_type": "stream",
          "text": [
            "Collecting git+https://www.github.com/keras-team/keras-contrib.git\n",
            "  Cloning https://www.github.com/keras-team/keras-contrib.git to /tmp/pip-req-build-cthqjouw\n",
            "  Running command git clone -q https://www.github.com/keras-team/keras-contrib.git /tmp/pip-req-build-cthqjouw\n",
            "Requirement already satisfied (use --upgrade to upgrade): keras-contrib==2.0.8 from git+https://www.github.com/keras-team/keras-contrib.git in /usr/local/lib/python3.6/dist-packages\n",
            "Requirement already satisfied: keras in /usr/local/lib/python3.6/dist-packages (from keras-contrib==2.0.8) (2.2.4)\n",
            "Requirement already satisfied: six>=1.9.0 in /usr/local/lib/python3.6/dist-packages (from keras->keras-contrib==2.0.8) (1.15.0)\n",
            "Requirement already satisfied: scipy>=0.14 in /usr/local/lib/python3.6/dist-packages (from keras->keras-contrib==2.0.8) (1.4.1)\n",
            "Requirement already satisfied: pyyaml in /usr/local/lib/python3.6/dist-packages (from keras->keras-contrib==2.0.8) (3.13)\n",
            "Requirement already satisfied: h5py in /usr/local/lib/python3.6/dist-packages (from keras->keras-contrib==2.0.8) (2.10.0)\n",
            "Requirement already satisfied: numpy>=1.9.1 in /usr/local/lib/python3.6/dist-packages (from keras->keras-contrib==2.0.8) (1.18.5)\n",
            "Requirement already satisfied: keras-preprocessing>=1.0.5 in /usr/local/lib/python3.6/dist-packages (from keras->keras-contrib==2.0.8) (1.1.2)\n",
            "Requirement already satisfied: keras-applications>=1.0.6 in /usr/local/lib/python3.6/dist-packages (from keras->keras-contrib==2.0.8) (1.0.8)\n",
            "Building wheels for collected packages: keras-contrib\n",
            "  Building wheel for keras-contrib (setup.py) ... \u001b[?25l\u001b[?25hdone\n",
            "  Created wheel for keras-contrib: filename=keras_contrib-2.0.8-cp36-none-any.whl size=101064 sha256=8c923b677315b60b175fa2a6d013e72c2cf08abbbadceeb00ce27b08ed0709ed\n",
            "  Stored in directory: /tmp/pip-ephem-wheel-cache-c1pxtpwo/wheels/11/27/c8/4ed56de7b55f4f61244e2dc6ef3cdbaff2692527a2ce6502ba\n",
            "Successfully built keras-contrib\n",
            "Requirement already satisfied: sklearn_crfsuite in /usr/local/lib/python3.6/dist-packages (0.3.6)\n",
            "Requirement already satisfied: six in /usr/local/lib/python3.6/dist-packages (from sklearn_crfsuite) (1.15.0)\n",
            "Requirement already satisfied: tabulate in /usr/local/lib/python3.6/dist-packages (from sklearn_crfsuite) (0.8.7)\n",
            "Requirement already satisfied: tqdm>=2.0 in /usr/local/lib/python3.6/dist-packages (from sklearn_crfsuite) (4.41.1)\n",
            "Requirement already satisfied: python-crfsuite>=0.8.3 in /usr/local/lib/python3.6/dist-packages (from sklearn_crfsuite) (0.9.7)\n",
            "Requirement already satisfied: keras==2.2.4 in /usr/local/lib/python3.6/dist-packages (2.2.4)\n",
            "Requirement already satisfied: numpy>=1.9.1 in /usr/local/lib/python3.6/dist-packages (from keras==2.2.4) (1.18.5)\n",
            "Requirement already satisfied: keras-preprocessing>=1.0.5 in /usr/local/lib/python3.6/dist-packages (from keras==2.2.4) (1.1.2)\n",
            "Requirement already satisfied: pyyaml in /usr/local/lib/python3.6/dist-packages (from keras==2.2.4) (3.13)\n",
            "Requirement already satisfied: six>=1.9.0 in /usr/local/lib/python3.6/dist-packages (from keras==2.2.4) (1.15.0)\n",
            "Requirement already satisfied: keras-applications>=1.0.6 in /tensorflow-1.15.2/python3.6 (from keras==2.2.4) (1.0.8)\n",
            "Requirement already satisfied: scipy>=0.14 in /usr/local/lib/python3.6/dist-packages (from keras==2.2.4) (1.4.1)\n",
            "Requirement already satisfied: h5py in /usr/local/lib/python3.6/dist-packages (from keras==2.2.4) (2.10.0)\n"
          ],
          "name": "stdout"
        }
      ]
    },
    {
      "cell_type": "code",
      "metadata": {
        "id": "gvLtrysY3xZn",
        "colab": {
          "base_uri": "https://localhost:8080/",
          "height": 34
        },
        "outputId": "dfcd880a-6400-404d-bb70-013704f5d1e9"
      },
      "source": [
        "import pandas as pd\n",
        "import re\n",
        "import numpy as np\n",
        "import urllib.request\n",
        "from sklearn.model_selection import train_test_split\n",
        "\n",
        "#keras and tensorflow packages\n",
        "import tensorflow as tf\n",
        "from keras.layers.merge import add\n",
        "from keras.preprocessing.sequence import pad_sequences\n",
        "from keras.preprocessing import text, sequence\n",
        "from keras.utils import to_categorical\n",
        "from keras.models import Model, Input\n",
        "from keras.layers import LSTM, Embedding, Dense, TimeDistributed, Dropout, Bidirectional\n",
        "from keras_contrib.layers import CRF\n",
        "from keras_contrib.losses import crf_loss\n",
        "from keras_contrib.metrics import crf_viterbi_accuracy\n",
        "from keras_contrib.metrics import crf_accuracy\n",
        "\n",
        "#evaluation\n",
        "from sklearn_crfsuite.metrics import flat_classification_report,flat_f1_score,flat_precision_score\n",
        "print(tf.__version__)"
      ],
      "execution_count": null,
      "outputs": [
        {
          "output_type": "stream",
          "text": [
            "1.15.2\n"
          ],
          "name": "stdout"
        }
      ]
    },
    {
      "cell_type": "code",
      "metadata": {
        "id": "ocDbUxvfTfzJ",
        "colab": {
          "base_uri": "https://localhost:8080/",
          "height": 34
        },
        "outputId": "0579a787-cb4d-47c2-fc18-f5ab90c713b6"
      },
      "source": [
        "#Ensure Reproducibility\n",
        "import numpy as np\n",
        "import random as rn\n",
        "import os\n",
        "\n",
        "random_seed=3\n",
        "\n",
        "# 1) set numpy random seed\n",
        "np.random.seed(random_seed)\n",
        "# 2) set build-in random seed\n",
        "rn.seed(random_seed)\n",
        "# 3) set PYTHONHASHSEED\n",
        "os.environ['PYTHONHASHSEED']=str(random_seed)\n",
        "# 4) set tensorflow random seed\n",
        "tf.random.set_random_seed(random_seed)\n",
        "\n",
        "# 5) Force TensorFlow to use single thread.\n",
        "session_conf = tf.ConfigProto(intra_op_parallelism_threads=1, inter_op_parallelism_threads=1)\n",
        "from keras import backend as K\n",
        "tf.set_random_seed(1)\n",
        "sess = tf.Session(graph=tf.get_default_graph(), config=session_conf)\n",
        "K.set_session(sess)\n",
        "\n",
        "print(\"Num GPUs Available: \", len(tf.config.experimental.list_physical_devices('GPU')))"
      ],
      "execution_count": null,
      "outputs": [
        {
          "output_type": "stream",
          "text": [
            "Num GPUs Available:  1\n"
          ],
          "name": "stdout"
        }
      ]
    },
    {
      "cell_type": "code",
      "metadata": {
        "id": "HQ5UL1PL39-g"
      },
      "source": [
        "#import data from my github repo\n",
        "train_url = \"https://raw.githubusercontent.com/deanhoperobertson/Named-Enitty-Recognition/master/Data/train.txt\"\n",
        "test_url = \"https://raw.githubusercontent.com/deanhoperobertson/Named-Enitty-Recognition/master/Data/test.txt\"\n",
        "train = urllib.request.urlopen(train_url).read()\n",
        "test = urllib.request.urlopen(test_url).read()\n",
        "train = train.decode('utf-8')\n",
        "test = test.decode('utf-8')\n",
        "\n",
        "def readstring(filename, meth):\n",
        "    f = filename.split('\\n')\n",
        "    sentences = []\n",
        "    sentence = []\n",
        "    for line in f:\n",
        "        if len(line) == 0 or line.startswith('-DOCSTART') or line[0] == \"\\n\":\n",
        "            if len(sentence) > 0:\n",
        "                sentences.append(sentence)\n",
        "                sentence = []\n",
        "            continue\n",
        "        splits = line.split(' ')\n",
        "        if meth.lower()==\"numbers1\":\n",
        "            sentence.append([hasNumbers1(splits[0]), splits[-1].strip()])\n",
        "        elif meth.lower()==\"numbers2\":\n",
        "            sentence.append([hasNumbers2(splits[0]), splits[-1].strip()])\n",
        "        else:\n",
        "            sentence.append([splits[0], splits[-1].strip()])\n",
        "    if len(sentence) > 0:\n",
        "        sentences.append(sentence)\n",
        "        sentence = []\n",
        "    return sentences\n",
        "\n",
        "def hasNumbers1(inputString):\n",
        "    if re.search(r'\\d', inputString):\n",
        "        return \"0\"\n",
        "    else:return(inputString)\n",
        "\n",
        "def hasNumbers2(text):\n",
        "  if text.isdigit():\n",
        "      return \"1\"\n",
        "  elif re.search(r'\\d',text) and re.search(r'\\,|\\.',text):\n",
        "      return \"1\" \n",
        "  else:\n",
        "      if re.search(r'\\d', text):\n",
        "          return(re.sub('\\d','D', text))\n",
        "      else:\n",
        "          return text\n",
        "\n",
        "#preproces the txt file\n",
        "train_data = readstring(train,\"Numbers1\")\n",
        "test_data = readstring(test,\"Numbers1\")\n",
        "\n",
        "#create corpus\n",
        "corpus = train_data.copy()\n",
        "corpus.extend(test_data)"
      ],
      "execution_count": null,
      "outputs": []
    },
    {
      "cell_type": "code",
      "metadata": {
        "id": "DQSami9V4FbD"
      },
      "source": [
        "def reformat_data(data,meth):\n",
        "  if meth.lower() == \"data\":\n",
        "    i=0\n",
        "  else: i=1\n",
        "  train = []\n",
        "  output= []\n",
        "  for sentence in data:\n",
        "    words=[]\n",
        "    for x in sentence:\n",
        "      words.append(x[i])\n",
        "    train.append(words)\n",
        "\n",
        "  for i in train:\n",
        "    string = ' '.join(i)\n",
        "    output.append(string)\n",
        "  return output\n",
        "\n",
        "def get_max_length(corpus):\n",
        "  length = []\n",
        "  for sentence in corpus:\n",
        "    length.append(len(sentence))\n",
        "  return int(max(length))\n",
        "\n",
        "def number_of_tags(corpus):\n",
        "  tags=[]\n",
        "  for sentence in corpus:\n",
        "    for tag in sentence:\n",
        "      tags.append(tag[1])\n",
        "  return int(len(list(set(tags))))\n",
        "\n",
        "\n",
        "MAX_LEN = get_max_length(corpus)\n",
        "N_tags = number_of_tags(corpus)\n",
        "\n",
        "train = reformat_data(train_data,\"data\")\n",
        "test = reformat_data(test_data,\"data\")\n",
        "\n",
        "train_y = reformat_data(train_data,\"tags\")\n",
        "test_y = reformat_data(test_data,\"tags\")\n"
      ],
      "execution_count": null,
      "outputs": []
    },
    {
      "cell_type": "markdown",
      "metadata": {
        "id": "X61q9Lc4NtTn"
      },
      "source": [
        "## Load Embeddings"
      ]
    },
    {
      "cell_type": "code",
      "metadata": {
        "id": "T4_bcRYfNvNo",
        "colab": {
          "base_uri": "https://localhost:8080/",
          "height": 34
        },
        "outputId": "2176593e-aa0f-4865-a80d-3019487ae844"
      },
      "source": [
        "from google.colab import drive\n",
        "drive.mount('/content/drive')"
      ],
      "execution_count": null,
      "outputs": [
        {
          "output_type": "stream",
          "text": [
            "Drive already mounted at /content/drive; to attempt to forcibly remount, call drive.mount(\"/content/drive\", force_remount=True).\n"
          ],
          "name": "stdout"
        }
      ]
    },
    {
      "cell_type": "code",
      "metadata": {
        "id": "-tSLakoFNzQP",
        "colab": {
          "base_uri": "https://localhost:8080/",
          "height": 34
        },
        "outputId": "ed87c73e-9ba7-42d3-9d25-5a39fc5df459"
      },
      "source": [
        "root_path = \"/content/drive/My Drive/glove.6B.50d.txt\"\n",
        "#root_path = \"/content/drive/My Drive/SENNA.txt\"\n",
        "\n",
        "embeddings_index={}\n",
        "f = open(root_path, encoding = \"utf-8\")\n",
        "for line in f:\n",
        "    values = line.split()\n",
        "    word = values[0]\n",
        "    coefs = np.asarray(values[1:], dtype='float32')\n",
        "    embeddings_index[word] = coefs\n",
        "f.close()\n",
        "\n",
        "print('Found %s word vectors.' % len(embeddings_index))"
      ],
      "execution_count": null,
      "outputs": [
        {
          "output_type": "stream",
          "text": [
            "Found 400000 word vectors.\n"
          ],
          "name": "stdout"
        }
      ]
    },
    {
      "cell_type": "markdown",
      "metadata": {
        "id": "riH42VhNLsp4"
      },
      "source": [
        "## Data Processing"
      ]
    },
    {
      "cell_type": "code",
      "metadata": {
        "id": "V5G5pxjPN_6t"
      },
      "source": [
        "def prep_data(xx_train,yy_train,xx_test,yy_test):\n",
        "  \n",
        "  token_word = text.Tokenizer(char_level=False, lower=True, filters=\"}\", oov_token='UNK')\n",
        "  token_word.fit_on_texts(xx_train)\n",
        "\n",
        "  X_train = sequence.pad_sequences(token_word.texts_to_sequences(xx_train), maxlen=MAX_LEN,padding=\"post\")\n",
        "  X_test = sequence.pad_sequences(token_word.texts_to_sequences(xx_test), maxlen=MAX_LEN,padding=\"post\")\n",
        "\n",
        "  # create a tokenizer\n",
        "  token_tag = text.Tokenizer(char_level=False, lower=False, filters=\"}\")\n",
        "  token_tag.fit_on_texts(train_y)\n",
        "\n",
        "  # convert training labels\n",
        "  Y = sequence.pad_sequences(token_tag.texts_to_sequences(yy_train), maxlen=MAX_LEN,padding=\"post\")\n",
        "  Y_train = [to_categorical(i, num_classes=N_tags+1) for i in Y]\n",
        "\n",
        "  # convert test labels\n",
        "  Y = sequence.pad_sequences(token_tag.texts_to_sequences(yy_test), maxlen=MAX_LEN,padding=\"post\")\n",
        "  Y_test = [to_categorical(i, num_classes=N_tags+1) for i in Y]\n",
        "\n",
        "  return X_train, X_test, Y_train, Y_test, token_word"
      ],
      "execution_count": null,
      "outputs": []
    },
    {
      "cell_type": "markdown",
      "metadata": {
        "id": "wZivV-01Nomw"
      },
      "source": [
        "## Grid Search"
      ]
    },
    {
      "cell_type": "code",
      "metadata": {
        "id": "S1dYS2ALN6-f",
        "colab": {
          "base_uri": "https://localhost:8080/",
          "height": 1000
        },
        "outputId": "9c193a03-fd47-45a1-bdcd-f7f746c2266f"
      },
      "source": [
        "%%time\n",
        "from sklearn.model_selection import KFold\n",
        "from keras import optimizers\n",
        "from keras.callbacks import EarlyStopping\n",
        "early_stopping = EarlyStopping(monitor='val_loss', patience=2)\n",
        "\n",
        "\n",
        "kf = KFold(n_splits=3,random_state=3, shuffle=True)\n",
        "\n",
        "grid_results = []\n",
        "CELLS =[100,200,300]\n",
        "BATCH_SIZE= 32\n",
        "EPOCHS=20\n",
        "fold_count = 1\n",
        "\n",
        "for CELL in CELLS:\n",
        "  for train_index, test_index in kf.split(train):\n",
        "    print(\"FOLD Number: %d/%d\" %(fold_count,len(CELLS)*3))\n",
        "    \n",
        "    #split data\n",
        "    xx_train,yy_train = np.array(train)[train_index], np.array(train_y)[train_index]\n",
        "    xx_test,yy_test = np.array(train)[test_index], np.array(train_y)[test_index]\n",
        "\n",
        "    X_train, X_test, Y_train, Y_test, token_word = prep_data(xx_train, yy_train,xx_test, yy_test)\n",
        "\n",
        "    #---------create emedding matrix------------\n",
        "    EMBEDDING=len(coefs)\n",
        "    word_index = token_word.word_index\n",
        "    embedding_matrix = np.zeros((len(token_word.word_index) + 1, EMBEDDING))\n",
        "    for word, i in word_index.items():\n",
        "        embedding_vector = embeddings_index.get(word)\n",
        "        if embedding_vector is not None:\n",
        "          # words not found in embedding index will be all-zeros.\n",
        "          embedding_matrix[i] = embedding_vector\n",
        "\n",
        "    #---------Define Model Build-------------\n",
        "    def create_model(cells):\n",
        "      input =  Input(shape=(MAX_LEN,))\n",
        "      model_2 = Embedding(len(token_word.word_index) + 1,output_dim=EMBEDDING,\n",
        "                      weights=[embedding_matrix],input_length=MAX_LEN,\n",
        "                      trainable=False,mask_zero=True)(input)\n",
        "      model_2 = Bidirectional(LSTM(units=cells, return_sequences=True,\n",
        "                                recurrent_dropout=0.1, dropout=0.1))(model_2)\n",
        "      model_2 = TimeDistributed(Dense(20, activation=\"relu\"))(model_2)\n",
        "      crf = CRF(N_tags+1)  # CRF layer\n",
        "      out = crf(model_2)  # output\n",
        "      model_2 = Model(input, out)\n",
        "      \n",
        "      model_2.compile(optimizer=\"adam\", loss=crf_loss,metrics=[crf_viterbi_accuracy])\n",
        "      return model_2\n",
        "\n",
        "  #---------Fit Model-----------------\n",
        "    model = create_model(CELL)\n",
        "    history = model.fit(X_train, np.array(Y_train), batch_size=BATCH_SIZE, epochs=EPOCHS,verbose=1, callbacks=[early_stopping], validation_data=(X_test,np.array(Y_test)))\n",
        "\n",
        "    grid_results.append({\"train_loss\":history.history[\"loss\"][-1],\n",
        "                      \"train_acc\": history.history[\"crf_viterbi_accuracy\"][-1],\n",
        "                      \"val_loss\": history.history[\"val_loss\"][-1],\n",
        "                      \"val_acc\": history.history[\"val_crf_viterbi_accuracy\"][-1],\n",
        "                      \"epochs\": len(history.history[\"loss\"]),\n",
        "                      \"LSTM Cells\": CELL,\n",
        "                      })\n",
        "\n",
        "    fold_count +=1"
      ],
      "execution_count": null,
      "outputs": [
        {
          "output_type": "stream",
          "text": [
            "FOLD Number: 1/9\n",
            "Train on 9360 samples, validate on 4681 samples\n",
            "Epoch 1/20\n",
            "9360/9360 [==============================] - 274s 29ms/step - loss: 39.3049 - crf_viterbi_accuracy: 0.8927 - val_loss: 39.3388 - val_crf_viterbi_accuracy: 0.9327\n",
            "Epoch 2/20\n",
            "9360/9360 [==============================] - 273s 29ms/step - loss: 39.0749 - crf_viterbi_accuracy: 0.9393 - val_loss: 39.2875 - val_crf_viterbi_accuracy: 0.9464\n",
            "Epoch 3/20\n",
            "9360/9360 [==============================] - 272s 29ms/step - loss: 39.0343 - crf_viterbi_accuracy: 0.9519 - val_loss: 39.2599 - val_crf_viterbi_accuracy: 0.9540\n",
            "Epoch 4/20\n",
            "9360/9360 [==============================] - 274s 29ms/step - loss: 39.0107 - crf_viterbi_accuracy: 0.9585 - val_loss: 39.2478 - val_crf_viterbi_accuracy: 0.9574\n",
            "Epoch 5/20\n",
            "9360/9360 [==============================] - 273s 29ms/step - loss: 38.9936 - crf_viterbi_accuracy: 0.9623 - val_loss: 39.2339 - val_crf_viterbi_accuracy: 0.9600\n",
            "Epoch 6/20\n",
            "9360/9360 [==============================] - 273s 29ms/step - loss: 38.9812 - crf_viterbi_accuracy: 0.9655 - val_loss: 39.2263 - val_crf_viterbi_accuracy: 0.9630\n",
            "Epoch 7/20\n",
            "9360/9360 [==============================] - 272s 29ms/step - loss: 38.9721 - crf_viterbi_accuracy: 0.9681 - val_loss: 39.2211 - val_crf_viterbi_accuracy: 0.9638\n",
            "Epoch 8/20\n",
            "9360/9360 [==============================] - 271s 29ms/step - loss: 38.9639 - crf_viterbi_accuracy: 0.9708 - val_loss: 39.2188 - val_crf_viterbi_accuracy: 0.9648\n",
            "Epoch 9/20\n",
            "9360/9360 [==============================] - 272s 29ms/step - loss: 38.9567 - crf_viterbi_accuracy: 0.9720 - val_loss: 39.2137 - val_crf_viterbi_accuracy: 0.9656\n",
            "Epoch 10/20\n",
            "9360/9360 [==============================] - 272s 29ms/step - loss: 38.9513 - crf_viterbi_accuracy: 0.9744 - val_loss: 39.2115 - val_crf_viterbi_accuracy: 0.9656\n",
            "Epoch 11/20\n",
            "9360/9360 [==============================] - 271s 29ms/step - loss: 38.9462 - crf_viterbi_accuracy: 0.9759 - val_loss: 39.2204 - val_crf_viterbi_accuracy: 0.9663\n",
            "Epoch 12/20\n",
            "9360/9360 [==============================] - 272s 29ms/step - loss: 38.9422 - crf_viterbi_accuracy: 0.9769 - val_loss: 39.2119 - val_crf_viterbi_accuracy: 0.9685\n",
            "FOLD Number: 2/9\n",
            "Train on 9361 samples, validate on 4680 samples\n",
            "Epoch 1/20\n",
            "9361/9361 [==============================] - 276s 29ms/step - loss: 39.3619 - crf_viterbi_accuracy: 0.8766 - val_loss: 39.3487 - val_crf_viterbi_accuracy: 0.9319\n",
            "Epoch 2/20\n",
            "9361/9361 [==============================] - 273s 29ms/step - loss: 39.0828 - crf_viterbi_accuracy: 0.9380 - val_loss: 39.2900 - val_crf_viterbi_accuracy: 0.9492\n",
            "Epoch 3/20\n",
            "9361/9361 [==============================] - 271s 29ms/step - loss: 39.0372 - crf_viterbi_accuracy: 0.9508 - val_loss: 39.2670 - val_crf_viterbi_accuracy: 0.9533\n",
            "Epoch 4/20\n",
            "9361/9361 [==============================] - 272s 29ms/step - loss: 39.0138 - crf_viterbi_accuracy: 0.9561 - val_loss: 39.2575 - val_crf_viterbi_accuracy: 0.9564\n",
            "Epoch 5/20\n",
            "9361/9361 [==============================] - 268s 29ms/step - loss: 38.9960 - crf_viterbi_accuracy: 0.9611 - val_loss: 39.2396 - val_crf_viterbi_accuracy: 0.9606\n",
            "Epoch 6/20\n",
            "9361/9361 [==============================] - 271s 29ms/step - loss: 38.9833 - crf_viterbi_accuracy: 0.9641 - val_loss: 39.2306 - val_crf_viterbi_accuracy: 0.9632\n",
            "Epoch 7/20\n",
            "9361/9361 [==============================] - 272s 29ms/step - loss: 38.9734 - crf_viterbi_accuracy: 0.9672 - val_loss: 39.2268 - val_crf_viterbi_accuracy: 0.9633\n",
            "Epoch 8/20\n",
            "9361/9361 [==============================] - 271s 29ms/step - loss: 38.9640 - crf_viterbi_accuracy: 0.9695 - val_loss: 39.2244 - val_crf_viterbi_accuracy: 0.9634\n",
            "Epoch 9/20\n",
            "9361/9361 [==============================] - 271s 29ms/step - loss: 38.9589 - crf_viterbi_accuracy: 0.9702 - val_loss: 39.2179 - val_crf_viterbi_accuracy: 0.9661\n",
            "Epoch 10/20\n",
            "9361/9361 [==============================] - 271s 29ms/step - loss: 38.9521 - crf_viterbi_accuracy: 0.9734 - val_loss: 39.2186 - val_crf_viterbi_accuracy: 0.9650\n",
            "Epoch 11/20\n",
            "9361/9361 [==============================] - 268s 29ms/step - loss: 38.9469 - crf_viterbi_accuracy: 0.9749 - val_loss: 39.2194 - val_crf_viterbi_accuracy: 0.9641\n",
            "FOLD Number: 3/9\n",
            "Train on 9361 samples, validate on 4680 samples\n",
            "Epoch 1/20\n",
            "9361/9361 [==============================] - 275s 29ms/step - loss: 39.6306 - crf_viterbi_accuracy: 0.8417 - val_loss: 38.9123 - val_crf_viterbi_accuracy: 0.9287\n",
            "Epoch 2/20\n",
            "9361/9361 [==============================] - 274s 29ms/step - loss: 39.3233 - crf_viterbi_accuracy: 0.9349 - val_loss: 38.8538 - val_crf_viterbi_accuracy: 0.9443\n",
            "Epoch 3/20\n",
            "9361/9361 [==============================] - 274s 29ms/step - loss: 39.2773 - crf_viterbi_accuracy: 0.9477 - val_loss: 38.8279 - val_crf_viterbi_accuracy: 0.9507\n",
            "Epoch 4/20\n",
            "9361/9361 [==============================] - 276s 29ms/step - loss: 39.2519 - crf_viterbi_accuracy: 0.9545 - val_loss: 38.8049 - val_crf_viterbi_accuracy: 0.9564\n",
            "Epoch 5/20\n",
            "9361/9361 [==============================] - 274s 29ms/step - loss: 39.2328 - crf_viterbi_accuracy: 0.9593 - val_loss: 38.7928 - val_crf_viterbi_accuracy: 0.9602\n",
            "Epoch 6/20\n",
            "9361/9361 [==============================] - 276s 30ms/step - loss: 39.2187 - crf_viterbi_accuracy: 0.9632 - val_loss: 38.7848 - val_crf_viterbi_accuracy: 0.9620\n",
            "Epoch 7/20\n",
            "9361/9361 [==============================] - 275s 29ms/step - loss: 39.2061 - crf_viterbi_accuracy: 0.9660 - val_loss: 38.7784 - val_crf_viterbi_accuracy: 0.9642\n",
            "Epoch 8/20\n",
            "9361/9361 [==============================] - 275s 29ms/step - loss: 39.1988 - crf_viterbi_accuracy: 0.9682 - val_loss: 38.7722 - val_crf_viterbi_accuracy: 0.9650\n",
            "Epoch 9/20\n",
            "9361/9361 [==============================] - 275s 29ms/step - loss: 39.1908 - crf_viterbi_accuracy: 0.9703 - val_loss: 38.7686 - val_crf_viterbi_accuracy: 0.9657\n",
            "Epoch 10/20\n",
            "9361/9361 [==============================] - 276s 29ms/step - loss: 39.1843 - crf_viterbi_accuracy: 0.9722 - val_loss: 38.7670 - val_crf_viterbi_accuracy: 0.9671\n",
            "Epoch 11/20\n",
            "9361/9361 [==============================] - 276s 29ms/step - loss: 39.1797 - crf_viterbi_accuracy: 0.9731 - val_loss: 38.7646 - val_crf_viterbi_accuracy: 0.9680\n",
            "Epoch 12/20\n",
            "9361/9361 [==============================] - 275s 29ms/step - loss: 39.1748 - crf_viterbi_accuracy: 0.9750 - val_loss: 38.7652 - val_crf_viterbi_accuracy: 0.9671\n",
            "Epoch 13/20\n",
            "9361/9361 [==============================] - 275s 29ms/step - loss: 39.1710 - crf_viterbi_accuracy: 0.9761 - val_loss: 38.7634 - val_crf_viterbi_accuracy: 0.9669\n",
            "Epoch 14/20\n",
            "9361/9361 [==============================] - 274s 29ms/step - loss: 39.1658 - crf_viterbi_accuracy: 0.9777 - val_loss: 38.7610 - val_crf_viterbi_accuracy: 0.9692\n",
            "Epoch 15/20\n",
            "9361/9361 [==============================] - 276s 29ms/step - loss: 39.1629 - crf_viterbi_accuracy: 0.9788 - val_loss: 38.7612 - val_crf_viterbi_accuracy: 0.9693\n",
            "Epoch 16/20\n",
            "9361/9361 [==============================] - 275s 29ms/step - loss: 39.1610 - crf_viterbi_accuracy: 0.9791 - val_loss: 38.7599 - val_crf_viterbi_accuracy: 0.9707\n",
            "Epoch 17/20\n",
            "9361/9361 [==============================] - 275s 29ms/step - loss: 39.1578 - crf_viterbi_accuracy: 0.9802 - val_loss: 38.7615 - val_crf_viterbi_accuracy: 0.9691\n",
            "Epoch 18/20\n",
            "9361/9361 [==============================] - 275s 29ms/step - loss: 39.1552 - crf_viterbi_accuracy: 0.9815 - val_loss: 38.7584 - val_crf_viterbi_accuracy: 0.9703\n",
            "Epoch 19/20\n",
            "9361/9361 [==============================] - 276s 29ms/step - loss: 39.1535 - crf_viterbi_accuracy: 0.9821 - val_loss: 38.7587 - val_crf_viterbi_accuracy: 0.9710\n",
            "Epoch 20/20\n",
            "9361/9361 [==============================] - 275s 29ms/step - loss: 39.1524 - crf_viterbi_accuracy: 0.9826 - val_loss: 38.7596 - val_crf_viterbi_accuracy: 0.9701\n",
            "FOLD Number: 4/9\n",
            "Train on 9360 samples, validate on 4681 samples\n",
            "Epoch 1/20\n",
            "9360/9360 [==============================] - 279s 30ms/step - loss: 39.2456 - crf_viterbi_accuracy: 0.8994 - val_loss: 39.3202 - val_crf_viterbi_accuracy: 0.9381\n",
            "Epoch 2/20\n",
            "9360/9360 [==============================] - 274s 29ms/step - loss: 39.0581 - crf_viterbi_accuracy: 0.9449 - val_loss: 39.2772 - val_crf_viterbi_accuracy: 0.9469\n",
            "Epoch 3/20\n",
            "9360/9360 [==============================] - 276s 29ms/step - loss: 39.0206 - crf_viterbi_accuracy: 0.9546 - val_loss: 39.2528 - val_crf_viterbi_accuracy: 0.9542\n",
            "Epoch 4/20\n",
            "9360/9360 [==============================] - 273s 29ms/step - loss: 38.9966 - crf_viterbi_accuracy: 0.9612 - val_loss: 39.2380 - val_crf_viterbi_accuracy: 0.9578\n",
            "Epoch 5/20\n",
            "9360/9360 [==============================] - 273s 29ms/step - loss: 38.9804 - crf_viterbi_accuracy: 0.9650 - val_loss: 39.2277 - val_crf_viterbi_accuracy: 0.9617\n",
            "Epoch 6/20\n",
            "9360/9360 [==============================] - 273s 29ms/step - loss: 38.9678 - crf_viterbi_accuracy: 0.9694 - val_loss: 39.2250 - val_crf_viterbi_accuracy: 0.9621\n",
            "Epoch 7/20\n",
            "9360/9360 [==============================] - 273s 29ms/step - loss: 38.9576 - crf_viterbi_accuracy: 0.9722 - val_loss: 39.2137 - val_crf_viterbi_accuracy: 0.9657\n",
            "Epoch 8/20\n",
            "9360/9360 [==============================] - 273s 29ms/step - loss: 38.9493 - crf_viterbi_accuracy: 0.9752 - val_loss: 39.2128 - val_crf_viterbi_accuracy: 0.9648\n",
            "Epoch 9/20\n",
            "9360/9360 [==============================] - 274s 29ms/step - loss: 38.9432 - crf_viterbi_accuracy: 0.9766 - val_loss: 39.2111 - val_crf_viterbi_accuracy: 0.9672\n",
            "Epoch 10/20\n",
            "9360/9360 [==============================] - 274s 29ms/step - loss: 38.9369 - crf_viterbi_accuracy: 0.9792 - val_loss: 39.2124 - val_crf_viterbi_accuracy: 0.9653\n",
            "Epoch 11/20\n",
            "9360/9360 [==============================] - 274s 29ms/step - loss: 38.9304 - crf_viterbi_accuracy: 0.9815 - val_loss: 39.2085 - val_crf_viterbi_accuracy: 0.9693\n",
            "Epoch 12/20\n",
            "9360/9360 [==============================] - 276s 29ms/step - loss: 38.9263 - crf_viterbi_accuracy: 0.9834 - val_loss: 39.2165 - val_crf_viterbi_accuracy: 0.9674\n",
            "Epoch 13/20\n",
            "9360/9360 [==============================] - 276s 29ms/step - loss: 38.9235 - crf_viterbi_accuracy: 0.9838 - val_loss: 39.2118 - val_crf_viterbi_accuracy: 0.9671\n",
            "FOLD Number: 5/9\n",
            "Train on 9361 samples, validate on 4680 samples\n",
            "Epoch 1/20\n",
            "9361/9361 [==============================] - 279s 30ms/step - loss: 39.2661 - crf_viterbi_accuracy: 0.8859 - val_loss: 39.3377 - val_crf_viterbi_accuracy: 0.9306\n",
            "Epoch 2/20\n",
            "9361/9361 [==============================] - 275s 29ms/step - loss: 39.0661 - crf_viterbi_accuracy: 0.9417 - val_loss: 39.2814 - val_crf_viterbi_accuracy: 0.9497\n",
            "Epoch 3/20\n",
            "9361/9361 [==============================] - 274s 29ms/step - loss: 39.0234 - crf_viterbi_accuracy: 0.9536 - val_loss: 39.2542 - val_crf_viterbi_accuracy: 0.9566\n",
            "Epoch 4/20\n",
            "9361/9361 [==============================] - 275s 29ms/step - loss: 39.0002 - crf_viterbi_accuracy: 0.9594 - val_loss: 39.2415 - val_crf_viterbi_accuracy: 0.9611\n",
            "Epoch 5/20\n",
            "9361/9361 [==============================] - 274s 29ms/step - loss: 38.9818 - crf_viterbi_accuracy: 0.9644 - val_loss: 39.2329 - val_crf_viterbi_accuracy: 0.9643\n",
            "Epoch 6/20\n",
            "9361/9361 [==============================] - 274s 29ms/step - loss: 38.9682 - crf_viterbi_accuracy: 0.9683 - val_loss: 39.2281 - val_crf_viterbi_accuracy: 0.9647\n",
            "Epoch 7/20\n",
            "9361/9361 [==============================] - 274s 29ms/step - loss: 38.9593 - crf_viterbi_accuracy: 0.9716 - val_loss: 39.2224 - val_crf_viterbi_accuracy: 0.9673\n",
            "Epoch 8/20\n",
            "9361/9361 [==============================] - 273s 29ms/step - loss: 38.9504 - crf_viterbi_accuracy: 0.9738 - val_loss: 39.2191 - val_crf_viterbi_accuracy: 0.9666\n",
            "Epoch 9/20\n",
            "9361/9361 [==============================] - 276s 30ms/step - loss: 38.9433 - crf_viterbi_accuracy: 0.9760 - val_loss: 39.2154 - val_crf_viterbi_accuracy: 0.9693\n",
            "Epoch 10/20\n",
            "9361/9361 [==============================] - 275s 29ms/step - loss: 38.9363 - crf_viterbi_accuracy: 0.9781 - val_loss: 39.2138 - val_crf_viterbi_accuracy: 0.9692\n",
            "Epoch 11/20\n",
            "9361/9361 [==============================] - 273s 29ms/step - loss: 38.9312 - crf_viterbi_accuracy: 0.9805 - val_loss: 39.2157 - val_crf_viterbi_accuracy: 0.9702\n",
            "Epoch 12/20\n",
            "9361/9361 [==============================] - 275s 29ms/step - loss: 38.9281 - crf_viterbi_accuracy: 0.9821 - val_loss: 39.2185 - val_crf_viterbi_accuracy: 0.9682\n",
            "FOLD Number: 6/9\n",
            "Train on 9361 samples, validate on 4680 samples\n",
            "Epoch 1/20\n",
            "9361/9361 [==============================] - 281s 30ms/step - loss: 39.5392 - crf_viterbi_accuracy: 0.8846 - val_loss: 38.8902 - val_crf_viterbi_accuracy: 0.9340\n",
            "Epoch 2/20\n",
            "9361/9361 [==============================] - 275s 29ms/step - loss: 39.3040 - crf_viterbi_accuracy: 0.9407 - val_loss: 38.8415 - val_crf_viterbi_accuracy: 0.9450\n",
            "Epoch 3/20\n",
            "9361/9361 [==============================] - 275s 29ms/step - loss: 39.2614 - crf_viterbi_accuracy: 0.9519 - val_loss: 38.8133 - val_crf_viterbi_accuracy: 0.9531\n",
            "Epoch 4/20\n",
            "9361/9361 [==============================] - 275s 29ms/step - loss: 39.2351 - crf_viterbi_accuracy: 0.9585 - val_loss: 38.7961 - val_crf_viterbi_accuracy: 0.9584\n",
            "Epoch 5/20\n",
            "9361/9361 [==============================] - 274s 29ms/step - loss: 39.2180 - crf_viterbi_accuracy: 0.9635 - val_loss: 38.7885 - val_crf_viterbi_accuracy: 0.9604\n",
            "Epoch 6/20\n",
            "9361/9361 [==============================] - 273s 29ms/step - loss: 39.2027 - crf_viterbi_accuracy: 0.9672 - val_loss: 38.7770 - val_crf_viterbi_accuracy: 0.9638\n",
            "Epoch 7/20\n",
            "9361/9361 [==============================] - 276s 29ms/step - loss: 39.1918 - crf_viterbi_accuracy: 0.9704 - val_loss: 38.7740 - val_crf_viterbi_accuracy: 0.9640\n",
            "Epoch 8/20\n",
            "9361/9361 [==============================] - 274s 29ms/step - loss: 39.1840 - crf_viterbi_accuracy: 0.9724 - val_loss: 38.7680 - val_crf_viterbi_accuracy: 0.9661\n",
            "Epoch 9/20\n",
            "9361/9361 [==============================] - 274s 29ms/step - loss: 39.1754 - crf_viterbi_accuracy: 0.9752 - val_loss: 38.7650 - val_crf_viterbi_accuracy: 0.9668\n",
            "Epoch 10/20\n",
            "9361/9361 [==============================] - 274s 29ms/step - loss: 39.1681 - crf_viterbi_accuracy: 0.9770 - val_loss: 38.7659 - val_crf_viterbi_accuracy: 0.9648\n",
            "Epoch 11/20\n",
            "9361/9361 [==============================] - 275s 29ms/step - loss: 39.1628 - crf_viterbi_accuracy: 0.9786 - val_loss: 38.7625 - val_crf_viterbi_accuracy: 0.9673\n",
            "Epoch 12/20\n",
            "9361/9361 [==============================] - 274s 29ms/step - loss: 39.1583 - crf_viterbi_accuracy: 0.9805 - val_loss: 38.7621 - val_crf_viterbi_accuracy: 0.9686\n",
            "Epoch 13/20\n",
            "9361/9361 [==============================] - 275s 29ms/step - loss: 39.1546 - crf_viterbi_accuracy: 0.9824 - val_loss: 38.7588 - val_crf_viterbi_accuracy: 0.9717\n",
            "Epoch 14/20\n",
            "9361/9361 [==============================] - 275s 29ms/step - loss: 39.1511 - crf_viterbi_accuracy: 0.9834 - val_loss: 38.7631 - val_crf_viterbi_accuracy: 0.9705\n",
            "Epoch 15/20\n",
            "9361/9361 [==============================] - 275s 29ms/step - loss: 39.1475 - crf_viterbi_accuracy: 0.9853 - val_loss: 38.7599 - val_crf_viterbi_accuracy: 0.9711\n",
            "FOLD Number: 7/9\n",
            "Train on 9360 samples, validate on 4681 samples\n",
            "Epoch 1/20\n",
            "9360/9360 [==============================] - 281s 30ms/step - loss: 39.2543 - crf_viterbi_accuracy: 0.8992 - val_loss: 39.3372 - val_crf_viterbi_accuracy: 0.9320\n",
            "Epoch 2/20\n",
            "9360/9360 [==============================] - 274s 29ms/step - loss: 39.0630 - crf_viterbi_accuracy: 0.9431 - val_loss: 39.2802 - val_crf_viterbi_accuracy: 0.9485\n",
            "Epoch 3/20\n",
            "9360/9360 [==============================] - 275s 29ms/step - loss: 39.0206 - crf_viterbi_accuracy: 0.9548 - val_loss: 39.2508 - val_crf_viterbi_accuracy: 0.9566\n",
            "Epoch 4/20\n",
            "9360/9360 [==============================] - 276s 30ms/step - loss: 38.9967 - crf_viterbi_accuracy: 0.9608 - val_loss: 39.2386 - val_crf_viterbi_accuracy: 0.9594\n",
            "Epoch 5/20\n",
            "9360/9360 [==============================] - 275s 29ms/step - loss: 38.9798 - crf_viterbi_accuracy: 0.9658 - val_loss: 39.2261 - val_crf_viterbi_accuracy: 0.9626\n",
            "Epoch 6/20\n",
            "9360/9360 [==============================] - 276s 29ms/step - loss: 38.9672 - crf_viterbi_accuracy: 0.9692 - val_loss: 39.2210 - val_crf_viterbi_accuracy: 0.9645\n",
            "Epoch 7/20\n",
            "9360/9360 [==============================] - 277s 30ms/step - loss: 38.9561 - crf_viterbi_accuracy: 0.9730 - val_loss: 39.2162 - val_crf_viterbi_accuracy: 0.9658\n",
            "Epoch 8/20\n",
            "9360/9360 [==============================] - 276s 29ms/step - loss: 38.9480 - crf_viterbi_accuracy: 0.9755 - val_loss: 39.2135 - val_crf_viterbi_accuracy: 0.9667\n",
            "Epoch 9/20\n",
            "9360/9360 [==============================] - 276s 30ms/step - loss: 38.9401 - crf_viterbi_accuracy: 0.9775 - val_loss: 39.2122 - val_crf_viterbi_accuracy: 0.9675\n",
            "Epoch 10/20\n",
            "9360/9360 [==============================] - 275s 29ms/step - loss: 38.9341 - crf_viterbi_accuracy: 0.9798 - val_loss: 39.2141 - val_crf_viterbi_accuracy: 0.9678\n",
            "Epoch 11/20\n",
            "9360/9360 [==============================] - 276s 29ms/step - loss: 38.9297 - crf_viterbi_accuracy: 0.9812 - val_loss: 39.2127 - val_crf_viterbi_accuracy: 0.9678\n",
            "FOLD Number: 8/9\n",
            "Train on 9361 samples, validate on 4680 samples\n",
            "Epoch 1/20\n",
            "9361/9361 [==============================] - 283s 30ms/step - loss: 39.2610 - crf_viterbi_accuracy: 0.8962 - val_loss: 39.3349 - val_crf_viterbi_accuracy: 0.9329\n",
            "Epoch 2/20\n",
            "9361/9361 [==============================] - 276s 30ms/step - loss: 39.0625 - crf_viterbi_accuracy: 0.9421 - val_loss: 39.2811 - val_crf_viterbi_accuracy: 0.9492\n",
            "Epoch 3/20\n",
            "9361/9361 [==============================] - 275s 29ms/step - loss: 39.0211 - crf_viterbi_accuracy: 0.9537 - val_loss: 39.2570 - val_crf_viterbi_accuracy: 0.9567\n",
            "Epoch 4/20\n",
            "9361/9361 [==============================] - 277s 30ms/step - loss: 38.9964 - crf_viterbi_accuracy: 0.9601 - val_loss: 39.2398 - val_crf_viterbi_accuracy: 0.9611\n",
            "Epoch 5/20\n",
            "9361/9361 [==============================] - 275s 29ms/step - loss: 38.9793 - crf_viterbi_accuracy: 0.9657 - val_loss: 39.2292 - val_crf_viterbi_accuracy: 0.9639\n",
            "Epoch 6/20\n",
            "9361/9361 [==============================] - 277s 30ms/step - loss: 38.9661 - crf_viterbi_accuracy: 0.9692 - val_loss: 39.2259 - val_crf_viterbi_accuracy: 0.9630\n",
            "Epoch 7/20\n",
            "9361/9361 [==============================] - 277s 30ms/step - loss: 38.9552 - crf_viterbi_accuracy: 0.9725 - val_loss: 39.2194 - val_crf_viterbi_accuracy: 0.9668\n",
            "Epoch 8/20\n",
            "9361/9361 [==============================] - 277s 30ms/step - loss: 38.9460 - crf_viterbi_accuracy: 0.9750 - val_loss: 39.2195 - val_crf_viterbi_accuracy: 0.9675\n",
            "Epoch 9/20\n",
            "9361/9361 [==============================] - 277s 30ms/step - loss: 38.9384 - crf_viterbi_accuracy: 0.9779 - val_loss: 39.2200 - val_crf_viterbi_accuracy: 0.9657\n",
            "FOLD Number: 9/9\n",
            "Train on 9361 samples, validate on 4680 samples\n",
            "Epoch 1/20\n",
            "9361/9361 [==============================] - 282s 30ms/step - loss: 39.4626 - crf_viterbi_accuracy: 0.9049 - val_loss: 38.8788 - val_crf_viterbi_accuracy: 0.9334\n",
            "Epoch 2/20\n",
            "9361/9361 [==============================] - 275s 29ms/step - loss: 39.2850 - crf_viterbi_accuracy: 0.9447 - val_loss: 38.8247 - val_crf_viterbi_accuracy: 0.9494\n",
            "Epoch 3/20\n",
            "9361/9361 [==============================] - 276s 29ms/step - loss: 39.2453 - crf_viterbi_accuracy: 0.9552 - val_loss: 38.7996 - val_crf_viterbi_accuracy: 0.9587\n",
            "Epoch 4/20\n",
            "9361/9361 [==============================] - 275s 29ms/step - loss: 39.2214 - crf_viterbi_accuracy: 0.9617 - val_loss: 38.7901 - val_crf_viterbi_accuracy: 0.9613\n",
            "Epoch 5/20\n",
            "9361/9361 [==============================] - 276s 29ms/step - loss: 39.2051 - crf_viterbi_accuracy: 0.9662 - val_loss: 38.7777 - val_crf_viterbi_accuracy: 0.9635\n",
            "Epoch 6/20\n",
            "9361/9361 [==============================] - 275s 29ms/step - loss: 39.1925 - crf_viterbi_accuracy: 0.9700 - val_loss: 38.7724 - val_crf_viterbi_accuracy: 0.9653\n",
            "Epoch 7/20\n",
            "9361/9361 [==============================] - 276s 29ms/step - loss: 39.1815 - crf_viterbi_accuracy: 0.9733 - val_loss: 38.7667 - val_crf_viterbi_accuracy: 0.9668\n",
            "Epoch 8/20\n",
            "9361/9361 [==============================] - 275s 29ms/step - loss: 39.1727 - crf_viterbi_accuracy: 0.9759 - val_loss: 38.7644 - val_crf_viterbi_accuracy: 0.9678\n",
            "Epoch 9/20\n",
            "9361/9361 [==============================] - 273s 29ms/step - loss: 39.1647 - crf_viterbi_accuracy: 0.9787 - val_loss: 38.7630 - val_crf_viterbi_accuracy: 0.9679\n",
            "Epoch 10/20\n",
            "9361/9361 [==============================] - 273s 29ms/step - loss: 39.1587 - crf_viterbi_accuracy: 0.9809 - val_loss: 38.7614 - val_crf_viterbi_accuracy: 0.9692\n",
            "Epoch 11/20\n",
            "9361/9361 [==============================] - 274s 29ms/step - loss: 39.1532 - crf_viterbi_accuracy: 0.9830 - val_loss: 38.7632 - val_crf_viterbi_accuracy: 0.9681\n",
            "Epoch 12/20\n",
            "9361/9361 [==============================] - 274s 29ms/step - loss: 39.1486 - crf_viterbi_accuracy: 0.9849 - val_loss: 38.7626 - val_crf_viterbi_accuracy: 0.9684\n",
            "CPU times: user 13h 7min 14s, sys: 59min 38s, total: 14h 6min 53s\n",
            "Wall time: 8h 47min 45s\n"
          ],
          "name": "stdout"
        }
      ]
    },
    {
      "cell_type": "markdown",
      "metadata": {
        "id": "nvGyo4OwBElc"
      },
      "source": [
        "## TEST"
      ]
    },
    {
      "cell_type": "code",
      "metadata": {
        "id": "U75dkHBD2whg",
        "colab": {
          "base_uri": "https://localhost:8080/",
          "height": 173
        },
        "outputId": "89f1cc64-680f-429c-c135-7f85b968c449"
      },
      "source": [
        "df_results = pd.DataFrame(grid_results)\n",
        "df_results.groupby(\"LSTM Cells\").mean().sort_values(by=[\"val_acc\"], ascending=False)"
      ],
      "execution_count": null,
      "outputs": [
        {
          "output_type": "execute_result",
          "data": {
            "text/html": [
              "<div>\n",
              "<style scoped>\n",
              "    .dataframe tbody tr th:only-of-type {\n",
              "        vertical-align: middle;\n",
              "    }\n",
              "\n",
              "    .dataframe tbody tr th {\n",
              "        vertical-align: top;\n",
              "    }\n",
              "\n",
              "    .dataframe thead th {\n",
              "        text-align: right;\n",
              "    }\n",
              "</style>\n",
              "<table border=\"1\" class=\"dataframe\">\n",
              "  <thead>\n",
              "    <tr style=\"text-align: right;\">\n",
              "      <th></th>\n",
              "      <th>train_loss</th>\n",
              "      <th>train_acc</th>\n",
              "      <th>val_loss</th>\n",
              "      <th>val_acc</th>\n",
              "      <th>epochs</th>\n",
              "    </tr>\n",
              "    <tr>\n",
              "      <th>LSTM Cells</th>\n",
              "      <th></th>\n",
              "      <th></th>\n",
              "      <th></th>\n",
              "      <th></th>\n",
              "      <th></th>\n",
              "    </tr>\n",
              "  </thead>\n",
              "  <tbody>\n",
              "    <tr>\n",
              "      <th>200</th>\n",
              "      <td>38.999691</td>\n",
              "      <td>0.983725</td>\n",
              "      <td>39.063407</td>\n",
              "      <td>0.968776</td>\n",
              "      <td>13.333333</td>\n",
              "    </tr>\n",
              "    <tr>\n",
              "      <th>100</th>\n",
              "      <td>39.013826</td>\n",
              "      <td>0.978145</td>\n",
              "      <td>39.063605</td>\n",
              "      <td>0.967583</td>\n",
              "      <td>14.333333</td>\n",
              "    </tr>\n",
              "    <tr>\n",
              "      <th>300</th>\n",
              "      <td>39.005574</td>\n",
              "      <td>0.981330</td>\n",
              "      <td>39.065114</td>\n",
              "      <td>0.967323</td>\n",
              "      <td>10.666667</td>\n",
              "    </tr>\n",
              "  </tbody>\n",
              "</table>\n",
              "</div>"
            ],
            "text/plain": [
              "            train_loss  train_acc   val_loss   val_acc     epochs\n",
              "LSTM Cells                                                       \n",
              "200          38.999691   0.983725  39.063407  0.968776  13.333333\n",
              "100          39.013826   0.978145  39.063605  0.967583  14.333333\n",
              "300          39.005574   0.981330  39.065114  0.967323  10.666667"
            ]
          },
          "metadata": {
            "tags": []
          },
          "execution_count": 19
        }
      ]
    },
    {
      "cell_type": "code",
      "metadata": {
        "id": "bjWkMQKfxP5s",
        "colab": {
          "base_uri": "https://localhost:8080/",
          "height": 17
        },
        "outputId": "08718708-c5dd-4a1e-e789-b9227ef171d4"
      },
      "source": [
        "from google.colab import files\n",
        "df_results.to_csv('LSTM Cells_grid_Glove.csv')\n",
        "files.download('LSTM Cells_grid_Glove.csv')"
      ],
      "execution_count": null,
      "outputs": [
        {
          "output_type": "display_data",
          "data": {
            "application/javascript": [
              "\n",
              "    async function download(id, filename, size) {\n",
              "      if (!google.colab.kernel.accessAllowed) {\n",
              "        return;\n",
              "      }\n",
              "      const div = document.createElement('div');\n",
              "      const label = document.createElement('label');\n",
              "      label.textContent = `Downloading \"${filename}\": `;\n",
              "      div.appendChild(label);\n",
              "      const progress = document.createElement('progress');\n",
              "      progress.max = size;\n",
              "      div.appendChild(progress);\n",
              "      document.body.appendChild(div);\n",
              "\n",
              "      const buffers = [];\n",
              "      let downloaded = 0;\n",
              "\n",
              "      const channel = await google.colab.kernel.comms.open(id);\n",
              "      // Send a message to notify the kernel that we're ready.\n",
              "      channel.send({})\n",
              "\n",
              "      for await (const message of channel.messages) {\n",
              "        // Send a message to notify the kernel that we're ready.\n",
              "        channel.send({})\n",
              "        if (message.buffers) {\n",
              "          for (const buffer of message.buffers) {\n",
              "            buffers.push(buffer);\n",
              "            downloaded += buffer.byteLength;\n",
              "            progress.value = downloaded;\n",
              "          }\n",
              "        }\n",
              "      }\n",
              "      const blob = new Blob(buffers, {type: 'application/binary'});\n",
              "      const a = document.createElement('a');\n",
              "      a.href = window.URL.createObjectURL(blob);\n",
              "      a.download = filename;\n",
              "      div.appendChild(a);\n",
              "      a.click();\n",
              "      div.remove();\n",
              "    }\n",
              "  "
            ],
            "text/plain": [
              "<IPython.core.display.Javascript object>"
            ]
          },
          "metadata": {
            "tags": []
          }
        },
        {
          "output_type": "display_data",
          "data": {
            "application/javascript": [
              "download(\"download_f023ef05-6a5d-4a31-8ed1-3048065ccbb0\", \"LSTM Cells_grid_Glove.csv\", 801)"
            ],
            "text/plain": [
              "<IPython.core.display.Javascript object>"
            ]
          },
          "metadata": {
            "tags": []
          }
        }
      ]
    },
    {
      "cell_type": "code",
      "metadata": {
        "id": "-IeGgvYsY-IU"
      },
      "source": [
        ""
      ],
      "execution_count": null,
      "outputs": []
    }
  ]
}