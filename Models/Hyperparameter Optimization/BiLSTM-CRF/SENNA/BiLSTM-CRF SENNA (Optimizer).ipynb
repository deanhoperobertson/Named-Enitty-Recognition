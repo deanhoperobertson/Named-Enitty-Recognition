{
  "nbformat": 4,
  "nbformat_minor": 0,
  "metadata": {
    "colab": {
      "name": "GridSearch Bi-LSTM-CRF-SENNA- (Optimizer)",
      "provenance": [],
      "collapsed_sections": [],
      "machine_shape": "hm",
      "include_colab_link": true
    },
    "kernelspec": {
      "name": "python3",
      "display_name": "Python 3"
    },
    "accelerator": "GPU"
  },
  "cells": [
    {
      "cell_type": "markdown",
      "metadata": {
        "id": "view-in-github",
        "colab_type": "text"
      },
      "source": [
        "<a href=\"https://colab.research.google.com/github/deanhoperobertson/Named-Enitty-Recognition/blob/master/Models/Hyperparameter%20Optimization/BiLSTM-CRF/SENNA/BiLSTM-CRF%20SENNA%20(Optimizer).ipynb\" target=\"_parent\"><img src=\"https://colab.research.google.com/assets/colab-badge.svg\" alt=\"Open In Colab\"/></a>"
      ]
    },
    {
      "cell_type": "code",
      "metadata": {
        "id": "dEI15-hK3sQ2",
        "colab": {
          "base_uri": "https://localhost:8080/",
          "height": 544
        },
        "outputId": "fa067db1-34c9-4755-b5f9-0b487f021802"
      },
      "source": [
        "!sudo pip install git+https://www.github.com/keras-team/keras-contrib.git\n",
        "!pip install sklearn_crfsuite\n",
        "!pip install keras==2.2.4\n",
        "%tensorflow_version 1.x\n",
        "#!pip install tensorflow-gpu==1.15.0"
      ],
      "execution_count": null,
      "outputs": [
        {
          "output_type": "stream",
          "text": [
            "Collecting git+https://www.github.com/keras-team/keras-contrib.git\n",
            "  Cloning https://www.github.com/keras-team/keras-contrib.git to /tmp/pip-req-build-cacosru_\n",
            "  Running command git clone -q https://www.github.com/keras-team/keras-contrib.git /tmp/pip-req-build-cacosru_\n",
            "Requirement already satisfied (use --upgrade to upgrade): keras-contrib==2.0.8 from git+https://www.github.com/keras-team/keras-contrib.git in /usr/local/lib/python3.6/dist-packages\n",
            "Requirement already satisfied: keras in /usr/local/lib/python3.6/dist-packages (from keras-contrib==2.0.8) (2.2.4)\n",
            "Requirement already satisfied: keras-applications>=1.0.6 in /usr/local/lib/python3.6/dist-packages (from keras->keras-contrib==2.0.8) (1.0.8)\n",
            "Requirement already satisfied: h5py in /usr/local/lib/python3.6/dist-packages (from keras->keras-contrib==2.0.8) (2.10.0)\n",
            "Requirement already satisfied: numpy>=1.9.1 in /usr/local/lib/python3.6/dist-packages (from keras->keras-contrib==2.0.8) (1.18.5)\n",
            "Requirement already satisfied: pyyaml in /usr/local/lib/python3.6/dist-packages (from keras->keras-contrib==2.0.8) (3.13)\n",
            "Requirement already satisfied: scipy>=0.14 in /usr/local/lib/python3.6/dist-packages (from keras->keras-contrib==2.0.8) (1.4.1)\n",
            "Requirement already satisfied: six>=1.9.0 in /usr/local/lib/python3.6/dist-packages (from keras->keras-contrib==2.0.8) (1.15.0)\n",
            "Requirement already satisfied: keras-preprocessing>=1.0.5 in /usr/local/lib/python3.6/dist-packages (from keras->keras-contrib==2.0.8) (1.1.2)\n",
            "Building wheels for collected packages: keras-contrib\n",
            "  Building wheel for keras-contrib (setup.py) ... \u001b[?25l\u001b[?25hdone\n",
            "  Created wheel for keras-contrib: filename=keras_contrib-2.0.8-cp36-none-any.whl size=101064 sha256=1d0015d47f607855dd1f943ba426cd1a9157111138f8874f76291fc04be58a1b\n",
            "  Stored in directory: /tmp/pip-ephem-wheel-cache-ro2yy6ur/wheels/11/27/c8/4ed56de7b55f4f61244e2dc6ef3cdbaff2692527a2ce6502ba\n",
            "Successfully built keras-contrib\n",
            "Requirement already satisfied: sklearn_crfsuite in /usr/local/lib/python3.6/dist-packages (0.3.6)\n",
            "Requirement already satisfied: python-crfsuite>=0.8.3 in /usr/local/lib/python3.6/dist-packages (from sklearn_crfsuite) (0.9.7)\n",
            "Requirement already satisfied: tabulate in /usr/local/lib/python3.6/dist-packages (from sklearn_crfsuite) (0.8.7)\n",
            "Requirement already satisfied: tqdm>=2.0 in /usr/local/lib/python3.6/dist-packages (from sklearn_crfsuite) (4.41.1)\n",
            "Requirement already satisfied: six in /usr/local/lib/python3.6/dist-packages (from sklearn_crfsuite) (1.15.0)\n",
            "Requirement already satisfied: keras==2.2.4 in /usr/local/lib/python3.6/dist-packages (2.2.4)\n",
            "Requirement already satisfied: six>=1.9.0 in /usr/local/lib/python3.6/dist-packages (from keras==2.2.4) (1.15.0)\n",
            "Requirement already satisfied: numpy>=1.9.1 in /usr/local/lib/python3.6/dist-packages (from keras==2.2.4) (1.18.5)\n",
            "Requirement already satisfied: scipy>=0.14 in /usr/local/lib/python3.6/dist-packages (from keras==2.2.4) (1.4.1)\n",
            "Requirement already satisfied: h5py in /usr/local/lib/python3.6/dist-packages (from keras==2.2.4) (2.10.0)\n",
            "Requirement already satisfied: keras-applications>=1.0.6 in /usr/local/lib/python3.6/dist-packages (from keras==2.2.4) (1.0.8)\n",
            "Requirement already satisfied: pyyaml in /usr/local/lib/python3.6/dist-packages (from keras==2.2.4) (3.13)\n",
            "Requirement already satisfied: keras-preprocessing>=1.0.5 in /usr/local/lib/python3.6/dist-packages (from keras==2.2.4) (1.1.2)\n",
            "TensorFlow 1.x selected.\n"
          ],
          "name": "stdout"
        }
      ]
    },
    {
      "cell_type": "code",
      "metadata": {
        "id": "gvLtrysY3xZn",
        "colab": {
          "base_uri": "https://localhost:8080/",
          "height": 51
        },
        "outputId": "22a5267f-3f62-43d0-b23f-f389ac5f7c32"
      },
      "source": [
        "import pandas as pd\n",
        "import re\n",
        "import numpy as np\n",
        "import urllib.request\n",
        "from sklearn.model_selection import train_test_split\n",
        "\n",
        "#keras and tensorflow packages\n",
        "import tensorflow as tf\n",
        "from keras.layers.merge import add\n",
        "from keras.preprocessing.sequence import pad_sequences\n",
        "from keras.preprocessing import text, sequence\n",
        "from keras.utils import to_categorical\n",
        "from keras.models import Model, Input\n",
        "from keras.layers import LSTM, Embedding, Dense, TimeDistributed, Dropout, Bidirectional\n",
        "from keras_contrib.layers import CRF\n",
        "from keras_contrib.losses import crf_loss\n",
        "from keras_contrib.metrics import crf_viterbi_accuracy\n",
        "from keras_contrib.metrics import crf_accuracy\n",
        "\n",
        "#evaluation\n",
        "from sklearn_crfsuite.metrics import flat_classification_report,flat_f1_score,flat_precision_score\n",
        "print(tf.__version__)"
      ],
      "execution_count": null,
      "outputs": [
        {
          "output_type": "stream",
          "text": [
            "1.15.2\n"
          ],
          "name": "stdout"
        },
        {
          "output_type": "stream",
          "text": [
            "Using TensorFlow backend.\n"
          ],
          "name": "stderr"
        }
      ]
    },
    {
      "cell_type": "code",
      "metadata": {
        "id": "ocDbUxvfTfzJ",
        "colab": {
          "base_uri": "https://localhost:8080/",
          "height": 34
        },
        "outputId": "d0184e41-cd1b-4ffa-9633-0fdb467c32e4"
      },
      "source": [
        "#Ensure Reproducibility\n",
        "import numpy as np\n",
        "import random as rn\n",
        "import os\n",
        "\n",
        "random_seed=3\n",
        "\n",
        "# 1) set numpy random seed\n",
        "np.random.seed(random_seed)\n",
        "# 2) set build-in random seed\n",
        "rn.seed(random_seed)\n",
        "# 3) set PYTHONHASHSEED\n",
        "os.environ['PYTHONHASHSEED']=str(random_seed)\n",
        "# 4) set tensorflow random seed\n",
        "tf.random.set_random_seed(random_seed)\n",
        "\n",
        "# 5) Force TensorFlow to use single thread.\n",
        "session_conf = tf.ConfigProto(intra_op_parallelism_threads=1, inter_op_parallelism_threads=1)\n",
        "from keras import backend as K\n",
        "tf.set_random_seed(1)\n",
        "sess = tf.Session(graph=tf.get_default_graph(), config=session_conf)\n",
        "K.set_session(sess)\n",
        "\n",
        "print(\"Num GPUs Available: \", len(tf.config.experimental.list_physical_devices('GPU')))"
      ],
      "execution_count": null,
      "outputs": [
        {
          "output_type": "stream",
          "text": [
            "Num GPUs Available:  1\n"
          ],
          "name": "stdout"
        }
      ]
    },
    {
      "cell_type": "code",
      "metadata": {
        "id": "HQ5UL1PL39-g"
      },
      "source": [
        "#import data from my github repo\n",
        "train_url = \"https://raw.githubusercontent.com/deanhoperobertson/Named-Enitty-Recognition/master/Data/train.txt\"\n",
        "test_url = \"https://raw.githubusercontent.com/deanhoperobertson/Named-Enitty-Recognition/master/Data/test.txt\"\n",
        "train = urllib.request.urlopen(train_url).read()\n",
        "test = urllib.request.urlopen(test_url).read()\n",
        "train = train.decode('utf-8')\n",
        "test = test.decode('utf-8')\n",
        "\n",
        "def readstring(filename, meth):\n",
        "    f = filename.split('\\n')\n",
        "    sentences = []\n",
        "    sentence = []\n",
        "    for line in f:\n",
        "        if len(line) == 0 or line.startswith('-DOCSTART') or line[0] == \"\\n\":\n",
        "            if len(sentence) > 0:\n",
        "                sentences.append(sentence)\n",
        "                sentence = []\n",
        "            continue\n",
        "        splits = line.split(' ')\n",
        "        if meth.lower()==\"numbers1\":\n",
        "            sentence.append([hasNumbers1(splits[0]), splits[-1].strip()])\n",
        "        elif meth.lower()==\"numbers2\":\n",
        "            sentence.append([hasNumbers2(splits[0]), splits[-1].strip()])\n",
        "        else:\n",
        "            sentence.append([splits[0], splits[-1].strip()])\n",
        "    if len(sentence) > 0:\n",
        "        sentences.append(sentence)\n",
        "        sentence = []\n",
        "    return sentences\n",
        "\n",
        "def hasNumbers1(inputString):\n",
        "    if re.search(r'\\d', inputString):\n",
        "        return \"0\"\n",
        "    else:return(inputString)\n",
        "\n",
        "def hasNumbers2(text):\n",
        "  if text.isdigit():\n",
        "      return \"1\"\n",
        "  elif re.search(r'\\d',text) and re.search(r'\\,|\\.',text):\n",
        "      return \"1\" \n",
        "  else:\n",
        "      if re.search(r'\\d', text):\n",
        "          return(re.sub('\\d','D', text))\n",
        "      else:\n",
        "          return text\n",
        "\n",
        "#preproces the txt file\n",
        "train_data = readstring(train,\"Numbers1\")\n",
        "test_data = readstring(test,\"Numbers1\")\n",
        "\n",
        "#create corpus\n",
        "corpus = train_data.copy()\n",
        "corpus.extend(test_data)"
      ],
      "execution_count": null,
      "outputs": []
    },
    {
      "cell_type": "code",
      "metadata": {
        "id": "DQSami9V4FbD"
      },
      "source": [
        "def reformat_data(data,meth):\n",
        "  if meth.lower() == \"data\":\n",
        "    i=0\n",
        "  else: i=1\n",
        "  train = []\n",
        "  output= []\n",
        "  for sentence in data:\n",
        "    words=[]\n",
        "    for x in sentence:\n",
        "      words.append(x[i])\n",
        "    train.append(words)\n",
        "\n",
        "  for i in train:\n",
        "    string = ' '.join(i)\n",
        "    output.append(string)\n",
        "  return output\n",
        "\n",
        "def get_max_length(corpus):\n",
        "  length = []\n",
        "  for sentence in corpus:\n",
        "    length.append(len(sentence))\n",
        "  return int(max(length))\n",
        "\n",
        "def number_of_tags(corpus):\n",
        "  tags=[]\n",
        "  for sentence in corpus:\n",
        "    for tag in sentence:\n",
        "      tags.append(tag[1])\n",
        "  return int(len(list(set(tags))))\n",
        "\n",
        "\n",
        "MAX_LEN = get_max_length(corpus)\n",
        "N_tags = number_of_tags(corpus)\n",
        "\n",
        "train = reformat_data(train_data,\"data\")\n",
        "test = reformat_data(test_data,\"data\")\n",
        "\n",
        "train_y = reformat_data(train_data,\"tags\")\n",
        "test_y = reformat_data(test_data,\"tags\")\n"
      ],
      "execution_count": null,
      "outputs": []
    },
    {
      "cell_type": "markdown",
      "metadata": {
        "id": "X61q9Lc4NtTn"
      },
      "source": [
        "## Load Embeddings"
      ]
    },
    {
      "cell_type": "code",
      "metadata": {
        "id": "T4_bcRYfNvNo",
        "colab": {
          "base_uri": "https://localhost:8080/",
          "height": 122
        },
        "outputId": "0a9d9f00-2596-4164-fe1c-461151c804e5"
      },
      "source": [
        "from google.colab import drive\n",
        "drive.mount('/content/drive')"
      ],
      "execution_count": null,
      "outputs": [
        {
          "output_type": "stream",
          "text": [
            "Go to this URL in a browser: https://accounts.google.com/o/oauth2/auth?client_id=947318989803-6bn6qk8qdgf4n4g3pfee6491hc0brc4i.apps.googleusercontent.com&redirect_uri=urn%3aietf%3awg%3aoauth%3a2.0%3aoob&response_type=code&scope=email%20https%3a%2f%2fwww.googleapis.com%2fauth%2fdocs.test%20https%3a%2f%2fwww.googleapis.com%2fauth%2fdrive%20https%3a%2f%2fwww.googleapis.com%2fauth%2fdrive.photos.readonly%20https%3a%2f%2fwww.googleapis.com%2fauth%2fpeopleapi.readonly\n",
            "\n",
            "Enter your authorization code:\n",
            "··········\n",
            "Mounted at /content/drive\n"
          ],
          "name": "stdout"
        }
      ]
    },
    {
      "cell_type": "code",
      "metadata": {
        "id": "-tSLakoFNzQP",
        "colab": {
          "base_uri": "https://localhost:8080/",
          "height": 34
        },
        "outputId": "c402db03-67af-4da5-82a3-372030d03eed"
      },
      "source": [
        "#root_path = \"/content/drive/My Drive/glove.6B.50d.txt\"\n",
        "root_path = \"/content/drive/My Drive/SENNA.txt\"\n",
        "\n",
        "embeddings_index={}\n",
        "f = open(root_path, encoding = \"utf-8\")\n",
        "for line in f:\n",
        "    values = line.split()\n",
        "    word = values[0]\n",
        "    coefs = np.asarray(values[1:], dtype='float32')\n",
        "    embeddings_index[word] = coefs\n",
        "f.close()\n",
        "\n",
        "print('Found %s word vectors.' % len(embeddings_index))"
      ],
      "execution_count": null,
      "outputs": [
        {
          "output_type": "stream",
          "text": [
            "Found 130000 word vectors.\n"
          ],
          "name": "stdout"
        }
      ]
    },
    {
      "cell_type": "markdown",
      "metadata": {
        "id": "riH42VhNLsp4"
      },
      "source": [
        "## Data Processing"
      ]
    },
    {
      "cell_type": "code",
      "metadata": {
        "id": "V5G5pxjPN_6t"
      },
      "source": [
        "def prep_data(xx_train,yy_train,xx_test,yy_test):\n",
        "  \n",
        "  token_word = text.Tokenizer(char_level=False, lower=True, filters=\"}\", oov_token='UNK')\n",
        "  token_word.fit_on_texts(xx_train)\n",
        "\n",
        "  X_train = sequence.pad_sequences(token_word.texts_to_sequences(xx_train), maxlen=MAX_LEN,padding=\"post\")\n",
        "  X_test = sequence.pad_sequences(token_word.texts_to_sequences(xx_test), maxlen=MAX_LEN,padding=\"post\")\n",
        "\n",
        "  # create a tokenizer\n",
        "  token_tag = text.Tokenizer(char_level=False, lower=False, filters=\"}\")\n",
        "  token_tag.fit_on_texts(train_y)\n",
        "\n",
        "  # convert training labels\n",
        "  Y = sequence.pad_sequences(token_tag.texts_to_sequences(yy_train), maxlen=MAX_LEN,padding=\"post\")\n",
        "  Y_train = [to_categorical(i, num_classes=N_tags+1) for i in Y]\n",
        "\n",
        "  # convert test labels\n",
        "  Y = sequence.pad_sequences(token_tag.texts_to_sequences(yy_test), maxlen=MAX_LEN,padding=\"post\")\n",
        "  Y_test = [to_categorical(i, num_classes=N_tags+1) for i in Y]\n",
        "\n",
        "  return X_train, X_test, Y_train, Y_test, token_word"
      ],
      "execution_count": null,
      "outputs": []
    },
    {
      "cell_type": "markdown",
      "metadata": {
        "id": "wZivV-01Nomw"
      },
      "source": [
        "## Grid Search"
      ]
    },
    {
      "cell_type": "code",
      "metadata": {
        "id": "S1dYS2ALN6-f",
        "colab": {
          "base_uri": "https://localhost:8080/",
          "height": 1000
        },
        "outputId": "72d352cd-2d7b-4db3-8292-92f381f9097c"
      },
      "source": [
        "%%time\n",
        "from sklearn.model_selection import KFold\n",
        "from keras import optimizers\n",
        "from keras.callbacks import EarlyStopping\n",
        "early_stopping = EarlyStopping(monitor='val_loss', patience=2)\n",
        "\n",
        "\n",
        "kf = KFold(n_splits=3,random_state=3, shuffle=True)\n",
        "\n",
        "grid_results = []\n",
        "OPTIMIZERS =[\"nadam\", \"adam\", \"sgd\"]\n",
        "BATCH_SIZE= 64\n",
        "EPOCHS=20\n",
        "fold_count = 1\n",
        "\n",
        "for OPT in OPTIMIZERS:\n",
        "  for train_index, test_index in kf.split(train):\n",
        "    print(\"FOLD Number: %d/%d\" %(fold_count,len(OPTIMIZERS)*3))\n",
        "    \n",
        "    #split data\n",
        "    xx_train,yy_train = np.array(train)[train_index], np.array(train_y)[train_index]\n",
        "    xx_test,yy_test = np.array(train)[test_index], np.array(train_y)[test_index]\n",
        "\n",
        "    X_train, X_test, Y_train, Y_test, token_word = prep_data(xx_train, yy_train,xx_test, yy_test)\n",
        "\n",
        "    #---------create emedding matrix------------\n",
        "    EMBEDDING=len(coefs)\n",
        "    word_index = token_word.word_index\n",
        "    embedding_matrix = np.zeros((len(token_word.word_index) + 1, EMBEDDING))\n",
        "    for word, i in word_index.items():\n",
        "        embedding_vector = embeddings_index.get(word)\n",
        "        if embedding_vector is not None:\n",
        "          # words not found in embedding index will be all-zeros.\n",
        "          embedding_matrix[i] = embedding_vector\n",
        "\n",
        "    #---------Define Model Build-------------\n",
        "    def create_model(opt):\n",
        "      input =  Input(shape=(MAX_LEN,))\n",
        "      model_2 = Embedding(len(token_word.word_index) + 1,output_dim=EMBEDDING,\n",
        "                      weights=[embedding_matrix],input_length=MAX_LEN,\n",
        "                      trainable=False,mask_zero=True)(input)\n",
        "      model_2 = Bidirectional(LSTM(units=100, return_sequences=True,\n",
        "                                recurrent_dropout=0.1, dropout=0.1))(model_2)\n",
        "      model_2 = TimeDistributed(Dense(20, activation=\"relu\"))(model_2)\n",
        "      crf = CRF(N_tags+1)  # CRF layer\n",
        "      out = crf(model_2)  # output\n",
        "      model_2 = Model(input, out)\n",
        "      \n",
        "      model_2.compile(optimizer=opt, loss=crf_loss,metrics=[crf_viterbi_accuracy])\n",
        "      return model_2\n",
        "\n",
        "  #---------Fit Model-----------------\n",
        "    model = create_model(OPT)\n",
        "    history = model.fit(X_train, np.array(Y_train), batch_size=BATCH_SIZE, epochs=EPOCHS,verbose=1, callbacks=[early_stopping], validation_data=(X_test,np.array(Y_test)))\n",
        "\n",
        "    grid_results.append({\"train_loss\":history.history[\"loss\"][-1],\n",
        "                      \"train_acc\": history.history[\"crf_viterbi_accuracy\"][-1],\n",
        "                      \"val_loss\": history.history[\"val_loss\"][-1],\n",
        "                      \"val_acc\": history.history[\"val_crf_viterbi_accuracy\"][-1],\n",
        "                      \"epochs\": len(history.history[\"loss\"]),\n",
        "                      \"Optimizer\": OPT,\n",
        "                      })\n",
        "\n",
        "    fold_count +=1"
      ],
      "execution_count": null,
      "outputs": [
        {
          "output_type": "stream",
          "text": [
            "FOLD Number: 1/9\n",
            "WARNING:tensorflow:From /usr/local/lib/python3.6/dist-packages/keras/backend/tensorflow_backend.py:517: The name tf.placeholder is deprecated. Please use tf.compat.v1.placeholder instead.\n",
            "\n",
            "WARNING:tensorflow:From /usr/local/lib/python3.6/dist-packages/keras/backend/tensorflow_backend.py:4138: The name tf.random_uniform is deprecated. Please use tf.random.uniform instead.\n",
            "\n",
            "WARNING:tensorflow:From /usr/local/lib/python3.6/dist-packages/keras/backend/tensorflow_backend.py:174: The name tf.get_default_session is deprecated. Please use tf.compat.v1.get_default_session instead.\n",
            "\n",
            "WARNING:tensorflow:From /usr/local/lib/python3.6/dist-packages/keras/backend/tensorflow_backend.py:190: The name tf.global_variables is deprecated. Please use tf.compat.v1.global_variables instead.\n",
            "\n",
            "WARNING:tensorflow:From /usr/local/lib/python3.6/dist-packages/keras/backend/tensorflow_backend.py:199: The name tf.is_variable_initialized is deprecated. Please use tf.compat.v1.is_variable_initialized instead.\n",
            "\n",
            "WARNING:tensorflow:From /usr/local/lib/python3.6/dist-packages/keras/backend/tensorflow_backend.py:206: The name tf.variables_initializer is deprecated. Please use tf.compat.v1.variables_initializer instead.\n",
            "\n",
            "WARNING:tensorflow:From /usr/local/lib/python3.6/dist-packages/keras/backend/tensorflow_backend.py:133: The name tf.placeholder_with_default is deprecated. Please use tf.compat.v1.placeholder_with_default instead.\n",
            "\n",
            "WARNING:tensorflow:From /usr/local/lib/python3.6/dist-packages/keras/backend/tensorflow_backend.py:3445: calling dropout (from tensorflow.python.ops.nn_ops) with keep_prob is deprecated and will be removed in a future version.\n",
            "Instructions for updating:\n",
            "Please use `rate` instead of `keep_prob`. Rate should be set to `rate = 1 - keep_prob`.\n",
            "WARNING:tensorflow:From /usr/local/lib/python3.6/dist-packages/keras/backend/tensorflow_backend.py:2974: where (from tensorflow.python.ops.array_ops) is deprecated and will be removed in a future version.\n",
            "Instructions for updating:\n",
            "Use tf.where in 2.0, which has the same broadcast rule as np.where\n",
            "WARNING:tensorflow:From /usr/local/lib/python3.6/dist-packages/keras/optimizers.py:790: The name tf.train.Optimizer is deprecated. Please use tf.compat.v1.train.Optimizer instead.\n",
            "\n",
            "WARNING:tensorflow:From /usr/local/lib/python3.6/dist-packages/keras/backend/tensorflow_backend.py:986: The name tf.assign_add is deprecated. Please use tf.compat.v1.assign_add instead.\n",
            "\n",
            "WARNING:tensorflow:From /usr/local/lib/python3.6/dist-packages/keras/backend/tensorflow_backend.py:973: The name tf.assign is deprecated. Please use tf.compat.v1.assign instead.\n",
            "\n",
            "Train on 9360 samples, validate on 4681 samples\n",
            "Epoch 1/20\n",
            "9360/9360 [==============================] - 101s 11ms/step - loss: 39.2304 - crf_viterbi_accuracy: 0.9121 - val_loss: 39.3042 - val_crf_viterbi_accuracy: 0.9424\n",
            "Epoch 2/20\n",
            "9360/9360 [==============================] - 96s 10ms/step - loss: 39.0315 - crf_viterbi_accuracy: 0.9530 - val_loss: 39.2606 - val_crf_viterbi_accuracy: 0.9526\n",
            "Epoch 3/20\n",
            "9360/9360 [==============================] - 95s 10ms/step - loss: 38.9972 - crf_viterbi_accuracy: 0.9619 - val_loss: 39.2620 - val_crf_viterbi_accuracy: 0.9536\n",
            "Epoch 4/20\n",
            "9360/9360 [==============================] - 94s 10ms/step - loss: 38.9759 - crf_viterbi_accuracy: 0.9675 - val_loss: 39.2294 - val_crf_viterbi_accuracy: 0.9620\n",
            "Epoch 5/20\n",
            "9360/9360 [==============================] - 94s 10ms/step - loss: 38.9621 - crf_viterbi_accuracy: 0.9719 - val_loss: 39.2193 - val_crf_viterbi_accuracy: 0.9641\n",
            "Epoch 6/20\n",
            "9360/9360 [==============================] - 93s 10ms/step - loss: 38.9503 - crf_viterbi_accuracy: 0.9752 - val_loss: 39.2132 - val_crf_viterbi_accuracy: 0.9661\n",
            "Epoch 7/20\n",
            "9360/9360 [==============================] - 92s 10ms/step - loss: 38.9412 - crf_viterbi_accuracy: 0.9781 - val_loss: 39.2144 - val_crf_viterbi_accuracy: 0.9671\n",
            "Epoch 8/20\n",
            "9360/9360 [==============================] - 93s 10ms/step - loss: 38.9349 - crf_viterbi_accuracy: 0.9796 - val_loss: 39.2270 - val_crf_viterbi_accuracy: 0.9556\n",
            "FOLD Number: 2/9\n",
            "Train on 9361 samples, validate on 4680 samples\n",
            "Epoch 1/20\n",
            "9361/9361 [==============================] - 95s 10ms/step - loss: 39.2677 - crf_viterbi_accuracy: 0.8958 - val_loss: 39.5579 - val_crf_viterbi_accuracy: 0.7801\n",
            "Epoch 2/20\n",
            "9361/9361 [==============================] - 93s 10ms/step - loss: 39.0408 - crf_viterbi_accuracy: 0.9496 - val_loss: 39.2748 - val_crf_viterbi_accuracy: 0.9513\n",
            "Epoch 3/20\n",
            "9361/9361 [==============================] - 93s 10ms/step - loss: 39.0025 - crf_viterbi_accuracy: 0.9590 - val_loss: 39.2780 - val_crf_viterbi_accuracy: 0.9486\n",
            "Epoch 4/20\n",
            "9361/9361 [==============================] - 92s 10ms/step - loss: 38.9798 - crf_viterbi_accuracy: 0.9651 - val_loss: 39.2344 - val_crf_viterbi_accuracy: 0.9647\n",
            "Epoch 5/20\n",
            "9361/9361 [==============================] - 92s 10ms/step - loss: 38.9644 - crf_viterbi_accuracy: 0.9700 - val_loss: 39.2266 - val_crf_viterbi_accuracy: 0.9665\n",
            "Epoch 6/20\n",
            "9361/9361 [==============================] - 93s 10ms/step - loss: 38.9528 - crf_viterbi_accuracy: 0.9731 - val_loss: 39.2385 - val_crf_viterbi_accuracy: 0.9567\n",
            "Epoch 7/20\n",
            "9361/9361 [==============================] - 93s 10ms/step - loss: 38.9444 - crf_viterbi_accuracy: 0.9760 - val_loss: 39.2296 - val_crf_viterbi_accuracy: 0.9619\n",
            "FOLD Number: 3/9\n",
            "Train on 9361 samples, validate on 4680 samples\n",
            "Epoch 1/20\n",
            "9361/9361 [==============================] - 97s 10ms/step - loss: 39.4707 - crf_viterbi_accuracy: 0.9171 - val_loss: 38.8511 - val_crf_viterbi_accuracy: 0.9426\n",
            "Epoch 2/20\n",
            "9361/9361 [==============================] - 94s 10ms/step - loss: 39.2570 - crf_viterbi_accuracy: 0.9533 - val_loss: 38.8157 - val_crf_viterbi_accuracy: 0.9484\n",
            "Epoch 3/20\n",
            "9361/9361 [==============================] - 95s 10ms/step - loss: 39.2223 - crf_viterbi_accuracy: 0.9612 - val_loss: 38.7843 - val_crf_viterbi_accuracy: 0.9582\n",
            "Epoch 4/20\n",
            "9361/9361 [==============================] - 94s 10ms/step - loss: 39.2015 - crf_viterbi_accuracy: 0.9672 - val_loss: 38.7721 - val_crf_viterbi_accuracy: 0.9625\n",
            "Epoch 5/20\n",
            "9361/9361 [==============================] - 95s 10ms/step - loss: 39.1892 - crf_viterbi_accuracy: 0.9708 - val_loss: 38.7639 - val_crf_viterbi_accuracy: 0.9653\n",
            "Epoch 6/20\n",
            "9361/9361 [==============================] - 95s 10ms/step - loss: 39.1773 - crf_viterbi_accuracy: 0.9741 - val_loss: 38.7602 - val_crf_viterbi_accuracy: 0.9671\n",
            "Epoch 7/20\n",
            "9361/9361 [==============================] - 94s 10ms/step - loss: 39.1685 - crf_viterbi_accuracy: 0.9776 - val_loss: 38.7578 - val_crf_viterbi_accuracy: 0.9678\n",
            "Epoch 8/20\n",
            "9361/9361 [==============================] - 94s 10ms/step - loss: 39.1627 - crf_viterbi_accuracy: 0.9790 - val_loss: 38.7578 - val_crf_viterbi_accuracy: 0.9682\n",
            "Epoch 9/20\n",
            "9361/9361 [==============================] - 95s 10ms/step - loss: 39.1559 - crf_viterbi_accuracy: 0.9817 - val_loss: 38.7756 - val_crf_viterbi_accuracy: 0.9641\n",
            "FOLD Number: 4/9\n",
            "Train on 9360 samples, validate on 4681 samples\n",
            "Epoch 1/20\n",
            "9360/9360 [==============================] - 97s 10ms/step - loss: 39.3963 - crf_viterbi_accuracy: 0.8738 - val_loss: 39.3647 - val_crf_viterbi_accuracy: 0.9320\n",
            "Epoch 2/20\n",
            "9360/9360 [==============================] - 93s 10ms/step - loss: 39.0800 - crf_viterbi_accuracy: 0.9445 - val_loss: 39.3032 - val_crf_viterbi_accuracy: 0.9440\n",
            "Epoch 3/20\n",
            "9360/9360 [==============================] - 93s 10ms/step - loss: 39.0398 - crf_viterbi_accuracy: 0.9513 - val_loss: 39.2752 - val_crf_viterbi_accuracy: 0.9499\n",
            "Epoch 4/20\n",
            "9360/9360 [==============================] - 93s 10ms/step - loss: 39.0151 - crf_viterbi_accuracy: 0.9583 - val_loss: 39.2554 - val_crf_viterbi_accuracy: 0.9550\n",
            "Epoch 5/20\n",
            "9360/9360 [==============================] - 93s 10ms/step - loss: 38.9984 - crf_viterbi_accuracy: 0.9620 - val_loss: 39.2444 - val_crf_viterbi_accuracy: 0.9576\n",
            "Epoch 6/20\n",
            "9360/9360 [==============================] - 92s 10ms/step - loss: 38.9848 - crf_viterbi_accuracy: 0.9658 - val_loss: 39.2343 - val_crf_viterbi_accuracy: 0.9611\n",
            "Epoch 7/20\n",
            "9360/9360 [==============================] - 93s 10ms/step - loss: 38.9739 - crf_viterbi_accuracy: 0.9690 - val_loss: 39.2291 - val_crf_viterbi_accuracy: 0.9622\n",
            "Epoch 8/20\n",
            "9360/9360 [==============================] - 93s 10ms/step - loss: 38.9662 - crf_viterbi_accuracy: 0.9705 - val_loss: 39.2238 - val_crf_viterbi_accuracy: 0.9641\n",
            "Epoch 9/20\n",
            "9360/9360 [==============================] - 93s 10ms/step - loss: 38.9585 - crf_viterbi_accuracy: 0.9730 - val_loss: 39.2221 - val_crf_viterbi_accuracy: 0.9658\n",
            "Epoch 10/20\n",
            "9360/9360 [==============================] - 93s 10ms/step - loss: 38.9519 - crf_viterbi_accuracy: 0.9748 - val_loss: 39.2172 - val_crf_viterbi_accuracy: 0.9660\n",
            "Epoch 11/20\n",
            "9360/9360 [==============================] - 92s 10ms/step - loss: 38.9463 - crf_viterbi_accuracy: 0.9771 - val_loss: 39.2180 - val_crf_viterbi_accuracy: 0.9656\n",
            "Epoch 12/20\n",
            "9360/9360 [==============================] - 93s 10ms/step - loss: 38.9419 - crf_viterbi_accuracy: 0.9775 - val_loss: 39.2185 - val_crf_viterbi_accuracy: 0.9667\n",
            "FOLD Number: 5/9\n",
            "Train on 9361 samples, validate on 4680 samples\n",
            "Epoch 1/20\n",
            "9361/9361 [==============================] - 98s 10ms/step - loss: 39.4344 - crf_viterbi_accuracy: 0.8690 - val_loss: 39.3760 - val_crf_viterbi_accuracy: 0.9333\n",
            "Epoch 2/20\n",
            "9361/9361 [==============================] - 93s 10ms/step - loss: 39.0897 - crf_viterbi_accuracy: 0.9422 - val_loss: 39.3023 - val_crf_viterbi_accuracy: 0.9476\n",
            "Epoch 3/20\n",
            "9361/9361 [==============================] - 93s 10ms/step - loss: 39.0409 - crf_viterbi_accuracy: 0.9520 - val_loss: 39.2739 - val_crf_viterbi_accuracy: 0.9541\n",
            "Epoch 4/20\n",
            "9361/9361 [==============================] - 93s 10ms/step - loss: 39.0138 - crf_viterbi_accuracy: 0.9571 - val_loss: 39.2547 - val_crf_viterbi_accuracy: 0.9600\n",
            "Epoch 5/20\n",
            "9361/9361 [==============================] - 93s 10ms/step - loss: 38.9959 - crf_viterbi_accuracy: 0.9623 - val_loss: 39.2441 - val_crf_viterbi_accuracy: 0.9628\n",
            "Epoch 6/20\n",
            "9361/9361 [==============================] - 93s 10ms/step - loss: 38.9818 - crf_viterbi_accuracy: 0.9660 - val_loss: 39.2404 - val_crf_viterbi_accuracy: 0.9627\n",
            "Epoch 7/20\n",
            "9361/9361 [==============================] - 93s 10ms/step - loss: 38.9715 - crf_viterbi_accuracy: 0.9682 - val_loss: 39.2330 - val_crf_viterbi_accuracy: 0.9647\n",
            "Epoch 8/20\n",
            "9361/9361 [==============================] - 93s 10ms/step - loss: 38.9617 - crf_viterbi_accuracy: 0.9721 - val_loss: 39.2256 - val_crf_viterbi_accuracy: 0.9672\n",
            "Epoch 9/20\n",
            "9361/9361 [==============================] - 93s 10ms/step - loss: 38.9545 - crf_viterbi_accuracy: 0.9738 - val_loss: 39.2230 - val_crf_viterbi_accuracy: 0.9680\n",
            "Epoch 10/20\n",
            "9361/9361 [==============================] - 92s 10ms/step - loss: 38.9491 - crf_viterbi_accuracy: 0.9754 - val_loss: 39.2303 - val_crf_viterbi_accuracy: 0.9618\n",
            "Epoch 11/20\n",
            "9361/9361 [==============================] - 93s 10ms/step - loss: 38.9436 - crf_viterbi_accuracy: 0.9765 - val_loss: 39.2182 - val_crf_viterbi_accuracy: 0.9684\n",
            "Epoch 12/20\n",
            "9361/9361 [==============================] - 92s 10ms/step - loss: 38.9385 - crf_viterbi_accuracy: 0.9784 - val_loss: 39.2185 - val_crf_viterbi_accuracy: 0.9688\n",
            "Epoch 13/20\n",
            "9361/9361 [==============================] - 93s 10ms/step - loss: 38.9343 - crf_viterbi_accuracy: 0.9800 - val_loss: 39.2209 - val_crf_viterbi_accuracy: 0.9669\n",
            "FOLD Number: 6/9\n",
            "Train on 9361 samples, validate on 4680 samples\n",
            "Epoch 1/20\n",
            "9361/9361 [==============================] - 98s 10ms/step - loss: 39.6985 - crf_viterbi_accuracy: 0.8556 - val_loss: 38.9142 - val_crf_viterbi_accuracy: 0.9317\n",
            "Epoch 2/20\n",
            "9361/9361 [==============================] - 94s 10ms/step - loss: 39.3149 - crf_viterbi_accuracy: 0.9431 - val_loss: 38.8547 - val_crf_viterbi_accuracy: 0.9437\n",
            "Epoch 3/20\n",
            "9361/9361 [==============================] - 93s 10ms/step - loss: 39.2709 - crf_viterbi_accuracy: 0.9505 - val_loss: 38.8261 - val_crf_viterbi_accuracy: 0.9505\n",
            "Epoch 4/20\n",
            "9361/9361 [==============================] - 93s 10ms/step - loss: 39.2442 - crf_viterbi_accuracy: 0.9565 - val_loss: 38.8116 - val_crf_viterbi_accuracy: 0.9522\n",
            "Epoch 5/20\n",
            "9361/9361 [==============================] - 94s 10ms/step - loss: 39.2266 - crf_viterbi_accuracy: 0.9611 - val_loss: 38.7965 - val_crf_viterbi_accuracy: 0.9589\n",
            "Epoch 6/20\n",
            "9361/9361 [==============================] - 93s 10ms/step - loss: 39.2132 - crf_viterbi_accuracy: 0.9647 - val_loss: 38.7909 - val_crf_viterbi_accuracy: 0.9597\n",
            "Epoch 7/20\n",
            "9361/9361 [==============================] - 93s 10ms/step - loss: 39.2023 - crf_viterbi_accuracy: 0.9679 - val_loss: 38.7846 - val_crf_viterbi_accuracy: 0.9619\n",
            "Epoch 8/20\n",
            "9361/9361 [==============================] - 94s 10ms/step - loss: 39.1936 - crf_viterbi_accuracy: 0.9706 - val_loss: 38.7770 - val_crf_viterbi_accuracy: 0.9634\n",
            "Epoch 9/20\n",
            "9361/9361 [==============================] - 93s 10ms/step - loss: 39.1865 - crf_viterbi_accuracy: 0.9720 - val_loss: 38.7714 - val_crf_viterbi_accuracy: 0.9657\n",
            "Epoch 10/20\n",
            "9361/9361 [==============================] - 93s 10ms/step - loss: 39.1803 - crf_viterbi_accuracy: 0.9738 - val_loss: 38.7738 - val_crf_viterbi_accuracy: 0.9640\n",
            "Epoch 11/20\n",
            "9361/9361 [==============================] - 93s 10ms/step - loss: 39.1736 - crf_viterbi_accuracy: 0.9761 - val_loss: 38.7683 - val_crf_viterbi_accuracy: 0.9644\n",
            "Epoch 12/20\n",
            "9361/9361 [==============================] - 94s 10ms/step - loss: 39.1687 - crf_viterbi_accuracy: 0.9776 - val_loss: 38.7655 - val_crf_viterbi_accuracy: 0.9665\n",
            "Epoch 13/20\n",
            "9361/9361 [==============================] - 93s 10ms/step - loss: 39.1642 - crf_viterbi_accuracy: 0.9798 - val_loss: 38.7661 - val_crf_viterbi_accuracy: 0.9665\n",
            "Epoch 14/20\n",
            "9361/9361 [==============================] - 93s 10ms/step - loss: 39.1601 - crf_viterbi_accuracy: 0.9801 - val_loss: 38.7636 - val_crf_viterbi_accuracy: 0.9671\n",
            "Epoch 15/20\n",
            "9361/9361 [==============================] - 94s 10ms/step - loss: 39.1561 - crf_viterbi_accuracy: 0.9820 - val_loss: 38.7656 - val_crf_viterbi_accuracy: 0.9652\n",
            "Epoch 16/20\n",
            "9361/9361 [==============================] - 93s 10ms/step - loss: 39.1544 - crf_viterbi_accuracy: 0.9822 - val_loss: 38.7634 - val_crf_viterbi_accuracy: 0.9685\n",
            "Epoch 17/20\n",
            "9361/9361 [==============================] - 94s 10ms/step - loss: 39.1514 - crf_viterbi_accuracy: 0.9838 - val_loss: 38.7637 - val_crf_viterbi_accuracy: 0.9677\n",
            "Epoch 18/20\n",
            "9361/9361 [==============================] - 93s 10ms/step - loss: 39.1492 - crf_viterbi_accuracy: 0.9842 - val_loss: 38.7658 - val_crf_viterbi_accuracy: 0.9671\n",
            "FOLD Number: 7/9\n",
            "Train on 9360 samples, validate on 4681 samples\n",
            "Epoch 1/20\n",
            "9360/9360 [==============================] - 98s 10ms/step - loss: 40.0192 - crf_viterbi_accuracy: 0.8212 - val_loss: 39.9529 - val_crf_viterbi_accuracy: 0.8112\n",
            "Epoch 2/20\n",
            "9360/9360 [==============================] - 93s 10ms/step - loss: 39.6684 - crf_viterbi_accuracy: 0.8327 - val_loss: 39.8610 - val_crf_viterbi_accuracy: 0.8112\n",
            "Epoch 3/20\n",
            "9360/9360 [==============================] - 93s 10ms/step - loss: 39.5883 - crf_viterbi_accuracy: 0.8331 - val_loss: 39.7918 - val_crf_viterbi_accuracy: 0.8112\n",
            "Epoch 4/20\n",
            "9360/9360 [==============================] - 93s 10ms/step - loss: 39.5241 - crf_viterbi_accuracy: 0.8331 - val_loss: 39.7354 - val_crf_viterbi_accuracy: 0.8137\n",
            "Epoch 5/20\n",
            "9360/9360 [==============================] - 93s 10ms/step - loss: 39.4716 - crf_viterbi_accuracy: 0.8381 - val_loss: 39.6879 - val_crf_viterbi_accuracy: 0.8235\n",
            "Epoch 6/20\n",
            "9360/9360 [==============================] - 93s 10ms/step - loss: 39.4265 - crf_viterbi_accuracy: 0.8475 - val_loss: 39.6485 - val_crf_viterbi_accuracy: 0.8332\n",
            "Epoch 7/20\n",
            "9360/9360 [==============================] - 93s 10ms/step - loss: 39.3885 - crf_viterbi_accuracy: 0.8564 - val_loss: 39.6139 - val_crf_viterbi_accuracy: 0.8437\n",
            "Epoch 8/20\n",
            "9360/9360 [==============================] - 93s 10ms/step - loss: 39.3554 - crf_viterbi_accuracy: 0.8657 - val_loss: 39.5854 - val_crf_viterbi_accuracy: 0.8547\n",
            "Epoch 9/20\n",
            "9360/9360 [==============================] - 93s 10ms/step - loss: 39.3276 - crf_viterbi_accuracy: 0.8792 - val_loss: 39.5608 - val_crf_viterbi_accuracy: 0.8701\n",
            "Epoch 10/20\n",
            "9360/9360 [==============================] - 94s 10ms/step - loss: 39.3033 - crf_viterbi_accuracy: 0.8919 - val_loss: 39.5391 - val_crf_viterbi_accuracy: 0.8810\n",
            "Epoch 11/20\n",
            "9360/9360 [==============================] - 93s 10ms/step - loss: 39.2814 - crf_viterbi_accuracy: 0.8989 - val_loss: 39.5207 - val_crf_viterbi_accuracy: 0.8874\n",
            "Epoch 12/20\n",
            "9360/9360 [==============================] - 92s 10ms/step - loss: 39.2644 - crf_viterbi_accuracy: 0.9034 - val_loss: 39.5050 - val_crf_viterbi_accuracy: 0.8918\n",
            "Epoch 13/20\n",
            "9360/9360 [==============================] - 92s 10ms/step - loss: 39.2492 - crf_viterbi_accuracy: 0.9065 - val_loss: 39.4923 - val_crf_viterbi_accuracy: 0.8941\n",
            "Epoch 14/20\n",
            "9360/9360 [==============================] - 93s 10ms/step - loss: 39.2354 - crf_viterbi_accuracy: 0.9084 - val_loss: 39.4799 - val_crf_viterbi_accuracy: 0.8972\n",
            "Epoch 15/20\n",
            "9360/9360 [==============================] - 93s 10ms/step - loss: 39.2231 - crf_viterbi_accuracy: 0.9110 - val_loss: 39.4692 - val_crf_viterbi_accuracy: 0.8997\n",
            "Epoch 16/20\n",
            "9360/9360 [==============================] - 93s 10ms/step - loss: 39.2132 - crf_viterbi_accuracy: 0.9128 - val_loss: 39.4604 - val_crf_viterbi_accuracy: 0.9025\n",
            "Epoch 17/20\n",
            "9360/9360 [==============================] - 93s 10ms/step - loss: 39.2040 - crf_viterbi_accuracy: 0.9141 - val_loss: 39.4519 - val_crf_viterbi_accuracy: 0.9044\n",
            "Epoch 18/20\n",
            "9360/9360 [==============================] - 93s 10ms/step - loss: 39.1961 - crf_viterbi_accuracy: 0.9154 - val_loss: 39.4447 - val_crf_viterbi_accuracy: 0.9057\n",
            "Epoch 19/20\n",
            "9360/9360 [==============================] - 92s 10ms/step - loss: 39.1901 - crf_viterbi_accuracy: 0.9168 - val_loss: 39.4384 - val_crf_viterbi_accuracy: 0.9071\n",
            "Epoch 20/20\n",
            "9360/9360 [==============================] - 93s 10ms/step - loss: 39.1825 - crf_viterbi_accuracy: 0.9175 - val_loss: 39.4329 - val_crf_viterbi_accuracy: 0.9081\n",
            "FOLD Number: 8/9\n",
            "Train on 9361 samples, validate on 4680 samples\n",
            "Epoch 1/20\n",
            "9361/9361 [==============================] - 98s 10ms/step - loss: 40.3169 - crf_viterbi_accuracy: 0.6867 - val_loss: 40.0181 - val_crf_viterbi_accuracy: 0.8164\n",
            "Epoch 2/20\n",
            "9361/9361 [==============================] - 93s 10ms/step - loss: 39.7207 - crf_viterbi_accuracy: 0.8311 - val_loss: 39.9128 - val_crf_viterbi_accuracy: 0.8164\n",
            "Epoch 3/20\n",
            "9361/9361 [==============================] - 93s 10ms/step - loss: 39.6427 - crf_viterbi_accuracy: 0.8312 - val_loss: 39.8504 - val_crf_viterbi_accuracy: 0.8165\n",
            "Epoch 4/20\n",
            "9361/9361 [==============================] - 93s 10ms/step - loss: 39.5865 - crf_viterbi_accuracy: 0.8326 - val_loss: 39.7997 - val_crf_viterbi_accuracy: 0.8198\n",
            "Epoch 5/20\n",
            "9361/9361 [==============================] - 93s 10ms/step - loss: 39.5391 - crf_viterbi_accuracy: 0.8373 - val_loss: 39.7556 - val_crf_viterbi_accuracy: 0.8295\n",
            "Epoch 6/20\n",
            "9361/9361 [==============================] - 93s 10ms/step - loss: 39.4966 - crf_viterbi_accuracy: 0.8487 - val_loss: 39.7162 - val_crf_viterbi_accuracy: 0.8442\n",
            "Epoch 7/20\n",
            "9361/9361 [==============================] - 94s 10ms/step - loss: 39.4585 - crf_viterbi_accuracy: 0.8604 - val_loss: 39.6803 - val_crf_viterbi_accuracy: 0.8548\n",
            "Epoch 8/20\n",
            "9361/9361 [==============================] - 93s 10ms/step - loss: 39.4231 - crf_viterbi_accuracy: 0.8698 - val_loss: 39.6473 - val_crf_viterbi_accuracy: 0.8636\n",
            "Epoch 9/20\n",
            "9361/9361 [==============================] - 93s 10ms/step - loss: 39.3903 - crf_viterbi_accuracy: 0.8769 - val_loss: 39.6158 - val_crf_viterbi_accuracy: 0.8707\n",
            "Epoch 10/20\n",
            "9361/9361 [==============================] - 93s 10ms/step - loss: 39.3591 - crf_viterbi_accuracy: 0.8836 - val_loss: 39.5873 - val_crf_viterbi_accuracy: 0.8785\n",
            "Epoch 11/20\n",
            "9361/9361 [==============================] - 93s 10ms/step - loss: 39.3316 - crf_viterbi_accuracy: 0.8923 - val_loss: 39.5620 - val_crf_viterbi_accuracy: 0.8869\n",
            "Epoch 12/20\n",
            "9361/9361 [==============================] - 93s 10ms/step - loss: 39.3065 - crf_viterbi_accuracy: 0.8997 - val_loss: 39.5396 - val_crf_viterbi_accuracy: 0.8942\n",
            "Epoch 13/20\n",
            "9361/9361 [==============================] - 93s 10ms/step - loss: 39.2860 - crf_viterbi_accuracy: 0.9045 - val_loss: 39.5207 - val_crf_viterbi_accuracy: 0.8981\n",
            "Epoch 14/20\n",
            "9361/9361 [==============================] - 94s 10ms/step - loss: 39.2662 - crf_viterbi_accuracy: 0.9076 - val_loss: 39.5043 - val_crf_viterbi_accuracy: 0.9013\n",
            "Epoch 15/20\n",
            "9361/9361 [==============================] - 93s 10ms/step - loss: 39.2506 - crf_viterbi_accuracy: 0.9093 - val_loss: 39.4905 - val_crf_viterbi_accuracy: 0.9031\n",
            "Epoch 16/20\n",
            "9361/9361 [==============================] - 92s 10ms/step - loss: 39.2367 - crf_viterbi_accuracy: 0.9116 - val_loss: 39.4776 - val_crf_viterbi_accuracy: 0.9051\n",
            "Epoch 17/20\n",
            "9361/9361 [==============================] - 93s 10ms/step - loss: 39.2242 - crf_viterbi_accuracy: 0.9126 - val_loss: 39.4668 - val_crf_viterbi_accuracy: 0.9067\n",
            "Epoch 18/20\n",
            "9361/9361 [==============================] - 93s 10ms/step - loss: 39.2127 - crf_viterbi_accuracy: 0.9145 - val_loss: 39.4570 - val_crf_viterbi_accuracy: 0.9083\n",
            "Epoch 19/20\n",
            "9361/9361 [==============================] - 93s 10ms/step - loss: 39.2044 - crf_viterbi_accuracy: 0.9157 - val_loss: 39.4493 - val_crf_viterbi_accuracy: 0.9094\n",
            "Epoch 20/20\n",
            "9361/9361 [==============================] - 93s 10ms/step - loss: 39.1964 - crf_viterbi_accuracy: 0.9165 - val_loss: 39.4419 - val_crf_viterbi_accuracy: 0.9107\n",
            "FOLD Number: 9/9\n",
            "Train on 9361 samples, validate on 4680 samples\n",
            "Epoch 1/20\n",
            "9361/9361 [==============================] - 100s 11ms/step - loss: 40.3237 - crf_viterbi_accuracy: 0.8048 - val_loss: 39.5284 - val_crf_viterbi_accuracy: 0.8163\n",
            "Epoch 2/20\n",
            "9361/9361 [==============================] - 93s 10ms/step - loss: 39.9359 - crf_viterbi_accuracy: 0.8325 - val_loss: 39.4271 - val_crf_viterbi_accuracy: 0.8163\n",
            "Epoch 3/20\n",
            "9361/9361 [==============================] - 93s 10ms/step - loss: 39.8479 - crf_viterbi_accuracy: 0.8331 - val_loss: 39.3586 - val_crf_viterbi_accuracy: 0.8193\n",
            "Epoch 4/20\n",
            "9361/9361 [==============================] - 93s 10ms/step - loss: 39.7843 - crf_viterbi_accuracy: 0.8376 - val_loss: 39.3052 - val_crf_viterbi_accuracy: 0.8266\n",
            "Epoch 5/20\n",
            "9361/9361 [==============================] - 93s 10ms/step - loss: 39.7322 - crf_viterbi_accuracy: 0.8431 - val_loss: 39.2610 - val_crf_viterbi_accuracy: 0.8322\n",
            "Epoch 6/20\n",
            "9361/9361 [==============================] - 93s 10ms/step - loss: 39.6892 - crf_viterbi_accuracy: 0.8474 - val_loss: 39.2234 - val_crf_viterbi_accuracy: 0.8359\n",
            "Epoch 7/20\n",
            "9361/9361 [==============================] - 94s 10ms/step - loss: 39.6520 - crf_viterbi_accuracy: 0.8527 - val_loss: 39.1913 - val_crf_viterbi_accuracy: 0.8424\n",
            "Epoch 8/20\n",
            "9361/9361 [==============================] - 93s 10ms/step - loss: 39.6189 - crf_viterbi_accuracy: 0.8599 - val_loss: 39.1625 - val_crf_viterbi_accuracy: 0.8550\n",
            "Epoch 9/20\n",
            "9361/9361 [==============================] - 93s 10ms/step - loss: 39.5898 - crf_viterbi_accuracy: 0.8748 - val_loss: 39.1369 - val_crf_viterbi_accuracy: 0.8689\n",
            "Epoch 10/20\n",
            "9361/9361 [==============================] - 94s 10ms/step - loss: 39.5644 - crf_viterbi_accuracy: 0.8864 - val_loss: 39.1137 - val_crf_viterbi_accuracy: 0.8788\n",
            "Epoch 11/20\n",
            "9361/9361 [==============================] - 93s 10ms/step - loss: 39.5412 - crf_viterbi_accuracy: 0.8954 - val_loss: 39.0933 - val_crf_viterbi_accuracy: 0.8850\n",
            "Epoch 12/20\n",
            "9361/9361 [==============================] - 93s 10ms/step - loss: 39.5190 - crf_viterbi_accuracy: 0.9008 - val_loss: 39.0752 - val_crf_viterbi_accuracy: 0.8898\n",
            "Epoch 13/20\n",
            "9361/9361 [==============================] - 94s 10ms/step - loss: 39.5023 - crf_viterbi_accuracy: 0.9037 - val_loss: 39.0595 - val_crf_viterbi_accuracy: 0.8936\n",
            "Epoch 14/20\n",
            "9361/9361 [==============================] - 93s 10ms/step - loss: 39.4857 - crf_viterbi_accuracy: 0.9071 - val_loss: 39.0457 - val_crf_viterbi_accuracy: 0.8965\n",
            "Epoch 15/20\n",
            "9361/9361 [==============================] - 93s 10ms/step - loss: 39.4726 - crf_viterbi_accuracy: 0.9092 - val_loss: 39.0339 - val_crf_viterbi_accuracy: 0.8986\n",
            "Epoch 16/20\n",
            "9361/9361 [==============================] - 93s 10ms/step - loss: 39.4605 - crf_viterbi_accuracy: 0.9104 - val_loss: 39.0228 - val_crf_viterbi_accuracy: 0.9013\n",
            "Epoch 17/20\n",
            "9361/9361 [==============================] - 94s 10ms/step - loss: 39.4498 - crf_viterbi_accuracy: 0.9126 - val_loss: 39.0139 - val_crf_viterbi_accuracy: 0.9030\n",
            "Epoch 18/20\n",
            "9361/9361 [==============================] - 93s 10ms/step - loss: 39.4402 - crf_viterbi_accuracy: 0.9139 - val_loss: 39.0059 - val_crf_viterbi_accuracy: 0.9045\n",
            "Epoch 19/20\n",
            "9361/9361 [==============================] - 94s 10ms/step - loss: 39.4326 - crf_viterbi_accuracy: 0.9151 - val_loss: 38.9986 - val_crf_viterbi_accuracy: 0.9060\n",
            "Epoch 20/20\n",
            "9361/9361 [==============================] - 94s 10ms/step - loss: 39.4243 - crf_viterbi_accuracy: 0.9166 - val_loss: 38.9912 - val_crf_viterbi_accuracy: 0.9075\n",
            "CPU times: user 4h 49min 20s, sys: 20min 58s, total: 5h 10min 18s\n",
            "Wall time: 3h 19min 4s\n"
          ],
          "name": "stdout"
        }
      ]
    },
    {
      "cell_type": "markdown",
      "metadata": {
        "id": "nvGyo4OwBElc"
      },
      "source": [
        "## TEST"
      ]
    },
    {
      "cell_type": "code",
      "metadata": {
        "id": "U75dkHBD2whg",
        "colab": {
          "base_uri": "https://localhost:8080/",
          "height": 173
        },
        "outputId": "b3298abf-cfb4-4948-cc05-f4bc752bdd5d"
      },
      "source": [
        "df_results = pd.DataFrame(grid_results)\n",
        "df_results.groupby(\"Optimizer\").mean().sort_values(by=[\"val_acc\"], ascending=False)"
      ],
      "execution_count": null,
      "outputs": [
        {
          "output_type": "execute_result",
          "data": {
            "text/html": [
              "<div>\n",
              "<style scoped>\n",
              "    .dataframe tbody tr th:only-of-type {\n",
              "        vertical-align: middle;\n",
              "    }\n",
              "\n",
              "    .dataframe tbody tr th {\n",
              "        vertical-align: top;\n",
              "    }\n",
              "\n",
              "    .dataframe thead th {\n",
              "        text-align: right;\n",
              "    }\n",
              "</style>\n",
              "<table border=\"1\" class=\"dataframe\">\n",
              "  <thead>\n",
              "    <tr style=\"text-align: right;\">\n",
              "      <th></th>\n",
              "      <th>train_loss</th>\n",
              "      <th>train_acc</th>\n",
              "      <th>val_loss</th>\n",
              "      <th>val_acc</th>\n",
              "      <th>epochs</th>\n",
              "    </tr>\n",
              "    <tr>\n",
              "      <th>Optimizer</th>\n",
              "      <th></th>\n",
              "      <th></th>\n",
              "      <th></th>\n",
              "      <th></th>\n",
              "      <th></th>\n",
              "    </tr>\n",
              "  </thead>\n",
              "  <tbody>\n",
              "    <tr>\n",
              "      <th>adam</th>\n",
              "      <td>39.008473</td>\n",
              "      <td>0.980577</td>\n",
              "      <td>39.068410</td>\n",
              "      <td>0.966896</td>\n",
              "      <td>14.333333</td>\n",
              "    </tr>\n",
              "    <tr>\n",
              "      <th>nadam</th>\n",
              "      <td>39.011718</td>\n",
              "      <td>0.979076</td>\n",
              "      <td>39.077414</td>\n",
              "      <td>0.960537</td>\n",
              "      <td>8.000000</td>\n",
              "    </tr>\n",
              "    <tr>\n",
              "      <th>sgd</th>\n",
              "      <td>39.267752</td>\n",
              "      <td>0.916852</td>\n",
              "      <td>39.288684</td>\n",
              "      <td>0.908768</td>\n",
              "      <td>20.000000</td>\n",
              "    </tr>\n",
              "  </tbody>\n",
              "</table>\n",
              "</div>"
            ],
            "text/plain": [
              "           train_loss  train_acc   val_loss   val_acc     epochs\n",
              "Optimizer                                                       \n",
              "adam        39.008473   0.980577  39.068410  0.966896  14.333333\n",
              "nadam       39.011718   0.979076  39.077414  0.960537   8.000000\n",
              "sgd         39.267752   0.916852  39.288684  0.908768  20.000000"
            ]
          },
          "metadata": {
            "tags": []
          },
          "execution_count": 10
        }
      ]
    },
    {
      "cell_type": "code",
      "metadata": {
        "id": "bjWkMQKfxP5s",
        "colab": {
          "base_uri": "https://localhost:8080/",
          "height": 17
        },
        "outputId": "631adff0-4585-48d4-c1c0-923e15299ab4"
      },
      "source": [
        "from google.colab import files\n",
        "df_results.to_csv('Optimizer_grid_senna.csv')\n",
        "files.download('Optimizer_grid_senna.csv')"
      ],
      "execution_count": null,
      "outputs": [
        {
          "output_type": "display_data",
          "data": {
            "application/javascript": [
              "\n",
              "    async function download(id, filename, size) {\n",
              "      if (!google.colab.kernel.accessAllowed) {\n",
              "        return;\n",
              "      }\n",
              "      const div = document.createElement('div');\n",
              "      const label = document.createElement('label');\n",
              "      label.textContent = `Downloading \"${filename}\": `;\n",
              "      div.appendChild(label);\n",
              "      const progress = document.createElement('progress');\n",
              "      progress.max = size;\n",
              "      div.appendChild(progress);\n",
              "      document.body.appendChild(div);\n",
              "\n",
              "      const buffers = [];\n",
              "      let downloaded = 0;\n",
              "\n",
              "      const channel = await google.colab.kernel.comms.open(id);\n",
              "      // Send a message to notify the kernel that we're ready.\n",
              "      channel.send({})\n",
              "\n",
              "      for await (const message of channel.messages) {\n",
              "        // Send a message to notify the kernel that we're ready.\n",
              "        channel.send({})\n",
              "        if (message.buffers) {\n",
              "          for (const buffer of message.buffers) {\n",
              "            buffers.push(buffer);\n",
              "            downloaded += buffer.byteLength;\n",
              "            progress.value = downloaded;\n",
              "          }\n",
              "        }\n",
              "      }\n",
              "      const blob = new Blob(buffers, {type: 'application/binary'});\n",
              "      const a = document.createElement('a');\n",
              "      a.href = window.URL.createObjectURL(blob);\n",
              "      a.download = filename;\n",
              "      div.appendChild(a);\n",
              "      a.click();\n",
              "      div.remove();\n",
              "    }\n",
              "  "
            ],
            "text/plain": [
              "<IPython.core.display.Javascript object>"
            ]
          },
          "metadata": {
            "tags": []
          }
        },
        {
          "output_type": "display_data",
          "data": {
            "application/javascript": [
              "download(\"download_8fdcdc95-45c2-41cc-a243-aacd820a8800\", \"Optimizer_grid_senna.csv\", 810)"
            ],
            "text/plain": [
              "<IPython.core.display.Javascript object>"
            ]
          },
          "metadata": {
            "tags": []
          }
        }
      ]
    },
    {
      "cell_type": "code",
      "metadata": {
        "id": "-IeGgvYsY-IU"
      },
      "source": [
        ""
      ],
      "execution_count": null,
      "outputs": []
    }
  ]
}