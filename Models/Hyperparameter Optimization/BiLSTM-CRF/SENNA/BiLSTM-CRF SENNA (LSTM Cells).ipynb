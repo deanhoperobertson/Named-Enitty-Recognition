{
  "nbformat": 4,
  "nbformat_minor": 0,
  "metadata": {
    "colab": {
      "name": "GridSearch Bi-LSTM-CRF-SENNA- (LSTM Cells)",
      "provenance": [],
      "collapsed_sections": [],
      "machine_shape": "hm",
      "include_colab_link": true
    },
    "kernelspec": {
      "name": "python3",
      "display_name": "Python 3"
    },
    "accelerator": "GPU"
  },
  "cells": [
    {
      "cell_type": "markdown",
      "metadata": {
        "id": "view-in-github",
        "colab_type": "text"
      },
      "source": [
        "<a href=\"https://colab.research.google.com/github/deanhoperobertson/Named-Enitty-Recognition/blob/master/Models/Hyperparameter%20Optimization/BiLSTM-CRF/SENNA/BiLSTM-CRF%20SENNA%20(LSTM%20Cells).ipynb\" target=\"_parent\"><img src=\"https://colab.research.google.com/assets/colab-badge.svg\" alt=\"Open In Colab\"/></a>"
      ]
    },
    {
      "cell_type": "code",
      "metadata": {
        "id": "dEI15-hK3sQ2",
        "colab": {
          "base_uri": "https://localhost:8080/",
          "height": 544
        },
        "outputId": "6022c060-712f-4227-c803-45e62e391771"
      },
      "source": [
        "!sudo pip install git+https://www.github.com/keras-team/keras-contrib.git\n",
        "!pip install sklearn_crfsuite\n",
        "!pip install keras==2.2.4\n",
        "%tensorflow_version 1.x\n",
        "#!pip install tensorflow-gpu==1.15.0"
      ],
      "execution_count": null,
      "outputs": [
        {
          "output_type": "stream",
          "text": [
            "Collecting git+https://www.github.com/keras-team/keras-contrib.git\n",
            "  Cloning https://www.github.com/keras-team/keras-contrib.git to /tmp/pip-req-build-02s46pu6\n",
            "  Running command git clone -q https://www.github.com/keras-team/keras-contrib.git /tmp/pip-req-build-02s46pu6\n",
            "Requirement already satisfied (use --upgrade to upgrade): keras-contrib==2.0.8 from git+https://www.github.com/keras-team/keras-contrib.git in /usr/local/lib/python3.6/dist-packages\n",
            "Requirement already satisfied: keras in /usr/local/lib/python3.6/dist-packages (from keras-contrib==2.0.8) (2.2.4)\n",
            "Requirement already satisfied: pyyaml in /usr/local/lib/python3.6/dist-packages (from keras->keras-contrib==2.0.8) (3.13)\n",
            "Requirement already satisfied: keras-applications>=1.0.6 in /usr/local/lib/python3.6/dist-packages (from keras->keras-contrib==2.0.8) (1.0.8)\n",
            "Requirement already satisfied: keras-preprocessing>=1.0.5 in /usr/local/lib/python3.6/dist-packages (from keras->keras-contrib==2.0.8) (1.1.2)\n",
            "Requirement already satisfied: scipy>=0.14 in /usr/local/lib/python3.6/dist-packages (from keras->keras-contrib==2.0.8) (1.4.1)\n",
            "Requirement already satisfied: h5py in /usr/local/lib/python3.6/dist-packages (from keras->keras-contrib==2.0.8) (2.10.0)\n",
            "Requirement already satisfied: six>=1.9.0 in /usr/local/lib/python3.6/dist-packages (from keras->keras-contrib==2.0.8) (1.15.0)\n",
            "Requirement already satisfied: numpy>=1.9.1 in /usr/local/lib/python3.6/dist-packages (from keras->keras-contrib==2.0.8) (1.18.5)\n",
            "Building wheels for collected packages: keras-contrib\n",
            "  Building wheel for keras-contrib (setup.py) ... \u001b[?25l\u001b[?25hdone\n",
            "  Created wheel for keras-contrib: filename=keras_contrib-2.0.8-cp36-none-any.whl size=101064 sha256=f13416a1ec12cf1835d597d468bb9420b40bd9459db3fe4fd495d9acb563ef18\n",
            "  Stored in directory: /tmp/pip-ephem-wheel-cache-2x0pf2ri/wheels/11/27/c8/4ed56de7b55f4f61244e2dc6ef3cdbaff2692527a2ce6502ba\n",
            "Successfully built keras-contrib\n",
            "Requirement already satisfied: sklearn_crfsuite in /usr/local/lib/python3.6/dist-packages (0.3.6)\n",
            "Requirement already satisfied: six in /usr/local/lib/python3.6/dist-packages (from sklearn_crfsuite) (1.15.0)\n",
            "Requirement already satisfied: tabulate in /usr/local/lib/python3.6/dist-packages (from sklearn_crfsuite) (0.8.7)\n",
            "Requirement already satisfied: tqdm>=2.0 in /usr/local/lib/python3.6/dist-packages (from sklearn_crfsuite) (4.41.1)\n",
            "Requirement already satisfied: python-crfsuite>=0.8.3 in /usr/local/lib/python3.6/dist-packages (from sklearn_crfsuite) (0.9.7)\n",
            "Requirement already satisfied: keras==2.2.4 in /usr/local/lib/python3.6/dist-packages (2.2.4)\n",
            "Requirement already satisfied: six>=1.9.0 in /usr/local/lib/python3.6/dist-packages (from keras==2.2.4) (1.15.0)\n",
            "Requirement already satisfied: scipy>=0.14 in /usr/local/lib/python3.6/dist-packages (from keras==2.2.4) (1.4.1)\n",
            "Requirement already satisfied: pyyaml in /usr/local/lib/python3.6/dist-packages (from keras==2.2.4) (3.13)\n",
            "Requirement already satisfied: keras-preprocessing>=1.0.5 in /usr/local/lib/python3.6/dist-packages (from keras==2.2.4) (1.1.2)\n",
            "Requirement already satisfied: numpy>=1.9.1 in /usr/local/lib/python3.6/dist-packages (from keras==2.2.4) (1.18.5)\n",
            "Requirement already satisfied: keras-applications>=1.0.6 in /usr/local/lib/python3.6/dist-packages (from keras==2.2.4) (1.0.8)\n",
            "Requirement already satisfied: h5py in /usr/local/lib/python3.6/dist-packages (from keras==2.2.4) (2.10.0)\n",
            "TensorFlow 1.x selected.\n"
          ],
          "name": "stdout"
        }
      ]
    },
    {
      "cell_type": "code",
      "metadata": {
        "id": "gvLtrysY3xZn",
        "colab": {
          "base_uri": "https://localhost:8080/",
          "height": 51
        },
        "outputId": "16e32b30-25e6-4b28-817a-a5235a72d98f"
      },
      "source": [
        "import pandas as pd\n",
        "import re\n",
        "import numpy as np\n",
        "import urllib.request\n",
        "from sklearn.model_selection import train_test_split\n",
        "\n",
        "#keras and tensorflow packages\n",
        "import tensorflow as tf\n",
        "from keras.layers.merge import add\n",
        "from keras.preprocessing.sequence import pad_sequences\n",
        "from keras.preprocessing import text, sequence\n",
        "from keras.utils import to_categorical\n",
        "from keras.models import Model, Input\n",
        "from keras.layers import LSTM, Embedding, Dense, TimeDistributed, Dropout, Bidirectional\n",
        "from keras_contrib.layers import CRF\n",
        "from keras_contrib.losses import crf_loss\n",
        "from keras_contrib.metrics import crf_viterbi_accuracy\n",
        "from keras_contrib.metrics import crf_accuracy\n",
        "\n",
        "#evaluation\n",
        "from sklearn_crfsuite.metrics import flat_classification_report,flat_f1_score,flat_precision_score\n",
        "print(tf.__version__)"
      ],
      "execution_count": null,
      "outputs": [
        {
          "output_type": "stream",
          "text": [
            "1.15.2\n"
          ],
          "name": "stdout"
        },
        {
          "output_type": "stream",
          "text": [
            "Using TensorFlow backend.\n"
          ],
          "name": "stderr"
        }
      ]
    },
    {
      "cell_type": "code",
      "metadata": {
        "id": "ocDbUxvfTfzJ",
        "colab": {
          "base_uri": "https://localhost:8080/",
          "height": 34
        },
        "outputId": "3225a2b4-ea37-4790-b95c-1e60f46d507c"
      },
      "source": [
        "#Ensure Reproducibility\n",
        "import numpy as np\n",
        "import random as rn\n",
        "import os\n",
        "\n",
        "random_seed=3\n",
        "\n",
        "# 1) set numpy random seed\n",
        "np.random.seed(random_seed)\n",
        "# 2) set build-in random seed\n",
        "rn.seed(random_seed)\n",
        "# 3) set PYTHONHASHSEED\n",
        "os.environ['PYTHONHASHSEED']=str(random_seed)\n",
        "# 4) set tensorflow random seed\n",
        "tf.random.set_random_seed(random_seed)\n",
        "\n",
        "# 5) Force TensorFlow to use single thread.\n",
        "session_conf = tf.ConfigProto(intra_op_parallelism_threads=1, inter_op_parallelism_threads=1)\n",
        "from keras import backend as K\n",
        "tf.set_random_seed(1)\n",
        "sess = tf.Session(graph=tf.get_default_graph(), config=session_conf)\n",
        "K.set_session(sess)\n",
        "\n",
        "print(\"Num GPUs Available: \", len(tf.config.experimental.list_physical_devices('GPU')))"
      ],
      "execution_count": null,
      "outputs": [
        {
          "output_type": "stream",
          "text": [
            "Num GPUs Available:  1\n"
          ],
          "name": "stdout"
        }
      ]
    },
    {
      "cell_type": "code",
      "metadata": {
        "id": "HQ5UL1PL39-g"
      },
      "source": [
        "#import data from my github repo\n",
        "train_url = \"https://raw.githubusercontent.com/deanhoperobertson/Named-Enitty-Recognition/master/Data/train.txt\"\n",
        "test_url = \"https://raw.githubusercontent.com/deanhoperobertson/Named-Enitty-Recognition/master/Data/test.txt\"\n",
        "train = urllib.request.urlopen(train_url).read()\n",
        "test = urllib.request.urlopen(test_url).read()\n",
        "train = train.decode('utf-8')\n",
        "test = test.decode('utf-8')\n",
        "\n",
        "def readstring(filename, meth):\n",
        "    f = filename.split('\\n')\n",
        "    sentences = []\n",
        "    sentence = []\n",
        "    for line in f:\n",
        "        if len(line) == 0 or line.startswith('-DOCSTART') or line[0] == \"\\n\":\n",
        "            if len(sentence) > 0:\n",
        "                sentences.append(sentence)\n",
        "                sentence = []\n",
        "            continue\n",
        "        splits = line.split(' ')\n",
        "        if meth.lower()==\"numbers1\":\n",
        "            sentence.append([hasNumbers1(splits[0]), splits[-1].strip()])\n",
        "        elif meth.lower()==\"numbers2\":\n",
        "            sentence.append([hasNumbers2(splits[0]), splits[-1].strip()])\n",
        "        else:\n",
        "            sentence.append([splits[0], splits[-1].strip()])\n",
        "    if len(sentence) > 0:\n",
        "        sentences.append(sentence)\n",
        "        sentence = []\n",
        "    return sentences\n",
        "\n",
        "def hasNumbers1(inputString):\n",
        "    if re.search(r'\\d', inputString):\n",
        "        return \"0\"\n",
        "    else:return(inputString)\n",
        "\n",
        "def hasNumbers2(text):\n",
        "  if text.isdigit():\n",
        "      return \"1\"\n",
        "  elif re.search(r'\\d',text) and re.search(r'\\,|\\.',text):\n",
        "      return \"1\" \n",
        "  else:\n",
        "      if re.search(r'\\d', text):\n",
        "          return(re.sub('\\d','D', text))\n",
        "      else:\n",
        "          return text\n",
        "\n",
        "#preproces the txt file\n",
        "train_data = readstring(train,\"Numbers1\")\n",
        "test_data = readstring(test,\"Numbers1\")\n",
        "\n",
        "#create corpus\n",
        "corpus = train_data.copy()\n",
        "corpus.extend(test_data)"
      ],
      "execution_count": null,
      "outputs": []
    },
    {
      "cell_type": "code",
      "metadata": {
        "id": "DQSami9V4FbD"
      },
      "source": [
        "def reformat_data(data,meth):\n",
        "  if meth.lower() == \"data\":\n",
        "    i=0\n",
        "  else: i=1\n",
        "  train = []\n",
        "  output= []\n",
        "  for sentence in data:\n",
        "    words=[]\n",
        "    for x in sentence:\n",
        "      words.append(x[i])\n",
        "    train.append(words)\n",
        "\n",
        "  for i in train:\n",
        "    string = ' '.join(i)\n",
        "    output.append(string)\n",
        "  return output\n",
        "\n",
        "def get_max_length(corpus):\n",
        "  length = []\n",
        "  for sentence in corpus:\n",
        "    length.append(len(sentence))\n",
        "  return int(max(length))\n",
        "\n",
        "def number_of_tags(corpus):\n",
        "  tags=[]\n",
        "  for sentence in corpus:\n",
        "    for tag in sentence:\n",
        "      tags.append(tag[1])\n",
        "  return int(len(list(set(tags))))\n",
        "\n",
        "\n",
        "MAX_LEN = get_max_length(corpus)\n",
        "N_tags = number_of_tags(corpus)\n",
        "\n",
        "train = reformat_data(train_data,\"data\")\n",
        "test = reformat_data(test_data,\"data\")\n",
        "\n",
        "train_y = reformat_data(train_data,\"tags\")\n",
        "test_y = reformat_data(test_data,\"tags\")\n"
      ],
      "execution_count": null,
      "outputs": []
    },
    {
      "cell_type": "markdown",
      "metadata": {
        "id": "X61q9Lc4NtTn"
      },
      "source": [
        "## Load Embeddings"
      ]
    },
    {
      "cell_type": "code",
      "metadata": {
        "id": "T4_bcRYfNvNo",
        "colab": {
          "base_uri": "https://localhost:8080/",
          "height": 34
        },
        "outputId": "091acc47-6a25-4883-f8b2-fc23b56026ef"
      },
      "source": [
        "from google.colab import drive\n",
        "drive.mount('/content/drive')"
      ],
      "execution_count": null,
      "outputs": [
        {
          "output_type": "stream",
          "text": [
            "Drive already mounted at /content/drive; to attempt to forcibly remount, call drive.mount(\"/content/drive\", force_remount=True).\n"
          ],
          "name": "stdout"
        }
      ]
    },
    {
      "cell_type": "code",
      "metadata": {
        "id": "-tSLakoFNzQP",
        "colab": {
          "base_uri": "https://localhost:8080/",
          "height": 34
        },
        "outputId": "0ae0261b-f9e6-4c4c-ae42-e7f5c30f31b1"
      },
      "source": [
        "#root_path = \"/content/drive/My Drive/glove.6B.50d.txt\"\n",
        "root_path = \"/content/drive/My Drive/SENNA.txt\"\n",
        "\n",
        "embeddings_index={}\n",
        "f = open(root_path, encoding = \"utf-8\")\n",
        "for line in f:\n",
        "    values = line.split()\n",
        "    word = values[0]\n",
        "    coefs = np.asarray(values[1:], dtype='float32')\n",
        "    embeddings_index[word] = coefs\n",
        "f.close()\n",
        "\n",
        "print('Found %s word vectors.' % len(embeddings_index))"
      ],
      "execution_count": null,
      "outputs": [
        {
          "output_type": "stream",
          "text": [
            "Found 130000 word vectors.\n"
          ],
          "name": "stdout"
        }
      ]
    },
    {
      "cell_type": "markdown",
      "metadata": {
        "id": "riH42VhNLsp4"
      },
      "source": [
        "## Data Processing"
      ]
    },
    {
      "cell_type": "code",
      "metadata": {
        "id": "V5G5pxjPN_6t"
      },
      "source": [
        "def prep_data(xx_train,yy_train,xx_test,yy_test):\n",
        "  \n",
        "  token_word = text.Tokenizer(char_level=False, lower=True, filters=\"}\", oov_token='UNK')\n",
        "  token_word.fit_on_texts(xx_train)\n",
        "\n",
        "  X_train = sequence.pad_sequences(token_word.texts_to_sequences(xx_train), maxlen=MAX_LEN,padding=\"post\")\n",
        "  X_test = sequence.pad_sequences(token_word.texts_to_sequences(xx_test), maxlen=MAX_LEN,padding=\"post\")\n",
        "\n",
        "  # create a tokenizer\n",
        "  token_tag = text.Tokenizer(char_level=False, lower=False, filters=\"}\")\n",
        "  token_tag.fit_on_texts(train_y)\n",
        "\n",
        "  # convert training labels\n",
        "  Y = sequence.pad_sequences(token_tag.texts_to_sequences(yy_train), maxlen=MAX_LEN,padding=\"post\")\n",
        "  Y_train = [to_categorical(i, num_classes=N_tags+1) for i in Y]\n",
        "\n",
        "  # convert test labels\n",
        "  Y = sequence.pad_sequences(token_tag.texts_to_sequences(yy_test), maxlen=MAX_LEN,padding=\"post\")\n",
        "  Y_test = [to_categorical(i, num_classes=N_tags+1) for i in Y]\n",
        "\n",
        "  return X_train, X_test, Y_train, Y_test, token_word"
      ],
      "execution_count": null,
      "outputs": []
    },
    {
      "cell_type": "markdown",
      "metadata": {
        "id": "wZivV-01Nomw"
      },
      "source": [
        "## Grid Search"
      ]
    },
    {
      "cell_type": "code",
      "metadata": {
        "id": "S1dYS2ALN6-f",
        "colab": {
          "base_uri": "https://localhost:8080/",
          "height": 1000
        },
        "outputId": "999aaf6e-c672-48f0-d63a-e7533420826f"
      },
      "source": [
        "%%time\n",
        "from sklearn.model_selection import KFold\n",
        "from keras import optimizers\n",
        "from keras.callbacks import EarlyStopping\n",
        "early_stopping = EarlyStopping(monitor='val_loss', patience=2)\n",
        "\n",
        "\n",
        "kf = KFold(n_splits=3,random_state=3, shuffle=True)\n",
        "\n",
        "grid_results = []\n",
        "CELLS =[100,200,300]\n",
        "BATCH_SIZE= 64\n",
        "EPOCHS=20\n",
        "fold_count = 1\n",
        "\n",
        "for CELL in CELLS:\n",
        "  for train_index, test_index in kf.split(train):\n",
        "    print(\"FOLD Number: %d/%d\" %(fold_count,len(CELLS)*3))\n",
        "    \n",
        "    #split data\n",
        "    xx_train,yy_train = np.array(train)[train_index], np.array(train_y)[train_index]\n",
        "    xx_test,yy_test = np.array(train)[test_index], np.array(train_y)[test_index]\n",
        "\n",
        "    X_train, X_test, Y_train, Y_test, token_word = prep_data(xx_train, yy_train,xx_test, yy_test)\n",
        "\n",
        "    #---------create emedding matrix------------\n",
        "    EMBEDDING=len(coefs)\n",
        "    word_index = token_word.word_index\n",
        "    embedding_matrix = np.zeros((len(token_word.word_index) + 1, EMBEDDING))\n",
        "    for word, i in word_index.items():\n",
        "        embedding_vector = embeddings_index.get(word)\n",
        "        if embedding_vector is not None:\n",
        "          # words not found in embedding index will be all-zeros.\n",
        "          embedding_matrix[i] = embedding_vector\n",
        "\n",
        "    #---------Define Model Build-------------\n",
        "    def create_model(cells):\n",
        "      input =  Input(shape=(MAX_LEN,))\n",
        "      model_2 = Embedding(len(token_word.word_index) + 1,output_dim=EMBEDDING,\n",
        "                      weights=[embedding_matrix],input_length=MAX_LEN,\n",
        "                      trainable=False,mask_zero=True)(input)\n",
        "      model_2 = Bidirectional(LSTM(units=cells, return_sequences=True,\n",
        "                                recurrent_dropout=0.1, dropout=0.1))(model_2)\n",
        "      model_2 = TimeDistributed(Dense(20, activation=\"relu\"))(model_2)\n",
        "      crf = CRF(N_tags+1)  # CRF layer\n",
        "      out = crf(model_2)  # output\n",
        "      model_2 = Model(input, out)\n",
        "      \n",
        "      model_2.compile(optimizer=\"adam\", loss=crf_loss,metrics=[crf_viterbi_accuracy])\n",
        "      return model_2\n",
        "\n",
        "  #---------Fit Model-----------------\n",
        "    model = create_model(CELL)\n",
        "    history = model.fit(X_train, np.array(Y_train), batch_size=BATCH_SIZE, epochs=EPOCHS,verbose=1, callbacks=[early_stopping], validation_data=(X_test,np.array(Y_test)))\n",
        "\n",
        "    grid_results.append({\"train_loss\":history.history[\"loss\"][-1],\n",
        "                      \"train_acc\": history.history[\"crf_viterbi_accuracy\"][-1],\n",
        "                      \"val_loss\": history.history[\"val_loss\"][-1],\n",
        "                      \"val_acc\": history.history[\"val_crf_viterbi_accuracy\"][-1],\n",
        "                      \"epochs\": len(history.history[\"loss\"]),\n",
        "                      \"LSTM Cells\": CELL,\n",
        "                      })\n",
        "\n",
        "    fold_count +=1"
      ],
      "execution_count": null,
      "outputs": [
        {
          "output_type": "stream",
          "text": [
            "FOLD Number: 1/9\n",
            "WARNING:tensorflow:From /usr/local/lib/python3.6/dist-packages/keras/backend/tensorflow_backend.py:517: The name tf.placeholder is deprecated. Please use tf.compat.v1.placeholder instead.\n",
            "\n",
            "WARNING:tensorflow:From /usr/local/lib/python3.6/dist-packages/keras/backend/tensorflow_backend.py:4138: The name tf.random_uniform is deprecated. Please use tf.random.uniform instead.\n",
            "\n",
            "WARNING:tensorflow:From /usr/local/lib/python3.6/dist-packages/keras/backend/tensorflow_backend.py:174: The name tf.get_default_session is deprecated. Please use tf.compat.v1.get_default_session instead.\n",
            "\n",
            "WARNING:tensorflow:From /usr/local/lib/python3.6/dist-packages/keras/backend/tensorflow_backend.py:190: The name tf.global_variables is deprecated. Please use tf.compat.v1.global_variables instead.\n",
            "\n",
            "WARNING:tensorflow:From /usr/local/lib/python3.6/dist-packages/keras/backend/tensorflow_backend.py:199: The name tf.is_variable_initialized is deprecated. Please use tf.compat.v1.is_variable_initialized instead.\n",
            "\n",
            "WARNING:tensorflow:From /usr/local/lib/python3.6/dist-packages/keras/backend/tensorflow_backend.py:206: The name tf.variables_initializer is deprecated. Please use tf.compat.v1.variables_initializer instead.\n",
            "\n",
            "WARNING:tensorflow:From /usr/local/lib/python3.6/dist-packages/keras/backend/tensorflow_backend.py:133: The name tf.placeholder_with_default is deprecated. Please use tf.compat.v1.placeholder_with_default instead.\n",
            "\n",
            "WARNING:tensorflow:From /usr/local/lib/python3.6/dist-packages/keras/backend/tensorflow_backend.py:3445: calling dropout (from tensorflow.python.ops.nn_ops) with keep_prob is deprecated and will be removed in a future version.\n",
            "Instructions for updating:\n",
            "Please use `rate` instead of `keep_prob`. Rate should be set to `rate = 1 - keep_prob`.\n",
            "WARNING:tensorflow:From /usr/local/lib/python3.6/dist-packages/keras/backend/tensorflow_backend.py:2974: where (from tensorflow.python.ops.array_ops) is deprecated and will be removed in a future version.\n",
            "Instructions for updating:\n",
            "Use tf.where in 2.0, which has the same broadcast rule as np.where\n",
            "WARNING:tensorflow:From /usr/local/lib/python3.6/dist-packages/keras/optimizers.py:790: The name tf.train.Optimizer is deprecated. Please use tf.compat.v1.train.Optimizer instead.\n",
            "\n",
            "WARNING:tensorflow:From /usr/local/lib/python3.6/dist-packages/keras/backend/tensorflow_backend.py:986: The name tf.assign_add is deprecated. Please use tf.compat.v1.assign_add instead.\n",
            "\n",
            "WARNING:tensorflow:From /usr/local/lib/python3.6/dist-packages/keras/backend/tensorflow_backend.py:973: The name tf.assign is deprecated. Please use tf.compat.v1.assign instead.\n",
            "\n",
            "Train on 9360 samples, validate on 4681 samples\n",
            "Epoch 1/20\n",
            "9360/9360 [==============================] - 141s 15ms/step - loss: 39.3963 - crf_viterbi_accuracy: 0.8754 - val_loss: 39.3509 - val_crf_viterbi_accuracy: 0.9325\n",
            "Epoch 2/20\n",
            "9360/9360 [==============================] - 139s 15ms/step - loss: 39.0724 - crf_viterbi_accuracy: 0.9451 - val_loss: 39.2984 - val_crf_viterbi_accuracy: 0.9440\n",
            "Epoch 3/20\n",
            "9360/9360 [==============================] - 138s 15ms/step - loss: 39.0345 - crf_viterbi_accuracy: 0.9532 - val_loss: 39.2719 - val_crf_viterbi_accuracy: 0.9494\n",
            "Epoch 4/20\n",
            "9360/9360 [==============================] - 138s 15ms/step - loss: 39.0108 - crf_viterbi_accuracy: 0.9583 - val_loss: 39.2558 - val_crf_viterbi_accuracy: 0.9540\n",
            "Epoch 5/20\n",
            "9360/9360 [==============================] - 138s 15ms/step - loss: 38.9958 - crf_viterbi_accuracy: 0.9626 - val_loss: 39.2397 - val_crf_viterbi_accuracy: 0.9589\n",
            "Epoch 6/20\n",
            "9360/9360 [==============================] - 137s 15ms/step - loss: 38.9810 - crf_viterbi_accuracy: 0.9668 - val_loss: 39.2317 - val_crf_viterbi_accuracy: 0.9616\n",
            "Epoch 7/20\n",
            "9360/9360 [==============================] - 138s 15ms/step - loss: 38.9711 - crf_viterbi_accuracy: 0.9696 - val_loss: 39.2257 - val_crf_viterbi_accuracy: 0.9624\n",
            "Epoch 8/20\n",
            "9360/9360 [==============================] - 137s 15ms/step - loss: 38.9629 - crf_viterbi_accuracy: 0.9714 - val_loss: 39.2205 - val_crf_viterbi_accuracy: 0.9658\n",
            "Epoch 9/20\n",
            "9360/9360 [==============================] - 137s 15ms/step - loss: 38.9556 - crf_viterbi_accuracy: 0.9735 - val_loss: 39.2184 - val_crf_viterbi_accuracy: 0.9658\n",
            "Epoch 10/20\n",
            "9360/9360 [==============================] - 137s 15ms/step - loss: 38.9495 - crf_viterbi_accuracy: 0.9760 - val_loss: 39.2138 - val_crf_viterbi_accuracy: 0.9677\n",
            "Epoch 11/20\n",
            "9360/9360 [==============================] - 138s 15ms/step - loss: 38.9430 - crf_viterbi_accuracy: 0.9770 - val_loss: 39.2137 - val_crf_viterbi_accuracy: 0.9668\n",
            "Epoch 12/20\n",
            "9360/9360 [==============================] - 136s 15ms/step - loss: 38.9384 - crf_viterbi_accuracy: 0.9791 - val_loss: 39.2129 - val_crf_viterbi_accuracy: 0.9682\n",
            "Epoch 13/20\n",
            "9360/9360 [==============================] - 137s 15ms/step - loss: 38.9359 - crf_viterbi_accuracy: 0.9801 - val_loss: 39.2114 - val_crf_viterbi_accuracy: 0.9689\n",
            "Epoch 14/20\n",
            "9360/9360 [==============================] - 138s 15ms/step - loss: 38.9306 - crf_viterbi_accuracy: 0.9816 - val_loss: 39.2140 - val_crf_viterbi_accuracy: 0.9674\n",
            "Epoch 15/20\n",
            "9360/9360 [==============================] - 138s 15ms/step - loss: 38.9285 - crf_viterbi_accuracy: 0.9817 - val_loss: 39.2136 - val_crf_viterbi_accuracy: 0.9682\n",
            "FOLD Number: 2/9\n",
            "Train on 9361 samples, validate on 4680 samples\n",
            "Epoch 1/20\n",
            "9361/9361 [==============================] - 141s 15ms/step - loss: 39.4245 - crf_viterbi_accuracy: 0.8712 - val_loss: 39.3662 - val_crf_viterbi_accuracy: 0.9343\n",
            "Epoch 2/20\n",
            "9361/9361 [==============================] - 139s 15ms/step - loss: 39.0890 - crf_viterbi_accuracy: 0.9420 - val_loss: 39.3078 - val_crf_viterbi_accuracy: 0.9465\n",
            "Epoch 3/20\n",
            "9361/9361 [==============================] - 139s 15ms/step - loss: 39.0440 - crf_viterbi_accuracy: 0.9500 - val_loss: 39.2795 - val_crf_viterbi_accuracy: 0.9534\n",
            "Epoch 4/20\n",
            "9361/9361 [==============================] - 135s 14ms/step - loss: 39.0193 - crf_viterbi_accuracy: 0.9565 - val_loss: 39.2629 - val_crf_viterbi_accuracy: 0.9577\n",
            "Epoch 5/20\n",
            "9361/9361 [==============================] - 137s 15ms/step - loss: 39.0004 - crf_viterbi_accuracy: 0.9605 - val_loss: 39.2490 - val_crf_viterbi_accuracy: 0.9616\n",
            "Epoch 6/20\n",
            "9361/9361 [==============================] - 135s 14ms/step - loss: 38.9871 - crf_viterbi_accuracy: 0.9639 - val_loss: 39.2411 - val_crf_viterbi_accuracy: 0.9630\n",
            "Epoch 7/20\n",
            "9361/9361 [==============================] - 135s 14ms/step - loss: 38.9755 - crf_viterbi_accuracy: 0.9671 - val_loss: 39.2356 - val_crf_viterbi_accuracy: 0.9652\n",
            "Epoch 8/20\n",
            "9361/9361 [==============================] - 136s 15ms/step - loss: 38.9675 - crf_viterbi_accuracy: 0.9695 - val_loss: 39.2277 - val_crf_viterbi_accuracy: 0.9666\n",
            "Epoch 9/20\n",
            "9361/9361 [==============================] - 134s 14ms/step - loss: 38.9591 - crf_viterbi_accuracy: 0.9721 - val_loss: 39.2285 - val_crf_viterbi_accuracy: 0.9662\n",
            "Epoch 10/20\n",
            "9361/9361 [==============================] - 134s 14ms/step - loss: 38.9527 - crf_viterbi_accuracy: 0.9744 - val_loss: 39.2235 - val_crf_viterbi_accuracy: 0.9686\n",
            "Epoch 11/20\n",
            "9361/9361 [==============================] - 135s 14ms/step - loss: 38.9470 - crf_viterbi_accuracy: 0.9754 - val_loss: 39.2196 - val_crf_viterbi_accuracy: 0.9695\n",
            "Epoch 12/20\n",
            "9361/9361 [==============================] - 135s 14ms/step - loss: 38.9415 - crf_viterbi_accuracy: 0.9774 - val_loss: 39.2199 - val_crf_viterbi_accuracy: 0.9695\n",
            "Epoch 13/20\n",
            "9361/9361 [==============================] - 134s 14ms/step - loss: 38.9361 - crf_viterbi_accuracy: 0.9795 - val_loss: 39.2176 - val_crf_viterbi_accuracy: 0.9694\n",
            "Epoch 14/20\n",
            "9361/9361 [==============================] - 134s 14ms/step - loss: 38.9328 - crf_viterbi_accuracy: 0.9802 - val_loss: 39.2215 - val_crf_viterbi_accuracy: 0.9666\n",
            "Epoch 15/20\n",
            "9361/9361 [==============================] - 135s 14ms/step - loss: 38.9299 - crf_viterbi_accuracy: 0.9813 - val_loss: 39.2178 - val_crf_viterbi_accuracy: 0.9689\n",
            "FOLD Number: 3/9\n",
            "Train on 9361 samples, validate on 4680 samples\n",
            "Epoch 1/20\n",
            "9361/9361 [==============================] - 138s 15ms/step - loss: 39.6359 - crf_viterbi_accuracy: 0.8636 - val_loss: 38.9098 - val_crf_viterbi_accuracy: 0.9305\n",
            "Epoch 2/20\n",
            "9361/9361 [==============================] - 135s 14ms/step - loss: 39.3100 - crf_viterbi_accuracy: 0.9429 - val_loss: 38.8527 - val_crf_viterbi_accuracy: 0.9429\n",
            "Epoch 3/20\n",
            "9361/9361 [==============================] - 135s 14ms/step - loss: 39.2710 - crf_viterbi_accuracy: 0.9510 - val_loss: 38.8244 - val_crf_viterbi_accuracy: 0.9503\n",
            "Epoch 4/20\n",
            "9361/9361 [==============================] - 135s 14ms/step - loss: 39.2461 - crf_viterbi_accuracy: 0.9562 - val_loss: 38.8092 - val_crf_viterbi_accuracy: 0.9544\n",
            "Epoch 5/20\n",
            "9361/9361 [==============================] - 135s 14ms/step - loss: 39.2302 - crf_viterbi_accuracy: 0.9611 - val_loss: 38.7965 - val_crf_viterbi_accuracy: 0.9580\n",
            "Epoch 6/20\n",
            "9361/9361 [==============================] - 136s 14ms/step - loss: 39.2150 - crf_viterbi_accuracy: 0.9643 - val_loss: 38.7876 - val_crf_viterbi_accuracy: 0.9604\n",
            "Epoch 7/20\n",
            "9361/9361 [==============================] - 135s 14ms/step - loss: 39.2054 - crf_viterbi_accuracy: 0.9671 - val_loss: 38.7822 - val_crf_viterbi_accuracy: 0.9611\n",
            "Epoch 8/20\n",
            "9361/9361 [==============================] - 135s 14ms/step - loss: 39.1961 - crf_viterbi_accuracy: 0.9699 - val_loss: 38.7743 - val_crf_viterbi_accuracy: 0.9646\n",
            "Epoch 9/20\n",
            "9361/9361 [==============================] - 135s 14ms/step - loss: 39.1879 - crf_viterbi_accuracy: 0.9720 - val_loss: 38.7739 - val_crf_viterbi_accuracy: 0.9632\n",
            "Epoch 10/20\n",
            "9361/9361 [==============================] - 136s 15ms/step - loss: 39.1804 - crf_viterbi_accuracy: 0.9742 - val_loss: 38.7746 - val_crf_viterbi_accuracy: 0.9623\n",
            "Epoch 11/20\n",
            "9361/9361 [==============================] - 139s 15ms/step - loss: 39.1756 - crf_viterbi_accuracy: 0.9760 - val_loss: 38.7643 - val_crf_viterbi_accuracy: 0.9675\n",
            "Epoch 12/20\n",
            "9361/9361 [==============================] - 138s 15ms/step - loss: 39.1709 - crf_viterbi_accuracy: 0.9771 - val_loss: 38.7679 - val_crf_viterbi_accuracy: 0.9662\n",
            "Epoch 13/20\n",
            "9361/9361 [==============================] - 139s 15ms/step - loss: 39.1657 - crf_viterbi_accuracy: 0.9787 - val_loss: 38.7600 - val_crf_viterbi_accuracy: 0.9693\n",
            "Epoch 14/20\n",
            "9361/9361 [==============================] - 139s 15ms/step - loss: 39.1625 - crf_viterbi_accuracy: 0.9801 - val_loss: 38.7621 - val_crf_viterbi_accuracy: 0.9674\n",
            "Epoch 15/20\n",
            "9361/9361 [==============================] - 137s 15ms/step - loss: 39.1585 - crf_viterbi_accuracy: 0.9812 - val_loss: 38.7607 - val_crf_viterbi_accuracy: 0.9690\n",
            "FOLD Number: 4/9\n",
            "Train on 9360 samples, validate on 4681 samples\n",
            "Epoch 1/20\n",
            "9360/9360 [==============================] - 141s 15ms/step - loss: 39.3595 - crf_viterbi_accuracy: 0.8798 - val_loss: 39.3534 - val_crf_viterbi_accuracy: 0.9336\n",
            "Epoch 2/20\n",
            "9360/9360 [==============================] - 137s 15ms/step - loss: 39.0693 - crf_viterbi_accuracy: 0.9466 - val_loss: 39.2952 - val_crf_viterbi_accuracy: 0.9461\n",
            "Epoch 3/20\n",
            "9360/9360 [==============================] - 137s 15ms/step - loss: 39.0302 - crf_viterbi_accuracy: 0.9543 - val_loss: 39.2723 - val_crf_viterbi_accuracy: 0.9516\n",
            "Epoch 4/20\n",
            "9360/9360 [==============================] - 137s 15ms/step - loss: 39.0050 - crf_viterbi_accuracy: 0.9606 - val_loss: 39.2562 - val_crf_viterbi_accuracy: 0.9549\n",
            "Epoch 5/20\n",
            "9360/9360 [==============================] - 137s 15ms/step - loss: 38.9892 - crf_viterbi_accuracy: 0.9652 - val_loss: 39.2424 - val_crf_viterbi_accuracy: 0.9593\n",
            "Epoch 6/20\n",
            "9360/9360 [==============================] - 137s 15ms/step - loss: 38.9748 - crf_viterbi_accuracy: 0.9687 - val_loss: 39.2313 - val_crf_viterbi_accuracy: 0.9632\n",
            "Epoch 7/20\n",
            "9360/9360 [==============================] - 138s 15ms/step - loss: 38.9641 - crf_viterbi_accuracy: 0.9714 - val_loss: 39.2252 - val_crf_viterbi_accuracy: 0.9649\n",
            "Epoch 8/20\n",
            "9360/9360 [==============================] - 137s 15ms/step - loss: 38.9543 - crf_viterbi_accuracy: 0.9742 - val_loss: 39.2217 - val_crf_viterbi_accuracy: 0.9659\n",
            "Epoch 9/20\n",
            "9360/9360 [==============================] - 136s 15ms/step - loss: 38.9464 - crf_viterbi_accuracy: 0.9773 - val_loss: 39.2178 - val_crf_viterbi_accuracy: 0.9675\n",
            "Epoch 10/20\n",
            "9360/9360 [==============================] - 139s 15ms/step - loss: 38.9392 - crf_viterbi_accuracy: 0.9793 - val_loss: 39.2211 - val_crf_viterbi_accuracy: 0.9674\n",
            "Epoch 11/20\n",
            "9360/9360 [==============================] - 138s 15ms/step - loss: 38.9331 - crf_viterbi_accuracy: 0.9819 - val_loss: 39.2188 - val_crf_viterbi_accuracy: 0.9662\n",
            "FOLD Number: 5/9\n",
            "Train on 9361 samples, validate on 4680 samples\n",
            "Epoch 1/20\n",
            "9361/9361 [==============================] - 145s 16ms/step - loss: 39.4105 - crf_viterbi_accuracy: 0.8586 - val_loss: 39.3467 - val_crf_viterbi_accuracy: 0.9382\n",
            "Epoch 2/20\n",
            "9361/9361 [==============================] - 139s 15ms/step - loss: 39.0750 - crf_viterbi_accuracy: 0.9433 - val_loss: 39.2963 - val_crf_viterbi_accuracy: 0.9485\n",
            "Epoch 3/20\n",
            "9361/9361 [==============================] - 140s 15ms/step - loss: 39.0351 - crf_viterbi_accuracy: 0.9506 - val_loss: 39.2711 - val_crf_viterbi_accuracy: 0.9536\n",
            "Epoch 4/20\n",
            "9361/9361 [==============================] - 139s 15ms/step - loss: 39.0107 - crf_viterbi_accuracy: 0.9569 - val_loss: 39.2570 - val_crf_viterbi_accuracy: 0.9577\n",
            "Epoch 5/20\n",
            "9361/9361 [==============================] - 141s 15ms/step - loss: 38.9926 - crf_viterbi_accuracy: 0.9613 - val_loss: 39.2443 - val_crf_viterbi_accuracy: 0.9621\n",
            "Epoch 6/20\n",
            "9361/9361 [==============================] - 140s 15ms/step - loss: 38.9779 - crf_viterbi_accuracy: 0.9655 - val_loss: 39.2359 - val_crf_viterbi_accuracy: 0.9647\n",
            "Epoch 7/20\n",
            "9361/9361 [==============================] - 139s 15ms/step - loss: 38.9667 - crf_viterbi_accuracy: 0.9691 - val_loss: 39.2304 - val_crf_viterbi_accuracy: 0.9655\n",
            "Epoch 8/20\n",
            "9361/9361 [==============================] - 139s 15ms/step - loss: 38.9565 - crf_viterbi_accuracy: 0.9725 - val_loss: 39.2260 - val_crf_viterbi_accuracy: 0.9672\n",
            "Epoch 9/20\n",
            "9361/9361 [==============================] - 139s 15ms/step - loss: 38.9501 - crf_viterbi_accuracy: 0.9740 - val_loss: 39.2233 - val_crf_viterbi_accuracy: 0.9684\n",
            "Epoch 10/20\n",
            "9361/9361 [==============================] - 140s 15ms/step - loss: 38.9421 - crf_viterbi_accuracy: 0.9769 - val_loss: 39.2206 - val_crf_viterbi_accuracy: 0.9695\n",
            "Epoch 11/20\n",
            "9361/9361 [==============================] - 139s 15ms/step - loss: 38.9369 - crf_viterbi_accuracy: 0.9788 - val_loss: 39.2185 - val_crf_viterbi_accuracy: 0.9703\n",
            "Epoch 12/20\n",
            "9361/9361 [==============================] - 140s 15ms/step - loss: 38.9324 - crf_viterbi_accuracy: 0.9807 - val_loss: 39.2206 - val_crf_viterbi_accuracy: 0.9698\n",
            "Epoch 13/20\n",
            "9361/9361 [==============================] - 140s 15ms/step - loss: 38.9268 - crf_viterbi_accuracy: 0.9824 - val_loss: 39.2184 - val_crf_viterbi_accuracy: 0.9705\n",
            "Epoch 14/20\n",
            "9361/9361 [==============================] - 140s 15ms/step - loss: 38.9237 - crf_viterbi_accuracy: 0.9839 - val_loss: 39.2164 - val_crf_viterbi_accuracy: 0.9717\n",
            "Epoch 15/20\n",
            "9361/9361 [==============================] - 139s 15ms/step - loss: 38.9203 - crf_viterbi_accuracy: 0.9851 - val_loss: 39.2202 - val_crf_viterbi_accuracy: 0.9707\n",
            "Epoch 16/20\n",
            "9361/9361 [==============================] - 140s 15ms/step - loss: 38.9165 - crf_viterbi_accuracy: 0.9868 - val_loss: 39.2276 - val_crf_viterbi_accuracy: 0.9669\n",
            "FOLD Number: 6/9\n",
            "Train on 9361 samples, validate on 4680 samples\n",
            "Epoch 1/20\n",
            "9361/9361 [==============================] - 145s 16ms/step - loss: 39.5448 - crf_viterbi_accuracy: 0.8997 - val_loss: 38.8752 - val_crf_viterbi_accuracy: 0.9358\n",
            "Epoch 2/20\n",
            "9361/9361 [==============================] - 139s 15ms/step - loss: 39.2834 - crf_viterbi_accuracy: 0.9471 - val_loss: 38.8331 - val_crf_viterbi_accuracy: 0.9444\n",
            "Epoch 3/20\n",
            "9361/9361 [==============================] - 139s 15ms/step - loss: 39.2481 - crf_viterbi_accuracy: 0.9546 - val_loss: 38.8044 - val_crf_viterbi_accuracy: 0.9543\n",
            "Epoch 4/20\n",
            "9361/9361 [==============================] - 139s 15ms/step - loss: 39.2257 - crf_viterbi_accuracy: 0.9611 - val_loss: 38.7870 - val_crf_viterbi_accuracy: 0.9600\n",
            "Epoch 5/20\n",
            "9361/9361 [==============================] - 140s 15ms/step - loss: 39.2081 - crf_viterbi_accuracy: 0.9660 - val_loss: 38.7797 - val_crf_viterbi_accuracy: 0.9620\n",
            "Epoch 6/20\n",
            "9361/9361 [==============================] - 140s 15ms/step - loss: 39.1939 - crf_viterbi_accuracy: 0.9704 - val_loss: 38.7752 - val_crf_viterbi_accuracy: 0.9625\n",
            "Epoch 7/20\n",
            "9361/9361 [==============================] - 140s 15ms/step - loss: 39.1834 - crf_viterbi_accuracy: 0.9737 - val_loss: 38.7657 - val_crf_viterbi_accuracy: 0.9674\n",
            "Epoch 8/20\n",
            "9361/9361 [==============================] - 139s 15ms/step - loss: 39.1760 - crf_viterbi_accuracy: 0.9754 - val_loss: 38.7612 - val_crf_viterbi_accuracy: 0.9683\n",
            "Epoch 9/20\n",
            "9361/9361 [==============================] - 140s 15ms/step - loss: 39.1688 - crf_viterbi_accuracy: 0.9780 - val_loss: 38.7669 - val_crf_viterbi_accuracy: 0.9645\n",
            "Epoch 10/20\n",
            "9361/9361 [==============================] - 140s 15ms/step - loss: 39.1624 - crf_viterbi_accuracy: 0.9802 - val_loss: 38.7587 - val_crf_viterbi_accuracy: 0.9687\n",
            "Epoch 11/20\n",
            "9361/9361 [==============================] - 140s 15ms/step - loss: 39.1569 - crf_viterbi_accuracy: 0.9824 - val_loss: 38.7619 - val_crf_viterbi_accuracy: 0.9673\n",
            "Epoch 12/20\n",
            "9361/9361 [==============================] - 140s 15ms/step - loss: 39.1525 - crf_viterbi_accuracy: 0.9834 - val_loss: 38.7620 - val_crf_viterbi_accuracy: 0.9692\n",
            "FOLD Number: 7/9\n",
            "Train on 9360 samples, validate on 4681 samples\n",
            "Epoch 1/20\n",
            "9360/9360 [==============================] - 146s 16ms/step - loss: 39.3072 - crf_viterbi_accuracy: 0.8977 - val_loss: 39.3275 - val_crf_viterbi_accuracy: 0.9382\n",
            "Epoch 2/20\n",
            "9360/9360 [==============================] - 141s 15ms/step - loss: 39.0527 - crf_viterbi_accuracy: 0.9486 - val_loss: 39.2852 - val_crf_viterbi_accuracy: 0.9451\n",
            "Epoch 3/20\n",
            "9360/9360 [==============================] - 140s 15ms/step - loss: 39.0183 - crf_viterbi_accuracy: 0.9560 - val_loss: 39.2581 - val_crf_viterbi_accuracy: 0.9537\n",
            "Epoch 4/20\n",
            "9360/9360 [==============================] - 141s 15ms/step - loss: 38.9934 - crf_viterbi_accuracy: 0.9620 - val_loss: 39.2486 - val_crf_viterbi_accuracy: 0.9562\n",
            "Epoch 5/20\n",
            "9360/9360 [==============================] - 139s 15ms/step - loss: 38.9761 - crf_viterbi_accuracy: 0.9677 - val_loss: 39.2342 - val_crf_viterbi_accuracy: 0.9609\n",
            "Epoch 6/20\n",
            "9360/9360 [==============================] - 138s 15ms/step - loss: 38.9632 - crf_viterbi_accuracy: 0.9716 - val_loss: 39.2316 - val_crf_viterbi_accuracy: 0.9615\n",
            "Epoch 7/20\n",
            "9360/9360 [==============================] - 138s 15ms/step - loss: 38.9530 - crf_viterbi_accuracy: 0.9745 - val_loss: 39.2263 - val_crf_viterbi_accuracy: 0.9632\n",
            "Epoch 8/20\n",
            "9360/9360 [==============================] - 140s 15ms/step - loss: 38.9416 - crf_viterbi_accuracy: 0.9774 - val_loss: 39.2218 - val_crf_viterbi_accuracy: 0.9661\n",
            "Epoch 9/20\n",
            "9360/9360 [==============================] - 138s 15ms/step - loss: 38.9341 - crf_viterbi_accuracy: 0.9803 - val_loss: 39.2186 - val_crf_viterbi_accuracy: 0.9678\n",
            "Epoch 10/20\n",
            "9360/9360 [==============================] - 138s 15ms/step - loss: 38.9282 - crf_viterbi_accuracy: 0.9836 - val_loss: 39.2216 - val_crf_viterbi_accuracy: 0.9685\n",
            "Epoch 11/20\n",
            "9360/9360 [==============================] - 140s 15ms/step - loss: 38.9230 - crf_viterbi_accuracy: 0.9852 - val_loss: 39.2204 - val_crf_viterbi_accuracy: 0.9649\n",
            "FOLD Number: 8/9\n",
            "Train on 9361 samples, validate on 4680 samples\n",
            "Epoch 1/20\n",
            "9361/9361 [==============================] - 146s 16ms/step - loss: 39.2758 - crf_viterbi_accuracy: 0.9039 - val_loss: 39.3241 - val_crf_viterbi_accuracy: 0.9384\n",
            "Epoch 2/20\n",
            "9361/9361 [==============================] - 138s 15ms/step - loss: 39.0514 - crf_viterbi_accuracy: 0.9473 - val_loss: 39.2803 - val_crf_viterbi_accuracy: 0.9498\n",
            "Epoch 3/20\n",
            "9361/9361 [==============================] - 137s 15ms/step - loss: 39.0183 - crf_viterbi_accuracy: 0.9541 - val_loss: 39.2582 - val_crf_viterbi_accuracy: 0.9569\n",
            "Epoch 4/20\n",
            "9361/9361 [==============================] - 137s 15ms/step - loss: 38.9945 - crf_viterbi_accuracy: 0.9603 - val_loss: 39.2419 - val_crf_viterbi_accuracy: 0.9622\n",
            "Epoch 5/20\n",
            "9361/9361 [==============================] - 138s 15ms/step - loss: 38.9763 - crf_viterbi_accuracy: 0.9658 - val_loss: 39.2324 - val_crf_viterbi_accuracy: 0.9643\n",
            "Epoch 6/20\n",
            "9361/9361 [==============================] - 138s 15ms/step - loss: 38.9634 - crf_viterbi_accuracy: 0.9703 - val_loss: 39.2239 - val_crf_viterbi_accuracy: 0.9675\n",
            "Epoch 7/20\n",
            "9361/9361 [==============================] - 139s 15ms/step - loss: 38.9520 - crf_viterbi_accuracy: 0.9738 - val_loss: 39.2222 - val_crf_viterbi_accuracy: 0.9689\n",
            "Epoch 8/20\n",
            "9361/9361 [==============================] - 138s 15ms/step - loss: 38.9436 - crf_viterbi_accuracy: 0.9765 - val_loss: 39.2191 - val_crf_viterbi_accuracy: 0.9688\n",
            "Epoch 9/20\n",
            "9361/9361 [==============================] - 137s 15ms/step - loss: 38.9358 - crf_viterbi_accuracy: 0.9794 - val_loss: 39.2171 - val_crf_viterbi_accuracy: 0.9703\n",
            "Epoch 10/20\n",
            "9361/9361 [==============================] - 137s 15ms/step - loss: 38.9289 - crf_viterbi_accuracy: 0.9816 - val_loss: 39.2140 - val_crf_viterbi_accuracy: 0.9714\n",
            "Epoch 11/20\n",
            "9361/9361 [==============================] - 136s 15ms/step - loss: 38.9228 - crf_viterbi_accuracy: 0.9844 - val_loss: 39.2189 - val_crf_viterbi_accuracy: 0.9698\n",
            "Epoch 12/20\n",
            "9361/9361 [==============================] - 136s 15ms/step - loss: 38.9182 - crf_viterbi_accuracy: 0.9869 - val_loss: 39.2198 - val_crf_viterbi_accuracy: 0.9701\n",
            "FOLD Number: 9/9\n",
            "Train on 9361 samples, validate on 4680 samples\n",
            "Epoch 1/20\n",
            "9361/9361 [==============================] - 146s 16ms/step - loss: 39.5234 - crf_viterbi_accuracy: 0.8903 - val_loss: 38.8778 - val_crf_viterbi_accuracy: 0.9340\n",
            "Epoch 2/20\n",
            "9361/9361 [==============================] - 136s 15ms/step - loss: 39.2820 - crf_viterbi_accuracy: 0.9481 - val_loss: 38.8266 - val_crf_viterbi_accuracy: 0.9478\n",
            "Epoch 3/20\n",
            "9361/9361 [==============================] - 138s 15ms/step - loss: 39.2435 - crf_viterbi_accuracy: 0.9562 - val_loss: 38.8009 - val_crf_viterbi_accuracy: 0.9547\n",
            "Epoch 4/20\n",
            "9361/9361 [==============================] - 136s 15ms/step - loss: 39.2200 - crf_viterbi_accuracy: 0.9622 - val_loss: 38.7916 - val_crf_viterbi_accuracy: 0.9567\n",
            "Epoch 5/20\n",
            "9361/9361 [==============================] - 137s 15ms/step - loss: 39.2030 - crf_viterbi_accuracy: 0.9672 - val_loss: 38.7755 - val_crf_viterbi_accuracy: 0.9631\n",
            "Epoch 6/20\n",
            "9361/9361 [==============================] - 136s 15ms/step - loss: 39.1896 - crf_viterbi_accuracy: 0.9709 - val_loss: 38.7707 - val_crf_viterbi_accuracy: 0.9660\n",
            "Epoch 7/20\n",
            "9361/9361 [==============================] - 137s 15ms/step - loss: 39.1772 - crf_viterbi_accuracy: 0.9749 - val_loss: 38.7630 - val_crf_viterbi_accuracy: 0.9674\n",
            "Epoch 8/20\n",
            "9361/9361 [==============================] - 137s 15ms/step - loss: 39.1693 - crf_viterbi_accuracy: 0.9780 - val_loss: 38.7609 - val_crf_viterbi_accuracy: 0.9677\n",
            "Epoch 9/20\n",
            "9361/9361 [==============================] - 137s 15ms/step - loss: 39.1607 - crf_viterbi_accuracy: 0.9801 - val_loss: 38.7608 - val_crf_viterbi_accuracy: 0.9689\n",
            "Epoch 10/20\n",
            "9361/9361 [==============================] - 137s 15ms/step - loss: 39.1542 - crf_viterbi_accuracy: 0.9828 - val_loss: 38.7614 - val_crf_viterbi_accuracy: 0.9675\n",
            "Epoch 11/20\n",
            "9361/9361 [==============================] - 137s 15ms/step - loss: 39.1488 - crf_viterbi_accuracy: 0.9853 - val_loss: 38.7593 - val_crf_viterbi_accuracy: 0.9692\n",
            "Epoch 12/20\n",
            "9361/9361 [==============================] - 137s 15ms/step - loss: 39.1446 - crf_viterbi_accuracy: 0.9867 - val_loss: 38.7619 - val_crf_viterbi_accuracy: 0.9693\n",
            "Epoch 13/20\n",
            "9361/9361 [==============================] - 137s 15ms/step - loss: 39.1402 - crf_viterbi_accuracy: 0.9890 - val_loss: 38.7657 - val_crf_viterbi_accuracy: 0.9676\n",
            "CPU times: user 6h 39min 45s, sys: 32min 34s, total: 7h 12min 20s\n",
            "Wall time: 4h 37min 26s\n"
          ],
          "name": "stdout"
        }
      ]
    },
    {
      "cell_type": "markdown",
      "metadata": {
        "id": "nvGyo4OwBElc"
      },
      "source": [
        "## TEST"
      ]
    },
    {
      "cell_type": "code",
      "metadata": {
        "id": "U75dkHBD2whg",
        "colab": {
          "base_uri": "https://localhost:8080/",
          "height": 173
        },
        "outputId": "6ef56ded-dc5a-4f90-b7bf-977003282137"
      },
      "source": [
        "df_results = pd.DataFrame(grid_results)\n",
        "df_results.groupby(\"LSTM Cells\").mean().sort_values(by=[\"val_acc\"], ascending=False)"
      ],
      "execution_count": null,
      "outputs": [
        {
          "output_type": "execute_result",
          "data": {
            "text/html": [
              "<div>\n",
              "<style scoped>\n",
              "    .dataframe tbody tr th:only-of-type {\n",
              "        vertical-align: middle;\n",
              "    }\n",
              "\n",
              "    .dataframe tbody tr th {\n",
              "        vertical-align: top;\n",
              "    }\n",
              "\n",
              "    .dataframe thead th {\n",
              "        text-align: right;\n",
              "    }\n",
              "</style>\n",
              "<table border=\"1\" class=\"dataframe\">\n",
              "  <thead>\n",
              "    <tr style=\"text-align: right;\">\n",
              "      <th></th>\n",
              "      <th>train_loss</th>\n",
              "      <th>train_acc</th>\n",
              "      <th>val_loss</th>\n",
              "      <th>val_acc</th>\n",
              "      <th>epochs</th>\n",
              "    </tr>\n",
              "    <tr>\n",
              "      <th>LSTM Cells</th>\n",
              "      <th></th>\n",
              "      <th></th>\n",
              "      <th></th>\n",
              "      <th></th>\n",
              "      <th></th>\n",
              "    </tr>\n",
              "  </thead>\n",
              "  <tbody>\n",
              "    <tr>\n",
              "      <th>100</th>\n",
              "      <td>39.005624</td>\n",
              "      <td>0.981413</td>\n",
              "      <td>39.064015</td>\n",
              "      <td>0.968720</td>\n",
              "      <td>15</td>\n",
              "    </tr>\n",
              "    <tr>\n",
              "      <th>300</th>\n",
              "      <td>38.993805</td>\n",
              "      <td>0.987019</td>\n",
              "      <td>39.068626</td>\n",
              "      <td>0.967526</td>\n",
              "      <td>12</td>\n",
              "    </tr>\n",
              "    <tr>\n",
              "      <th>200</th>\n",
              "      <td>39.000718</td>\n",
              "      <td>0.984030</td>\n",
              "      <td>39.069498</td>\n",
              "      <td>0.967429</td>\n",
              "      <td>13</td>\n",
              "    </tr>\n",
              "  </tbody>\n",
              "</table>\n",
              "</div>"
            ],
            "text/plain": [
              "            train_loss  train_acc   val_loss   val_acc  epochs\n",
              "LSTM Cells                                                    \n",
              "100          39.005624   0.981413  39.064015  0.968720      15\n",
              "300          38.993805   0.987019  39.068626  0.967526      12\n",
              "200          39.000718   0.984030  39.069498  0.967429      13"
            ]
          },
          "metadata": {
            "tags": []
          },
          "execution_count": 10
        }
      ]
    },
    {
      "cell_type": "code",
      "metadata": {
        "id": "bjWkMQKfxP5s",
        "colab": {
          "base_uri": "https://localhost:8080/",
          "height": 17
        },
        "outputId": "a8cb9527-139b-46d3-d20f-f58555b5b580"
      },
      "source": [
        "from google.colab import files\n",
        "df_results.to_csv('LSTM Cells_grid_Senna.csv')\n",
        "files.download('LSTM Cells_grid_Senna.csv')"
      ],
      "execution_count": null,
      "outputs": [
        {
          "output_type": "display_data",
          "data": {
            "application/javascript": [
              "\n",
              "    async function download(id, filename, size) {\n",
              "      if (!google.colab.kernel.accessAllowed) {\n",
              "        return;\n",
              "      }\n",
              "      const div = document.createElement('div');\n",
              "      const label = document.createElement('label');\n",
              "      label.textContent = `Downloading \"${filename}\": `;\n",
              "      div.appendChild(label);\n",
              "      const progress = document.createElement('progress');\n",
              "      progress.max = size;\n",
              "      div.appendChild(progress);\n",
              "      document.body.appendChild(div);\n",
              "\n",
              "      const buffers = [];\n",
              "      let downloaded = 0;\n",
              "\n",
              "      const channel = await google.colab.kernel.comms.open(id);\n",
              "      // Send a message to notify the kernel that we're ready.\n",
              "      channel.send({})\n",
              "\n",
              "      for await (const message of channel.messages) {\n",
              "        // Send a message to notify the kernel that we're ready.\n",
              "        channel.send({})\n",
              "        if (message.buffers) {\n",
              "          for (const buffer of message.buffers) {\n",
              "            buffers.push(buffer);\n",
              "            downloaded += buffer.byteLength;\n",
              "            progress.value = downloaded;\n",
              "          }\n",
              "        }\n",
              "      }\n",
              "      const blob = new Blob(buffers, {type: 'application/binary'});\n",
              "      const a = document.createElement('a');\n",
              "      a.href = window.URL.createObjectURL(blob);\n",
              "      a.download = filename;\n",
              "      div.appendChild(a);\n",
              "      a.click();\n",
              "      div.remove();\n",
              "    }\n",
              "  "
            ],
            "text/plain": [
              "<IPython.core.display.Javascript object>"
            ]
          },
          "metadata": {
            "tags": []
          }
        },
        {
          "output_type": "display_data",
          "data": {
            "application/javascript": [
              "download(\"download_24e83783-5288-401c-be88-abae80cc0a30\", \"LSTM Cells_grid_Glove.csv\", 804)"
            ],
            "text/plain": [
              "<IPython.core.display.Javascript object>"
            ]
          },
          "metadata": {
            "tags": []
          }
        }
      ]
    },
    {
      "cell_type": "code",
      "metadata": {
        "id": "-IeGgvYsY-IU"
      },
      "source": [
        ""
      ],
      "execution_count": null,
      "outputs": []
    }
  ]
}