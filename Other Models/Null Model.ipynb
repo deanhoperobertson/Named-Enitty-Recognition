{
 "cells": [
  {
   "cell_type": "markdown",
   "metadata": {},
   "source": [
    "# Null Model"
   ]
  },
  {
   "cell_type": "code",
   "execution_count": 71,
   "metadata": {},
   "outputs": [],
   "source": [
    "import pandas as pd\n",
    "import numpy as np\n",
    "from collections import Counter\n",
    "from sklearn.model_selection import train_test_split\n",
    "\n",
    "#Custom models\n",
    "from prepro import readfile, readstring, get_sentence, is_number, extract_words\n",
    "\n",
    "#evaulation\n",
    "from sklearn.metrics import classification_report"
   ]
  },
  {
   "cell_type": "code",
   "execution_count": 72,
   "metadata": {},
   "outputs": [],
   "source": [
    "#import data from my github repo\n",
    "train = readfile(\"train.txt\")\n",
    "corpus = train.copy()\n",
    "test = readfile(\"test.txt\")\n",
    "\n",
    "#create corpus\n",
    "corpus.extend(test)"
   ]
  },
  {
   "cell_type": "code",
   "execution_count": 73,
   "metadata": {},
   "outputs": [],
   "source": [
    "words = []\n",
    "tags = []\n",
    "for sentence in corpus:\n",
    "    for word in sentence:\n",
    "        words.append(word[0])\n",
    "        tags.append(word[1])"
   ]
  },
  {
   "cell_type": "code",
   "execution_count": 74,
   "metadata": {},
   "outputs": [
    {
     "data": {
      "text/plain": [
       "Counter({'B-LOC': 8808,\n",
       "         'B-MISC': 4140,\n",
       "         'B-ORG': 7982,\n",
       "         'B-PER': 8217,\n",
       "         'I-LOC': 1414,\n",
       "         'I-MISC': 1371,\n",
       "         'I-ORG': 4539,\n",
       "         'I-PER': 5684,\n",
       "         'O': 207901})"
      ]
     },
     "execution_count": 74,
     "metadata": {},
     "output_type": "execute_result"
    }
   ],
   "source": [
    "tag_counts = Counter(tags)\n",
    "tag_counts"
   ]
  },
  {
   "cell_type": "code",
   "execution_count": 75,
   "metadata": {},
   "outputs": [
    {
     "data": {
      "text/plain": [
       "'O'"
      ]
     },
     "execution_count": 75,
     "metadata": {},
     "output_type": "execute_result"
    }
   ],
   "source": [
    "#return the most common tags\n",
    "tag_counts.most_common(1)[0][0]"
   ]
  },
  {
   "cell_type": "markdown",
   "metadata": {},
   "source": [
    "## Define Null Model\n",
    "\n",
    "The model just tags the most common tag in the corpus and predictions all words are of entity \"O\""
   ]
  },
  {
   "cell_type": "code",
   "execution_count": 82,
   "metadata": {},
   "outputs": [],
   "source": [
    "train_words,train_tags = extract_words(train)\n",
    "num_words = len(train_words)\n",
    "pred = ['O']*num_words"
   ]
  },
  {
   "cell_type": "code",
   "execution_count": 83,
   "metadata": {},
   "outputs": [
    {
     "name": "stdout",
     "output_type": "stream",
     "text": [
      "             precision    recall  f1-score   support\n",
      "\n",
      "      B-LOC       0.00      0.00      0.00      7140\n",
      "     B-MISC       0.00      0.00      0.00      3438\n",
      "      B-ORG       0.00      0.00      0.00      6321\n",
      "      B-PER       0.00      0.00      0.00      6600\n",
      "      I-LOC       0.00      0.00      0.00      1157\n",
      "     I-MISC       0.00      0.00      0.00      1155\n",
      "      I-ORG       0.00      0.00      0.00      3704\n",
      "      I-PER       0.00      0.00      0.00      4528\n",
      "          O       0.83      1.00      0.91    169578\n",
      "\n",
      "avg / total       0.69      0.83      0.76    203621\n",
      "\n"
     ]
    },
    {
     "name": "stderr",
     "output_type": "stream",
     "text": [
      "C:\\ProgramData\\Anaconda3\\lib\\site-packages\\sklearn\\metrics\\classification.py:1135: UndefinedMetricWarning: Precision and F-score are ill-defined and being set to 0.0 in labels with no predicted samples.\n",
      "  'precision', 'predicted', average, warn_for)\n"
     ]
    }
   ],
   "source": [
    "#generate report on entire model\n",
    "report = classification_report(y_pred=pred, y_true=train_tags)\n",
    "print(report)"
   ]
  },
  {
   "cell_type": "markdown",
   "metadata": {},
   "source": [
    "### Test dataset"
   ]
  },
  {
   "cell_type": "code",
   "execution_count": 84,
   "metadata": {},
   "outputs": [
    {
     "name": "stdout",
     "output_type": "stream",
     "text": [
      "             precision    recall  f1-score   support\n",
      "\n",
      "      B-LOC       0.00      0.00      0.00      1668\n",
      "     B-MISC       0.00      0.00      0.00       702\n",
      "      B-ORG       0.00      0.00      0.00      1661\n",
      "      B-PER       0.00      0.00      0.00      1617\n",
      "      I-LOC       0.00      0.00      0.00       257\n",
      "     I-MISC       0.00      0.00      0.00       216\n",
      "      I-ORG       0.00      0.00      0.00       835\n",
      "      I-PER       0.00      0.00      0.00      1156\n",
      "          O       0.83      1.00      0.90     38323\n",
      "\n",
      "avg / total       0.68      0.83      0.75     46435\n",
      "\n"
     ]
    },
    {
     "name": "stderr",
     "output_type": "stream",
     "text": [
      "C:\\ProgramData\\Anaconda3\\lib\\site-packages\\sklearn\\metrics\\classification.py:1135: UndefinedMetricWarning: Precision and F-score are ill-defined and being set to 0.0 in labels with no predicted samples.\n",
      "  'precision', 'predicted', average, warn_for)\n"
     ]
    }
   ],
   "source": [
    "test_words,test_tags = extract_words(test)\n",
    "num_words = len(test_words)\n",
    "pred = ['O']*num_words\n",
    "\n",
    "#generate report on entire model\n",
    "report = classification_report(y_pred=pred, y_true=test_tags)\n",
    "print(report)"
   ]
  }
 ],
 "metadata": {
  "kernelspec": {
   "display_name": "Python 3",
   "language": "python",
   "name": "python3"
  },
  "language_info": {
   "codemirror_mode": {
    "name": "ipython",
    "version": 3
   },
   "file_extension": ".py",
   "mimetype": "text/x-python",
   "name": "python",
   "nbconvert_exporter": "python",
   "pygments_lexer": "ipython3",
   "version": "3.6.4"
  }
 },
 "nbformat": 4,
 "nbformat_minor": 2
}
