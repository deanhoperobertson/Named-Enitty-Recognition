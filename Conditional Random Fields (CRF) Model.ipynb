{
 "cells": [
  {
   "cell_type": "markdown",
   "metadata": {},
   "source": [
    "# Conditional Random Field Model"
   ]
  },
  {
   "cell_type": "code",
   "execution_count": 1,
   "metadata": {},
   "outputs": [],
   "source": [
    "import pandas as pd\n",
    "import numpy as np\n",
    "from sklearn.model_selection import train_test_split\n",
    "\n",
    "#Custom models\n",
    "from prepro import readfile, get_sentence, is_number, extract_words,get_label,partial_tags\n",
    "\n",
    "#Model\n",
    "from sklearn_crfsuite import CRF\n",
    "\n",
    "#Evalulation\n",
    "from sklearn.model_selection import cross_val_predict\n",
    "from sklearn_crfsuite.metrics import flat_classification_report\n",
    "from sklearn_crfsuite.metrics import flat_f1_score"
   ]
  },
  {
   "cell_type": "code",
   "execution_count": 2,
   "metadata": {},
   "outputs": [],
   "source": [
    "#import data from my github repo\n",
    "train = readfile(\"train.txt\")\n",
    "corpus = train.copy()\n",
    "test = readfile(\"test.txt\")\n",
    "\n",
    "#create corpus\n",
    "corpus.extend(test)"
   ]
  },
  {
   "cell_type": "code",
   "execution_count": 3,
   "metadata": {},
   "outputs": [],
   "source": [
    "words = []\n",
    "tags = []\n",
    "for sentence in corpus:\n",
    "    for word in sentence:\n",
    "        words.append(word[0])\n",
    "        tags.append(word[1])   "
   ]
  },
  {
   "cell_type": "markdown",
   "metadata": {},
   "source": [
    "## Data"
   ]
  },
  {
   "cell_type": "code",
   "execution_count": 4,
   "metadata": {},
   "outputs": [
    {
     "name": "stdout",
     "output_type": "stream",
     "text": [
      "Number of in the dataset:  250056\n",
      "Number of unique words in the dataset:  27316\n",
      "Number of tags in the dataset:  5\n"
     ]
    }
   ],
   "source": [
    "tags = partial_tags(tags)\n",
    "words=list(words)\n",
    "n_words = len(set(words))\n",
    "n_tags = len(set(tags))\n",
    "\n",
    "setlabel=list(set(tags))\n",
    "setlabel.remove('O')\n",
    "\n",
    "print(\"Number of in the dataset: \", len(words))\n",
    "print(\"Number of unique words in the dataset: \", n_words)\n",
    "print(\"Number of tags in the dataset: \", n_tags)"
   ]
  },
  {
   "cell_type": "markdown",
   "metadata": {},
   "source": [
    "## Feature Engineering"
   ]
  },
  {
   "cell_type": "code",
   "execution_count": 5,
   "metadata": {},
   "outputs": [],
   "source": [
    "def word2features(sentence,i):\n",
    "    word = sentence[i]\n",
    "\n",
    "    features = {\n",
    "        'bias': 1.0,\n",
    "        'word.lower()': word.lower(),\n",
    "        'word[-3:]': word[-3:],\n",
    "        'word[-2:]': word[-2:],\n",
    "        'word.isupper()': word.isupper(),\n",
    "        'word.islower()': word.islower(),\n",
    "        'word.istitle()': word.istitle(),\n",
    "        'word.isdigit()': word.isdigit(),\n",
    "        'word.isalpha()': word.isalpha()\n",
    "    }\n",
    "    if i > 0:\n",
    "        word1 = sentence[i-1]\n",
    "        features.update({\n",
    "            '-1:word.lower()': word1.lower(),\n",
    "            '-1:word.istitle()': word1.istitle(),\n",
    "            '-1:word.isupper()': word1.isupper(),\n",
    "            '-1:word.islower()': word1.lower(),\n",
    "            '-1:word.isdigit()': word1.isdigit(),\n",
    "            '-1:word.isalpha()': word1.isalpha()\n",
    "        })\n",
    "    else:\n",
    "        features['BOS'] = True\n",
    "        \n",
    "    if i < len(sentence)-1:\n",
    "        word1 = sentence[i+1]\n",
    "        features.update({\n",
    "            '+1:word.lower()': word1.lower(),\n",
    "            '+1:word.istitle()': word1.istitle(),\n",
    "            '+1:word.isupper()': word1.isupper(),\n",
    "            '+1:word.islower()': word1.lower(),\n",
    "            '+1:word.isdigit()': word1.isdigit(),\n",
    "            '+1:word.isalpha()': word1.isalpha()\n",
    "        })\n",
    "    else:\n",
    "        features['EOS'] = True\n",
    "    \n",
    "    return features\n",
    "\n",
    "def sent2features(sent):\n",
    "    return [word2features(sent, i) for i in range(len(sent))]\n",
    "\n",
    "def get_all_sentences(dataset):\n",
    "    sentences=[]\n",
    "    for i in range(len(dataset)):\n",
    "        sentences.append(get_sentence(dataset,i+1))\n",
    "    return sentences\n",
    "\n",
    "def get_all_labels(dataset):\n",
    "    labels=[]\n",
    "    for i in range(len(dataset)):\n",
    "        labels.append(partial_tags(get_label(dataset,i+1)))\n",
    "    return labels"
   ]
  },
  {
   "cell_type": "code",
   "execution_count": 17,
   "metadata": {},
   "outputs": [
    {
     "name": "stdout",
     "output_type": "stream",
     "text": [
      "['EU', 'rejects', 'German', 'call', 'to', 'boycott', 'British', 'lamb', '.']\n",
      "['ORG', 'O', 'MISC', 'O', 'O', 'O', 'MISC', 'O', 'O']\n"
     ]
    }
   ],
   "source": [
    "#Get all the sentences in the form of a list\n",
    "sentences = get_all_sentences(train)\n",
    "labels = get_all_labels(train)\n",
    "\n",
    "#get the first sentence\n",
    "sent = get_sentence(train,1)\n",
    "label = partial_tags(get_label(train,1))\n",
    "\n",
    "#print out first sentence\n",
    "print(sent)\n",
    "print(label)"
   ]
  },
  {
   "cell_type": "code",
   "execution_count": 29,
   "metadata": {},
   "outputs": [],
   "source": [
    "#Applt feature engineering\n",
    "X = [sent2features(s) for s in sentences]\n",
    "y = labels"
   ]
  },
  {
   "cell_type": "markdown",
   "metadata": {},
   "source": [
    "\n",
    "## Condtional Random Field Model\n",
    "\n",
    "### Model 1\n",
    "- Using Stochastic Gradient descent "
   ]
  },
  {
   "cell_type": "code",
   "execution_count": 9,
   "metadata": {},
   "outputs": [],
   "source": [
    "crf1 = CRF(algorithm='l2sgd',\n",
    "          max_iterations=100,\n",
    "          all_possible_transitions=False)"
   ]
  },
  {
   "cell_type": "code",
   "execution_count": 10,
   "metadata": {},
   "outputs": [
    {
     "name": "stdout",
     "output_type": "stream",
     "text": [
      "CPU times: user 44.2 s, sys: 1.78 s, total: 46 s\n",
      "Wall time: 48 s\n"
     ]
    },
    {
     "data": {
      "text/plain": [
       "CRF(algorithm='l2sgd', all_possible_states=None,\n",
       "  all_possible_transitions=False, averaging=None, c=None, c1=None, c2=None,\n",
       "  calibration_candidates=None, calibration_eta=None,\n",
       "  calibration_max_trials=None, calibration_rate=None,\n",
       "  calibration_samples=None, delta=None, epsilon=None, error_sensitive=None,\n",
       "  gamma=None, keep_tempfiles=None, linesearch=None, max_iterations=100,\n",
       "  max_linesearch=None, min_freq=None, model_filename=None,\n",
       "  num_memories=None, pa_type=None, period=None, trainer_cls=None,\n",
       "  variance=None, verbose=False)"
      ]
     },
     "execution_count": 10,
     "metadata": {},
     "output_type": "execute_result"
    }
   ],
   "source": [
    "%%time\n",
    "#training model\n",
    "crf1.fit(X=X, y=y)"
   ]
  },
  {
   "cell_type": "code",
   "execution_count": 11,
   "metadata": {},
   "outputs": [
    {
     "name": "stdout",
     "output_type": "stream",
     "text": [
      "              precision    recall  f1-score   support\n",
      "\n",
      "         ORG       0.97      0.94      0.95     10025\n",
      "         LOC       0.96      0.96      0.96      8297\n",
      "        MISC       0.96      0.93      0.95      4593\n",
      "         PER       0.97      0.98      0.97     11128\n",
      "\n",
      "   micro avg       0.96      0.96      0.96     34043\n",
      "   macro avg       0.96      0.95      0.96     34043\n",
      "weighted avg       0.96      0.96      0.96     34043\n",
      "\n",
      "0.9600097604051628\n"
     ]
    }
   ],
   "source": [
    "#generate predictions\n",
    "pred = crf1.predict(X)\n",
    "#generate report on entire model\n",
    "report = flat_classification_report(y_pred=pred, y_true=y,labels=setlabel)\n",
    "print(report)\n",
    "score=flat_f1_score(y_pred=pred, y_true=y,average='weighted',labels=setlabel)\n",
    "print(score)"
   ]
  },
  {
   "cell_type": "markdown",
   "metadata": {},
   "source": [
    "### Model 2:\n",
    "- Algorithm :Stochastic Gradient descent\n",
    "- L2 regularization (c2=0.1)"
   ]
  },
  {
   "cell_type": "code",
   "execution_count": 12,
   "metadata": {},
   "outputs": [
    {
     "name": "stdout",
     "output_type": "stream",
     "text": [
      "              precision    recall  f1-score   support\n",
      "\n",
      "         ORG       1.00      0.99      0.99     10025\n",
      "         LOC       1.00      0.99      0.99      8297\n",
      "        MISC       1.00      1.00      1.00      4593\n",
      "         PER       1.00      1.00      1.00     11128\n",
      "\n",
      "   micro avg       1.00      1.00      1.00     34043\n",
      "   macro avg       1.00      1.00      1.00     34043\n",
      "weighted avg       1.00      1.00      1.00     34043\n",
      "\n",
      "0.9960750447217874\n",
      "CPU times: user 51.2 s, sys: 2.01 s, total: 53.2 s\n",
      "Wall time: 54.3 s\n"
     ]
    }
   ],
   "source": [
    "%%time\n",
    "crf2 = CRF(algorithm='l2sgd',\n",
    "          c2=0.1,\n",
    "          max_iterations=100,\n",
    "          all_possible_transitions=False)\n",
    "\n",
    "#training model\n",
    "crf2.fit(X=X, y=y)\n",
    "         \n",
    "#generate predictions\n",
    "pred = crf2.predict(X)\n",
    "\n",
    "#generate report on entire model\n",
    "report = flat_classification_report(y_pred=pred, y_true=y,labels=setlabel)\n",
    "print(report)\n",
    "\n",
    "score=flat_f1_score(y_pred=pred, y_true=y,average='weighted',labels=setlabel)\n",
    "print(score)"
   ]
  },
  {
   "cell_type": "markdown",
   "metadata": {},
   "source": [
    "## Model 3\n",
    "\n",
    "- Algorithm : Gradient descent using the L-BFGS method\n",
    "- L1 regularization (c2=0)\n",
    "- L2 regularization (c2=0)"
   ]
  },
  {
   "cell_type": "code",
   "execution_count": 13,
   "metadata": {},
   "outputs": [
    {
     "name": "stdout",
     "output_type": "stream",
     "text": [
      "              precision    recall  f1-score   support\n",
      "\n",
      "         ORG       0.93      0.91      0.92     10025\n",
      "         LOC       0.94      0.94      0.94      8297\n",
      "        MISC       0.94      0.89      0.91      4593\n",
      "         PER       0.95      0.97      0.96     11128\n",
      "\n",
      "   micro avg       0.94      0.93      0.94     34043\n",
      "   macro avg       0.94      0.93      0.93     34043\n",
      "weighted avg       0.94      0.93      0.94     34043\n",
      "\n",
      "0.9373407048558303\n",
      "CPU times: user 46.2 s, sys: 1.61 s, total: 47.8 s\n",
      "Wall time: 47.6 s\n"
     ]
    }
   ],
   "source": [
    "%%time\n",
    "crf3 = CRF(algorithm='lbfgs',\n",
    "          #c1=0.1,\n",
    "          #c2=0.1,\n",
    "          max_iterations=100,\n",
    "          all_possible_transitions=False)\n",
    "\n",
    "#training model\n",
    "crf3.fit(X=X, y=y)\n",
    "\n",
    "#generate predictions\n",
    "pred = crf3.predict(X)\n",
    "\n",
    "#generate report on entire model\n",
    "report = flat_classification_report(y_pred=pred, y_true=y,labels=setlabel)\n",
    "print(report)\n",
    "\n",
    "score=flat_f1_score(y_pred=pred, y_true=y,average='weighted',labels=setlabel)\n",
    "print(score)"
   ]
  },
  {
   "cell_type": "markdown",
   "metadata": {},
   "source": [
    "## Model 4\n",
    "\n",
    "- Algorithm : Gradient descent using the L-BFGS method\n",
    "- L1 regularization (c2=0.1)\n",
    "- L2 regularization (c2=0.1)"
   ]
  },
  {
   "cell_type": "code",
   "execution_count": 14,
   "metadata": {},
   "outputs": [
    {
     "name": "stdout",
     "output_type": "stream",
     "text": [
      "              precision    recall  f1-score   support\n",
      "\n",
      "         ORG       1.00      0.99      0.99     10025\n",
      "         LOC       0.99      0.99      0.99      8297\n",
      "        MISC       1.00      0.99      1.00      4593\n",
      "         PER       1.00      1.00      1.00     11128\n",
      "\n",
      "   micro avg       1.00      0.99      1.00     34043\n",
      "   macro avg       1.00      0.99      1.00     34043\n",
      "weighted avg       1.00      0.99      1.00     34043\n",
      "\n",
      "0.9956931694778802\n",
      "CPU times: user 42.8 s, sys: 512 ms, total: 43.3 s\n",
      "Wall time: 42 s\n"
     ]
    }
   ],
   "source": [
    "%%time\n",
    "crf4 = CRF(algorithm='lbfgs',\n",
    "          c1=0.1,\n",
    "          c2=0.1,\n",
    "          max_iterations=100,\n",
    "          all_possible_transitions=False)\n",
    "\n",
    "#training model\n",
    "crf4.fit(X=X, y=y)\n",
    "\n",
    "#generate predictions\n",
    "pred = crf4.predict(X)\n",
    "\n",
    "#generate report on entire model\n",
    "report = flat_classification_report(y_pred=pred, y_true=y,labels=setlabel)\n",
    "print(report)\n",
    "\n",
    "score=flat_f1_score(y_pred=pred, y_true=y,average='weighted',labels=setlabel)\n",
    "print(score)"
   ]
  },
  {
   "cell_type": "markdown",
   "metadata": {},
   "source": [
    "# Predict on Test dataset"
   ]
  },
  {
   "cell_type": "code",
   "execution_count": 15,
   "metadata": {},
   "outputs": [],
   "source": [
    "#Get all the sentences in the form of a list\n",
    "sentences = get_all_sentences(test)\n",
    "labels = get_all_labels(test)\n",
    "\n",
    "X = [sent2features(s) for s in sentences]\n",
    "y = labels"
   ]
  },
  {
   "cell_type": "code",
   "execution_count": 16,
   "metadata": {},
   "outputs": [
    {
     "name": "stdout",
     "output_type": "stream",
     "text": [
      "              precision    recall  f1-score   support\n",
      "\n",
      "         ORG       0.79      0.77      0.78      2496\n",
      "         LOC       0.86      0.82      0.83      1925\n",
      "        MISC       0.77      0.77      0.77       918\n",
      "         PER       0.86      0.89      0.88      2773\n",
      "\n",
      "   micro avg       0.83      0.82      0.83      8112\n",
      "   macro avg       0.82      0.81      0.82      8112\n",
      "weighted avg       0.83      0.82      0.82      8112\n",
      "\n",
      "0.8246638067655477\n"
     ]
    }
   ],
   "source": [
    "#prediction with best performaning model\n",
    "pred = crf4.predict(X)\n",
    "\n",
    "#generate report on entire model\n",
    "report = flat_classification_report(y_pred=pred, y_true=y,labels=setlabel)\n",
    "print(report)\n",
    "\n",
    "score=flat_f1_score(y_pred=pred, y_true=y,average='weighted',labels=setlabel)\n",
    "print(score)"
   ]
  },
  {
   "cell_type": "code",
   "execution_count": null,
   "metadata": {},
   "outputs": [],
   "source": []
  }
 ],
 "metadata": {
  "kernelspec": {
   "display_name": "Python 3",
   "language": "python",
   "name": "python3"
  },
  "language_info": {
   "codemirror_mode": {
    "name": "ipython",
    "version": 3
   },
   "file_extension": ".py",
   "mimetype": "text/x-python",
   "name": "python",
   "nbconvert_exporter": "python",
   "pygments_lexer": "ipython3",
   "version": "3.7.1"
  }
 },
 "nbformat": 4,
 "nbformat_minor": 2
}
