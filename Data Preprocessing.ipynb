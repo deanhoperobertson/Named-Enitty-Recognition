{
 "cells": [
  {
   "cell_type": "markdown",
   "metadata": {},
   "source": [
    "## Data Preprocessing "
   ]
  },
  {
   "cell_type": "code",
   "execution_count": 43,
   "metadata": {},
   "outputs": [],
   "source": [
    "import pandas as pd\n",
    "import numpy as np\n",
    "import re\n",
    "\n",
    "from prepro import readfile, readstring\n",
    "\n",
    "def hasNumbers(inputString):\n",
    "    if re.search(r'\\d', inputString):\n",
    "        return \"__\"\n",
    "    else:return(inputString)"
   ]
  },
  {
   "cell_type": "code",
   "execution_count": 44,
   "metadata": {
    "scrolled": false
   },
   "outputs": [],
   "source": [
    "def readfile(filename):\n",
    "    f = open(filename)\n",
    "    sentences = []\n",
    "    sentence = []\n",
    "    for line in f:\n",
    "        if len(line) == 0 or line.startswith('-DOCSTART') or line[0] == \"\\n\":\n",
    "            if len(sentence) > 0:\n",
    "                sentences.append(sentence)\n",
    "                sentence = []\n",
    "            continue\n",
    "        splits = line.split(' ')\n",
    "        sentence.append([hasNumbers(splits[0]), splits[-1].strip(),splits[-2].strip(),splits[-3].strip()])\n",
    "\n",
    "    if len(sentence) > 0:\n",
    "        sentences.append(sentence)\n",
    "        sentence = []\n",
    "    return sentences\n",
    "\n",
    "#import data from my github repo\n",
    "train =readfile(\"train.txt\")"
   ]
  },
  {
   "cell_type": "code",
   "execution_count": 46,
   "metadata": {},
   "outputs": [
    {
     "data": {
      "text/plain": [
       "[['Germany', 'B-LOC', 'B-NP', 'NNP'],\n",
       " ['imported', 'O', 'B-VP', 'VBD'],\n",
       " ['__', 'O', 'B-NP', 'CD'],\n",
       " ['sheep', 'O', 'I-NP', 'NN'],\n",
       " ['from', 'O', 'B-PP', 'IN'],\n",
       " ['Britain', 'B-LOC', 'B-NP', 'NNP'],\n",
       " ['last', 'O', 'B-NP', 'JJ'],\n",
       " ['year', 'O', 'I-NP', 'NN'],\n",
       " [',', 'O', 'O', ','],\n",
       " ['nearly', 'O', 'B-NP', 'RB'],\n",
       " ['half', 'O', 'I-NP', 'NN'],\n",
       " ['of', 'O', 'B-PP', 'IN'],\n",
       " ['total', 'O', 'B-NP', 'JJ'],\n",
       " ['imports', 'O', 'I-NP', 'NNS'],\n",
       " ['.', 'O', 'O', '.']]"
      ]
     },
     "execution_count": 46,
     "metadata": {},
     "output_type": "execute_result"
    }
   ],
   "source": [
    "train[18]"
   ]
  },
  {
   "cell_type": "code",
   "execution_count": 48,
   "metadata": {
    "scrolled": true
   },
   "outputs": [
    {
     "name": "stdout",
     "output_type": "stream",
     "text": [
      "Germany\n",
      "imported\n",
      "__\n",
      "sheep\n",
      "from\n",
      "Britain\n",
      "last\n",
      "year\n",
      ",\n",
      "nearly\n",
      "half\n",
      "of\n",
      "total\n",
      "imports\n",
      ".\n"
     ]
    }
   ],
   "source": [
    "for i in train[18]:\n",
    "    print(i[0])"
   ]
  }
 ],
 "metadata": {
  "kernelspec": {
   "display_name": "Python 3",
   "language": "python",
   "name": "python3"
  },
  "language_info": {
   "codemirror_mode": {
    "name": "ipython",
    "version": 3
   },
   "file_extension": ".py",
   "mimetype": "text/x-python",
   "name": "python",
   "nbconvert_exporter": "python",
   "pygments_lexer": "ipython3",
   "version": "3.7.1"
  }
 },
 "nbformat": 4,
 "nbformat_minor": 1
}
