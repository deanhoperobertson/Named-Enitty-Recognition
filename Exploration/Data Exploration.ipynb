{
 "cells": [
  {
   "cell_type": "markdown",
   "metadata": {},
   "source": [
    "## Data Exploration "
   ]
  },
  {
   "cell_type": "code",
   "execution_count": 4,
   "metadata": {},
   "outputs": [],
   "source": [
    "import pandas as pd\n",
    "import numpy as np\n",
    "import seaborn as sns\n",
    "from collections import Counter\n",
    "import matplotlib.pyplot as plt\n",
    "%matplotlib inline\n",
    "\n",
    "from prepro import readfile, get_sentence, get_label, get_all, get_corpus, extract_words"
   ]
  },
  {
   "cell_type": "code",
   "execution_count": 5,
   "metadata": {
    "scrolled": false
   },
   "outputs": [],
   "source": [
    "train = readfile(\"train.txt\")\n",
    "test = readfile(\"test.txt\")\n",
    "val = readfile(\"valid.txt\")"
   ]
  },
  {
   "cell_type": "code",
   "execution_count": 6,
   "metadata": {},
   "outputs": [
    {
     "name": "stdout",
     "output_type": "stream",
     "text": [
      "     Words  POS     NER Chunk\n",
      "0       EU  NNP   I-ORG  I-NP\n",
      "1  rejects  VBZ       O  I-VP\n",
      "2   German   JJ  I-MISC  I-NP\n",
      "3     call   NN       O  I-NP\n",
      "4       to   TO       O  I-VP\n",
      "5  boycott   VB       O  I-VP\n",
      "6  British   JJ  I-MISC  I-NP\n",
      "7     lamb   NN       O  I-NP\n",
      "8        .    .       O     O\n"
     ]
    }
   ],
   "source": [
    "def print_head(dataset,sentence_number):\n",
    "    data = get_all(dataset,sentence_number)\n",
    "    words =[]\n",
    "    pos =[]\n",
    "    chunk = []\n",
    "    ner =[]\n",
    "    for i in data:\n",
    "        words.append(i[0])\n",
    "        pos.append(i[-1])\n",
    "        ner.append(i[1])\n",
    "        chunk.append(i[-2])\n",
    "        \n",
    "    df = pd.DataFrame(words, columns=['Words'])\n",
    "    df[\"POS\"] = pos\n",
    "    df[\"NER\"] = ner\n",
    "    df[\"Chunk\"] = chunk\n",
    "    return(print(df))\n",
    "    \n",
    "print_head(train,1)   "
   ]
  },
  {
   "cell_type": "code",
   "execution_count": 7,
   "metadata": {
    "scrolled": true
   },
   "outputs": [
    {
     "name": "stdout",
     "output_type": "stream",
     "text": [
      "EU        rejects   German    call      to        boycott   British   lamb      .         \n",
      "I-ORG     O         I-MISC    O         O         O         I-MISC    O         O         \n"
     ]
    }
   ],
   "source": [
    "#print out the fist sentence\n",
    "def print_sentence(sentence_number):\n",
    "    #use list comprehensions to print the sentence with entity tags\n",
    "    print(\"\".join(['{:10}'.format(word[0]) for word in train[sentence_number-1]]))\n",
    "    print(\"\".join(['{:10}'.format(word[1]) for word in train[sentence_number-1]]))\n",
    "\n",
    "print_sentence(1)"
   ]
  },
  {
   "cell_type": "markdown",
   "metadata": {},
   "source": [
    "## Properties of the Data"
   ]
  },
  {
   "cell_type": "code",
   "execution_count": 8,
   "metadata": {},
   "outputs": [
    {
     "data": {
      "text/html": [
       "<div>\n",
       "<style scoped>\n",
       "    .dataframe tbody tr th:only-of-type {\n",
       "        vertical-align: middle;\n",
       "    }\n",
       "\n",
       "    .dataframe tbody tr th {\n",
       "        vertical-align: top;\n",
       "    }\n",
       "\n",
       "    .dataframe thead th {\n",
       "        text-align: right;\n",
       "    }\n",
       "</style>\n",
       "<table border=\"1\" class=\"dataframe\">\n",
       "  <thead>\n",
       "    <tr style=\"text-align: right;\">\n",
       "      <th></th>\n",
       "      <th>Train</th>\n",
       "      <th>Val</th>\n",
       "      <th>Test</th>\n",
       "    </tr>\n",
       "  </thead>\n",
       "  <tbody>\n",
       "    <tr>\n",
       "      <th>Sentences</th>\n",
       "      <td>14041</td>\n",
       "      <td>3250</td>\n",
       "      <td>3453</td>\n",
       "    </tr>\n",
       "    <tr>\n",
       "      <th>Tokens</th>\n",
       "      <td>203621</td>\n",
       "      <td>51362</td>\n",
       "      <td>46435</td>\n",
       "    </tr>\n",
       "    <tr>\n",
       "      <th>Unique Words</th>\n",
       "      <td>21009</td>\n",
       "      <td>9002</td>\n",
       "      <td>8548</td>\n",
       "    </tr>\n",
       "  </tbody>\n",
       "</table>\n",
       "</div>"
      ],
      "text/plain": [
       "               Train    Val   Test\n",
       "Sentences      14041   3250   3453\n",
       "Tokens        203621  51362  46435\n",
       "Unique Words   21009   9002   8548"
      ]
     },
     "execution_count": 8,
     "metadata": {},
     "output_type": "execute_result"
    }
   ],
   "source": [
    "sentences =[len(train),len(val), len(test)]\n",
    "tokens = [get_corpus(train)[0],get_corpus(val)[0],get_corpus(test)[0]]\n",
    "uni =[get_corpus(train)[1], get_corpus(val)[1],get_corpus(test)[1]]\n",
    "\n",
    "df=pd.DataFrame(sentences, columns=[\"Sentences\"])\n",
    "df['Tokens']=tokens\n",
    "df['Unique Words'] =uni\n",
    "df= df.transpose()\n",
    "df.columns =[\"Train\",\"Val\",\"Test\"]\n",
    "df"
   ]
  },
  {
   "cell_type": "code",
   "execution_count": 12,
   "metadata": {},
   "outputs": [
    {
     "data": {
      "text/html": [
       "<div>\n",
       "<style scoped>\n",
       "    .dataframe tbody tr th:only-of-type {\n",
       "        vertical-align: middle;\n",
       "    }\n",
       "\n",
       "    .dataframe tbody tr th {\n",
       "        vertical-align: top;\n",
       "    }\n",
       "\n",
       "    .dataframe thead th {\n",
       "        text-align: right;\n",
       "    }\n",
       "</style>\n",
       "<table border=\"1\" class=\"dataframe\">\n",
       "  <thead>\n",
       "    <tr style=\"text-align: right;\">\n",
       "      <th></th>\n",
       "      <th>LOC</th>\n",
       "      <th>ORG</th>\n",
       "      <th>PER</th>\n",
       "      <th>MISC</th>\n",
       "    </tr>\n",
       "  </thead>\n",
       "  <tbody>\n",
       "    <tr>\n",
       "      <th>Train</th>\n",
       "      <td>8297</td>\n",
       "      <td>10025</td>\n",
       "      <td>11128</td>\n",
       "      <td>4593</td>\n",
       "    </tr>\n",
       "    <tr>\n",
       "      <th>Val</th>\n",
       "      <td>2094</td>\n",
       "      <td>2092</td>\n",
       "      <td>3149</td>\n",
       "      <td>1268</td>\n",
       "    </tr>\n",
       "    <tr>\n",
       "      <th>Test</th>\n",
       "      <td>1925</td>\n",
       "      <td>2496</td>\n",
       "      <td>2773</td>\n",
       "      <td>918</td>\n",
       "    </tr>\n",
       "  </tbody>\n",
       "</table>\n",
       "</div>"
      ],
      "text/plain": [
       "        LOC    ORG    PER  MISC\n",
       "Train  8297  10025  11128  4593\n",
       "Val    2094   2092   3149  1268\n",
       "Test   1925   2496   2773   918"
      ]
     },
     "execution_count": 12,
     "metadata": {},
     "output_type": "execute_result"
    }
   ],
   "source": [
    "#What is the most popular entity - Entity counter\n",
    "\n",
    "def count_entities(train):\n",
    "    entities = []\n",
    "    for sentence in train:\n",
    "        for word in sentence:\n",
    "            entities.append(word[1])\n",
    "    return(Counter(entities))\n",
    "\n",
    "def unpack_dic(dic1,dic2,dic3,boolean):\n",
    "    loc = [dic1[\"I-LOC\"] + dic1[\"B-LOC\"],dic2[\"I-LOC\"] + dic2[\"B-LOC\"],dic3[\"I-LOC\"] + dic3[\"B-LOC\"]]\n",
    "    org = [dic1[\"I-ORG\"] + dic1[\"B-ORG\"],dic2[\"I-ORG\"] + dic2[\"B-ORG\"],dic3[\"I-ORG\"] + dic3[\"B-ORG\"]]\n",
    "    per = [dic1[\"I-PER\"] + dic1[\"B-PER\"],dic2[\"I-PER\"] + dic2[\"B-PER\"], dic3[\"I-PER\"] + dic3[\"B-PER\"]]\n",
    "    mis = [dic1[\"I-MISC\"] + dic1[\"B-MISC\"],dic2[\"I-MISC\"] + dic2[\"B-MISC\"], dic3[\"I-MISC\"] + dic3[\"B-MISC\"]]\n",
    "    O = [dic1[\"O\"],dic2[\"O\"], dic3[\"O\"]]\n",
    "    \n",
    "    df = pd.DataFrame(loc, columns=[\"LOC\"])\n",
    "    df['ORG']=org\n",
    "    df['PER'] =per\n",
    "    df['MISC']= mis\n",
    "    if boolean:\n",
    "        df['O']= O\n",
    "    df.rename(index={0:'Train',1:'Val', 2:'Test'}, inplace=True)\n",
    "    return(df)\n",
    "\n",
    "train_dic= count_entities(train)\n",
    "test_dic = count_entities(test)\n",
    "val_dic = count_entities(val)\n",
    "unpack_dic(train_dic,val_dic,test_dic, False)"
   ]
  },
  {
   "cell_type": "code",
   "execution_count": 9,
   "metadata": {},
   "outputs": [
    {
     "name": "stdout",
     "output_type": "stream",
     "text": [
      "The average length of sentences is 15 words\n",
      "The longest senetence has 124 words\n",
      "The shortest senetence has 1 word\n"
     ]
    }
   ],
   "source": [
    "#get data on sentence length\n",
    "sentences_len = []\n",
    "for sentence in train:\n",
    "    sentences_len.append(len(sentence))\n",
    "\n",
    "for sentence in test:\n",
    "    sentences_len.append(len(sentence))\n",
    "\n",
    "for sentence in val:\n",
    "    sentences_len.append(len(sentence))\n",
    "    \n",
    "#training set\n",
    "print(\"The average length of sentences is %s words\" % round(sum(sentences_len)/len(sentences_len)))\n",
    "print(\"The longest senetence has %s words\" %max(sentences_len))\n",
    "print(\"The shortest senetence has %s word\" %min(sentences_len))"
   ]
  },
  {
   "cell_type": "code",
   "execution_count": 10,
   "metadata": {},
   "outputs": [
    {
     "name": "stdout",
     "output_type": "stream",
     "text": [
      "Total Unique tokens: 26869\n",
      "There are 4856 none alphabetic tokens\n"
     ]
    }
   ],
   "source": [
    "#how many token with arent alpha numerical\n",
    "train_words,tags=extract_words(train)\n",
    "test_words,tags=extract_words(test)\n",
    "val_words,tags=extract_words(val)\n",
    "\n",
    "train_words.extend(test_words)\n",
    "train_words.extend(val_words)\n",
    "\n",
    "tokens=[]\n",
    "for i in train_words:\n",
    "    if i.isalpha() ==False:\n",
    "        if any(c.isalpha() for c in i):\n",
    "            continue\n",
    "        else:\n",
    "            tokens.append(i)\n",
    "\n",
    "len(set(tokens))\n",
    "print (\"Total Unique tokens: %d\" %len(set(train_words)))\n",
    "print(\"There are %d none alphabetic tokens\" %len(set(tokens)))"
   ]
  },
  {
   "cell_type": "code",
   "execution_count": 11,
   "metadata": {},
   "outputs": [
    {
     "data": {
      "image/png": "[encoded data removed]",
      "text/plain": [
       "<matplotlib.figure.Figure at 0x20bb172bb70>"
      ]
     },
     "metadata": {
      "needs_background": "light"
     },
     "output_type": "display_data"
    }
   ],
   "source": [
    "def show_distribution():\n",
    "    #Show the distribution of sentence length\n",
    "    plt.hist(sentences_len,bins=40, rwidth=0.9,\n",
    "                       color='#3c73a8',log=False)\n",
    "    plt.xlabel('Number of Words')\n",
    "    plt.ylabel('Sentence Count')\n",
    "    plt.title(\"Distribution of Sentence Length\")\n",
    "    plt.savefig('F:\\Data Science\\Thesis\\Write Up\\Pictures\\Sentence Distribution.png')\n",
    "    plt.show()\n",
    "\n",
    "show_distribution()"
   ]
  },
  {
   "cell_type": "code",
   "execution_count": 12,
   "metadata": {},
   "outputs": [
    {
     "data": {
      "image/png": "[encoded data removed]",
      "text/plain": [
       "<matplotlib.figure.Figure at 0x20bb1005e80>"
      ]
     },
     "metadata": {
      "needs_background": "light"
     },
     "output_type": "display_data"
    }
   ],
   "source": [
    "def show_imbalance(train_dic,val_dic, test_dic):\n",
    "    df=unpack_dic(train_dic,val_dic, test_dic,True)\n",
    "    labels = list(df.columns)\n",
    "    values = list(df.sum(axis = 0))\n",
    "    indexes = np.arange(len(labels))\n",
    "    width=0.6\n",
    "    plt.bar(indexes, values, width, color='#3c73a8')\n",
    "    plt.xticks(indexes + width * 0.0, labels)\n",
    "    plt.title(\"Entity Class Imbalance\")\n",
    "    plt.ylabel(\"Count\")\n",
    "    plt.xlabel(\"Entity Label\")\n",
    "    plt.savefig('F:\\Data Science\\Thesis\\Write Up\\Pictures\\Imbalance.png')\n",
    "    plt.show()\n",
    "    \n",
    "show_imbalance(train_dic,val_dic,test_dic)"
   ]
  },
  {
   "cell_type": "code",
   "execution_count": 13,
   "metadata": {},
   "outputs": [
    {
     "data": {
      "image/png": "[encoded data removed]",
      "text/plain": [
       "<matplotlib.figure.Figure at 0x20bb10540f0>"
      ]
     },
     "metadata": {
      "needs_background": "light"
     },
     "output_type": "display_data"
    }
   ],
   "source": [
    "def word_frequency(train, test):\n",
    "    #Most Common Words\n",
    "    word_list = extract_words(train)[0]\n",
    "    word_list.extend(extract_words(test)[0])\n",
    "    word_list.extend(extract_words(val)[0])\n",
    "\n",
    "    counts = dict(Counter(word_list))\n",
    "    sorted_counts = sorted(counts.items(), key=lambda kv: kv[1],  reverse=True)\n",
    "    labels,values=[],[]\n",
    "    for i in sorted_counts[:10]:\n",
    "        labels.append(i[0])\n",
    "        values.append(i[1])\n",
    "\n",
    "        #visual\n",
    "    indexes = np.arange(len(labels))\n",
    "    width=0.6\n",
    "    plt.barh(indexes, values, width,align='center', color='#3c73a8')\n",
    "    plt.yticks(indexes + width * 0.0, labels)\n",
    "    plt.gca().invert_yaxis()\n",
    "    plt.xlabel('Count')\n",
    "    plt.title(\"Most Frequent Words\")\n",
    "    plt.ylabel(\"Tokens\")\n",
    "    plt.savefig('F:\\Data Science\\Thesis\\Write Up\\Pictures\\Word Frequency.png')\n",
    "    plt.show()\n",
    "\n",
    "word_frequency(train, test)"
   ]
  },
  {
   "cell_type": "code",
   "execution_count": null,
   "metadata": {},
   "outputs": [],
   "source": []
  }
 ],
 "metadata": {
  "kernelspec": {
   "display_name": "Python 3",
   "language": "python",
   "name": "python3"
  },
  "language_info": {
   "codemirror_mode": {
    "name": "ipython",
    "version": 3
   },
   "file_extension": ".py",
   "mimetype": "text/x-python",
   "name": "python",
   "nbconvert_exporter": "python",
   "pygments_lexer": "ipython3",
   "version": "3.7.1"
  }
 },
 "nbformat": 4,
 "nbformat_minor": 1
}
