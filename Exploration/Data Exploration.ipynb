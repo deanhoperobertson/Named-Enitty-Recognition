{
 "cells": [
  {
   "cell_type": "markdown",
   "metadata": {},
   "source": [
    "## Data Exploration "
   ]
  },
  {
   "cell_type": "code",
   "execution_count": 1,
   "metadata": {},
   "outputs": [],
   "source": [
    "import pandas as pd\n",
    "import numpy as np\n",
    "import seaborn as sns\n",
    "from collections import Counter\n",
    "import matplotlib.pyplot as plt\n",
    "%matplotlib inline\n",
    "\n",
    "from prepro import readfile, get_sentence, get_label, get_all, get_corpus"
   ]
  },
  {
   "cell_type": "code",
   "execution_count": 2,
   "metadata": {
    "scrolled": false
   },
   "outputs": [],
   "source": [
    "train = readfile(\"train.txt\")\n",
    "test = readfile(\"test.txt\")"
   ]
  },
  {
   "cell_type": "code",
   "execution_count": 3,
   "metadata": {},
   "outputs": [
    {
     "name": "stdout",
     "output_type": "stream",
     "text": [
      "     Words  POS     NER Chunk\n",
      "0       EU  NNP   B-ORG  B-NP\n",
      "1  rejects  VBZ       O  B-VP\n",
      "2   German   JJ  B-MISC  B-NP\n",
      "3     call   NN       O  I-NP\n",
      "4       to   TO       O  B-VP\n",
      "5  boycott   VB       O  I-VP\n",
      "6  British   JJ  B-MISC  B-NP\n",
      "7     lamb   NN       O  I-NP\n",
      "8        .    .       O     O\n"
     ]
    }
   ],
   "source": [
    "def print_head(dataset,sentence_number):\n",
    "    data = get_all(dataset,sentence_number)\n",
    "    words =[]\n",
    "    pos =[]\n",
    "    chunk = []\n",
    "    ner =[]\n",
    "    for i in data:\n",
    "        words.append(i[0])\n",
    "        pos.append(i[-1])\n",
    "        ner.append(i[1])\n",
    "        chunk.append(i[-2])\n",
    "        \n",
    "    df = pd.DataFrame(words, columns=['Words'])\n",
    "    df[\"POS\"] = pos\n",
    "    df[\"NER\"] = ner\n",
    "    df[\"Chunk\"] = chunk\n",
    "    return(print(df))\n",
    "    \n",
    "print_head(train,1)   "
   ]
  },
  {
   "cell_type": "code",
   "execution_count": 4,
   "metadata": {
    "scrolled": true
   },
   "outputs": [
    {
     "name": "stdout",
     "output_type": "stream",
     "text": [
      "EU        rejects   German    call      to        boycott   British   lamb      .         \n",
      "B-ORG     O         B-MISC    O         O         O         B-MISC    O         O         \n"
     ]
    }
   ],
   "source": [
    "#print out the fist sentence\n",
    "def print_sentence(sentence_number):\n",
    "    #use list comprehensions to print the sentence with entity tags\n",
    "    print(\"\".join(['{:10}'.format(word[0]) for word in train[sentence_number-1]]))\n",
    "    print(\"\".join(['{:10}'.format(word[1]) for word in train[sentence_number-1]]))\n",
    "\n",
    "print_sentence(1)"
   ]
  },
  {
   "cell_type": "markdown",
   "metadata": {},
   "source": [
    "## Properties of the Data"
   ]
  },
  {
   "cell_type": "code",
   "execution_count": 5,
   "metadata": {},
   "outputs": [],
   "source": [
    "sentences =[len(train), len(test)]\n",
    "tokens = [get_corpus(train)[0],get_corpus(test)[0]]\n",
    "uni =[get_corpus(train)[1],get_corpus(test)[1]]"
   ]
  },
  {
   "cell_type": "code",
   "execution_count": 20,
   "metadata": {},
   "outputs": [
    {
     "data": {
      "text/html": [
       "<div>\n",
       "<style scoped>\n",
       "    .dataframe tbody tr th:only-of-type {\n",
       "        vertical-align: middle;\n",
       "    }\n",
       "\n",
       "    .dataframe tbody tr th {\n",
       "        vertical-align: top;\n",
       "    }\n",
       "\n",
       "    .dataframe thead th {\n",
       "        text-align: right;\n",
       "    }\n",
       "</style>\n",
       "<table border=\"1\" class=\"dataframe\">\n",
       "  <thead>\n",
       "    <tr style=\"text-align: right;\">\n",
       "      <th></th>\n",
       "      <th>Train</th>\n",
       "      <th>Test</th>\n",
       "    </tr>\n",
       "  </thead>\n",
       "  <tbody>\n",
       "    <tr>\n",
       "      <th>Sentences</th>\n",
       "      <td>14041</td>\n",
       "      <td>3453</td>\n",
       "    </tr>\n",
       "    <tr>\n",
       "      <th>Tokens</th>\n",
       "      <td>203621</td>\n",
       "      <td>46435</td>\n",
       "    </tr>\n",
       "    <tr>\n",
       "      <th>Unique Words</th>\n",
       "      <td>23623</td>\n",
       "      <td>9488</td>\n",
       "    </tr>\n",
       "  </tbody>\n",
       "</table>\n",
       "</div>"
      ],
      "text/plain": [
       "               Train   Test\n",
       "Sentences      14041   3453\n",
       "Tokens        203621  46435\n",
       "Unique Words   23623   9488"
      ]
     },
     "execution_count": 20,
     "metadata": {},
     "output_type": "execute_result"
    }
   ],
   "source": [
    "df=pd.DataFrame(sentences, columns=[\"Sentences\"])\n",
    "df['Tokens']=tokens\n",
    "df['Unique Words'] =uni\n",
    "df= df.transpose()\n",
    "df.columns =[\"Train\", \"Test\"]\n",
    "df"
   ]
  },
  {
   "cell_type": "code",
   "execution_count": 59,
   "metadata": {},
   "outputs": [
    {
     "data": {
      "text/html": [
       "<div>\n",
       "<style scoped>\n",
       "    .dataframe tbody tr th:only-of-type {\n",
       "        vertical-align: middle;\n",
       "    }\n",
       "\n",
       "    .dataframe tbody tr th {\n",
       "        vertical-align: top;\n",
       "    }\n",
       "\n",
       "    .dataframe thead th {\n",
       "        text-align: right;\n",
       "    }\n",
       "</style>\n",
       "<table border=\"1\" class=\"dataframe\">\n",
       "  <thead>\n",
       "    <tr style=\"text-align: right;\">\n",
       "      <th></th>\n",
       "      <th>LOC</th>\n",
       "      <th>ORG</th>\n",
       "      <th>PER</th>\n",
       "      <th>MISC</th>\n",
       "    </tr>\n",
       "  </thead>\n",
       "  <tbody>\n",
       "    <tr>\n",
       "      <th>Train</th>\n",
       "      <td>8297</td>\n",
       "      <td>10025</td>\n",
       "      <td>11128</td>\n",
       "      <td>4593</td>\n",
       "    </tr>\n",
       "    <tr>\n",
       "      <th>Test</th>\n",
       "      <td>1925</td>\n",
       "      <td>2496</td>\n",
       "      <td>2773</td>\n",
       "      <td>918</td>\n",
       "    </tr>\n",
       "  </tbody>\n",
       "</table>\n",
       "</div>"
      ],
      "text/plain": [
       "        LOC    ORG    PER  MISC\n",
       "Train  8297  10025  11128  4593\n",
       "Test   1925   2496   2773   918"
      ]
     },
     "execution_count": 59,
     "metadata": {},
     "output_type": "execute_result"
    }
   ],
   "source": [
    "#What is the most popular entity - Entity counter\n",
    "\n",
    "def count_entities(train):\n",
    "    entities = []\n",
    "    for sentence in train:\n",
    "        for word in sentence:\n",
    "            entities.append(word[1])\n",
    "    return(Counter(entities))\n",
    "\n",
    "def unpack_dic(dic1,dic2):\n",
    "    loc = [dic1[\"I-LOC\"] + dic1[\"B-LOC\"],dic2[\"I-LOC\"] + dic2[\"B-LOC\"]]\n",
    "    org = [dic1[\"B-ORG\"] + dic1[\"I-ORG\"],dic2[\"B-ORG\"] + dic2[\"I-ORG\"]]\n",
    "    per = [dic1[\"I-PER\"] + dic1[\"B-PER\"],dic2[\"I-PER\"] + dic2[\"B-PER\"]]\n",
    "    mis = [dic1[\"B-MISC\"] + dic1[\"I-MISC\"],dic2[\"B-MISC\"] + dic2[\"I-MISC\"]]\n",
    "    \n",
    "    df = pd.DataFrame(loc, columns=[\"LOC\"])\n",
    "    df['ORG']=org\n",
    "    df['PER'] =per\n",
    "    df['MISC']= mis\n",
    "    df.rename(index={0:'Train',1:'Test'}, inplace=True)\n",
    "    return(df)\n",
    "\n",
    "train_dic= count_entities(train)\n",
    "test_dic = count_entities(test)\n",
    "unpack_dic(train_dic, test_dic)"
   ]
  },
  {
   "cell_type": "code",
   "execution_count": 7,
   "metadata": {},
   "outputs": [
    {
     "name": "stdout",
     "output_type": "stream",
     "text": [
      "The average length of sentences is 15 words\n",
      "The longest senetence has 113 words\n",
      "The shortest senetence has 1 word\n"
     ]
    }
   ],
   "source": [
    "#get data on sentence length\n",
    "sentences_len = []\n",
    "for sentence in train:\n",
    "    sentences_len.append(len(sentence))\n",
    "\n",
    "#training set\n",
    "print(\"The average length of sentences is %s words\" %round((sum(sentences_len)/len(train))))\n",
    "print(\"The longest senetence has %s words\" %max(sentences_len))\n",
    "print(\"The shortest senetence has %s word\" %min(sentences_len))"
   ]
  },
  {
   "cell_type": "code",
   "execution_count": 9,
   "metadata": {},
   "outputs": [
    {
     "data": {
      "image/png": "[encoded data removed]",
      "text/plain": [
       "<matplotlib.figure.Figure at 0x1f2d78930b8>"
      ]
     },
     "metadata": {},
     "output_type": "display_data"
    }
   ],
   "source": [
    "#Show the distribution of sentence length\n",
    "plt.hist(sentences_len,bins=40, rwidth=0.9,\n",
    "                   color='#3c73a8',log=False)\n",
    "plt.show()"
   ]
  },
  {
   "cell_type": "code",
   "execution_count": 18,
   "metadata": {},
   "outputs": [
    {
     "data": {
      "image/png": "[encoded data removed]",
      "text/plain": [
       "<matplotlib.figure.Figure at 0x1f2e2417a90>"
      ]
     },
     "metadata": {},
     "output_type": "display_data"
    }
   ],
   "source": [
    "labels, values = zip(*Counter(entities).items())\n",
    "indexes = np.arange(len(labels))\n",
    "width=0.6\n",
    "plt.bar(indexes, values, width, color='#3c73a8')\n",
    "plt.xticks(indexes + width * 0.0, labels)\n",
    "plt.show()"
   ]
  },
  {
   "cell_type": "code",
   "execution_count": null,
   "metadata": {
    "collapsed": true
   },
   "outputs": [],
   "source": []
  }
 ],
 "metadata": {
  "kernelspec": {
   "display_name": "Python 3",
   "language": "python",
   "name": "python3"
  },
  "language_info": {
   "codemirror_mode": {
    "name": "ipython",
    "version": 3
   },
   "file_extension": ".py",
   "mimetype": "text/x-python",
   "name": "python",
   "nbconvert_exporter": "python",
   "pygments_lexer": "ipython3",
   "version": "3.6.4"
  }
 },
 "nbformat": 4,
 "nbformat_minor": 1
}
